{
 "cells": [
  {
   "cell_type": "markdown",
   "metadata": {
    "id": "-VFbjcb3Awb7"
   },
   "source": [
    "# Исследование объявлений о продаже квартир\n",
    "\n",
    "В вашем распоряжении данные сервиса Яндекс Недвижимость — архив объявлений о продаже квартир в Санкт-Петербурге и соседних населённых пунктах за несколько лет. Вам нужно научиться определять рыночную стоимость объектов недвижимости. Для этого проведите исследовательский анализ данных и установите параметры, влияющие на цену объектов. Это позволит построить автоматизированную систему: она отследит аномалии и мошенническую деятельность.\n",
    "\n",
    "По каждой квартире на продажу доступны два вида данных. Первые вписаны пользователем, вторые — получены автоматически на основе картографических данных. Например, расстояние до центра, аэропорта и других объектов — эти данные автоматически получены из геосервисов. Количество парков и водоёмов также заполняется без участия пользователя."
   ]
  },
  {
   "cell_type": "markdown",
   "metadata": {
    "id": "aeFLH07FAwb9"
   },
   "source": [
    "### Откройте файл с данными и изучите общую информацию"
   ]
  },
  {
   "cell_type": "code",
   "execution_count": 1,
   "metadata": {
    "id": "7MZxY65pAwb9"
   },
   "outputs": [],
   "source": [
    "import pandas as pd"
   ]
  },
  {
   "cell_type": "code",
   "execution_count": 2,
   "metadata": {},
   "outputs": [],
   "source": [
    "data=pd.read_csv('/datasets/real_estate_data.csv', sep='\\t')"
   ]
  },
  {
   "cell_type": "markdown",
   "metadata": {},
   "source": [
    "Открыли нужную таблицу."
   ]
  },
  {
   "cell_type": "code",
   "execution_count": 3,
   "metadata": {},
   "outputs": [
    {
     "name": "stdout",
     "output_type": "stream",
     "text": [
      "<class 'pandas.core.frame.DataFrame'>\n",
      "RangeIndex: 23699 entries, 0 to 23698\n",
      "Data columns (total 22 columns):\n",
      " #   Column                Non-Null Count  Dtype  \n",
      "---  ------                --------------  -----  \n",
      " 0   total_images          23699 non-null  int64  \n",
      " 1   last_price            23699 non-null  float64\n",
      " 2   total_area            23699 non-null  float64\n",
      " 3   first_day_exposition  23699 non-null  object \n",
      " 4   rooms                 23699 non-null  int64  \n",
      " 5   ceiling_height        14504 non-null  float64\n",
      " 6   floors_total          23613 non-null  float64\n",
      " 7   living_area           21796 non-null  float64\n",
      " 8   floor                 23699 non-null  int64  \n",
      " 9   is_apartment          2775 non-null   object \n",
      " 10  studio                23699 non-null  bool   \n",
      " 11  open_plan             23699 non-null  bool   \n",
      " 12  kitchen_area          21421 non-null  float64\n",
      " 13  balcony               12180 non-null  float64\n",
      " 14  locality_name         23650 non-null  object \n",
      " 15  airports_nearest      18157 non-null  float64\n",
      " 16  cityCenters_nearest   18180 non-null  float64\n",
      " 17  parks_around3000      18181 non-null  float64\n",
      " 18  parks_nearest         8079 non-null   float64\n",
      " 19  ponds_around3000      18181 non-null  float64\n",
      " 20  ponds_nearest         9110 non-null   float64\n",
      " 21  days_exposition       20518 non-null  float64\n",
      "dtypes: bool(2), float64(14), int64(3), object(3)\n",
      "memory usage: 3.7+ MB\n"
     ]
    },
    {
     "data": {
      "text/html": [
       "<div>\n",
       "<style scoped>\n",
       "    .dataframe tbody tr th:only-of-type {\n",
       "        vertical-align: middle;\n",
       "    }\n",
       "\n",
       "    .dataframe tbody tr th {\n",
       "        vertical-align: top;\n",
       "    }\n",
       "\n",
       "    .dataframe thead th {\n",
       "        text-align: right;\n",
       "    }\n",
       "</style>\n",
       "<table border=\"1\" class=\"dataframe\">\n",
       "  <thead>\n",
       "    <tr style=\"text-align: right;\">\n",
       "      <th></th>\n",
       "      <th>total_images</th>\n",
       "      <th>last_price</th>\n",
       "      <th>total_area</th>\n",
       "      <th>first_day_exposition</th>\n",
       "      <th>rooms</th>\n",
       "      <th>ceiling_height</th>\n",
       "      <th>floors_total</th>\n",
       "      <th>living_area</th>\n",
       "      <th>floor</th>\n",
       "      <th>is_apartment</th>\n",
       "      <th>studio</th>\n",
       "      <th>open_plan</th>\n",
       "      <th>kitchen_area</th>\n",
       "      <th>balcony</th>\n",
       "      <th>locality_name</th>\n",
       "      <th>airports_nearest</th>\n",
       "      <th>cityCenters_nearest</th>\n",
       "      <th>parks_around3000</th>\n",
       "      <th>parks_nearest</th>\n",
       "      <th>ponds_around3000</th>\n",
       "      <th>ponds_nearest</th>\n",
       "      <th>days_exposition</th>\n",
       "    </tr>\n",
       "  </thead>\n",
       "  <tbody>\n",
       "    <tr>\n",
       "      <th>0</th>\n",
       "      <td>20</td>\n",
       "      <td>13000000.0</td>\n",
       "      <td>108.0</td>\n",
       "      <td>2019-03-07T00:00:00</td>\n",
       "      <td>3</td>\n",
       "      <td>2.70</td>\n",
       "      <td>16.0</td>\n",
       "      <td>51.0</td>\n",
       "      <td>8</td>\n",
       "      <td>NaN</td>\n",
       "      <td>False</td>\n",
       "      <td>False</td>\n",
       "      <td>25.0</td>\n",
       "      <td>NaN</td>\n",
       "      <td>Санкт-Петербург</td>\n",
       "      <td>18863.0</td>\n",
       "      <td>16028.0</td>\n",
       "      <td>1.0</td>\n",
       "      <td>482.0</td>\n",
       "      <td>2.0</td>\n",
       "      <td>755.0</td>\n",
       "      <td>NaN</td>\n",
       "    </tr>\n",
       "    <tr>\n",
       "      <th>1</th>\n",
       "      <td>7</td>\n",
       "      <td>3350000.0</td>\n",
       "      <td>40.4</td>\n",
       "      <td>2018-12-04T00:00:00</td>\n",
       "      <td>1</td>\n",
       "      <td>NaN</td>\n",
       "      <td>11.0</td>\n",
       "      <td>18.6</td>\n",
       "      <td>1</td>\n",
       "      <td>NaN</td>\n",
       "      <td>False</td>\n",
       "      <td>False</td>\n",
       "      <td>11.0</td>\n",
       "      <td>2.0</td>\n",
       "      <td>посёлок Шушары</td>\n",
       "      <td>12817.0</td>\n",
       "      <td>18603.0</td>\n",
       "      <td>0.0</td>\n",
       "      <td>NaN</td>\n",
       "      <td>0.0</td>\n",
       "      <td>NaN</td>\n",
       "      <td>81.0</td>\n",
       "    </tr>\n",
       "    <tr>\n",
       "      <th>2</th>\n",
       "      <td>10</td>\n",
       "      <td>5196000.0</td>\n",
       "      <td>56.0</td>\n",
       "      <td>2015-08-20T00:00:00</td>\n",
       "      <td>2</td>\n",
       "      <td>NaN</td>\n",
       "      <td>5.0</td>\n",
       "      <td>34.3</td>\n",
       "      <td>4</td>\n",
       "      <td>NaN</td>\n",
       "      <td>False</td>\n",
       "      <td>False</td>\n",
       "      <td>8.3</td>\n",
       "      <td>0.0</td>\n",
       "      <td>Санкт-Петербург</td>\n",
       "      <td>21741.0</td>\n",
       "      <td>13933.0</td>\n",
       "      <td>1.0</td>\n",
       "      <td>90.0</td>\n",
       "      <td>2.0</td>\n",
       "      <td>574.0</td>\n",
       "      <td>558.0</td>\n",
       "    </tr>\n",
       "    <tr>\n",
       "      <th>3</th>\n",
       "      <td>0</td>\n",
       "      <td>64900000.0</td>\n",
       "      <td>159.0</td>\n",
       "      <td>2015-07-24T00:00:00</td>\n",
       "      <td>3</td>\n",
       "      <td>NaN</td>\n",
       "      <td>14.0</td>\n",
       "      <td>NaN</td>\n",
       "      <td>9</td>\n",
       "      <td>NaN</td>\n",
       "      <td>False</td>\n",
       "      <td>False</td>\n",
       "      <td>NaN</td>\n",
       "      <td>0.0</td>\n",
       "      <td>Санкт-Петербург</td>\n",
       "      <td>28098.0</td>\n",
       "      <td>6800.0</td>\n",
       "      <td>2.0</td>\n",
       "      <td>84.0</td>\n",
       "      <td>3.0</td>\n",
       "      <td>234.0</td>\n",
       "      <td>424.0</td>\n",
       "    </tr>\n",
       "    <tr>\n",
       "      <th>4</th>\n",
       "      <td>2</td>\n",
       "      <td>10000000.0</td>\n",
       "      <td>100.0</td>\n",
       "      <td>2018-06-19T00:00:00</td>\n",
       "      <td>2</td>\n",
       "      <td>3.03</td>\n",
       "      <td>14.0</td>\n",
       "      <td>32.0</td>\n",
       "      <td>13</td>\n",
       "      <td>NaN</td>\n",
       "      <td>False</td>\n",
       "      <td>False</td>\n",
       "      <td>41.0</td>\n",
       "      <td>NaN</td>\n",
       "      <td>Санкт-Петербург</td>\n",
       "      <td>31856.0</td>\n",
       "      <td>8098.0</td>\n",
       "      <td>2.0</td>\n",
       "      <td>112.0</td>\n",
       "      <td>1.0</td>\n",
       "      <td>48.0</td>\n",
       "      <td>121.0</td>\n",
       "    </tr>\n",
       "  </tbody>\n",
       "</table>\n",
       "</div>"
      ],
      "text/plain": [
       "   total_images  last_price  total_area first_day_exposition  rooms  \\\n",
       "0            20  13000000.0       108.0  2019-03-07T00:00:00      3   \n",
       "1             7   3350000.0        40.4  2018-12-04T00:00:00      1   \n",
       "2            10   5196000.0        56.0  2015-08-20T00:00:00      2   \n",
       "3             0  64900000.0       159.0  2015-07-24T00:00:00      3   \n",
       "4             2  10000000.0       100.0  2018-06-19T00:00:00      2   \n",
       "\n",
       "   ceiling_height  floors_total  living_area  floor is_apartment  studio  \\\n",
       "0            2.70          16.0         51.0      8          NaN   False   \n",
       "1             NaN          11.0         18.6      1          NaN   False   \n",
       "2             NaN           5.0         34.3      4          NaN   False   \n",
       "3             NaN          14.0          NaN      9          NaN   False   \n",
       "4            3.03          14.0         32.0     13          NaN   False   \n",
       "\n",
       "   open_plan  kitchen_area  balcony    locality_name  airports_nearest  \\\n",
       "0      False          25.0      NaN  Санкт-Петербург           18863.0   \n",
       "1      False          11.0      2.0   посёлок Шушары           12817.0   \n",
       "2      False           8.3      0.0  Санкт-Петербург           21741.0   \n",
       "3      False           NaN      0.0  Санкт-Петербург           28098.0   \n",
       "4      False          41.0      NaN  Санкт-Петербург           31856.0   \n",
       "\n",
       "   cityCenters_nearest  parks_around3000  parks_nearest  ponds_around3000  \\\n",
       "0              16028.0               1.0          482.0               2.0   \n",
       "1              18603.0               0.0            NaN               0.0   \n",
       "2              13933.0               1.0           90.0               2.0   \n",
       "3               6800.0               2.0           84.0               3.0   \n",
       "4               8098.0               2.0          112.0               1.0   \n",
       "\n",
       "   ponds_nearest  days_exposition  \n",
       "0          755.0              NaN  \n",
       "1            NaN             81.0  \n",
       "2          574.0            558.0  \n",
       "3          234.0            424.0  \n",
       "4           48.0            121.0  "
      ]
     },
     "execution_count": 3,
     "metadata": {},
     "output_type": "execute_result"
    }
   ],
   "source": [
    "pd.set_option('display.max_columns', None)\n",
    "data.info()\n",
    "data.head()"
   ]
  },
  {
   "cell_type": "markdown",
   "metadata": {},
   "source": [
    "Получили общую информацию о датафрейме."
   ]
  },
  {
   "cell_type": "code",
   "execution_count": 4,
   "metadata": {},
   "outputs": [
    {
     "data": {
      "image/png": "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\n",
      "text/plain": [
       "<Figure size 1080x1440 with 20 Axes>"
      ]
     },
     "metadata": {
      "needs_background": "light"
     },
     "output_type": "display_data"
    }
   ],
   "source": [
    "data.hist(figsize = (15, 20), bins = 20);"
   ]
  },
  {
   "cell_type": "markdown",
   "metadata": {},
   "source": [
    "Можно заметить, что в данных есть некоторые ошибки: неверный тип данных(balcony, floors_total и т.д), выбросы и т.п"
   ]
  },
  {
   "cell_type": "markdown",
   "metadata": {
    "id": "-O5NtivEAwb9"
   },
   "source": [
    "### Выполните предобработку данных"
   ]
  },
  {
   "cell_type": "code",
   "execution_count": 5,
   "metadata": {
    "id": "7v3vAeTuAwb-",
    "scrolled": true
   },
   "outputs": [
    {
     "name": "stdout",
     "output_type": "stream",
     "text": [
      "total_images                0\n",
      "last_price                  0\n",
      "total_area                  0\n",
      "first_day_exposition        0\n",
      "rooms                       0\n",
      "ceiling_height           9195\n",
      "floors_total               86\n",
      "living_area              1903\n",
      "floor                       0\n",
      "is_apartment            20924\n",
      "studio                      0\n",
      "open_plan                   0\n",
      "kitchen_area             2278\n",
      "balcony                 11519\n",
      "locality_name              49\n",
      "airports_nearest         5542\n",
      "cityCenters_nearest      5519\n",
      "parks_around3000         5518\n",
      "parks_nearest           15620\n",
      "ponds_around3000         5518\n",
      "ponds_nearest           14589\n",
      "days_exposition          3181\n",
      "dtype: int64\n"
     ]
    }
   ],
   "source": [
    "print(data.isna().sum())\n",
    "data['balcony'] = data['balcony'].fillna(0)\n",
    "data['parks_around3000'] = data['parks_around3000'].fillna(0)\n",
    "data['ponds_around3000'] = data['ponds_around3000'].fillna(0)\n",
    "data['floors_total'] = data['floors_total'].fillna(1)"
   ]
  },
  {
   "cell_type": "markdown",
   "metadata": {},
   "source": [
    "Причины пропуска данных:Возможной причиной пропуска является незнание определённых данных(высота потолка, расстояние до парка). Также некоторые продавцы не указывали какие_либо данные буллевого типа, если значение было отрицательным(наличие балкона, апартаменты, студия и т.д). Возможно некоторым продавцам некоторые данные показались неважными, и поэтоум их не добавили. Не стоит забывать про человеческий фактор и компьютерные ошибки."
   ]
  },
  {
   "cell_type": "code",
   "execution_count": 6,
   "metadata": {},
   "outputs": [],
   "source": [
    "data['balcony'] = data['balcony'].astype('int')\n",
    "data['parks_around3000'] = data['parks_around3000'].astype('int')\n",
    "data['ponds_around3000'] = data['ponds_around3000'].astype('int')\n",
    "data['floors_total'] = data['floors_total'].astype('int')\n",
    "data['first_day_exposition'] = pd.to_datetime(data['first_day_exposition'], format='%Y-%m-%dT%H:%M:%S')"
   ]
  },
  {
   "cell_type": "markdown",
   "metadata": {},
   "source": [
    "Причины изменения типа данных: наличие балкона, количество этажей, количество парков в радиусе 3км и количество прудов в радиусе 3 км-эти данные были вещественными числами. Но поскольку их значения могли содержать только целые числа, можно поменять тип данных с 'float' на 'int'.\n",
    "Также был изменён тип данных у столбца 'день публикации', так как в он был типа 'object', хотя там хранилась дата."
   ]
  },
  {
   "cell_type": "code",
   "execution_count": 7,
   "metadata": {},
   "outputs": [
    {
     "name": "stdout",
     "output_type": "stream",
     "text": [
      "['Санкт-Петербург' ' Шушары' ' Янино-1' ' Парголово' ' Мурино' 'Ломоносов'\n",
      " 'Сертолово' 'Петергоф' 'Пушкин' ' Кудрово' 'Коммунар' 'Колпино'\n",
      " ' Красный Бор' 'Гатчина' ' Федоровское' 'Выборг' 'Кронштадт' 'Кировск'\n",
      " ' Новое Девяткино' ' Металлострой' ' Лебяжье' ' Сиверский' ' Молодцово'\n",
      " ' Кузьмоловский' ' Новая Ропша' 'Павловск' ' Пикколово' 'Всеволожск'\n",
      " 'Волхов' 'Кингисепп' 'Приозерск' 'Сестрорецк' ' Куттузи' ' Аннино'\n",
      " ' Ефимовский' ' Плодовое' ' Заклинье' ' Торковичи' ' Первомайское'\n",
      " 'Красное Село' ' Понтонный' 'Сясьстрой' ' Старая' ' Лесколово'\n",
      " ' Новый Свет' 'Сланцы' ' Путилово' 'Ивангород' 'Мурино' 'Шлиссельбург'\n",
      " 'Никольское' 'Зеленогорск' 'Сосновый Бор' ' Оржицы' ' Кальтино' 'Кудрово'\n",
      " ' Романовка' ' Бугры' ' Рощино' 'Кириши' 'Луга' 'Волосово' 'Отрадное'\n",
      " ' Павлово' ' Оредеж' ' Копорье' ' Молодежное' 'Тихвин' ' Победа' ' Нурма'\n",
      " ' Синявино' 'Тосно' ' Стрельна' 'Бокситогорск' ' Александровская'\n",
      " ' Лопухинка' 'Пикалево' ' Терволово' ' Советский' 'Подпорожье'\n",
      " ' Петровское' ' Токсово' ' Сельцо' ' Вырица' ' Кипень' ' Келози'\n",
      " ' Вартемяги' ' Тельмана' ' Севастьяново' ' Большая Ижора' nan\n",
      " ' Агалатово' ' Новогорелово' ' Лесогорский' ' Лаголово' ' Цвелодубово'\n",
      " ' Рахья' ' Белогорка' ' Заводской' ' Новоселье' ' Большие Колпаны'\n",
      " ' Горбунки' ' Батово' ' Заневка' ' Иссад' 'Приморск' ' Мистолово'\n",
      " 'Новая Ладога' ' Зимитицы' ' Барышево' ' Разметелево' ' имени Свердлова'\n",
      " ' Пеники' ' Рябово' ' Пудомяги' ' Корнево' ' Низино' ' Бегуницы'\n",
      " ' Поляны' ' Мга' ' Елизаветино' ' Кузнечное' ' Колтуши' ' Запорожское'\n",
      " ' Гостилицы' ' Малое Карлино' ' Мичуринское' ' имени Морозова'\n",
      " ' Песочный' ' Сосново' ' Аро' ' Ильичево' ' Тайцы' ' Малое Верево'\n",
      " ' Извара' ' Вещево' ' Паша' ' Калитино' ' Ульяновка' ' Чудской Бор'\n",
      " ' Дубровка' ' Мины' ' Войсковицы' ' Коркино' ' Ропша' ' Приладожский'\n",
      " ' Щеглово' ' Гаврилово' 'Лодейное Поле' ' Рабитицы' ' Никольский'\n",
      " ' Кузьмолово' ' Малые Колпаны' ' Петро-Славянка' ' Назия' ' Репино'\n",
      " ' Углово' ' Старая Малукса' ' Меньково' ' Старые Бегуницы' ' Саперный'\n",
      " ' Семрино' ' Глажево' ' Кобринское' ' Гарболово' ' Юкки' ' Приветнинское'\n",
      " ' Мануйлово' ' Пчева' ' Цвылево' ' Мельниково' ' Пудость' ' Усть-Луга'\n",
      " 'Светогорск' 'Любань' ' Селезнево' 'Каменногорск' ' Кривко' ' Глебычево'\n",
      " ' Парицы' ' Жил' ' Войскорово' ' Никольское' ' Стеклянный' ' Важины'\n",
      " ' Мыза-Ивановка' ' Русско-Высоцкое' ' Форносово' ' Старая Ладога'\n",
      " ' Житково' ' Виллози' ' Лампово' ' Шпаньково' ' Лаврики' ' Сумино'\n",
      " ' Возрождение' ' Старосиверская' ' Кикерино' ' Старое Хинколово'\n",
      " ' Пригородный' ' Торфяное' ' Будогощь' ' Суходолье' ' Красная Долина'\n",
      " ' Хапо-Ое' ' Дружная Горка' ' Лисий Нос' ' Яльгелево' ' Рождествено'\n",
      " ' Старополье' ' Левашово' ' Сяськелево' ' Камышовка' ' Лесная Поляна'\n",
      " ' Хязельки' ' Жилгородок' ' Ялгино' ' Новый Учхоз' ' Гончарово' ' Почап'\n",
      " ' Саперное' ' Платформа 69-й километр' ' Каложицы' ' Фалилеево'\n",
      " ' Пельгора' ' Торошковичи' ' Белоостров' ' Алексеевка' ' Серебрянский'\n",
      " ' Лукаши' ' Тарасово' ' Кингисеппский' ' Ушаки' ' Котлы' ' Сижно'\n",
      " ' Торосово' ' Форт Красная Горка' ' Новолисино' ' Громово' ' Глинка'\n",
      " ' Старая Пустошь' ' Коммунары' ' Починок' ' Вознесенье' ' Разбегаево'\n",
      " ' Гладкое' ' Тесово-4' ' Бор' ' Коробицыно' ' Большая Вруда' ' Курковицы'\n",
      " ' Кобралово' ' Суоранда' ' Кондратьево' '  Счастье' ' Любань' ' Реброво'\n",
      " ' Тойворово' ' Семиозерье' ' Лесное' ' Совхозный' ' Ленинское' ' Суйда'\n",
      " ' Нижние Осельки' ' Свирь' ' Перово' 'Высоцк' ' Шум' ' Котельский'\n",
      " ' Лужайка' ' Большая Пустомержа' ' Красносельское' ' Вахнова Кара'\n",
      " ' Пижма' '  Кивеннапа Север' ' Ромашки' ' Каськово' ' Куровицы'\n",
      " ' Плоское' ' Кирпичное' ' Ям-Тесово' ' Раздолье' ' Терпилицы' ' Шугозеро'\n",
      " ' Ваганово' ' Пушное' ' Садко' ' Усть-Ижора' ' Выскатка' ' Свирьстрой'\n",
      " ' Кисельня' ' Трубников Бор' ' Высокоключевой' ' Пансионат Зеленый Бор'\n",
      " ' Ненимяки' ' Снегиревка' ' Рапполово' ' Пустынка' ' Большой Сабск'\n",
      " ' Русско' ' Лупполово' ' Большое Рейзино' ' Малая Романовка'\n",
      " ' Дружноселье' ' Пчевжа' ' Володарское' ' Нижняя' '  Лесное' ' Тихковицы'\n",
      " ' Борисова Грива' ' Дзержинского']\n"
     ]
    }
   ],
   "source": [
    "data['locality_name'] = data['locality_name'].str.replace('ё', 'е').replace(['городской посёлок', 'посёлок городского типа', 'поселок городского типа', 'городской поселок', 'садовое товарищество', 'поселок при железнодорожной станции', 'поселок станции','посёлок','поселок', 'деревня', 'село', 'садоводческое некоммерческое товарищество', 'коттеджный'], '', regex=True)\n",
    "print(data['locality_name'].unique())"
   ]
  },
  {
   "cell_type": "markdown",
   "metadata": {},
   "source": [
    "Устранили все неявные дубликаты в столбце locality_name."
   ]
  },
  {
   "cell_type": "markdown",
   "metadata": {
    "id": "QCcvyY6YAwb-"
   },
   "source": [
    "### Добавьте в таблицу новые столбцы"
   ]
  },
  {
   "cell_type": "code",
   "execution_count": 8,
   "metadata": {
    "id": "Z8eJek3IAwb-"
   },
   "outputs": [],
   "source": [
    "def month_data(month):\n",
    "    if month==1:\n",
    "        return 'Январь'\n",
    "    elif month==2:\n",
    "        return 'Февраль'\n",
    "    elif month==3:\n",
    "        return 'Март'\n",
    "    elif month==4:\n",
    "        return 'Апрель'\n",
    "    elif month==5:\n",
    "        return 'Май'\n",
    "    elif month==6:\n",
    "        return 'Июнь'\n",
    "    elif month==7:\n",
    "        return 'Июль'\n",
    "    elif month==8:\n",
    "        return 'Август'\n",
    "    elif month==9:\n",
    "        return 'Сентябрь'\n",
    "    elif month==10:\n",
    "        return 'Октебрь'\n",
    "    elif month==11:\n",
    "        return 'Ноябрь'\n",
    "    else:\n",
    "        return'Декабрь'\n",
    "def floor_type(floor1):\n",
    "    floor=floor1['floor']\n",
    "    floors_total=floor1['floors_total']\n",
    "    if floor == 1:\n",
    "        return 'Первый'\n",
    "    elif floor == floors_total:\n",
    "        return 'Последний'\n",
    "    else:\n",
    "        return 'Другой'\n",
    "\n",
    "data['price_area'] = round(data['last_price']/data['total_area'], 2)\n",
    "data['week_day'] = data['first_day_exposition'].dt.weekday\n",
    "data['month'] = data['first_day_exposition'].dt.month.apply(month_data)\n",
    "data['year'] = data['first_day_exposition'].dt.year\n",
    "data['floor_type'] = data.apply(floor_type, axis=1)\n",
    "data['cityCenters_nearest_km'] = round(data['cityCenters_nearest']/1000)"
   ]
  },
  {
   "cell_type": "markdown",
   "metadata": {},
   "source": [
    "Добавили все необходимые столбцы."
   ]
  },
  {
   "cell_type": "markdown",
   "metadata": {
    "id": "pPyxrKWTAwb-"
   },
   "source": [
    "### Проведите исследовательский анализ данных\n"
   ]
  },
  {
   "cell_type": "code",
   "execution_count": 9,
   "metadata": {
    "id": "V2f0D3kLAwb-",
    "scrolled": true
   },
   "outputs": [
    {
     "name": "stdout",
     "output_type": "stream",
     "text": [
      "23699\n",
      "23019\n"
     ]
    },
    {
     "data": {
      "image/png": "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\n",
      "text/plain": [
       "<Figure size 432x288 with 1 Axes>"
      ]
     },
     "metadata": {
      "needs_background": "light"
     },
     "output_type": "display_data"
    },
    {
     "data": {
      "image/png": "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\n",
      "text/plain": [
       "<Figure size 432x288 with 1 Axes>"
      ]
     },
     "metadata": {
      "needs_background": "light"
     },
     "output_type": "display_data"
    },
    {
     "data": {
      "image/png": "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\n",
      "text/plain": [
       "<Figure size 432x288 with 1 Axes>"
      ]
     },
     "metadata": {
      "needs_background": "light"
     },
     "output_type": "display_data"
    },
    {
     "data": {
      "image/png": "iVBORw0KGgoAAAANSUhEUgAAAX0AAAEICAYAAACzliQjAAAAOXRFWHRTb2Z0d2FyZQBNYXRwbG90bGliIHZlcnNpb24zLjMuNCwgaHR0cHM6Ly9tYXRwbG90bGliLm9yZy8QVMy6AAAACXBIWXMAAAsTAAALEwEAmpwYAAAVg0lEQVR4nO3dfbBdV33e8e+DBRhsYskYVFd2kVO7JDgewNHYZkjpNQZbtjOxJwPU1AWZqqOmdVrouAMmnYTw1hEzTAzM8BIVOwgSEIZArDEUj2J8h2YyBltA/AqxwAJLNTYgWSDegsKvf5x124N8r+6Lzr3Svev7mTlz9l5r7X3W0tY8Z5919tk3VYUkqQ9PONIdkCQtHENfkjpi6EtSRwx9SeqIoS9JHTH0Jakjhr4kdcTQ11Evyc4kL5mk/N4kY3PY31iSXaPom7TYLDvSHZDmqqrOnFhO8sfA6VX1b49cj6Sjn2f60lEmiSdjmjeGvhaVJL+e5MEkr5yY9kmyFvgD4F8n2Z/k71rbE5P8WZL/k2Rvkr86aF/XJHk0ycNJXjNU/uQk70zy7SSPJPlAkqe0urEku6ba9hD9vjTJV5L8IMlD7ZPJRN3qJJVkfZJvA59v5f8uyf2t77ckedbQNu9u+/lBku1J/uVh/cOqG4a+Fo0kZwO3AP+5qj42UV5VnwP+B/Dxqjq+qp7bqj4CPBU4E3gmcN3Q7v4JcAKwClgPvDfJila3EfgXwPOA01ubP5rhtlP5EfBqYDlwKfAfk1x+UJt/Bfw6cFGSyxi8kf0u8AzgfwMfG2p7R+vficBHgU8kOXaaPkhQVT58HNUPYCfwZmAXMHZQ+Uva8h8Dfz5UdzLwC2DFJPsbA34CLBsqexQ4DwiDgP7nQ3UvAB6cbttZjuldwHVteTVQwK8O1f8vYP3Q+hOAHwPPmmJ/e4HnHulj5ePof3imr8Xi94C/rarxGbY/FdhTVXunqP9+VR0YWv8xcDyDs+qnAtuTPJbkMeBzrXy6baeU5NwktyX5bpJ9bTwnHdTsoaHlZwHvHurDHgZvSKva/v5bm/rZ1+pPmGR/0uMY+losfg/4Z0mum6L+4HuEPwScmGT5LF/newzO5M+squXtcUJVHTLUZ+CjwFbg1Ko6AfgAgxAfNjyGh4D/MNSH5VX1lKr62zZ//3rgFQw+ySwH9k2yP+lxDH0tFj8E1gIvSrJxkvpHgNVJngBQVQ8zmCJ5X5IVSZ6Y5EXTvUhV/QL4n8B1SZ4JkGRVkosOs/9PY/DJ46dJzgH+zTTtPwC8McmZrQ8nJHn50L4OAN8FliX5I+BXDrN/6oShr0Wjqh4DXgpcnOStB1V/oj1/P8mX2/KrgJ8DX2Mw7/66Gb7UG4AdwO1JfgD8NfDsufccgP8EvCXJDxl8KXzjoRpX1aeBdwBbWh/uAS5u1bcwmHL6e+BbwE/55akhaUqp8i9nSVIvPNOXpI4Y+tKItHsB7Z/kceWR7ps0wekdSerIUX2Pj5NOOqlWr1495+1/9KMfcdxxx42uQ0e53sYLjrkXjnl2tm/f/r2qesZkdUd16K9evZo777xzztuPj48zNjY2ug4d5XobLzjmXjjm2UnyranqnNOXpI4Y+pLUEUNfkjpi6EtSRwx9SeqIoS9JHTH0Jakjhr4kdcTQl6SOHNW/yD3arb72M5OW79x46QL3RJJmZkZn+kl2Jrk7yVeT3NnKTkyyLckD7XlFK0+S9yTZkeSuJGcP7Wdda/9AknXzMyRJ0lRmM71zflU9r6rWtPVrgVur6gzg1rYOg7/uc0Z7bADeD4M3CeBNwLnAOcCbJt4oJEkL43Dm9C8DNrflzcDlQ+UfroHbgeVJTgYuArZV1Z6q2gtsY/A3TyVJC2RG99NP8iCwFyjgT6tqU5LHqmp5qw+wt6qWJ7kZ2FhVf9PqbmXwN0fHgGOr6m2t/A+Bn1TVOw96rQ0MPiGwcuXK39yyZcucB7d//36OP/74OW8/nbt375u0/KxVJ8zbax7KfI/3aOSY++CYZ+f888/fPjQr80tm+kXub1XV7iTPBLYl+dpwZVVVkpH8NZaq2gRsAlizZk0dzu1U5/t2rFdN9UXulfP3mofi7Wf74Jj7MF9jntH0TlXtbs+PAp9mMCf/SJu2oT0/2prvBk4d2vyUVjZVuSRpgUwb+kmOS/K0iWXgQuAeYCswcQXOOuCmtrwVeHW7iuc8YF9VPQzcAlyYZEX7AvfCViZJWiAzmd5ZCXx6MG3PMuCjVfW5JHcANyZZD3wLeEVr/1ngEmAH8GPgNQBVtSfJW4E7Wru3VNWekY1EkjStaUO/qr4JPHeS8u8DF0xSXsDVU+zrBuCG2XfzyJrqR1iStNh4GwZJ6oihL0kdMfQlqSOGviR1xNCXpI4Y+pLUEUNfkjpi6EtSRwx9SeqIoS9JHTH0Jakjhr4kdcTQl6SOGPqS1BFDX5I6YuhLUkcMfUnqiKEvSR0x9CWpI4a+JHXE0Jekjhj6ktQRQ1+SOmLoS1JHDH1J6oihL0kdWXakO7AUrb72M5OW79x46QL3RJJ+mWf6ktQRQ1+SOmLoS1JHDH1J6oihL0kdmXHoJzkmyVeS3NzWT0vyxSQ7knw8yZNa+ZPb+o5Wv3poH29s5V9PctHIRyNJOqTZnOm/Frh/aP0dwHVVdTqwF1jfytcDe1v5da0dSZ4DXAGcCawF3pfkmMPrviRpNmYU+klOAS4FPtjWA7wY+GRrshm4vC1f1tZp9Re09pcBW6rqZ1X1ILADOGcEY5AkzdBMf5z1LuD1wNPa+tOBx6rqQFvfBaxqy6uAhwCq6kCSfa39KuD2oX0Ob/P/JNkAbABYuXIl4+PjM+zi4+3fv/+wtp9wzVkHpm80A6Poy6GMaryLiWPug2MenWlDP8lvA49W1fYkYyPvwUGqahOwCWDNmjU1Njb3lxwfH+dwtp9w1RS/sJ2tnVeOjWQ/UxnVeBcTx9wHxzw6MznTfyHwO0kuAY4FfgV4N7A8ybJ2tn8KsLu13w2cCuxKsgw4Afj+UPmE4W0kSQtg2jn9qnpjVZ1SVasZfBH7+aq6ErgNeFlrtg64qS1vbeu0+s9XVbXyK9rVPacBZwBfGtlIJEnTOpwbrr0B2JLkbcBXgOtb+fXAR5LsAPYweKOgqu5NciNwH3AAuLqq/vEwXl+SNEuzCv2qGgfG2/I3meTqm6r6KfDyKbZ/O/D22XZSkjQa/iJXkjpi6EtSRwx9SeqIoS9JHTH0Jakjhr4kdcTQl6SOGPqS1BFDX5I6YuhLUkcMfUnqiKEvSR0x9CWpI4a+JHXE0Jekjhj6ktQRQ1+SOmLoS1JHDH1J6oihL0kdMfQlqSOGviR1xNCXpI4Y+pLUEUNfkjpi6EtSRwx9SeqIoS9JHTH0Jakjhr4kdcTQl6SOTBv6SY5N8qUkf5fk3iRvbuWnJflikh1JPp7kSa38yW19R6tfPbSvN7byrye5aN5GJUma1EzO9H8GvLiqngs8D1ib5DzgHcB1VXU6sBdY39qvB/a28utaO5I8B7gCOBNYC7wvyTEjHIskaRrThn4N7G+rT2yPAl4MfLKVbwYub8uXtXVa/QVJ0sq3VNXPqupBYAdwzigGIUmamWUzadTOyLcDpwPvBb4BPFZVB1qTXcCqtrwKeAigqg4k2Qc8vZXfPrTb4W2GX2sDsAFg5cqVjI+Pz25EQ/bv339Y20+45qwD0zeagVH05VBGNd7FxDH3wTGPzoxCv6r+EXhekuXAp4FfG3lP/v9rbQI2AaxZs6bGxsbmvK/x8XEOZ/sJV137mcPeB8DOK8dGsp+pjGq8i4lj7oNjHp1ZXb1TVY8BtwEvAJYnmXjTOAXY3ZZ3A6cCtPoTgO8Pl0+yjSRpAczk6p1ntDN8kjwFeClwP4Pwf1lrtg64qS1vbeu0+s9XVbXyK9rVPacBZwBfGtE4JEkzMJPpnZOBzW1e/wnAjVV1c5L7gC1J3gZ8Bbi+tb8e+EiSHcAeBlfsUFX3JrkRuA84AFzdpo0kSQtk2tCvqruA509S/k0mufqmqn4KvHyKfb0dePvsuylJGgV/kStJHTH0Jakjhr4kdcTQl6SOGPqS1BFDX5I6YuhLUkcMfUnqiKEvSR0x9CWpI4a+JHXE0Jekjhj6ktQRQ1+SOmLoS1JHDH1J6oihL0kdMfQlqSOGviR1xNCXpI4Y+pLUEUNfkjpi6EtSRwx9SeqIoS9JHTH0Jakjhr4kdcTQl6SOGPqS1BFDX5I6YuhLUkcMfUnqyLShn+TUJLcluS/JvUle28pPTLItyQPteUUrT5L3JNmR5K4kZw/ta11r/0CSdfM3LEnSZJbNoM0B4Jqq+nKSpwHbk2wDrgJuraqNSa4FrgXeAFwMnNEe5wLvB85NciLwJmANUG0/W6tq76gHdbRafe1nJi3fufHSBe6JpF5Ne6ZfVQ9X1Zfb8g+B+4FVwGXA5tZsM3B5W74M+HAN3A4sT3IycBGwrar2tKDfBqwd5WAkSYeWqpp542Q18AXgN4BvV9XyVh5gb1UtT3IzsLGq/qbV3crgE8AYcGxVva2V/yHwk6p650GvsQHYALBy5crf3LJly5wHt3//fo4//vg5bz/h7t37Dnsfh3LWqhNGsp9RjXcxccx9cMyzc/7552+vqjWT1c1kegeAJMcDfwm8rqp+MMj5gaqqJDN/9ziEqtoEbAJYs2ZNjY2NzXlf4+PjHM72E66aYlpmVHZeOTaS/YxqvIuJY+6DYx6dGV29k+SJDAL/L6rqU634kTZtQ3t+tJXvBk4d2vyUVjZVuSRpgczk6p0A1wP3V9WfDFVtBSauwFkH3DRU/up2Fc95wL6qehi4BbgwyYp2pc+FrUyStEBmMr3zQuBVwN1JvtrK/gDYCNyYZD3wLeAVre6zwCXADuDHwGsAqmpPkrcCd7R2b6mqPaMYhCRpZqYN/faFbKaovmCS9gVcPcW+bgBumE0HJUmj4y9yJakjhr4kdcTQl6SOGPqS1BFDX5I6YuhLUkcMfUnqyIzvvdODqW59LElLhWf6ktQRQ1+SOmLoS1JHDH1J6oihL0kdMfQlqSOGviR1xNCXpI4Y+pLUEUNfkjpi6EtSRwx9SeqIoS9JHfEum0eBqe7uuXPjpQvcE0lLnWf6ktQRQ1+SOmLoS1JHDH1J6oihL0kdMfQlqSOGviR1xNCXpI4Y+pLUkWlDP8kNSR5Ncs9Q2YlJtiV5oD2vaOVJ8p4kO5LcleTsoW3WtfYPJFk3P8ORJB3KTM70PwSsPajsWuDWqjoDuLWtA1wMnNEeG4D3w+BNAngTcC5wDvCmiTcKSdLCmTb0q+oLwJ6Dii8DNrflzcDlQ+UfroHbgeVJTgYuArZV1Z6q2gts4/FvJJKkeTbXG66trKqH2/J3gJVteRXw0FC7Xa1sqvLHSbKBwacEVq5cyfj4+By7CPv375/V9tecdWDOrzUfZjv22Y53KXDMfXDMo3PYd9msqkpSo+hM298mYBPAmjVramxsbM77Gh8fZzbbXzXF3S6PlJ1Xjs2q/WzHuxQ45j445tGZ69U7j7RpG9rzo618N3DqULtTWtlU5ZKkBTTX0N8KTFyBsw64aaj81e0qnvOAfW0a6BbgwiQr2he4F7YySdICmnZ6J8nHgDHgpCS7GFyFsxG4Mcl64FvAK1rzzwKXADuAHwOvAaiqPUneCtzR2r2lqg7+cliSNM+mDf2qeuUUVRdM0raAq6fYzw3ADbPqnSRppPxFriR1xNCXpI4Y+pLUEUNfkjpi6EtSRwx9SeqIoS9JHTH0Jakjhr4kdcTQl6SOHPatlTV/Vk9xq+edGy9d4J5IWio805ekjhj6ktQRQ1+SOmLoS1JHDH1J6oihL0kdMfQlqSOGviR1xNCXpI74i9xFaKpf6n5o7XEL3BNJi41n+pLUEUNfkjri9M4ScvfufVzlTdokHYJn+pLUEUNfkjpi6EtSR5zT74R/kEUSeKYvSV3xTL9zfgKQ+uKZviR1xDN9jYSfGKTFYcFDP8la4N3AMcAHq2rjQvdB05sqxCUtbgsa+kmOAd4LvBTYBdyRZGtV3beQ/dDCGdWbx1SfGKb6FbKfMKTJLfSZ/jnAjqr6JkCSLcBlwIKGvmexi89Ux+yas2bX/lBm+0bhlJYWo1TVwr1Y8jJgbVX9+7b+KuDcqvr9oTYbgA1t9dnA1w/jJU8CvncY2y82vY0XHHMvHPPsPKuqnjFZxVH3RW5VbQI2jWJfSe6sqjWj2Ndi0Nt4wTH3wjGPzkJfsrkbOHVo/ZRWJklaAAsd+ncAZyQ5LcmTgCuArQvcB0nq1oJO71TVgSS/D9zC4JLNG6rq3nl8yZFMEy0ivY0XHHMvHPOILOgXuZKkI8vbMEhSRwx9SerIkgz9JGuTfD3JjiTXHun+zIckpya5Lcl9Se5N8tpWfmKSbUkeaM8rjnRfRynJMUm+kuTmtn5aki+2Y/3xdoHAkpJkeZJPJvlakvuTvGApH+ck/7X9n74nyceSHLsUj3OSG5I8muSeobJJj2sG3tPGf1eSs+f6uksu9Idu9XAx8BzglUmec2R7NS8OANdU1XOA84Cr2zivBW6tqjOAW9v6UvJa4P6h9XcA11XV6cBeYP0R6dX8ejfwuar6NeC5DMa/JI9zklXAfwHWVNVvMLjg4wqW5nH+ELD2oLKpjuvFwBntsQF4/1xfdMmFPkO3eqiqfwAmbvWwpFTVw1X15bb8QwZBsIrBWDe3ZpuBy49IB+dBklOAS4EPtvUALwY+2ZosqfECJDkBeBFwPUBV/UNVPcYSPs4Mrip8SpJlwFOBh1mCx7mqvgDsOah4quN6GfDhGrgdWJ7k5Lm87lIM/VXAQ0Pru1rZkpVkNfB84IvAyqp6uFV9B1h5pPo1D94FvB74RVt/OvBYVR1o60vxWJ8GfBf4szat9cEkx7FEj3NV7QbeCXybQdjvA7az9I/zhKmO68hybSmGfleSHA/8JfC6qvrBcF0NrsddEtfkJvlt4NGq2n6k+7LAlgFnA++vqucDP+KgqZwldpxXMDirPQ34p8BxPH4KpAvzdVyXYuh3c6uHJE9kEPh/UVWfasWPTHzsa8+PHqn+jdgLgd9JspPBlN2LGcx1L2/TALA0j/UuYFdVfbGtf5LBm8BSPc4vAR6squ9W1c+BTzE49kv9OE+Y6riOLNeWYuh3cauHNp99PXB/Vf3JUNVWYF1bXgfctNB9mw9V9caqOqWqVjM4pp+vqiuB24CXtWZLZrwTquo7wENJnt2KLmBwK/IleZwZTOucl+Sp7f/4xHiX9HEeMtVx3Qq8ul3Fcx6wb2gaaHaqask9gEuAvwe+Afz3I92feRrjbzH46HcX8NX2uITBPPetwAPAXwMnHum+zsPYx4Cb2/KvAl8CdgCfAJ58pPs3D+N9HnBnO9Z/BaxYyscZeDPwNeAe4CPAk5ficQY+xuB7i58z+ES3fqrjCoTBVYnfAO5mcHXTnF7X2zBIUkeW4vSOJGkKhr4kdcTQl6SOGPqS1BFDX5I6YuhLUkcMfUnqyP8FQtykk0HZNc4AAAAASUVORK5CYII=\n",
      "text/plain": [
       "<Figure size 432x288 with 1 Axes>"
      ]
     },
     "metadata": {
      "needs_background": "light"
     },
     "output_type": "display_data"
    },
    {
     "data": {
      "image/png": "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\n",
      "text/plain": [
       "<Figure size 432x288 with 1 Axes>"
      ]
     },
     "metadata": {
      "needs_background": "light"
     },
     "output_type": "display_data"
    },
    {
     "data": {
      "image/png": "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\n",
      "text/plain": [
       "<Figure size 432x288 with 1 Axes>"
      ]
     },
     "metadata": {
      "needs_background": "light"
     },
     "output_type": "display_data"
    },
    {
     "data": {
      "image/png": "iVBORw0KGgoAAAANSUhEUgAAAmMAAAFtCAYAAABLKm2QAAAAOXRFWHRTb2Z0d2FyZQBNYXRwbG90bGliIHZlcnNpb24zLjMuNCwgaHR0cHM6Ly9tYXRwbG90bGliLm9yZy8QVMy6AAAACXBIWXMAAAsTAAALEwEAmpwYAAAgAklEQVR4nO3de7RddXnu8e9jEkARhlxyKBBsoo0X8EDQHLSolUvVeGmjrVqoYqTU1CMUPb2c4qFDWqtj2FqVYq0WaxQ6KNRL0dRiKSLUqqBshAIBKRGj7IiQJlapiHJ5zx9rblyEfQnZl9/ea38/Y6yx5nznZb2LsUKezPmbc6aqkCRJUhuPat2AJEnSfGYYkyRJasgwJkmS1JBhTJIkqSHDmCRJUkMLWzews/bdd99aunRp6zYkSZImdPXVV/9nVS0ebdmcDWNLly5laGiodRuSJEkTSvKtsZZ5mlKSJKkhw5gkSVJDhjFJkqSG5uyYsdHce++9DA8Pc88997RuZcbttttuLFmyhEWLFrVuRZIkPQIDFcaGh4fZY489WLp0KUlatzNjqoqtW7cyPDzMsmXLWrcjSZIegYE6TXnPPfewzz77zKsgBpCEffbZZ14eEZQkaa4bqDAGzLsgNmK+fm9Jkua6CcNYknVJ7kxyQ1/t75Nc2702Jbm2qy9N8qO+ZR/s2+YZSa5PsjHJWenSQ5K9k1yS5Jbufa9p+J6SJEmz0o6MGfso8JfAuSOFqvq1kekk7wa+37f+N6pqxSj7+QDweuArwEXAKuCzwGnApVX1ziSndfN/8Ii+xRiWnvZPU7GbB21650umdH+P1JlnnsnatWt5zGMe07QPSZI0dSY8MlZVXwC2jbasO7r1KuD88faRZH9gz6q6sqqKXrB7Wbd4NXBON31OX13bOfPMM7n77rtbtyFJkqbQZMeMPRe4o6pu6astS3JNkn9N8tyudiAw3LfOcFcD2K+qbu+mvwvsN9aHJVmbZCjJ0JYtWybZ+vQ499xzOfTQQznssMM44YQT2LRpE8cccwyHHnooxx57LN/+9rcBeN3rXscnPvGJB7d77GMfC8Dll1/OUUcdxSte8Qqe8pSn8OpXv5qq4qyzzuI73/kORx99NEcffXST7yZJkqbeZG9tcTwPPSp2O/D4qtqa5BnAp5IcsqM7q6pKUuMsPxs4G2DlypVjrtfKhg0bePvb386Xv/xl9t13X7Zt28aaNWsefK1bt45TTz2VT33qU+Pu55prrmHDhg0ccMABPPvZz+ZLX/oSp556Ku95z3u47LLL2HfffWfmC0mSxjTVQ2E0sdbDhabLTh8ZS7IQ+BXg70dqVfXjqtraTV8NfAN4ErAZWNK3+ZKuBnBHdxpz5HTmnTvbU2uf//zneeUrX/lgWNp777254oor+PVf/3UATjjhBL74xS9OuJ8jjjiCJUuW8KhHPYoVK1awadOm6WxbkiQ1NJnTlL8IfL2qHjz9mGRxkgXd9BOA5cCt3WnIHyR5VjfO7LXAp7vN1gNruuk1ffWBtnDhQh544AEAHnjgAX7yk588uGzXXXd9cHrBggXcd999M96fJEmaGTtya4vzgSuAJycZTnJSt+g4Hj5w/xeA67pbXXwCeENVjQz+fyPwN8BGekfMPtvV3wk8P8kt9ALeO3f+67R1zDHH8PGPf5ytW7cCsG3bNo488kguuOACAM477zye+9zeMLqlS5dy9dVXA7B+/XruvffeCfe/xx57cNddd01T95IkqYUJx4xV1fFj1F83Su2TwCfHWH8IeNoo9a3AsRP1sTNm+tzyIYccwumnn87znvc8FixYwOGHH8773vc+TjzxRN71rnexePFiPvKRjwDw+te/ntWrV3PYYYexatUqdt999wn3v3btWlatWsUBBxzAZZddNt1fR5IkzYD07jQx96xcubKGhoYeUrvpppt46lOf2qij9ub795ekmeQA/pk3lwfwJ7m6qlaOtmzgHockSZI0lxjGJEmSGhq4MDZXT7tO1nz93pIkzXUDFcZ22203tm7dOu+CSVWxdetWdtttt9atSJKkR2iyd+CfVZYsWcLw8DCz9VFJ02m33XZjyZIlE68oSZJmlYEKY4sWLWLZsmWt25AkSdphA3WaUpIkaa4xjEmSJDVkGJMkSWrIMCZJktSQYUySJKkhw5gkSVJDhjFJkqSGDGOSJEkNGcYkSZIaMoxJkiQ1ZBiTJElqyDAmSZLUkGFMkiSpIcOYJElSQ4YxSZKkhgxjkiRJDRnGJEmSGjKMSZIkNWQYkyRJasgwJkmS1JBhTJIkqaEJw1iSdUnuTHJDX+2PkmxOcm33enHfsrck2Zjk5iQv7Kuv6mobk5zWV1+W5Ctd/e+T7DKVX1CSJGk225EjYx8FVo1Sf29VreheFwEkORg4Djik2+avkixIsgB4P/Ai4GDg+G5dgD/t9vVzwPeAkybzhSRJkuaSCcNYVX0B2LaD+1sNXFBVP66qbwIbgSO618aqurWqfgJcAKxOEuAY4BPd9ucAL3tkX0GSJGnumsyYsVOSXNedxtyrqx0I3Na3znBXG6u+D/BfVXXfdvVRJVmbZCjJ0JYtWybRuiRJ0uyws2HsA8ATgRXA7cC7p6qh8VTV2VW1sqpWLl68eCY+UpIkaVot3JmNquqOkekkHwI+081uBg7qW3VJV2OM+lbgcUkWdkfH+teXJEkaeDt1ZCzJ/n2zLwdGrrRcDxyXZNcky4DlwFeBq4Dl3ZWTu9Ab5L++qgq4DHhFt/0a4NM705MkSdJcNOGRsSTnA0cB+yYZBs4AjkqyAihgE/BbAFW1IcnHgBuB+4CTq+r+bj+nABcDC4B1VbWh+4g/AC5I8nbgGuDDU/XlJEmSZrsJw1hVHT9KeczAVFXvAN4xSv0i4KJR6rfSu9pSkiRp3vEO/JIkSQ0ZxiRJkhoyjEmSJDVkGJMkSWrIMCZJktSQYUySJKkhw5gkSVJDhjFJkqSGDGOSJEkNGcYkSZIaMoxJkiQ1ZBiTJElqyDAmSZLUkGFMkiSpIcOYJElSQ4YxSZKkhgxjkiRJDRnGJEmSGjKMSZIkNWQYkyRJasgwJkmS1JBhTJIkqSHDmCRJUkOGMUmSpIYMY5IkSQ0ZxiRJkhoyjEmSJDVkGJMkSWrIMCZJktTQhGEsybokdya5oa/2riRfT3JdkguTPK6rL03yoyTXdq8P9m3zjCTXJ9mY5Kwk6ep7J7kkyS3d+17T8D0lSZJmpR05MvZRYNV2tUuAp1XVocB/AG/pW/aNqlrRvd7QV/8A8Hpgefca2edpwKVVtRy4tJuXJEmaFyYMY1X1BWDbdrV/qar7utkrgSXj7SPJ/sCeVXVlVRVwLvCybvFq4Jxu+py+uiRJ0sCbijFjvwF8tm9+WZJrkvxrkud2tQOB4b51hrsawH5VdXs3/V1gv7E+KMnaJENJhrZs2TIFrUuSJLU1qTCW5HTgPuC8rnQ78PiqOhz4HeDvkuy5o/vrjprVOMvPrqqVVbVy8eLFk+hckiRpdli4sxsmeR3wUuDYLkRRVT8GftxNX53kG8CTgM089FTmkq4GcEeS/avq9u505p0725MkSdJcs1NHxpKsAv4v8MtVdXdffXGSBd30E+gN1L+1Ow35gyTP6q6ifC3w6W6z9cCabnpNX12SJGngTXhkLMn5wFHAvkmGgTPoXT25K3BJd4eKK7srJ38BeFuSe4EHgDdU1cjg/zfSuzLz0fTGmI2MM3sn8LEkJwHfAl41Jd9MkiRpDpgwjFXV8aOUPzzGup8EPjnGsiHgaaPUtwLHTtSHJEnSIPIO/JIkSQ0ZxiRJkhoyjEmSJDVkGJMkSWrIMCZJktSQYUySJKkhw5gkSVJDhjFJkqSGDGOSJEkNGcYkSZIaMoxJkiQ1ZBiTJElqyDAmSZLUkGFMkiSpIcOYJElSQ4YxSZKkhgxjkiRJDRnGJEmSGjKMSZIkNWQYkyRJasgwJkmS1JBhTJIkqSHDmCRJUkOGMUmSpIYMY5IkSQ0ZxiRJkhoyjEmSJDVkGJMkSWpoh8JYknVJ7kxyQ19t7ySXJLmle9+rqyfJWUk2JrkuydP7tlnTrX9LkjV99Wckub7b5qwkmcovKUmSNFvt6JGxjwKrtqudBlxaVcuBS7t5gBcBy7vXWuAD0AtvwBnAM4EjgDNGAly3zuv7ttv+syRJkgbSDoWxqvoCsG278mrgnG76HOBlffVzq+dK4HFJ9gdeCFxSVduq6nvAJcCqbtmeVXVlVRVwbt++JEmSBtpkxoztV1W3d9PfBfbrpg8Ebutbb7irjVcfHqX+MEnWJhlKMrRly5ZJtC5JkjQ7TMkA/u6IVk3Fvib4nLOramVVrVy8ePF0f5wkSdK0m0wYu6M7xUj3fmdX3wwc1Lfekq42Xn3JKHVJkqSBN5kwth4YuSJyDfDpvvpru6sqnwV8vzudeTHwgiR7dQP3XwBc3C37QZJndVdRvrZvX5IkSQNt4Y6slOR84Chg3yTD9K6KfCfwsSQnAd8CXtWtfhHwYmAjcDdwIkBVbUvyJ8BV3Xpvq6qRiwLeSO+KzUcDn+1ekiRJA2+HwlhVHT/GomNHWbeAk8fYzzpg3Sj1IeBpO9KLJEnSIPEO/JIkSQ0ZxiRJkhoyjEmSJDVkGJMkSWrIMCZJktSQYUySJKkhw5gkSVJDhjFJkqSGDGOSJEkNGcYkSZIaMoxJkiQ1ZBiTJElqyDAmSZLUkGFMkiSpIcOYJElSQ4YxSZKkhgxjkiRJDRnGJEmSGjKMSZIkNWQYkyRJasgwJkmS1JBhTJIkqSHDmCRJUkOGMUmSpIYMY5IkSQ0ZxiRJkhoyjEmSJDVkGJMkSWpop8NYkicnubbv9YMkb07yR0k299Vf3LfNW5JsTHJzkhf21Vd1tY1JTpvsl5IkSZorFu7shlV1M7ACIMkCYDNwIXAi8N6q+vP+9ZMcDBwHHAIcAHwuyZO6xe8Hng8MA1clWV9VN+5sb5IkSXPFToex7RwLfKOqvpVkrHVWAxdU1Y+BbybZCBzRLdtYVbcCJLmgW9cwJkmSBt5UjRk7Dji/b/6UJNclWZdkr652IHBb3zrDXW2s+sMkWZtkKMnQli1bpqh1SZKkdiYdxpLsAvwy8PGu9AHgifROYd4OvHuynzGiqs6uqpVVtXLx4sVTtVtJkqRmpuI05YuAr1XVHQAj7wBJPgR8ppvdDBzUt92SrsY4dUmSpIE2Facpj6fvFGWS/fuWvRy4oZteDxyXZNcky4DlwFeBq4DlSZZ1R9mO69aVJEkaeJM6MpZkd3pXQf5WX/nPkqwACtg0sqyqNiT5GL2B+fcBJ1fV/d1+TgEuBhYA66pqw2T6kiRJmismFcaq6ofAPtvVThhn/XcA7xilfhFw0WR6kSRJmou8A78kSVJDhjFJkqSGDGOSJEkNGcYkSZIaMoxJkiQ1ZBiTJElqyDAmSZLUkGFMkiSpIcOYJElSQ4YxSZKkhgxjkiRJDRnGJEmSGjKMSZIkNWQYkyRJasgwJkmS1JBhTJIkqSHDmCRJUkOGMUmSpIYMY5IkSQ0ZxiRJkhoyjEmSJDVkGJMkSWrIMCZJktSQYUySJKkhw5gkSVJDhjFJkqSGDGOSJEkNGcYkSZIamnQYS7IpyfVJrk0y1NX2TnJJklu69726epKclWRjkuuSPL1vP2u69W9JsmayfUmSJM0FU3Vk7OiqWlFVK7v504BLq2o5cGk3D/AiYHn3Wgt8AHrhDTgDeCZwBHDGSICTJEkaZNN1mnI1cE43fQ7wsr76udVzJfC4JPsDLwQuqaptVfU94BJg1TT1JkmSNGtMRRgr4F+SXJ1kbVfbr6pu76a/C+zXTR8I3Na37XBXG6v+EEnWJhlKMrRly5YpaF2SJKmthVOwj+dU1eYk/wO4JMnX+xdWVSWpKfgcqups4GyAlStXTsk+JUmSWpr0kbGq2ty93wlcSG/M1x3d6Ue69zu71TcDB/VtvqSrjVWXJEkaaJMKY0l2T7LHyDTwAuAGYD0wckXkGuDT3fR64LXdVZXPAr7fnc68GHhBkr26gfsv6GqSJEkDbbKnKfcDLkwysq+/q6p/TnIV8LEkJwHfAl7VrX8R8GJgI3A3cCJAVW1L8ifAVd16b6uqbZPsTZIkadabVBirqluBw0apbwWOHaVewMlj7GsdsG4y/UiSJM013oFfkiSpIcOYJElSQ4YxSZKkhgxjkiRJDRnGJEmSGjKMSZIkNWQYkyRJasgwJkmS1JBhTJIkqSHDmCRJUkOGMUmSpIYMY5IkSQ0ZxiRJkhoyjEmSJDVkGJMkSWrIMCZJktSQYUySJKkhw5gkSVJDhjFJkqSGFrZuQNLgWXraP7VuYd7Z9M6XtG5B0k7yyJgkSVJDhjFJkqSGDGOSJEkNGcYkSZIaMoxJkiQ15NWUM8yrzGaeV5lJkmYzj4xJkiQ1ZBiTJElqaKfDWJKDklyW5MYkG5K8qav/UZLNSa7tXi/u2+YtSTYmuTnJC/vqq7raxiSnTe4rSZIkzR2TGTN2H/C7VfW1JHsAVye5pFv23qr68/6VkxwMHAccAhwAfC7Jk7rF7weeDwwDVyVZX1U3TqI3SZKkOWGnw1hV3Q7c3k3fleQm4MBxNlkNXFBVPwa+mWQjcES3bGNV3QqQ5IJuXcOYJEkaeFMyZizJUuBw4Ctd6ZQk1yVZl2SvrnYgcFvfZsNdbaz6aJ+zNslQkqEtW7ZMReuSJElNTTqMJXks8EngzVX1A+ADwBOBFfSOnL17sp8xoqrOrqqVVbVy8eLFU7VbSZKkZiZ1n7Eki+gFsfOq6h8AquqOvuUfAj7TzW4GDurbfElXY5y6JEnSQJvM1ZQBPgzcVFXv6avv37fay4Ebuun1wHFJdk2yDFgOfBW4ClieZFmSXegN8l+/s31JkiTNJZM5MvZs4ATg+iTXdrX/BxyfZAVQwCbgtwCqakOSj9EbmH8fcHJV3Q+Q5BTgYmABsK6qNkyiL0mSpDljMldTfhHIKIsuGmebdwDvGKV+0XjbSZIkDSrvwC9JktSQYUySJKkhw5gkSVJDhjFJkqSGDGOSJEkNGcYkSZIaMoxJkiQ1ZBiTJElqyDAmSZLUkGFMkiSpIcOYJElSQ4YxSZKkhgxjkiRJDRnGJEmSGjKMSZIkNWQYkyRJasgwJkmS1JBhTJIkqSHDmCRJUkOGMUmSpIYMY5IkSQ0ZxiRJkhoyjEmSJDVkGJMkSWrIMCZJktSQYUySJKkhw5gkSVJDhjFJkqSGZk0YS7Iqyc1JNiY5rXU/kiRJM2FWhLEkC4D3Ay8CDgaOT3Jw264kSZKm36wIY8ARwMaqurWqfgJcAKxu3JMkSdK0W9i6gc6BwG1988PAM7dfKclaYG03+99Jbp6B3vRT+wL/2bqJRyp/2roDzTH+zjUf+DufeT871oLZEsZ2SFWdDZzduo/5KslQVa1s3Yc0nfydaz7wdz67zJbTlJuBg/rml3Q1SZKkgTZbwthVwPIky5LsAhwHrG/ckyRJ0rSbFacpq+q+JKcAFwMLgHVVtaFxW3o4TxFrPvB3rvnA3/kskqpq3YMkSdK8NVtOU0qSJM1LhjFJkqSGDGOSJEkNGcYkSZIamhVXU2r2SvL00epV9bWZ7kWSpEHk1ZQaVZKnVtVNSR4AbqF3E950i6uqjmnXnTQ1kiyqqnuT3AWM/M+w/3e+Z6PWpCmV5Hp++huH3u+8qurQRi2pj6cpNZa/7t5fAHwXuBr41ao62iCmAfLJ7v0vgBuA46tqj+5lENOcl+ScbvLfgfuB04FfAl7avWsWMIxpLLsAVNXnqup5wBXAZ5KcnuTRbVuTpszPAFTVHwKrgRcmuTTJs9u2JU2ZgwGq6jXACcBJwNuBR1XVt1o2pp9yzJjGciZAkt/pq30KeA3w23R/iUlz3OfhIWMjPwosA/4qyW1V9dJWjUlT5EaAJHsD3wF+A3g28PEkV1bVKS2bU49jxjSuJGeMVq+qP57pXqTpkuSy0epVdfRM9yJNhyTfZPRxkU9o1JL6GMYkSZIa8jSlxtUdMXhYYncQvwbJdqfjH1RV75npXqTpkGQR8L+BX+hKlwN/XVX3NmtKD/LImMaV5Bl9sw8e4q6qq1v0I02HJN8DvgVc2F/3dLwGRZK/ARYBI1dXngDcX1W/2a4rjTCMaYckeQm9210sAH6vqs5r3JI0ZbrBzW8Bngm8rao+17glaUol+feqOmyimtrw1hbaUW8FjgKeBvxu21akqVVV26rq94HjgFcm+eck/6t1X9IUuj/JE0dmkjyB3n3HNAs4Zkw7alFVbQRI8t+tm5GmUpJ/5KFXmj0euJLekWBpEPw+cFmSW+n9xn8WOLFtSxphGNO4kpzVTS7ppgN4KbQGzZ+3bkCaTlV1aZLlwJO70s1V9eOWPemnHDOmcSVZM1q9qs4ZrS5Jmn2SfLSqXte6D43OMKYdlmQXYNequqt1L9JU6ntQ+KOBH/HThyj7fEoNhCRfq6qnT7ymWnAAv8aV5M1JhpK8FvgP4JYkv9+6L2kq9T0Y/Iaq2tMHhUuaSR4Z07iSbKR3hdnngaXAPcBQVR3csi9pOnj0QIMqyd3Axv4SvaO/hzZqSX0cwK+J/KCqhpJ8o6q2ASS5p3VT0lTqe1D4o5McTvfsvqr6WruupCn11NYNaGweGdO4kvwX8AV6j9D4Ar2/pJ5TVXu17EuaSmM8KLx87JcGRZJ3Ax+uqhtb96KHM4xpXEmeN1q9qv51pnuRJO2cJL9J775iC4GPAOdX1ffbdqURhjFNKMnPAEfQu9rsqqr6buOWpCnVd5qy37uArcB7q+qKGW5JmhZJnkwvlB0PfAn4UFWNdmRYM8gwpnF1/5p6K70B/AGeR+/ZfeuaNiZNoe7WFlfRjRXrPMMrKjVIkiwAXkovjB0EfAx4DvDDqjquZW/znWFM40pyM3BkVW3t5vcBvlxVTx5/S2nuSHJNVR0+UU2aq5K8F/gl4FJ6Y8e+2rfsZv+f3pZXU2oiW4H+m7ze1dWkQbJ3klcD3wNuq6rr+emzKqVBcB3wh1X1w1GWHTHTzeihPDKmcSU5F/ifwKfp/eW0mt4f6usAquo97bqTpkaS99F7KPhjgWXA/sDeVbV308akKZIkwMvpnZYs4ItVdWHbrjTCMKZxJTljvOVV9ccz1Ys0U5L8LL0xZDfQGyN5eduOpMlJ8lfAzwHnd6VfA75RVSe360ojDGPaIUkeU1V3t+5DkvTIJfk68NTq/tJP8ihgQ1V5M9hZwGdTalxJfj7JjcDXu/nDun9hSQMjyZOSXJrkhm7+0CR/2LovaQptBB7fN38QD308khoyjGkiZwIvpBu0X1X/Tu9u/NIg+RDwFuBegKq6jt4zWaVBsQdwU5LLk1wO3AjsmWR9kvVtW5NXU2pCVXVbb+zng+5v1Ys0TR5TVV/d7nd+X6tmpGnw1lFqewJ7A5Uk5bilZgxjmshtSY6k94d1EfAm4KbGPUlT7T+TPJHudhZJXgHc3rYlafKSjBbCRrwB+ODIqng7l2YcwK9xJdkX+AvgF+n9Yf0X4E0jN4GVBkGSJwBnA0fSu9fYN4HXVNWmln1Jk5VkGHjvGIvfXFUHzWQ/Gp1hTJI6SXYHHlVVd024sjQHjPckCZ8yMXt4mlKjSnLWeMur6tSZ6kWabtv/3kfGjvk71wBYlGQJ8BPgrqr6Ud8yj8bMEoYxjWU1ow/4lAaRv3cNsouAXYA9kjwW+A/gCuBxLZvSTxnGNJZtVXVO6yakGbLV37sGUVU9rX++u9nrE+jdgX9pktd2i/7WqynbMYxpLP6h1HzylCTXAvcA3wG+BLy/qu5p2pU0xarqAXo3e31Hkq30nsVaeDVlUw7g16iSfK2qnt66D2kmdM+iXAA8GjgAeCW9e4+9pmljkuYFw5hGleR+4IejLQKqqvac4ZakGZXkT6vqD1r3IWnweZpSo6qqBa17kGZKkmfRe2jyXd38nsA/tO1K0nzhkTFJ816Sa4Cnjwxg7gY5D3mqXtJM8EHhktT7h+mD/zLtBjl75kDSjDCMSRLcmuTUJIu615uAW1s3JWl+MIxJUu+ByUcCm7vXM4G1TTuSNG84ZkySJKkhj4xJmveSLElyYZI7u9cnu+f5SdK0M4xJEnwEWE/vhq8HAP/Y1SRp2nmaUtK8l+TaqloxUU2SpoNHxiQJtiZ5TZIF3es1wNbWTUmaHzwyJmne655N+T7g5+k9LPnLwKlV9e2mjUmaFwxjkiRJDXmHaUnzVpKzxlteVafOVC+S5i/DmKT5bDXw1tZNSJrfPE0pad5Kck1VHd66D0nzm1dTSprP/NeopOYMY5IkSQ15mlLSvJXkfuCHoy0Cqqr2nOGWJM1DhjFJkqSGPE0pSZLUkGFMkiSpIcOYJElSQ4YxSXNKklOT3JRkc5K/nMbPOSrJkdO1f0kaYRiTNNe8EXg+cPpU7CzJWE8iOQowjEmadoYxSXNGkg8CTwA+C+zVV1+a5PNJrktyaZLHT1D/aJIPJvkK8GejfM5S4A3A/0lybZLnJvlmkkXd8j1H5pNcnuQvuvVuSHJEt87uSdYl+WqSa5Ksnub/PJLmKMOYpDmjqt4AfAc4Gvhe36L3AedU1aHAecBZE9QBlgBHVtXvjPI5m4APAu+tqhVV9W/A5cBLulWOA/6hqu7t5h9TVSvoHbVb19VOBz5fVUd0/b4rye47+dUlDTDDmKRB8PPA33XTfws8Z4I6wMer6v5H8Bl/A5zYTZ8IfKRv2fkAVfUFYM8kjwNeAJyW5Fp6QW434PGP4PMkzRNjjZWQpEE32p33x1RVX+pOex4FLKiqG/oXb786vbv4/2pV3TypLiUNPI+MSRoEX6Z36hDg1cC/TVDfEXcBe2xXO5fekbaPbFf/NYAkzwG+X1XfBy4GfjtJumWHP4LPljSPGMYkDYLfBk5Mch1wAvCmCeo74h+Bl48M4O9q59G7cOD87da9J8k19MaZndTV/gRYBFyXZEM3L0kP47MpJWkHJXkFsLqqTuirXQ78XlUNNWtM0pzmmDFJ2gFJ3ge8CHhx614kDRaPjEma15KcyMNPX36pqk5u0Y+k+ccwJkmS1JAD+CVJkhoyjEmSJDVkGJMkSWrIMCZJktTQ/wci/ris4i8hjgAAAABJRU5ErkJggg==\n",
      "text/plain": [
       "<Figure size 720x360 with 1 Axes>"
      ]
     },
     "metadata": {
      "needs_background": "light"
     },
     "output_type": "display_data"
    },
    {
     "data": {
      "image/png": "iVBORw0KGgoAAAANSUhEUgAAAX0AAAEICAYAAACzliQjAAAAOXRFWHRTb2Z0d2FyZQBNYXRwbG90bGliIHZlcnNpb24zLjMuNCwgaHR0cHM6Ly9tYXRwbG90bGliLm9yZy8QVMy6AAAACXBIWXMAAAsTAAALEwEAmpwYAAAYnklEQVR4nO3dfZBddX3H8fdHwtOwNJuI3UmT1IWaapFUJFvAh7G7MIYQrKEzSGkzmtDYTC04dpqOhLYUitBGK1LtgzY1qcEH1hTrkEmwNIbsWDrlwUhkE5BmhVDZxqSyIbIYsavf/nF+a262d/feu3v33s3+Pq+ZnXvO7zx97y+7n3P2d8+eKCIwM7M8vKLZBZiZWeM49M3MMuLQNzPLiEPfzCwjDn0zs4w49M3MMuLQNzPLiEPfTkiSXitpt6QXJQ1Iuq3ZNTWCpHZJIWlGs2uxE5ND305UHwR2RsSZwJZmFzNM0kpJD07W+mYT5dC3E9Wrgb2TtXMV/PNh046/qe2EI+kBoAv4G0mDwCkjlv+OpL407LNF0s+VLHuzpEclHUmvby5Z1iPpdkn/DvwAOCddiT+dhpGekbR8jLp+CfgU8CZJg5JeSO0zJd0l6X8kPSvpTyS9Yoz1r5D0mKTvS/qOpFvq03NmDn07AUXEJcC/AddHRAvwo+Flki4B/gK4GpgDPAt0p2WzgW3AJ4BXAh8Dtkl6Zcnu3w2sBs4E/iete3kaRnozsHuMup4Efhf4j4hoiYjWtOivgZnAOcCvAu8Brh1j/ZfSOq3AFcD7JF1ZQxeZjcqhb9PNcmBjRHwjIl4GbqS4km6nCNB9EfHZiBiKiLuBbwG/VrL9ZyJib0QMAUPAT4DzJJ0eEQcioqYhJUknAdcAN0bEixGxH7iD4uRSVkT0RERvRPwkIh4H7qY4WZhNmEPfppufo7i6ByAiBoHngbkjlyXPpmXDvlOy7UvAb1BcjR+QtE3S62qs5yzg5BHHHXnM40i6SNLONBx0JB3/rBqPa1aWQ9+mm/+m+JAXAElnUAzl9I9clvx8WjbsuGeNR8T9EfF2iqGibwH/UOH4I59V/j3gf0cct/SY5Z5t/gWKO5LmR8RMinF/VTiuWVUc+jbd3A1cK+l8SacCfw48nIZV7gN+UdJvSZoh6TeAc4Gt5XYkqU3SsnTieBkYpBjuGctBYJ6kUwAi4sfAZuB2SWdKejXwB8Dnyq2fnAkMRMQPJV0I/FatnWA2Goe+TSsR8VXgJuBLwAHgFyjG1ImI54F3AGsohnw+CLwjIr43yu5eQRHQ/w0MUIyrv69CCQ9Q3Er6XUnD+30/xYezTwMPUlzJbxxj/d8DbpX0IvCnFCcNs7qQ/+csM7N8+ErfzCwjDn2zGkn6VPpjqpFfn2p2bWaVeHjHzCwjVT2pT1Ir8GngPIpbzH4beAr4ItAO7AeujojDkgR8HFhK8afsKyPiG2k/K4A/Sbu9LSI2jXXcs846K9rb22t6Q6VeeuklzjjjjHFvP1lcV21cV21cV22mY127du36XkS8quzCiKj4BWwC3pumT6H48/CPAGtT21rgw2l6KfAVivuKL6a4XQ5gNsXdC7OBWWl61ljHXbRoUUzEzp07J7T9ZHFdtXFdtXFdtZmOdQFfj1FyteKYvqSZwNuADekk8aOIeAFYlk4GwyeFK9P0MuCudOyHgFZJc4DLgO0RMRARh4HtwJJKxzczs/qpOKYv6XxgPfAE8AZgF/ABoD/SA6LSkM7hiGiVtBVYFxEPpmU7gBuATuC0iLgttd8EHI2Ij4443mqKB17R1ta2qLu7e9xvbnBwkJaWlnFvP1lcV21cV21cV22mY11dXV27IqKj3LJqxvRnABcA74+IhyV9nGI456ciIiTV5RPhiFhPcZKho6MjOjs7x72vnp4eJrL9ZHFdtXFdtXFdtcmtrmpu2XwOeC4iHk7z91CcBA6mYRvS66G0vB+YX7L9vNQ2WruZmTVIxdCPiO8C35H02tR0KcVQzxZgRWpbAdybprcA70n/89DFwJGIOADcDyyWNEvSLGBxajMzswap9j9Xfj/w+fRQqKeBaylOGJslraJ4VOzVad37KO7g6aO4ZfNagIgYkPQh4NG03q0RMVCXd2FmZlWpKvQjYjdQ7kOBS8usG8B1o+xnI8ceNGVmZg3mxzCYmWXEoW9mlpFqx/StDtrXbgNgzcIhVqZpgP3rrmhWSWaWGV/pm5llxKFvZpYRh76ZWUYc+mZmGXHom5llxKFvZpYRh76ZWUYc+mZmGXHom5llxKFvZpYRh76ZWUYc+mZmGXHom5llxKFvZpYRh76ZWUYc+mZmGXHom5llxKFvZpYRh76ZWUYc+mZmGXHom5llxKFvZpYRh76ZWUYc+mZmGakq9CXtl9Qrabekr6e22ZK2S9qXXmeldkn6hKQ+SY9LuqBkPyvS+vskrZict2RmZqOp5Uq/KyLOj4iONL8W2BERC4AdaR7gcmBB+loNfBKKkwRwM3ARcCFw8/CJwszMGmMiwzvLgE1pehNwZUn7XVF4CGiVNAe4DNgeEQMRcRjYDiyZwPHNzKxGiojKK0nPAIeBAP4+ItZLeiEiWtNyAYcjolXSVmBdRDyYlu0AbgA6gdMi4rbUfhNwNCI+OuJYqyl+Q6CtrW1Rd3f3uN/c4OAgLS0t496+3nr7jwDQdjocPHqsfeHcmU2q6HhTrb+Gua7auK7aTMe6urq6dpWMyhxnRpX7eGtE9Ev6WWC7pG+VLoyIkFT57FGFiFgPrAfo6OiIzs7Oce+rp6eHiWxfbyvXbgNgzcIh7ug91vX7l3c2qaLjTbX+Gua6auO6apNbXVUN70REf3o9BHyZYkz+YBq2Ib0eSqv3A/NLNp+X2kZrNzOzBqkY+pLOkHTm8DSwGNgDbAGG78BZAdybprcA70l38VwMHImIA8D9wGJJs9IHuItTm5mZNUg1wzttwJeLYXtmAF+IiH+R9CiwWdIq4Fng6rT+fcBSoA/4AXAtQEQMSPoQ8Gha79aIGKjbOzEzs4oqhn5EPA28oUz788ClZdoDuG6UfW0ENtZeppmZ1YP/ItfMLCMOfTOzjDj0zcwy4tA3M8uIQ9/MLCMOfTOzjDj0zcwy4tA3M8uIQ9/MLCMOfTOzjDj0zcwy4tA3M8uIQ9/MLCMOfTOzjDj0zcwy4tA3M8uIQ9/MLCMOfTOzjDj0zcwy4tA3M8uIQ9/MLCMOfTOzjDj0zcwy4tA3M8uIQ9/MLCMOfTOzjDj0zcwyUnXoSzpJ0mOStqb5syU9LKlP0hclnZLaT03zfWl5e8k+bkztT0m6rO7vxszMxlTLlf4HgCdL5j8M3BkRrwEOA6tS+yrgcGq/M62HpHOBa4DXA0uAv5N00sTKNzOzWlQV+pLmAVcAn07zAi4B7kmrbAKuTNPL0jxp+aVp/WVAd0S8HBHPAH3AhXV4D2ZmViVFROWVpHuAvwDOBP4QWAk8lK7mkTQf+EpEnCdpD7AkIp5Ly74NXATckrb5XGrfkLa5Z8SxVgOrAdra2hZ1d3eP+80NDg7S0tIy7u3rrbf/CABtp8PBo8faF86d2aSKjjfV+muY66qN66rNdKyrq6trV0R0lFs2o9LGkt4BHIqIXZI6x1VBDSJiPbAeoKOjIzo7x3/Inp4eJrJ9va1cuw2ANQuHuKP3WNfvX97ZpIqON9X6a5jrqo3rqk1udVUMfeAtwDslLQVOA34G+DjQKmlGRAwB84D+tH4/MB94TtIMYCbwfEn7sNJtzMysASqO6UfEjRExLyLaKT6IfSAilgM7gavSaiuAe9P0ljRPWv5AFGNIW4Br0t09ZwMLgEfq9k7MzKyiaq70R3MD0C3pNuAxYENq3wB8VlIfMEBxoiAi9kraDDwBDAHXRcSPJ3B8MzOrUU2hHxE9QE+afpoyd99ExA+Bd42y/e3A7bUWaWZm9eG/yDUzy4hD38wsIxMZ07cTSHu6XXSk/euuaHAlZtZMvtI3M8uIQ9/MLCMOfTOzjDj0zcwy4tA3M8uIQ9/MLCMOfTOzjDj0zcwy4tA3M8uIQ9/MLCMOfTOzjDj0zcwy4tA3M8uIQ9/MLCMOfTOzjDj0zcwy4tA3M8uIQ9/MLCMOfTOzjDj0zcwy4tA3M8uIQ9/MLCMOfTOzjFQMfUmnSXpE0jcl7ZX0Z6n9bEkPS+qT9EVJp6T2U9N8X1reXrKvG1P7U5Ium7R3ZWZmZVVzpf8ycElEvAE4H1gi6WLgw8CdEfEa4DCwKq2/Cjic2u9M6yHpXOAa4PXAEuDvJJ1Ux/diZmYVVAz9KAym2ZPTVwCXAPek9k3AlWl6WZonLb9UklJ7d0S8HBHPAH3AhfV4E2ZmVh1FROWViivyXcBrgL8F/hJ4KF3NI2k+8JWIOE/SHmBJRDyXln0buAi4JW3zudS+IW1zz4hjrQZWA7S1tS3q7u4e95sbHBykpaVl3NvXW2//EQDaToeDR4+1L5w7s2HHHqn02FOtv4a5rtq4rtpMx7q6urp2RURHuWUzqtlBRPwYOF9SK/Bl4HXjqqS6Y60H1gN0dHREZ2fnuPfV09PDRLavt5VrtwGwZuEQd/Qe6/r9yzsbduyRSo891fprmOuqjeuqTW511XT3TkS8AOwE3gS0ShpOrnlAf5ruB+YDpOUzgedL28tsY2ZmDVDN3TuvSlf4SDodeDvwJEX4X5VWWwHcm6a3pHnS8geiGEPaAlyT7u45G1gAPFKn92FmZlWoZnhnDrApjeu/AtgcEVslPQF0S7oNeAzYkNbfAHxWUh8wQHHHDhGxV9Jm4AlgCLguDRuZmVmDVAz9iHgceGOZ9qcpc/dNRPwQeNco+7oduL32Ms3MrB78F7lmZhlx6JuZZcShb2aWEYe+mVlGHPpmZhlx6JuZZcShb2aWEYe+mVlGHPpmZhlx6JuZZcShb2aWEYe+mVlGHPpmZhlx6JuZZcShb2aWEYe+mVlGHPpmZhlx6JuZZcShb2aWEYe+mVlGHPpmZhlx6JuZZcShb2aWEYe+mVlGHPpmZhlx6JuZZcShb2aWkYqhL2m+pJ2SnpC0V9IHUvtsSdsl7Uuvs1K7JH1CUp+kxyVdULKvFWn9fZJWTN7bMjOzcqq50h8C1kTEucDFwHWSzgXWAjsiYgGwI80DXA4sSF+rgU9CcZIAbgYuAi4Ebh4+UZiZWWNUDP2IOBAR30jTLwJPAnOBZcCmtNom4Mo0vQy4KwoPAa2S5gCXAdsjYiAiDgPbgSX1fDNmZjY2RUT1K0vtwNeA84D/iojW1C7gcES0StoKrIuIB9OyHcANQCdwWkTcltpvAo5GxEdHHGM1xW8ItLW1Leru7h73mxscHKSlpWXc29dbb/8RANpOh4NHj7UvnDuzYcceqfTYU62/hrmu2riu2kzHurq6unZFREe5ZTOq3YmkFuBLwO9HxPeLnC9EREiq/uwxhohYD6wH6OjoiM7OznHvq6enh4lsX28r124DYM3CIe7oPdb1+5d3NuzYI5Uee6r11zDXVRvXVZvc6qrq7h1JJ1ME/ucj4p9T88E0bEN6PZTa+4H5JZvPS22jtZuZWYNUc/eOgA3AkxHxsZJFW4DhO3BWAPeWtL8n3cVzMXAkIg4A9wOLJc1KH+AuTm1mZtYg1QzvvAV4N9AraXdq+yNgHbBZ0irgWeDqtOw+YCnQB/wAuBYgIgYkfQh4NK13a0QM1ONNmJlZdSqGfvpAVqMsvrTM+gFcN8q+NgIbaynQzMzqx3+Ra2aWEYe+mVlGHPpmZhlx6JuZZcShb2aWEYe+mVlGHPpmZhlx6JuZZcShb2aWEYe+mVlGHPpmZhlx6JuZZcShb2aWEYe+mVlGHPpmZhlx6JuZZcShb2aWkWr+u0SzitrXbivbvn/dFdPyuGYnKl/pm5llxKFvZpYRh76ZWUYc+mZmGXHom5llxHfvTILR7igxM2s2h37mSk9QaxYOsTLN+5ZHs+nJwztmZhlx6JuZZaRi6EvaKOmQpD0lbbMlbZe0L73OSu2S9AlJfZIel3RByTYr0vr7JK2YnLdjlq/2tdtoX7uN3v4jP53250s2UjVX+p8BloxoWwvsiIgFwI40D3A5sCB9rQY+CcVJArgZuAi4ELh5+ERhZmaNUzH0I+JrwMCI5mXApjS9CbiypP2uKDwEtEqaA1wGbI+IgYg4DGzn/59IzMxskikiKq8ktQNbI+K8NP9CRLSmaQGHI6JV0lZgXUQ8mJbtAG4AOoHTIuK21H4TcDQiPlrmWKspfkugra1tUXd397jf3ODgIC0tLePefrx6+4+MubztdDh49Nj8wrkzJ7miyjXB8XXVWtNo+6/Hexvr33Eyj1tJs76/RjPcF834/qrGVOuvYdOxrq6url0R0VFu2YRv2YyIkFT5zFH9/tYD6wE6Ojqis7Nz3Pvq6elhItuP18oK46hrFg5xR++xrt+/vHOSK6pcExxfV601jbb/ery3sf4dJ/O4lTTr+2s0w33RjO+vaky1/hqWW13jvXvnYBq2Ib0eSu39wPyS9ealttHazcysgcZ7pb8FWAGsS6/3lrRfL6mb4kPbIxFxQNL9wJ+XfHi7GLhx/GVPL34mvJk1SsXQl3Q3xZj8WZKeo7gLZx2wWdIq4Fng6rT6fcBSoA/4AXAtQEQMSPoQ8Gha79aIGPnhsJmZTbKKoR8RvznKokvLrBvAdaPsZyOwsabqzMysrvzsHZuWPGRmVp4fw2BmlhGHvplZRhz6ZmYZceibmWXEoW9mlhHfvVMF3wliZtOFr/TNzDLi0Dczy4iHd6YwDyuZWb059K0pfEIzaw4P75iZZcRX+paVsf6jcP+WYTlw6JudYMY6cZlV4uEdM7OMOPTNzDLi4Z0SJ/qvzSd6/WY2+Rz6NqWUO3GtWThEZ+NLaRjfvmqN5NA3Sxy+lgOP6ZuZZcRX+mbj1Nt/hJVlfjsY7TcDf+ZiU4Gv9M3MMuIrfZtUvro1m1oc+laWP9Q0m54c+mZ1dqL8duPnEOXJoW82zZ0oJyFrjCxD3z8EZparht+9I2mJpKck9Ula2+jjm5nlrKGhL+kk4G+By4Fzgd+UdG4jazAzy1mjh3cuBPoi4mkASd3AMuCJBtdhZuNwot/VleOznUZSRDTuYNJVwJKIeG+afzdwUURcX7LOamB1mn0t8NQEDnkW8L0JbD9ZXFdtXFdtXFdtpmNdr46IV5VbMOU+yI2I9cD6euxL0tcjoqMe+6on11Ub11Ub11Wb3Opq9Ae5/cD8kvl5qc3MzBqg0aH/KLBA0tmSTgGuAbY0uAYzs2w1dHgnIoYkXQ/cD5wEbIyIvZN4yLoME00C11Ub11Ub11WbrOpq6Ae5ZmbWXH60splZRhz6ZmYZmZahP1Uf9SBpv6ReSbslfb2JdWyUdEjSnpK22ZK2S9qXXmdNkbpukdSf+my3pKVNqGu+pJ2SnpC0V9IHUntT+2yMupraZ5JOk/SIpG+muv4stZ8t6eH0c/nFdDPHVKjrM5KeKemv8xtZV0l9J0l6TNLWND85/RUR0+qL4gPibwPnAKcA3wTObXZdqbb9wFlToI63ARcAe0raPgKsTdNrgQ9PkbpuAf6wyf01B7ggTZ8J/CfFY0Sa2mdj1NXUPgMEtKTpk4GHgYuBzcA1qf1TwPumSF2fAa5q5vdYqukPgC8AW9P8pPTXdLzS/+mjHiLiR8Dwox4siYivAQMjmpcBm9L0JuDKRtYEo9bVdBFxICK+kaZfBJ4E5tLkPhujrqaKwmCaPTl9BXAJcE9qb0Z/jVZX00maB1wBfDrNi0nqr+kY+nOB75TMP8cU+EFIAvhXSbvS4yamkraIOJCmvwu0NbOYEa6X9Hga/mn4sFMpSe3AGymuEqdMn42oC5rcZ2moYjdwCNhO8dv3CxExlFZpys/lyLoiYri/bk/9daekUxtdF/BXwAeBn6T5VzJJ/TUdQ38qe2tEXEDxlNHrJL2t2QWVE8Xvk1PiCgj4JPALwPnAAeCOZhUiqQX4EvD7EfH90mXN7LMydTW9zyLixxFxPsVf3V8IvK7RNZQzsi5J5wE3UtT3K8Bs4IZG1iTpHcChiNjViONNx9Cfso96iIj+9HoI+DLFD8NUcVDSHID0eqjJ9QAQEQfTD+pPgH+gSX0m6WSKYP18RPxzam56n5Wra6r0WarlBWAn8CagVdLwH4Q29eeypK4laZgsIuJl4B9pfH+9BXinpP0Uw9GXAB9nkvprOob+lHzUg6QzJJ05PA0sBvaMvVVDbQFWpOkVwL1NrOWnhkM1+XWa0GdpfHUD8GREfKxkUVP7bLS6mt1nkl4lqTVNnw68neLzhp3AVWm1ZvRXubq+VXLiFsW4eUP7KyJujIh5EdFOkVcPRMRyJqu/mv2J9WR8AUsp7mT4NvDHza4n1XQOxZ1E3wT2NrMu4G6KX/v/l2KscBXFGOIOYB/wVWD2FKnrs0Av8DhFyM5pQl1vpRi6eRzYnb6WNrvPxqirqX0G/DLwWDr+HuBPU/s5wCNAH/BPwKlTpK4HUn/tAT5HusOnGV9AJ8fu3pmU/vJjGMzMMjIdh3fMzGwUDn0zs4w49M3MMuLQNzPLiEPfzCwjDn0zs4w49M3MMvJ/SdyVQa9fqy0AAAAASUVORK5CYII=\n",
      "text/plain": [
       "<Figure size 432x288 with 1 Axes>"
      ]
     },
     "metadata": {
      "needs_background": "light"
     },
     "output_type": "display_data"
    },
    {
     "data": {
      "image/png": "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\n",
      "text/plain": [
       "<Figure size 432x288 with 1 Axes>"
      ]
     },
     "metadata": {
      "needs_background": "light"
     },
     "output_type": "display_data"
    },
    {
     "data": {
      "image/png": "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\n",
      "text/plain": [
       "<Figure size 432x288 with 1 Axes>"
      ]
     },
     "metadata": {
      "needs_background": "light"
     },
     "output_type": "display_data"
    }
   ],
   "source": [
    "print(data.shape[0])\n",
    "data.hist('last_price', bins=50, range=(0, 100000000))\n",
    "data.hist('total_area', bins=50, range=(0, 300))\n",
    "data.hist('living_area', bins=50, range=(0, 200))\n",
    "data.hist('kitchen_area', bins=50, range=(0, 100))\n",
    "data.hist('rooms', bins=50, range=(0, 20))\n",
    "data.hist('ceiling_height', bins=50, range=(0, 5))\n",
    "data1=data.pivot_table(index='floor_type', values='rooms', aggfunc='count')\n",
    "data1.columns=['count']\n",
    "data1 = data1.sort_values('count').plot(y='count', figsize=(10, 5), kind='bar')\n",
    "data.hist('floors_total', bins=50, range=(0, 40))\n",
    "data.hist('cityCenters_nearest', bins=50, range=(0, 100000))\n",
    "data.hist('parks_nearest', bins=50, range=(0, 4000))\n",
    "data=data.query('last_price>20000')\n",
    "data=data.query('rooms!=0')\n",
    "data=data.query('ceiling_height < 3.75 or ceiling_height.isna()')\n",
    "data=data.query('total_area < 175')\n",
    "print(data.shape[0])"
   ]
  },
  {
   "cell_type": "markdown",
   "metadata": {},
   "source": [
    "Аномальные значения:\n",
    "1)В данных встречается квартира, стоимостью примерно 12500 рублей. Вероятнее всего, эта квартира не продаются, а снимается. эту кквартиру нужно убрать их данных.\n",
    "2)В столбце 'rooms' встречаются значения равные 0. Поскольку количество комнат не может быть равно 0, такие значения стоит удалить."
   ]
  },
  {
   "cell_type": "code",
   "execution_count": 10,
   "metadata": {},
   "outputs": [
    {
     "name": "stdout",
     "output_type": "stream",
     "text": [
      "Среднее значение для количества дней размещения объявления состовляет: 179.67281105990784\n",
      "Медианное значение для количества дней размещения объявления состовляет: 95.0\n"
     ]
    },
    {
     "data": {
      "image/png": "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\n",
      "text/plain": [
       "<Figure size 432x288 with 1 Axes>"
      ]
     },
     "metadata": {
      "needs_background": "light"
     },
     "output_type": "display_data"
    }
   ],
   "source": [
    "data.hist('days_exposition', bins=50, range=(0, 1000))\n",
    "print('Среднее значение для количества дней размещения объявления состовляет:', data['days_exposition'].mean())\n",
    "print('Медианное значение для количества дней размещения объявления состовляет:', data['days_exposition'].median())"
   ]
  },
  {
   "cell_type": "markdown",
   "metadata": {},
   "source": [
    "Как быстро продаются квартиры:\n",
    "Для выявления, сколько времени обычно занимает продажа, нужно взять медианое значение, равное 96. Медленными продажами считаются те продажи, которые были проданы за более чем 400 дней. Аномально быстрых продаж нет."
   ]
  },
  {
   "cell_type": "code",
   "execution_count": 11,
   "metadata": {},
   "outputs": [
    {
     "data": {
      "image/png": "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\n",
      "text/plain": [
       "<Figure size 432x288 with 1 Axes>"
      ]
     },
     "metadata": {
      "needs_background": "light"
     },
     "output_type": "display_data"
    },
    {
     "data": {
      "image/png": "iVBORw0KGgoAAAANSUhEUgAAAYoAAAEHCAYAAACwUAEWAAAAOXRFWHRTb2Z0d2FyZQBNYXRwbG90bGliIHZlcnNpb24zLjMuNCwgaHR0cHM6Ly9tYXRwbG90bGliLm9yZy8QVMy6AAAACXBIWXMAAAsTAAALEwEAmpwYAABKTklEQVR4nO2de3xcZZn4v8+cmUzTpLTZFAI0LRRLxVJolcjFArZFXeRS3AVRAXFdhF0XkB8i1F0XUdBdK+KuiAtWZAVFym0VKHhB2gKtbbGVAm1FCNemhQKhlKZNJzNnnt8fM5PO5cw1c02e74d8yJw57znPnE7e532fq6gqhmEYhpENX60FMAzDMOobUxSGYRhGTkxRGIZhGDkxRWEYhmHkxBSFYRiGkRN/rQUYKuPHj9cDDzyw6HE7d+6kpaWl/AJVmEaU22SuDo0oMzSm3MNB5rVr176lqnsXNFhVG/rniCOO0FJYunRpSeNqTSPKbTJXh0aUWbUx5R4OMgNrtMB51kxPhmEYRk5MURiGYRg5MUVhGIZh5MQUhWEYhpETUxSGYRhGTiqqKETkFhF5Q0TWe7x3mYioiIyPvxYRuV5EukXkaRH5QCVlqzW9fSGe2vQOvX2hosb0h92ixhiGYQyVSu8ofgacmH5QRCYCHwNeTTr8ceDg+M8FwI0Vlq1m3LduM7MWLOGcm1cza8ES7l+3ueAxL725s+AxhmEY5aCiikJVHwPe9njrv4ArgOQa56cBt8VDfFcB40Rkv0rKVwt6+0LMv/dpdoej7AhF2B2OcsW9T+fcJSSPcVULGmMYhlEuRCvcj0JEDgQWq+r0+OvTgLmqeomIvAx0qepbIrIY+I6qLo+f9wgwX1XXeFzzAmK7Djo6Oo5YtGhR0XL19fXR2tpa4qcqnf6wy0tv7sRNeu6OCJP3bqE54OQd09EMW/vzj6knavWsh4LJXD0aUe7hIPOcOXPWqmpXIWOrWsJDREYD/0bM7FQyqroQWAjQ1dWls2fPLvoay5Yto5RxQ6W3L8SlC5awOxwdPDYq4GPFvGNpbw3mHXPZYRGue8afd0w9UatnPRRM5urRiHKPNJmrHfX0HmAy8FR8N9EJ/FlE9gU2AxOTzu2MHxtWtLcG+e7phzMq4GNMMDbhf/f0w3NO+MljHJGCxhiGYZSLqu4oVPUZYJ/E6zTT0/3ARSKyCDgK2K6qr1VTvmoxb+YEZk0ZT8+2fjrbmgua8BNjnli5vGF2EoZhDA8qqihE5A5gNjBeRHqAq1T1p1lOfwg4CegGdgGfr6Rstaa9NVj0ZN/eGqQ54JiSMAyjqlRUUajqZ/K8f2DS7wpcWEl5DMMwjOKxzGzDMAwjJ6YoDMMwjJyYojAMwzByYorCMAzDyIkpCsMwDCMnpigMwzCMnJiiMAzDMHJiisIwDMPIiSkKwzAMIyemKKpAqd3sih1jGIZRCapaFHAkct+6zcy/92kCPh/haJTvnn4482ZOKPsYwzCMSmE7igoy1G526WOsZ7ZhGLXAFEUF6dnWT8CX+ogDPh892/qLHnP76lc9e2YXaqIyU5ZhGKVipqcK0tnWTDgaTTkWikRpacrevrSzrZndETflWH84wo+WdhOKpPbM3rE7wjUPbsxrojJTlmEYQ8F2FBUk0Zku4MjgsQE3yok/eGxwR+BFeh9zVVKuAbGe2d9cvDGvWasU85dhGEYypigqzKwp45G0Y5EoXH7PU56Tdc+2fpoDqRu9UQGHATdVeYTdKE1pysPLrFWK+cswDCMZUxQVpmdbP37H4zGrsGHLuxmHvcxVripXnTptsGd20O/jvGMnE05XHtEonW3Nea/ndZ5hGEY2TFFUmM62ZtyoZhwPuVHOv20NCx97gXvWbKJ76w5gj7lqVMDHmKCfUQEf3z39cM4+6gBWzJ/L+DFBQPnFqldxo1ECjqScl94mNdv1rJ2qYRiFYs7sCtPeGuTaMw7nsrufytgBhCJR/uOhZwdfn3vMJK4+7TDmzZzArCnj6dnWT2dbc8qk/uaOEKGIQygSASDohx+d/X4O3X9s1sk/1/UMwzDyYTuKKjBv5gRW/esJnP7+/XOed9vKV1N2FjMmjkuZ1Hu29Wf4O5och7HNTXknf6/rGYZhFEJFFYWI3CIib4jI+qRj14rIsyLytIj8SkTGJb33ryLSLSJ/FZG/raRstWDxM6/lPWfdpncGf0/PfehsaybdiGX+BsMwKk2ldxQ/A05MO/YwMF1VDweeA/4VQESmAZ8GDo2P+R8RyZ5w0GD0bOunycn/cWZOHAfEch9mLVjCOTevHkywa28N0tnWPOhvCPp9XDh7SoUlNwxjpFNRRaGqjwFvpx37vapG4i9XAZ3x308DFqlqSFVfArqBIyspXzXpbGtmwHVznnPuMZOY0jEmZ+7D2OYAK+bP5fzjDwKUhY+9mJKpbRiGUW4kPbmr7DcQORBYrKrTPd57ALhTVX8hIjcAq1T1F/H3fgr8RlXv8Rh3AXABQEdHxxGLFi0qWq6+vj5aW1uLHjcU3tgRYuu7uzOOC4AIE9uaGdscoD/s8tKbO3GT/m0cESbv3YIb6qd5dAvPvr6DaNL7PhEO2XcMji/di1F7avGsh4rJXD0aUe7hIPOcOXPWqmpXIWNrFvUkIl8DIsDtxY5V1YXAQoCuri6dPXt20fdftmwZpYwbCr19IY75z0cykucSNPkjPHTx0bS1NHHpgiXsDu/JfxgV8LFi3rE8s2Ylbe+ZyU2PrmZHKDL4/pign18c935mxE1X9UQtnvVQMZmrRyPKPdJkrknUk4j8A3AKcLbu2dJsBiYmndYZPzZsWN79VlYlATAQiXLS9Y+zovutnLkPlkRnGEY1qfqOQkROBK4APqyqu5Leuh/4pYh8H9gfOBh4otryVYrevhCX370u73kDrnLFvU+zYv5cVsyf65n7kEiiuyKt0J+FvhqGUQkqqihE5A5gNjBeRHqAq4hFOQWBh0UEYn6Jf1bVDSJyF7CRmEnqQlXN7f1tIGI5ED4gmvdcATZs2c7xU/exJDrDMGpORRWFqn7G4/BPc5z/beDblZOodnS2NROJ5lcSAP3hKJ//3z/xX5+ambMceHtrcEgKorcvZIrGMIy8WAmPKuLzCW4OH0UyrsYqzM6aMr4ik3hyj4oB1+WiOQdz1lGTTGEYhpGBlfCoEhu2vJtR7jsfglSkHHh6nkYoolz38HN86DuWj2EYRiamKKrAfes2c/5ta9gVLs7lsjsS5bcbXkvpW+FGNWtL00LbnXr1qIBYkcKv3PP0YL0pwzAMMNNTxUms3kOR7P6JJr+PT3+wkzue2JRRYfbGZS9yy/KXufaMw1Gg5/Ud3PjoKgbcWI+Ks486ACiu3alXeG2CgUiUj1//GF+aO9VMUYZhALajqDjZVu8JAg48dPGxXH3aYfz0cx9klN97pX/Z3U9xxT1PEVWlL+QyEInytV+t5/ZVrxTd7jQRXhv0e2dxh13MFGUYxiCmKCpIb1+I7f1hdkeym5y+NHcqUzrGAPDsa++yO8vOI+wqklFkHL75wAY2bNmetd1pNnPUvJkT+ONXT+Cyj06lyasDHzEFVcn+2oWayso91jCM4jDTU4VImIIckQxzUoKg38dZR00C4PZVr/Afv3nW87wEA26mEgk4PkA8M7XXb97OpxauzGqOam8NcvEJB3PMQX/Dp3+yCi8dlVA45TZBFWMqK+dYwzCKx3YUFSDZFLRzIPtu4qI5U2hvDdLbF+Kbizfmva6XoSgSb7N65SnTUkp+XHnKNK55cGNec9R96zZzzi1PePf1BgZct+ylQYo1lZVrrGEYpWE7ijKRnLyW8EvszpGF3eQwuJuI9aoQBiJZTwdgdJOfvcc4NDlRAo6PATeKG41y4e1/JhyNcuXJ05g+YWxWGdJ3B8mTbgInro0Sm6Coworut8q6Yi9EtkqMNQyjNGxHUQbSmwyt37I9a1RRgqtOnZ5S5C+xM8hFOBpl79YgK//1BG485wP4BCJRBlfW1zy4cTDLupDCgV6O9lEBByfpWDhee6qcK/ahFDW0goiGUX1MUeSgEIeplynk6gc28vkPHUjQ72NUIPMRtwQdpk8YO/i6vTXIladMo8nxjkJqCTqDFWQdn9DeGmRsc1NGxzzHtydBLxHZlF6BFhj8TJ6TrhulKS0aKrFiL/UZpZNNtkJ2BEMZaxhGaZjpKQuFOEx7+0IsffYN/GnNgkKRKLf+8RUibhSvjYIbVTrbmgfNVes3b+eaBzfGmg6lOb6bA8J5syYzb8b+TOkYw7JlzwPeK+udIZf1m7cP9qRILxy4vPstZi1YkvKZ0qvQfvkjU/new8+lXDfbin0oTuWhFDW0goiGUV1MUXiQvEtI2MKvuPfplLpLyVFNXg7rbFnYfp/w5Y9M5bfrX+ebD2wg4Ag7B7KbqfrDyk2PvsBNj77AVaceSmIaTuxCvvar9SnnX/PgRk6cvu+gnInCgdk+U3I584TCkniLkMRuyGvFXsgzSpzXH3bp7QtlXGMoRQ2HWhDRMIzCMdOTB162+2TzS7aopuZAqinIi0hU+Y/fPMvXfr2eAVdzKokEA64y4Cpf+/V63t45MHh8+v5jaWlKvWc2M1Guz5TwaSSipELxXU00qiy+6FjPXUK+ZwR7fDcvvbnT+nobRgNjisKDfA5Tr0mypcnhojnvwcMlUVa2bN896A/wKl2ekDPdd1DKZwr6nazhvfmul6xMXdWyh7Fawp1hVA9TFB7kc5h6TZKhiMv1S7rx+bwd0oVQyD+GwOCqfXn3Wyk+EL8vZiZK+CISUVj3r9tc0mfKFU2U73qF7DhKnezTo8zqbadiSswYbpiPIgu5HKbprUgHXJeokrPwXyEUOjqxY5h/79MpWd+Oz8e0/fbilBuWp/gOLr1rHS1NTlGfKb29qleTo1zXy6d4SnWEF+obqRWWNW4MR0xR5CCXwzR5ktzeP8CFtz9J2M2TMVcGVJUV3W8xbnQTvrRc7SbHx7pN72QkpLlROO+2tRw3pZ2ff+Hootur5pr8sj2jZMXjiKTsOIYy2ddzwl29KzHDKBVTFEMgOaIoX4JduVDgy3etw/H5MnYw4WiUmRPHZZXl8e5e1rzUS9fkds/3vXYNXpPf5fcUNvklFM8TK5ezYt6xGWap5MneEWHps28w55DsfcKhvhPu6lmJGcZQqKiPQkRuEZE3RGR90rG/EZGHReT5+P/b4sdFRK4XkW4ReVpEPlBJ2cpJur0+6PcV7G8A8EuspIdToH8jEs00cwX9wndPP5wpHWM484jOrGMfe/4tz+PZ7P5evoZQJMovV79akKztrUGaA05es9TOAZdvPLAhr8+hvTXImV2pn+/Mrs66mIg725rpD6fuKvvDkbpQYoYxFCrtzP4ZcGLasa8Cj6jqwcAj8dcAHwcOjv9cANxYYdkKxss5mX5s3swJrJg/l1984Sh+cm4XQY++El74IO4AF84+amLB45IZ3eTwk3O7mDdzAr19Ie5a25P13OMPHp9xLFehvc62Zs+qtTcsfb5kZ22yYk0O7+0LuXmjo3r7Qty1JvXz3bWmp24cxyKS87VhNCIVVRSq+hjwdtrh04Bb47/fCnwi6fhtGmMVME5E9qukfIXgtdLOtvpubw0yY+I4Nr29i/4CHNtKzIGdyJP45epX+buZ+2ecF/QLTY4wJujHJ0IgrdSHG1VABk1HudiyfXfGsXw5FhfNmZIxpslxUvJKio3ySSjWb847lNZgYbkg+WStNT3b+hnlT/0so/xOXchmGEOhFj6KDlV9Lf7760BH/PcJwKak83rix16jRmSzz4MSiqinw7J7646CSoZ7EYnCojVeuwHhoS8dy84BlxeefgLV8OA7jk9SKsj+03EHpVSDTcfLuZrP7n/WUZO4YenzhCKa8f5QonzaW4PMOWQf/v2+1OzyXD6HevZR1LNshjEURDV/1dIh3UDkQGCxqk6Pv35HVcclvb9NVdtEZDHwHVVdHj/+CDBfVdd4XPMCYuYpOjo6jli0aFHRcvX19dHa2prznP6wy0tv7sRNeka+uCkhmnTMEWHy3i0MRKJs2tZPuZ9px16j2GdMEDeqvP3Ou7w+hAVqQtb0LPLt/WF6tvUjxHY6nW3NjG0O5Hy/Nejn2dd3pDwLnwiH7Dsmxd+S71nnu/dQzy+FQr4ftZItG6XKXGsaUe7hIPOcOXPWqmpXIWNrsaPYKiL7qeprcdPSG/Hjm4GJSed1xo9loKoLgYUAXV1dOnv27KKFWLZsGfnG9faFuHTBkpQVesyHoCmr61EBH4tPODKev5C/jEcx+AVWf2027a1Bntr0Dn99/DGue6b0e4wK+FIikJLxinrK9f5Tm97hpkdXsyO0x4E7JujnF8e9f7AwIRT+rIsp8lfs+cVSiMzZqLRs2RiKzLWkEeUeaTLXQlHcD3wO+E78//clHb9IRBYBRwHbk0xUNSFbEhqQcWzngJu3WVEpnH/8QSnZ08Ve3fHFoquaA/6MJLp08hXaS3+/nFE+xRb5q+eigPUsm2GUQkUVhYjcAcwGxotID3AVMQVxl4icB7wCnBk//SHgJKAb2AV8vpKyFUq2JLT0Y7EqqUNLuEuYKxIEHOELxx2UelIRZq0mv4+HLj4WgHWb3uHA9tEE/I5nJddSiUX1aNrrkUWuHUQhu4ta7UAMo1AqqihU9TNZ3jrB41wFLqykPKXitUJMPtbbF2LDlneHfB+/I6CxXYCr8I1TD025b8+2/kEfiRdNjjDgKkFHEF8sr2LDa+8y/96nAdgdjqa8V2xpifQJLRHlk5yRnojySX422cqMl4tSJtpyTc65nPmFOPqt5IfRCFhm9hBJ/KGLxqKWhkLYVRwgHI35Qq55cCNjRvkHJ47OtmZy7ScG4nWfVIQHLzqWtpYmZqX5WEKuQry9aTGlJbwmtFlTxhdUz+lL7wtz6YIlFZkES5loyzU55yrZAeQt52ElP4xGwarHFklyzkDyH3oheROFkCjqHYpEU5LPEivgjr3yTyBBx8fOATdn/H4xuQfZEvKArBVkK11mPJdcxbauLVWuXDkdheR71HNOiGEkYzuKIkhfiV44ewpOhW3yPhFuX/0q/7OsG0eEL743hN/nz7l7Sazqt+0cyJpTMeBG2d4fLsgklKuG0byZE5i2316s2/QOMyeOY0rHmLxjyrVaLuUe5ZQrX95EvpwKy7swGgXbURSI10r0hqXdDLjejX3Kxa4Bl/9++LnBbnpKbhNX0O/j8x86kA1b3uXeP3uX8nB8QsSN8i+3ry2on0OuCe2+dZs55YblfPOBjZxyw/LBa1VjEizlHuWUK1dPjnz9OvKNN4x6wnYUBeK1Em1yfJz+gYn8bOUrGef7fUIkWp7Eu3xGLQGa/MIJh+zD7zdu5cZHX+TGR1/0PNcniZIfsdpKkN8unitMOJeNPVuZ8XKRr4dGKWMSJj63wH+7XD05cr1XzDmGUWtMUcTJFwWTbSU693378MsnXiG9Y2jAEdyo5nQ+lwsFPnfMgfzsjy/nd6h7COT4JK/pxWtCe8qj90WyGSdbmfFyUspEW0jfjX9+b4id6zYX5OROj4BLvm4hORWWd2HUO6YoKCwKJttKdNPb/RlKAqA/R72lBI4IPoFwGXYeP3n8pbxKqcnx4ffBrjTZQmGX7f0Def0VXgl36aa3dDOOV5nxclPKRJs+Jj0CKarliQyrdKhrsmIyjEox4hVFMSGK6Y7bRPhpqbiquGXacuS7TNDv47KPTuXa3/81471IFM6/dU3R+RXZenYnop4aaQIbqpO7FqGu6YppwYdG/J+zUSFG/DermAnCK+qpEmU7KsFnPjiR7/7u2aymqWLzK7L17J41ZXxDTmBDdXJXu7udl2Lq2dZf0cRGY+Qy4qOeCp0gahX1VAj+AiJ0f7HqlYISArPF8Xdv3cE9azbRvXUH4J0D4PiElS/0ZjynxARWKqX0uyiW9Agkn0hRzvdqh7p6PX+JHzeMclP/S70KU2jkjNeK0e8In5jRyR1PvFqzPUXAJ3zt5Pfxnd8+mzVnwhHwOz4iBWgKr6J+X//1M9y2ak/r03OPmcQlJ0zNmBh3DbhceueTOI73BFbKSvf2Va/wzcUbaXJiUWSVtPsnO7nfev5JTijiPqVEYA0FL8WUKGteCFZfyiiGEa8ooLDIGc8+zyGXu/5UPSUxuilzA+g4wrFTMtubAgQdIarK5ScewnUevgkv0ov6dW/dkaIkAG5b+SrnHn0g3z39cC6/5+mU/t3haGaiWTETWDK3r3qFr/061tRoIF5OqtJ2/4STe9kLxSdSVjPU1UsxdbY1FXRPqy9lFEvBpicRGSUiF4rI/4jILYmfSgpXTRJtTPPlEowK+GhJat0ZrkD8q0+gJU0ptAQdrp43nQnjmjMStNpamrhw9hSCfhk8fmZXJ64qPhG+97tn+dQHJ5LcjjvgCF/88EGMDuRu3blu0zueMq7b9A7zZk7gJ+d2ZVwj6AhN/j0yJlfYLdSE1NsX4psPbMg4ngjlTT6v0mapYsj3PSonyX3aV8yfW1CDpHKWMDFGDsXsKH4OPAv8LXA1cDbwl0oIVW8ktumzpoxnxfy5LH32Db7262dSmheVk6DfYXck1fcxEIkyc+I4nt/msPiiY9g54NLZ1szy7reYtWBJ3F4tXHD8QXx8+r585L8eAyASj4f6+cpXefjS4+M9s5VD9x8LwP/+8eWU+6Tb1WcmNSBKZubEcfHJRXE1dQchvlhRwp0DLi1NDs+uW82C3/yFW1a8TJNT2Cq2Z1s/AceXGX7rakbRwXKtjLu37hiMaGsUig0NrrbT3RgeFKMopqjqJ0XkNFW9VUR+CTxeKcHqBa/JaObEcRVTEhBrwZpO2FVO/uFyLpkW5v/98HEumnMwH5++b0bky4+WdbN5266M8Qr8bsPrfPrISSkTQj67+pSOMZx7zCRuW5nqo0iULw/4fEQ1Fhqb3BxpSscY7lu3ma/c/RRfmhbmxmdimeIJM1U+E1JnW3NKC9oEV506LaPoYDnCUdP9MP9xzPCM87D6UkYpFKMowvH/vyMi04HXgX3KL1L9kG0yWvjZLoKOxEJKq0goEqvEGooo1z38HD945LmM/hSOT7hrjXeNp+uXdPPDpd0pK+9sRf2Sufq0wzj36AMz8keSn0uTI/zn3x/GMe9pH5zIr7gnNXw2mVyr2MQO7sqTp3HNgxtxRAi7Ua469VDOPuoAoLCVcaEOWy8/TG/fAN1bd3g+j0am2k53Y3hQjKJYKCJtwJXE2pa2Al+viFR1gtdk5MQ7uolPKFu2XInEFuepMuwOR7M6171W84Wab6Z0jBmcNL1Kdwy4ypfvWsf3PjmDeTMn0LOtH8eX3SGcbRWbLs+Vp0xj+v5jMyb7fCvjYsxSufwww01RgNWXMoqn4P21qt6sqttU9VFVPUhV91HVmyopXK3xjHQacNkUX+3WI4UUs0usvEt1bHo9F4gpi8T4zrbmrLIE/d4FAr3kuWbxRs/JLFfl1WI/Vy4/TD1SqgM/eVw1ne5G41NM1FOHiPxURH4Tfz0t3vd62NLeGvRUCN+4fwNjmwM0B6pnx37P3qMp9XbpK/vEyjtX45xck1FikvZ77BiSzT9fPyXz2fl9woMXH+u5ui+2kU961E/imsVeJ+GHSf2MTXW5m7hv3WZmLVjCOTevLqhE/FDHGQYUZ3r6GfC/wNfir58D7gR+WmaZ6oqJf5NpHgm7yqV3rctqf68EL7y5C480irwE/T6+fuo0rn5gI44vVtE2eTXvZb5Zv3k7n1q4MqfZZtaU8XhZlgZcd9D8M33CWFqDDrCnp3ZzwGGnVxVFinO0JvsfZqSt/Etx2Kb7YXr+sjbrubWiVAe+tVw1hkoxU894Vb2LeHsEVY2wp3Nn0YjIpSKyQUTWi8gd8TyNySKyWkS6ReROEWkq9fpDJbGifrc/4vl+NZVEgoEiM/uaHOHrp06jNegHNPafRnmld9eg+SHdfJNwIOcy23Rv3cGtf3yZgJOpKS6ac/Dg5NPZ1pzRkyNbeZSn4n6CQhr55Fsdl9oQaErHGM7omliXOwkovXWqtVw1hkoxO4qdItJO3HsqIkcD20u5qYhMAL4ETFPVfhG5C/g0cBLwX6q6SERuAs4DbizlHkMh2RE64NZ/wT8vBAg4Pq5+YANRTSi2mF6/7uHnuGFpN9eecXiGY9PTge8Tlj77BnMO2Ycf/OG5jAihBEG/j7OO2mPCSUzYmzauZUzQnxJhk9gRrN+8nWse3Jiye1kxf26GozVxfkuTU9DqeDg6bEsNbbWQWGOoFKMovkws2uk9IrIC2Bs4Y4j3bhaRMDAaeA2YC5wVf/9W4BtUWVF4bdMbEYWsJh6IRUAlT7DJE6lXqZKr7t/Av/3qGQayhbs6wrVnZK7a582cwCNvP8cvjnv/4ISdUMR+nwx22Uue9FfMn5tiTkpW3CE3iqTlV2QLtR1uDYGKDW1NNs9ZSKwxFEQ9kpoyThJxiO0Afgi8l9iC9a+qGs45MPc1LwG+DfQDvwcuAVap6pT4+xOB36jqdI+xFwAXAHR0dByxaNGiou/f19dHa2tr5vFQhFd6dxEt4LnUgo5m2Fomi4FPhIP2bqE5rQTH9v7woFmi0OfgE+GQfcd4hsQmP2s3qjz7+o6s13VEmJwkU77z8927VLJ9P+oBN6oMuFGaHF/KZ06WOfFvGAvmju0qWoN+z3G1pp6fdTaGg8xz5sxZq6pdhYwtaEehqq6IfEZV/wvILMBTJPF8jNOAycA7wN3AiYWOV9WFwEKArq4unT17dtEyLFu2jPRx963bzBX3PE0o4ngPqgMuOyzCdc+Ur5bjtz8xhbOPPiDjeG9fiKXPvsFV92/IuTNJMCbo5xfHvT/DsQypz/qpTe9w06Or2RHy9v2MCvhS2qZ6nT8q4CMaVYJ+Z3B1XEyl10Lw+n7UOwmZe/tC8YTIPd/jUYEIK+YfX5e7iEZ+1o3EUGQuZsZZISI3EIt02pk4qKp/LuG+HwFeUtU3AUTk/4BZwDgR8ccd5Z1A1WL4EianUFop7iZHYpnLPSW5Y2pGrLCgn1DExeeTrCXIr3lwIydO39fTbDPnkH349/vWZ1zXKz0iV3RSf9gddJ5ny8FoaXJwVTNMItnOf+hLxw3Wu6rHya+WWD0no9wUE/U0EziUWEHA6+I/3yvxvq8CR4vIaInVtT4B2AgsZY/f43PAfSVev2i8IkOanFg46fNv9FE/G/UYQb/Q5AgtTd67H79POOfoSXz/zJlEcjjkAz4fG7a865kz4RU99N+fmskfLj2es4+cRJNDQdFJL725czA6yeua3/676fzy/KNTciFyyZCoJWUJY96Y89ooNwXvKFR1TrluqqqrReQe4M/EguyfJGZKehBYJCLfih+rWo5GZ1tzZsXWuOO2ENNLtXGjyo/POYKA32Hli29x82MvkrxpGHCVGx99kVF+ydnZbtdAhC/c+qcUM868mRMyKuamRw99++8P48sfm5o1qig5KMBVHQyznTVlfNERScMxgqmSWD0no9wUZewWkZOJ7SpGJY6p6tWl3FhVrwKuSjv8InBkKdcrB4U49mvF5PZmXurd48WOROG829bi+AS/QBbLEruzVLkNOELYVVwF11UG3JgP4Ip7n2bH7khGyKpXJnWuqKJ85o9iI5LqLYKp3jvEmXI1yknBiiKe1zAamAPcTMxE9ESF5Ko6Pdv6aQ74szpZa4lPYFOW5Cg3qkVnPWaxVgGxnIlv3L+ecJQhZfF2tjXTH059ll5tVoulHiboRukQV2/K1WhcivFRfEhVzwW2qeo3gWOAqZURq/pkc5rWA1Elp/moGPyOcPHcqQT93tpi94CbsTspNYs3va1q+utiKbReUSW73lmHOGMkUoyiSMwUu0Rkf2L9KfYrv0i1Id1pGnAEvy/WgrTJ7+PfTjqk7hzapbDoC0dx1lGTPJVikwM+j/j65PpNhdKzrZ9R/txtVouh0Am60sXvrByGMRIpxkexWETGAdcSc0Ir8JNKCFUr0u26wODvG7a8S609GP4hFqs995hJdE1uB2I1lS67+6nBmlUicNZRB3Dv2s2E3VSTUXL9pkIpd+SNl8/DJ8KGLds5fmqsf1Y1it95fa6QG80afWYYw4Fi+lFco6rvqOq9wAHAIao62LhIRD5aCQGrQbY6/cm/v9s/UGsxKabslEjMYX3BcQfypblTuOefjubq0w4bfD+9+qsq/OyPr2REfqXXbyqU5B2aI1JwYb5seE3QuwZczr9tzeCuoRqr/eTPNSpe911UOeWG5Va62xi2lLRGVdWQqqZnoC0ogzxVp1BTxV7NgSpLlkkxOxqNFwJc+PjL/HT5S5xzyxPcv27zoFLcsGU7ASfznz+W8bwnZ8GrflOhJPpFTN67xTNHohgSE3QwbVsViqQ2S6pG/sC8mRNYfNGxROOZhyFXzVdhDGvKVwuCxjPh5zNVJEfY7D+2GUcEt45DaLORyAO57O6n8Ak0OQ4Druu5QxkVcLjxnCMY2xzwrN6abpLLp0TaW4M0B5yymH7mzZzAuNFN/PPP17IrvGfnk9g1zJg4rmr5AzsHXIJ+ZzCsOFkOizQyhhvlVBQNN4PmivVf3v3WYAjk7oiLqlIHbbKHRMIfEYrEJjcvze6qcuj+e6VMdsnhoIln0RzwZ4SGViN09dD99yKa9lVL3jVUK3/Asp+NkUT1ennWIdkck+GImxJhE3aVSDR7Uluj4qXzTp6+L9t27vHHpEcbJZ5FeuRRtVptFtKUqBr9oEttjmQYjUg5dxQvl/FaVSG51AHA7nCs18FZN6/2DBMdCdz75BbufXIL5x4ziatPO8xz15VMolZUNVtt1kvWcb3IYRiVppjM7L/3OLwdeEZV31BVr/frnnkzJzBtv7046frHgZhjEmhsG1MOnALNZ7etfJVzjz4wbyJi7D3NasIDUqrHloKXSateso7rRQ6jvqiHCgLlpBjT03nESnecHf/5CTCfWPnxz1ZAtqqRcEwm49EOeljwuWMOoKnAhIx1m97JmoiYbG45dP+xnvb69Zu3Z1SPLZb71m3mQ99Zwmd+sooPfadyJi3DKBfVMsNWk2JMT37gfaq6FUBEOoDbgKOAx4Cfl1+86uBVl2iYbig4uGMM3zsjZm7zibArR2XcmfEmRLkSEROrpfRooytPnsY1D270rB5b6Aqrty/EV5KSAiEWuVUpk5ZhDJVqJH3WgmIUxcSEkojzRvzY2/G+1w1NrA7RMNUOSXzjgY1ce8bhrJg/lw1btnP+bWsIeVSYPfeYSUzpGDP4Ot3Ekvx7b1+IA9pbWHzRsYPNhMrRPGfDlu0pSgJikVvJ2diGUU8M16ZRxSiKZSKymFjbUoDT48daiLUzbVgSdYnSS1cMR0KR2Mp+xfy5HD91H649Y8bgTiAUcfnkERP5/KwDmdIxJm/uRG9fiNtXv8oNS57D73NwNcq1Z8wYbIc69PDRbPa/YWoXNBqe4Ro2XYyiuJCYcpgVf30bcK/GmjiUralRLfBqWjScSV7hZIvcyZc7ocDldz812NxpwI09vy/ftY5p++3FzgGXK0+ZxjWLN5ZcwuPQ/ffC70utnOv3xY4bRj0yXJtGFdPhToF74j/DjnpuWjRU0vtchyJuShG7dLNS99Ydg0ogeQud6NVx+T1PEYk3PUonEoWPX/94bIcW91X8zY5uVsw7tug/lvbWIN8/cyaX3/MUjvgGdyzZrjPcIk2MxmQ4hk0XGx67ANiH2N5fiOmPhl/e9Wzrx+/4iNRpP4pCyeZliWr661gRO6+GO/et28zl9zw9uFPwwkfuUiZhVwfNeNc8uJEfzRnlWQqkkD+gQv/oGqWZkDEyGG5h08WEx34XmKeqY1V1L1UdMxyUBEBLk8PuBk+7Dvp93P1PR1NIb6BIFM8idomIjYE8XZIiWvizCvh8DMSLSpUaNtjeGhx0kHsV3bNmQoZRWYpRFFtV9S8Vk6SG7BxwCTZ44sSnPthJ1+R2vvWJ6QWPSS/B7VWmG8DxkZI78Y1TpxPweF5N8RyLZMLRKE2Ob0iTeT4FY82EDKOyFOPMXiMidwK/Bgb/ulX1/0q5cbwJ0s3AdGIWk38E/grcCRxIrCTImaq6rZTrF0pvX4jt/QMNH0hz+6pXmdQ2mrd2Ft43IxGNkTAHtTQ5GREbTX4fD118LG0tTSkRUG/vHOCGpd04PsGNKhfNmcJZR01iRfdbqfkUp0xj4N3uWFnzEsIGC4lLH66RJoZRLxSjKPYCdgEfSzqmQEmKAvgB8FtVPUNEmoDRwL8Bj6jqd0Tkq8BXiWV/V4Rku3ZUY6vm5oCfXQORhku4cxW+9dCzRY05s6tzsEqu3ycMuMr7J45l9Ut7dPOnP9g5mE/R3hrkvnWbuSLuXFaN8sUPT+WsoyYNTtrJPoX1m7dzzeKNfOl9YX7w6JoMX0khk3khcenDNdLEMOqFYqKePl+um4rIWOB44B/i1x4ABkTkNGB2/LRbgWVUSFG4Uc1YqQb9Pv7z7w/j0rvW4TaapiiBO/+0iTv/1EMoySeRrCQA7lrTwyUnTKW9NUj31h1ceue6+IQfC4f9wSPPZXTAS0zQn1q4cjAzOxRR/L7YM25yCp/MC90tDMdIE8OoFyRfWKiIXKGq3xWRH+IRVKOqXyr6piIzgYXARmAGsBa4BNisquPi5wiwLfE6bfwFwAUAHR0dRyxatKhYEXh3xw56dmhK9I5PhH3HjuL17buJ1mm4bEczbC2T6d0X93zn+qyOCJP3bmEgEmXT27s8o6omj2+hNZi65ugPu7z05k5c1UGZHREmtY/G8QlNjg+ngAq9blTp3TnAmztCg1FdnW3NjPXoOOhGlQE3WvC1c9HX10dra+uQrlFtGlFmaEy5h4PMc+bMWauqXYWMLWRHkXBgrylBtlz3/QBwsaquFpEfEDMzDaKqKiKeM5iqLiSmaOjq6tLZs2cXLcAjS5byg9X9GeUrHAmjOBlmknrhssMiXPdM+arD56smOyrgY/EJR3LyD5cTinjf97Z/jBUGTF7N9/aFuHTBEnaHo4Myjwr4WDH/uIJX+8mmwQE3MOgH8Rpf7vDYZcuWUcr3qpY0oszQmHKPNJnzzjiq+kD812dU9c8l3SWTHqBHVVfHX99DTFFsFZH9VPU1EdmPWD2pitAXiuB6aIN6tjg5Un6fezaF2BJ0iLjKhbOnsGV7f84V+rOv7eCCn6/NmKQTfoNSMrO9nNg/WtadYebKdu5wKMRmGPVCMeGx14nIX0TkGhEpPAbTA1V9HdgkIu+NHzqBmBnqfuBz8WOfA+4byn2ykYjyyZMuUHe4CuOzTHzvn7gXjkBTkSYXBU6cvg9+H4wO+BgV8PHtT0znn45/D6AsfOxFzr9tDWGvBttAwBG+9/u/eoa9zps5gRXz5zJ57xZWzJ9b1Aq/mJDX4RYe29sX4qlN71geiFE3FOPMniMi+wJnAj8Wkb2AO1X1WyXe+2Lg9njE04vA54kprrtE5Dzglfi9yk7Ptv6GjYZ9sy+E1z/bjM42bv7ckax8oZeL7niyqGv+dv0bBP0+IgpXnTqNEw/dl1kLlhCK6GB/bX88lyJduYoIAZ8M1nqC1Kik9tYgzQGn6JV9S5NDyC0s5HU4hcdahrlRjxTVM1tVX1fV64F/BtYBXy/1xqq6TlW7VPVwVf2Eqm5T1V5VPUFVD1bVj6jq26VePxedbc3DrqD4z1e9AsBezaX5L0KRKAORKNcs3siGLe/iT9uZNAf83PIPR/LFDx9EwBGaAz6Cfh9XnToto5zHUCfp+9Zt5pQbliPx646K73Syma6GS/9qyzA36pViaj29D/gUsQqyvcQS4y6rkFwVJVESIuiPpISGNjJ+H2zY8i6bh2huCfh8rHzhLfpCqdV0B1yXQ/ffi227BvAJCAJEGRP0c+XJ0/jmAxsIOD5c1SFN0smTZYJoVHnoS8el9MdIZziExw7XXgZG41PM8vMWYsrhb1V1S4XkqRpjmwN8flYnNz36Yq1FKQshFz7/v08UdO4ovxDOUv11wI1yy4qXMo5HFX674XWuWbwxHim2p6y44/PR5Pcx4CpXnTptSKYSr8ky6HfYmaMTX4JGL8Q2nExoxvCiYNOTqh6jqv89HJQExGLu/3fFy7UWo6y4WmDUlghXnzadUQHfYI2rhHnnojlTaHKcjCFhV/nmA7HeEslEojGzVV/IHTRdDcVUMpIny+FiQjOqQzWDHvLuKETkLlU9U0SeITXhLlFm/PCKSVdBBtxo3SbVVZozuzo5++gDOHH6voM1nhItTCEWhupFwBHCeUx1QzWVjPRyHMPBhGZUnmoHPRRierok/v9TKiZFDVAlox/zSCG5LIfXRPTd0w/n8nueykhGdKPKVaceyjUPbownwblE055jOVb/s6aMZ+FnjwCEQ/ffa8RNlo1uQjMqSy3yhgpJuHst/v9XKiJBjRgOTux8WdVndnXy6yc3ZzQhyrfqT6xqf7n6VW5Y2p1Sm2nezAmDO5HOtuaMarFDXf1XeqXUvXUH6za9w8yJ43I6xw2jXqlF0EMhpqcdeDdOa+gOd6ObMu3wjYbPJ8w5eDyPPvcm6X2XHIH5Jx7CBccdxEk/XJ7SjKiQVX97a5CLTziYs46alGEGSV7xltNUUumV0td//Qy3rXp18PW5x0zi6tMOG/J1DaOa1MKPl9eZnehk5/HT0B3ugn4fR09uq7UYQyLsKn949k3cKBl5D6Ob/PRs62dKxxi+d0bpDtL21iAzJo5LOT/dieZ1TilUMsO6e+uOFCUBcNvKV+neumPI1zaMalKLoIfyVZdrMNyosvbVd2otRlmIEss1SCZ5hZFY9W/Ysp2E3T9Bb18o5Xi+L1slTUOVXCmt2/RO1uNmgjIajWoHPYxYRdG7c2DYOrODfslYYSQaFCVP8Ap85e6nBp+D3wffP3Nm1om/0qahSkY8zZw4rqjjhlHvVDPoYUQqit6+EG/uCAGN76dIZ3STw03nfIDjp+4zeMxrgv/K3esQ8aUoy0gULr/nqawTfzWcaIWslBJFHYtZSU3pGMO5x0zitpWpPgrbTRhGfkakoujZ1k++hk2NSlSVQ/cfm3LMa4IfcMEvmZFfjmSf+KvlRMu1UhqK6evq0w7j3KMPtKgnwyiSoooCDhdampxhVxQwV+G8zrbmlOquCSIeD8HV7BN/KU603r4Q/WG3LNmj5SiaN6VjDGd0TTQlYRhFMCJ3FDsH3IYtM55Ms9/H/I8fwrFTxg9mVmerrvqPsyZzY1pdq1EBH2E3SqKat98H154xI+fEX4wTLbH6/9L7wly6YMmQHd9WNM8wasOIVBTDpW6QCpw6Y/+CIpW8Cv0B/O6S49myvZ9isqALcaJ1b93B5fc8zUAkiqs6uPofiuN7JNeBMoxaMiJNT+2tQYKBxndkn9nVmXfSTZhr0stxBP0xs9GUjjEcP3Ufjp+6d9lW5fet28xJ1z+ekuSXYCg5EVY0zzBqw4jcUfT2hdgddmmUj5+tVEdyzaZseJlrRgccbvrsERw/de+yy5pQTOllQwB2h6O0DDEj3ormGUb1GZE7ig1b3q21CAVzwXGTkSwOlYDPx4Yt23nsuTd57Lk3Upy6iezpliYnw1wTiUbZf+yoisjrlV2dTMzMNTQSjad6tvVb9zfDqAKNsaQuO40T87TwcW/fAkB/OMLn//dPg7uNgCNc98kZKDD/3qdxRAi7Ud4/aRyrX9o2OE6BU25YXpHSxF5+hFSGHkZgfaUNo7rUdEchIo6IPCkii+OvJ4vIahHpFpE7RaSpEvd9e5isQiPRVJNU2FW+cvdTXHFPLIR054DLgKspSiJxXqX6MSf8CEF/5lfL7yOlfEgpWF9pw6g+tTY9XQL8Jen1AuC/VHUKsA04rxI3Xfbcm5W4bN2Qr7lQAkekLAX30pk3cwJ//OpcLvvoVAI+8InQ5AjfP3NmXRcOHArV7DZmGNWmZopCRDqBk4Gb468FmAvcEz/lVuATlbh3eubycGLAVQrttLFzwGX9lu0VkaO9Ncik9tH44lVts/lZiqWzrZn+cCTlWH84UtMQ2fvWbWbWgiWcc/NqZi1Ywv3rNtdMFsOoBLXcUfw3cAUMzmvtwDuqmpgFeoCKGJ4PGt9SicvWPQGPyXqoPa6zkRyWG1UlFNG8JqJCV+WSpnXSX1cTM4UZIwGpRc0jETkFOElV/0VEZgNfAf4BWBU3OyEiE4HfqOp0j/EXABcAdHR0HLFo0aKi7r/13RAS2c3W2lorSqKjmQy59xkTxO/4eH377qx9wPcbOwrH52PLO/0p5zgiTN67heYi8krcqDLgRmlyfDg+70m6P+zy0ps7cVUHZc51r+39YXq29ce6YRHbOYxtDuS87lA+Qz76+vpobW3Ne1615CmEQmWuNxpR7uEg85w5c9aqalchY2sV9TQLmCciJwGjgL2AHwDjRMQf31V0Ap57eFVdCCwE6Orq0tmzZxd180c2vs7GJ1dz3TONF/R12WGRDLmDfuXrp76X61duyEisA7jkhCkcfEgHLU0O/3rDcnYntcMbFfCxYt6xBfsOCo046u0LcemCJewORwdlznav3r4QsxYsYXd4z8Q6KhBhxfzjPc9NXLfUz1AIy5Yto5DvVbXkKYRCZa43GlHukSZzTUxPqvqvqtqpqgcCnwaWqOrZwFLgjPhpnwPuq8T9x4+pTA5BrQhFolyzeCOXfey9OEkLfL9POLOrkx8/9iLn3LyaU25YzpldnYOZzUG/jwtnT8m4XjYTUDFmluQsakckZxZ1MQ7qesvOrjd5jOozEgIZ6m1JPR9YJCLfAp4EflqJmwzH2kBuVFnwm2cHw2UdgXOOmsQdf3qVUEQHM7PvWtPD4ouO5aH1r/Ojpc+z8LEX+dGy7sGdQa4dQ7FF+RJZ1E+sXJ51hd3bF2J7/0BGddtcNZzqLTu73uQxqsdIyempuaJQ1WXAsvjvLwJHVvqeL73ZV+lbVJ30bn2uws9WvpJxXsDnY8v23fzPsm5CESUUicUOXHHv00zbb6+cHezKXZQv+Y8sqrE8i+aAv6DOdtXs7lUI9SaPUXkq3fGxnqh1HkVNeOz5t2otQs2ITfTqaepZt+mdvCagC2dPIeiXgswsibDRl97cmRE2mm7GCruK4/Pxo7M/wIr5c4flqswYXtRrTk8lqPmOohbM6BzLxuGdc5eVK0+exqH7j/XcGcycOC7rjiF59Q/CBccfxFlHTcqqJJIVgVeZcS8zVpPjY2xzYNitxozhyUgqez8idxTDzZkN4BNSHNletAQdpk8Ym9UBO6VjjOdxIGX1H4pE+dGybrbtHMjqxMu32hpJf2TG8GQkBTKMyB1Fo01GPoFonnSXc46exLlHH8jy7rd4+a2d3L76FcJpKdpuVAc/ezYHrNfxp+Imqd1pOd8nXf84Qb/j6cTLpwgSf2RXpDkCh+MfmTF8GSmBDCNSUdy7tqfWIhRMkyNc/rfv5dsPPZvzvF+sepU7Vr/KqICfXQMRECHgg3BUGRWIrezTJ+JsDtj0416TfiJvYMDd4wxPduIlK4Js4bEj5Y/MGN6MhECGEWd66u0L8R+/yT3p1hNuVLn2d3/Ne15UIRyFHaEIrsbGhePbkGhUWXzRsSU7iNO32E1+Hx7FYTOcePNmTmDF/LlM3rslq4O6vTXIjInjhv0fmmE0MiNuR7GhQkXwKoaIZ7e4Ygj4fewccPOfmIPk1X844nLGj1elvJ+te117a5DmgGOKwDAamBG3o3i3P5L/pDqiKYuH2vFJwf94YVfL4pdJrP4DfodgmlxBR4asjAzDqE9G3I5ir+bG+shumhdbRLjhMzM55j3jeenNvoyVvRdXnTqtrCv6zrZmxJfayFt80nBBAoZhFMaI21E0Ui+KUQEfF889OCX8bmJbM6fMmEB7a5Cuye2cPH1fz7HNfh9NjvDtT0zn7KMOKKtcIyks0DCMEbijaG8NslfQARrDBHXWUZM466hJg5FBz6xZmfL+1Z+YzsN/eZ1kq0/Q7+PH53Zx6P57VWzytoglwxg5jDhF0dsXYmd6gkEdEvSnrtKzTcTtrUG+98mZGfkIx0/du+IyjoSwQMMwRqCi6NnWDzVo1lQMX/zwQXzhuIMKnoRtdW8YRiUZcYqis62ZelYTLUGHE6fvR3trkN6+UMGTf/rqPnksYErEMIySGXGKor01yDGT24D6rAq4e8DNKMJXbJ375LH94QgiwqgspTYMwzDyMeKingDe3hWutQhZcRV+uOR5rrjnqYI6yaWTXr47Eo3lURR7HcMwjAQjUlG0jW6qtQg5+dkfX8nofV1onXuvqq2lXMcwDCPBiFQU+4xpPDt9oSW4vQr4lXIdwzCMBCNOUfT2hVj8zOu1FqNozuzqLMgRnZ4M5/dBwCmsI51hGIYXI86Z3bOtH18dxj05Psko15HMXWt6uOSEqQVdKz1cFizqyTCM0qnJjkJEJorIUhHZKCIbROSS+PG/EZGHReT5+P/byn3vzrZmVPK0gqswAY9Cf34ffHH2QQT9wmiPKqzJvoXevlDWznIJkst3WylvwzCGQq1MTxHgMlWdBhwNXCgi04CvAo+o6sHAI/HXZaW9Ncg3Tj203JctimhUSVcVEVc58dD9+ONXT+Cmcz5A0J96RsK3sL0/zKwFSzjn5tXMWrCE+9dtrp7ghmGMSGqiKFT1NVX9c/z3HcBfgAnAacCt8dNuBT5Rifvvu1dtV9aukmH8chXCEZf21iDHT92Ha8+Y4dm7umdbf0lhs4ZhGKUiWuNyFiJyIPAYMB14VVXHxY8LsC3xOm3MBcAFAB0dHUcsWrSoqHtu3tZPQAfYWmdRop1to2kbHRh87UaVATdKk+PD8Qn9YZe+HX28niS3I8LkvVtoDmSaq+qFvr4+Wltbay1GUZjM1aMR5R4OMs+ZM2etqnYVMramzmwRaQXuBf6fqr4rSb4DVVUR8dRiqroQWAjQ1dWls2fPLuq+335gPXu9+wLXPVNfvvw/XHo0UzrGZH2/ty/Eovt/x3XP7FEKowI+Vsw7tq79D8uWLaPYf6NaYzJXj0aUe6TJXLPwWBEJEFMSt6vq/8UPbxWR/eLv7we8UYl737n21UpcNi9Br0bTcc49ZlJOJQEx/0pnW3PePhCFOLsNwzAKpSZL6rhZ6afAX1T1+0lv3Q98DvhO/P/3lfvevX0h3t1dPXNbkyNcPPdgPj59X3YOuKzfvJ1vPLCBcLw7nA/46kmHcMHx7ynoemObA6yYf3zWcNeh1IgyDMPwolY7ilnAZ4G5IrIu/nMSMQXxURF5HvhI/HVZWflCb7kvmZPzj5vM8VP3pq2liRkTx3Hi9H3xJQU0RYHvP/wc3Vt3FLwLyBbuml7nyZzdhmGUg5rsKFR1OWREiCY4oZL3/str2yt5+Qx+tOxFfrriZQC+e/rhHNDeQpPjEIqkdtg76frHCQ6xwmuiztNu9pTwSORf1LMPwzCM+mbElfCoBbvD0cHVfUuTk1GLaXc4ykAZKrx61Xmy2k6GYQyVEaco3rff2Jrd2yfClu39KbWYmvw+gmmZ2qVWeE2v82S1nQzDKAf1FR9aBY55T3vN7r1rwOX829Zw7RkzWDF/Lj3b+mlpcjjlhuWxjLs4Q9kFWFtUwzDKzYjbUbS3Bvn2J6ZX/D4Bh4ydAkAoolxx79MAzJg4jikdY8q+C7DaToZhlJMRt6MAmPg3o3n7hcpdP+AId3zhKF7u3UXYjXLN4r+wK+zueT/NwWy7AMMw6pkRqSgyKy2Vl797/wTOueUJAj4fA65LevXwAdfNMC0lqrwahmHUGyPO9ARw6P5js8bmDpXRTT5+/eTmwVyGUERRVZKtUFGFFd1vVUgCwzCM8jIiFUV7a5B99hpVkWtHohBwUh9r0O/gJPWxDrtqiXCGYTQMI1JRALS3NJGj9FJJOAJXnToNN60ib9iN0uQvTwisYRhGtRmxisLxCScc0lHWayYiXNOjmK469VAiaY4KS4QzDKNRGKHO7BjnHzeZ323cWtZrfvOBjaz86tzBPIlEFNOYUX6uSCvWZ85rwzAagRGtKLomt3PclHYe7y5focCAI/Rs68/IY7AQWMMwGpURrSgAfv6Fo1nzUi+/3bCVgbDLHU+8SjhH9OyRB7TxkWkdfP8Pz+FGohnnulHNalKyEFjDMBqREa8oILaz6JocK+1xyUen0vWtP3hmWjgCf3l9B09v2c6Vp0xj+v5jWf1iL997+DkCjuBG1UxKhmEMO0xRpNGzrZ/mgJOSSZ3AVdgRipUHv2bxRlbMn8uMD7+H04/oNJOSYRjDFlMUaXS2NeNqNO95yWU4zKRkGMZwZsSGx2ajvTXItWfMSMmx8PtiTupkLLzVAOtPbowMbEfhwbyZE9ixO8I37l+P4/OhKJ/64ETuWtOD4xPCrnLlKdNsFzHCsf7kxkjBdhQe9PaFuObBjYSjsDsSJRRR7lrTw5c/MpVwJErAJ1yzeCP3r9tca1GNGmH9yY2RhCkKDxK9p5NxRPjew88x4Co7B1ybGEY4Xt8RK8tiDFfqTlGIyIki8lcR6RaRr9ZCBs/e026UpjK1LDUaH+tPbowk6kpRiIgD/Aj4ODAN+IyITKu2HF69p61ek5GM9Sc3RhL15sw+EuhW1RcBRGQRcBqwsdqCeJXcsHpNRjJWlsUYKYhqZbu9FYOInAGcqKpfiL/+LHCUql6Udt4FwAUAHR0dRyxatKjoe/X19dHa2lr0ODeqDLhRmhwfjq9S7Y+yU6rctcRkrg6NKDM0ptzDQeY5c+asVdWuggarat38AGcANye9/ixwQ64xRxxxhJbC0qVLSxpXaxpRbpO5OjSizKqNKfdwkBlYowXOzXXlowA2AxOTXnfGjxmGYRg1ot4UxZ+Ag0Vksog0AZ8G7q+xTIZhGCOaunJmq2pERC4Cfgc4wC2quqHGYhmGYYxo6kpRAKjqQ8BDtZbDMAzDiFFvpifDMAyjzqir8NhSEJE3gVdKGDoeeKvM4lSDRpTbZK4OjSgzNKbcw0HmA1R170IGNryiKBURWaOFxhDXEY0ot8lcHRpRZmhMuUeazGZ6MgzDMHJiisIwDMPIyUhWFAtrLUCJNKLcJnN1aESZoTHlHlEyj1gfhWEYhlEYI3lHYRiGYRSAKQrDMAwjJ8NeUeTrmCciQRG5M/7+ahE5sAZipsuUT+Yvi8hGEXlaRB4RkQNqIWc6hXYnFJHTRURFpObhhYXILCJnxp/3BhH5ZbVl9JAn3/djkogsFZEn49+Rk2ohZ5pMt4jIGyKyPsv7IiLXxz/T0yLygWrL6CFTPpnPjsv6jIj8UURmVFtGD5lyypx03gdFJBJv7ZCfQsvMNuIPsXpRLwAHAU3AU8C0tHP+Bbgp/vungTsbQOY5wOj471+stcyFyh0/bwzwGLAK6Kp3mYGDgSeBtvjrfRpA5oXAF+O/TwNeroPvx/HAB4D1Wd4/CfgNIMDRwOoGkPlDSd+LjzeCzEnfoSXESiWdUch1h/uOYrBjnqoOAImOecmcBtwa//0e4AQRqX5Hoj3klVlVl6rqrvjLVcTKsdeaQp41wDXAAmB3NYXLQiEynw/8SFW3AajqG1WWMZ1CZFZgr/jvY4EtVZTPE1V9DHg7xymnAbdpjFXAOBHZrzrSeZNPZlX9Y+J7QZ38HRbwnAEuBu4FCv4uD3dFMQHYlPS6J37M8xxVjQDbgfaqSOdNITIncx6xlVitySt33JwwUVUfrKZgOSjkWU8FporIChFZJSInVk06bwqR+RvAOSLSQ2zVeHF1RBsSxX7v6416+TvMiYhMAP4OuLGYcXVXPdYoHBE5B+gCPlxrWfIhIj7g+8A/1FiUYvETMz/NJrZifExEDlPVd2opVB4+A/xMVa8TkWOAn4vIdFWN1lqw4YiIzCGmKI6ttSwF8N/AfFWNFmM4Ge6KopCOeYlzekTET2yr3lsd8TwpqMufiHwE+BrwYVUNVUm2XOSTewwwHVgW/4LuC9wvIvNUdU3VpEylkGfdQ8z2HAZeEpHniCmOP1VHxAwKkfk84EQAVV0pIqOIFYSrtdksFw3Z3VJEDgduBj6uqrWcNwqlC1gU/xscD5wkIhFV/XWuQcPd9FRIx7z7gc/Ffz8DWKJxj0+NyCuziLwf+DEwrw5s5glyyq2q21V1vKoeqKoHErPp1lJJQGHfj18T200gIuOJmaJerKKM6RQi86vACQAi8j5gFPBmVaUsnvuBc+PRT0cD21X1tVoLlQsRmQT8H/BZVX2u1vIUgqpOTvobvAf4l3xKAob5jkKzdMwTkauJNRa/H/gpsa15NzEn0KdrJ3HBMl8LtAJ3x1cGr6rqvJoJTcFy1xUFyvw74GMishFwgctruXIsUObLgJ+IyKXEHNv/UOPFDyJyBzGFOz7uO7kKCACo6k3EfCknAd3ALuDztZF0DwXI/HVi/sz/if8dRrTGFWULkLm069b4+2MYhmHUOcPd9GQYhmEMEVMUhmEYRk5MURiGYRg5MUVhGIZh5MQUhWEYRgNRaOG/+LllKRBpisIwDKOx+BnxhMoC+HfgLlV9P7HQ//8p5YamKIwRj4j0lTju/4nI6DLJ8M8icm45rmUMb7wK/4nIe0TktyKyVkQeF5FDEqdThgKRlkdhjHhEpE9VW0sY9zKxUulvDfH+/nhBSsMoCIn1zVmsqtPjrx8B/llVnxeRo4D/VNW58Qq8vwfagBbgI6q6ttj7DevMbMMoBhFpBe4j9kcVAP5dVe8TkRbgLmL1hxxipdI7gP2BpSLylqrOyXLNPuAnwMeA14FPq+qbIrIMWEeskNwdIjIG6FPV74nIFOAmYG9i2eCfVNUXRORy4EwgCPxKVa+qxHMwGov49/ZD7KnUALHvCJSpQKQpCsPYw27g71T13Xhdp1Uicj8xe/AWVT0ZQETGqup2EfkyMCfPjqKFWGmNS0Xk68RKKlwUf68pUfJBRL6RNOZ24Duq+qt4QT+fiHyMWDHCI4k197lfRI6PmyGMkY0PeEdVZ3q8V5YCkeajMIw9CPAfIvI08Adi/RA6gGeAj4rIAhE5TlW3F3HNKHBn/PdfkFqK+s70k+M7iwmq+isAVd0db1L1sfjPk8CfgUOIKQ5jhKOq7xKrbPxJGGwrm2jLWpYCkaYoDGMPZxMz9xwRX51tBUbFK4N+gJjC+FZ8Z1AqyU7BnUWME2J255nxnymq+tMhyGE0KPHCfyuB94pIj4icR+y7e56IPAVsYE/Xw8uA8+PH76DEApFmejKMPYwF3lDVcLwZzQEAIrI/8Laq/kJE3gG+ED9/B7E+G7lMTz5i5esXAWcBy3MJoKo74n/8n1DVX4tIkJhf5HfANSJyu6r2SaxTWbiOyswbVUJVP5PlrYyQWVXdCMwa6j1NURjGHm4HHhCRZ4A1wLPx44cB14pIFAgDX4wfXwj8VkS2ZHNmE9s1HCki/07MLvypAuT4LPDjeOnwMDFn9u/jpoOVcYdlH3AO9d2MyBgmWHisYVSQUkNvDaOeMB+FYRiGkRMzPRlGGRCR1eyJXU/wWdtNGMMBMz0ZhmEYOTHTk2EYhpETUxSGYRhGTkxRGIZhGDkxRWEYhmHk5P8Dr21VuDzx/AEAAAAASUVORK5CYII=\n",
      "text/plain": [
       "<Figure size 432x288 with 1 Axes>"
      ]
     },
     "metadata": {
      "needs_background": "light"
     },
     "output_type": "display_data"
    },
    {
     "data": {
      "image/png": "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\n",
      "text/plain": [
       "<Figure size 432x288 with 1 Axes>"
      ]
     },
     "metadata": {
      "needs_background": "light"
     },
     "output_type": "display_data"
    },
    {
     "data": {
      "image/png": "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\n",
      "text/plain": [
       "<Figure size 432x288 with 1 Axes>"
      ]
     },
     "metadata": {
      "needs_background": "light"
     },
     "output_type": "display_data"
    },
    {
     "data": {
      "image/png": "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\n",
      "text/plain": [
       "<Figure size 432x288 with 1 Axes>"
      ]
     },
     "metadata": {
      "needs_background": "light"
     },
     "output_type": "display_data"
    },
    {
     "data": {
      "image/png": "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\n",
      "text/plain": [
       "<Figure size 432x288 with 1 Axes>"
      ]
     },
     "metadata": {
      "needs_background": "light"
     },
     "output_type": "display_data"
    },
    {
     "data": {
      "image/png": "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\n",
      "text/plain": [
       "<Figure size 432x288 with 1 Axes>"
      ]
     },
     "metadata": {
      "needs_background": "light"
     },
     "output_type": "display_data"
    },
    {
     "data": {
      "image/png": "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\n",
      "text/plain": [
       "<Figure size 432x288 with 1 Axes>"
      ]
     },
     "metadata": {
      "needs_background": "light"
     },
     "output_type": "display_data"
    }
   ],
   "source": [
    "\n",
    "data.plot(x='last_price', y='total_area', kind='scatter', grid=True)\n",
    "data.plot(x='last_price', y='living_area', kind='scatter', grid=True)\n",
    "data.plot(x='last_price', y='kitchen_area', kind='scatter', grid=True)\n",
    "data.plot(x='last_price', y='rooms', kind='scatter', grid=True)\n",
    "data.pivot_table(index='floor_type', values='last_price', aggfunc='mean').plot.bar();\n",
    "data.pivot_table(index='week_day', values='last_price', aggfunc='mean').plot.bar();\n",
    "data.pivot_table(index='month', values='last_price', aggfunc='mean').plot.bar();\n",
    "data.pivot_table(index='year', values='last_price', aggfunc='mean').plot.bar();"
   ]
  },
  {
   "cell_type": "markdown",
   "metadata": {},
   "source": [
    "Факторы, влияющие на цену:общая площадь(прямая корреляция), жилая площадь(прямая корреляция, с маленьким коэффициентом корреляции), площадь кухни(прямая корреляция). Самая низкая цена у квартир на первом этаже. День недели и месяц особенно не влияют на цену квартиры. Что касается года, то квартиры продавались дороже всего в 2014, однако потом цена начала уменьшаться."
   ]
  },
  {
   "cell_type": "code",
   "execution_count": 12,
   "metadata": {},
   "outputs": [
    {
     "name": "stdout",
     "output_type": "stream",
     "text": [
      "                          mean  count\n",
      "locality_name                        \n",
      "Санкт-Петербург  112771.925425  15181\n",
      "Пушкин           102516.720548    358\n",
      " Кудрово          92297.218847    283\n",
      " Парголово        90448.423806    322\n",
      " Мурино           85040.964701    528\n",
      " Шушары           78382.648164    435\n",
      "Колпино           75333.295801    337\n",
      "Гатчина           68811.372828    305\n",
      "Всеволожск        68513.921574    390\n",
      "Выборг            58078.772935    232\n"
     ]
    }
   ],
   "source": [
    "data['mean_price']=data['last_price']/data['total_area']\n",
    "data2=data.pivot_table(index='locality_name', values='mean_price', aggfunc=['mean', 'count'])\n",
    "data2.columns=['mean', 'count']\n",
    "data2=data2.sort_values('count', ascending=False)\n",
    "print(data2.head(10).sort_values('mean', ascending=False))"
   ]
  },
  {
   "cell_type": "markdown",
   "metadata": {},
   "source": [
    "Среди 10 населенных пунктов, с большим количеством объявлений, квадратный метр стои дороже всего в Санкт-Петербурге. Меньше всего квадратный метр стоит в Выборге."
   ]
  },
  {
   "cell_type": "code",
   "execution_count": 13,
   "metadata": {},
   "outputs": [
    {
     "data": {
      "image/png": "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\n",
      "text/plain": [
       "<Figure size 720x1080 with 1 Axes>"
      ]
     },
     "metadata": {
      "needs_background": "light"
     },
     "output_type": "display_data"
    }
   ],
   "source": [
    "data3=data.query('locality_name == \"Санкт-Петербург\"')\n",
    "data3=data3.pivot_table(index='cityCenters_nearest_km', values='last_price')\n",
    "data3.plot(y='last_price', kind='bar', figsize=(10, 15));"
   ]
  },
  {
   "cell_type": "markdown",
   "metadata": {},
   "source": [
    "Расстояние от центра города: Смотря на график, можно заметить, что происходит отрицательная корреляция между расстоянием от центра и ценой квартиры. То есть, чем ближе к центру, тем дороже квартира."
   ]
  },
  {
   "cell_type": "markdown",
   "metadata": {
    "id": "h7VpzkIDAwb-"
   },
   "source": [
    "### Напишите общий вывод"
   ]
  },
  {
   "cell_type": "markdown",
   "metadata": {
    "id": "3H4lnp_KAwb-"
   },
   "source": [
    "Цены на недвижимость и количество предложений будут расти по направлению к центру. За близость к историческому центру придется заплатить больше. 
Так же на стоимость повлияет метраж и количество комнат. А вот выбор этажа может съэкономить, первый этаж обойдется дешевле всех, на втором 
месте - последний, золотая середина скидок не сделает."
   ]
  },
   "source": [
    "Во время исследования было сделано:\n",
    "-Предобработка данных(удалены неявные дубликаты и некоторые пропущенные значения, а также изменён тип данных у некоторых столбцов)\n",
    "-Добавленны новые столбцы для большего удобства работы с данными\n",
    "-Проведён исследовательский анализ данных.\n",
    "Была полученна информация:\n",
    "-Как быстро продаются квартиры: Для выявления, сколько времени обычно занимает продажа, нужно взять медианое значение, равное 96. Медленными продажами считаются те продажи, которые были проданы за более чем 400 дней. Аномально быстрых продаж нет.\n",
    "-Факторы, влияющие на цену:общая площадь(прямая корреляция), жилая площадь(прямая корреляция, с маленьким коэффициентом корреляции), площадь кухни(прямая корреляция). Самая низкая цена у квартир на первом этаже. День недели и месяц особенно не влияют на цену квартиры. Что касается года, то квартиры продавались дороже всего в 2014, однако потом цена начала уменьшаться.\n",
    "-Среди 10 населенных пунктов, с большим количеством объявлений, квадратный метр стои дороже всего в Санкт-Петербурге. Меньше всего квадратный метр стоит в Выборге.\n",
    "-Расстояние от центра города: Смотря на график, можно заметить, что происходит отрицательная корреляция между расстоянием от центра и ценой квартиры. То есть, чем ближе к центру, тем дороже квартира."
   ]
 ],
 "metadata": {
  "ExecuteTimeLog": [
   {
    "duration": 435,
    "start_time": "2024-02-19T10:56:09.950Z"
   },
   {
    "duration": 307,
    "start_time": "2024-02-19T10:56:17.082Z"
   },
   {
    "duration": 431,
    "start_time": "2024-02-19T10:57:20.714Z"
   },
   {
    "duration": 93,
    "start_time": "2024-02-19T10:58:25.728Z"
   },
   {
    "duration": 91,
    "start_time": "2024-02-19T11:00:55.171Z"
   },
   {
    "duration": 92,
    "start_time": "2024-02-19T11:02:42.301Z"
   },
   {
    "duration": 103,
    "start_time": "2024-02-19T11:04:13.972Z"
   },
   {
    "duration": 97,
    "start_time": "2024-02-19T11:04:19.604Z"
   },
   {
    "duration": 1951,
    "start_time": "2024-02-19T11:04:42.435Z"
   },
   {
    "duration": 1836,
    "start_time": "2024-02-19T11:04:47.267Z"
   },
   {
    "duration": 1894,
    "start_time": "2024-02-19T11:05:07.595Z"
   },
   {
    "duration": 1993,
    "start_time": "2024-02-19T11:05:14.931Z"
   },
   {
    "duration": 25,
    "start_time": "2024-02-19T11:06:04.274Z"
   },
   {
    "duration": 12,
    "start_time": "2024-02-19T11:06:09.693Z"
   },
   {
    "duration": 10,
    "start_time": "2024-02-19T11:06:24.465Z"
   },
   {
    "duration": 1983,
    "start_time": "2024-02-19T11:20:40.608Z"
   },
   {
    "duration": 112,
    "start_time": "2024-02-19T11:21:00.751Z"
   },
   {
    "duration": 2060,
    "start_time": "2024-02-19T11:21:09.927Z"
   },
   {
    "duration": 4114,
    "start_time": "2024-02-19T11:25:37.827Z"
   },
   {
    "duration": 1370,
    "start_time": "2024-02-19T11:25:46.971Z"
   },
   {
    "duration": 1501,
    "start_time": "2024-02-19T11:26:27.668Z"
   },
   {
    "duration": 16,
    "start_time": "2024-02-19T11:26:36.828Z"
   },
   {
    "duration": 12,
    "start_time": "2024-02-19T11:26:54.788Z"
   },
   {
    "duration": 27,
    "start_time": "2024-02-19T11:47:19.963Z"
   },
   {
    "duration": 19,
    "start_time": "2024-02-19T11:47:28.825Z"
   },
   {
    "duration": 20,
    "start_time": "2024-02-19T11:48:10.146Z"
   },
   {
    "duration": 19,
    "start_time": "2024-02-19T11:48:44.066Z"
   },
   {
    "duration": 19,
    "start_time": "2024-02-19T11:49:01.634Z"
   },
   {
    "duration": 1892,
    "start_time": "2024-02-19T11:49:08.105Z"
   },
   {
    "duration": 23,
    "start_time": "2024-02-19T11:49:11.820Z"
   },
   {
    "duration": 28,
    "start_time": "2024-02-19T11:49:50.777Z"
   },
   {
    "duration": 26,
    "start_time": "2024-02-19T11:50:14.754Z"
   },
   {
    "duration": 28,
    "start_time": "2024-02-19T11:51:24.345Z"
   },
   {
    "duration": 19,
    "start_time": "2024-02-19T11:51:39.841Z"
   },
   {
    "duration": 21,
    "start_time": "2024-02-19T11:53:34.457Z"
   },
   {
    "duration": 20,
    "start_time": "2024-02-19T11:54:06.200Z"
   },
   {
    "duration": 21,
    "start_time": "2024-02-19T11:54:11.416Z"
   },
   {
    "duration": 20,
    "start_time": "2024-02-19T11:54:21.440Z"
   },
   {
    "duration": 13,
    "start_time": "2024-02-19T11:54:39.608Z"
   },
   {
    "duration": 14,
    "start_time": "2024-02-19T11:55:00.032Z"
   },
   {
    "duration": 24,
    "start_time": "2024-02-19T11:55:10.519Z"
   },
   {
    "duration": 310,
    "start_time": "2024-02-19T11:55:29.095Z"
   },
   {
    "duration": 2098,
    "start_time": "2024-02-19T11:55:40.904Z"
   },
   {
    "duration": 25,
    "start_time": "2024-02-19T11:55:47.481Z"
   },
   {
    "duration": 18,
    "start_time": "2024-02-19T11:55:53.832Z"
   },
   {
    "duration": 18,
    "start_time": "2024-02-19T11:56:49.183Z"
   },
   {
    "duration": 19,
    "start_time": "2024-02-19T11:57:15.871Z"
   },
   {
    "duration": 21,
    "start_time": "2024-02-19T11:57:45.095Z"
   },
   {
    "duration": 29,
    "start_time": "2024-02-19T12:08:24.590Z"
   },
   {
    "duration": 2047,
    "start_time": "2024-02-19T12:09:24.133Z"
   },
   {
    "duration": 1886,
    "start_time": "2024-02-19T12:09:34.996Z"
   },
   {
    "duration": 30,
    "start_time": "2024-02-19T12:10:13.053Z"
   },
   {
    "duration": 15,
    "start_time": "2024-02-19T12:10:56.891Z"
   },
   {
    "duration": 13,
    "start_time": "2024-02-19T12:11:06.883Z"
   },
   {
    "duration": 31,
    "start_time": "2024-02-19T12:11:50.523Z"
   },
   {
    "duration": 34,
    "start_time": "2024-02-19T12:12:01.381Z"
   },
   {
    "duration": 33,
    "start_time": "2024-02-19T12:13:18.594Z"
   },
   {
    "duration": 24,
    "start_time": "2024-02-19T12:16:16.369Z"
   },
   {
    "duration": 2218,
    "start_time": "2024-02-19T12:17:01.344Z"
   },
   {
    "duration": 1944,
    "start_time": "2024-02-19T12:17:21.528Z"
   },
   {
    "duration": 1849,
    "start_time": "2024-02-19T12:17:32.976Z"
   },
   {
    "duration": 32,
    "start_time": "2024-02-19T12:18:00.608Z"
   },
   {
    "duration": 362,
    "start_time": "2024-02-19T12:20:19.983Z"
   },
   {
    "duration": 46,
    "start_time": "2024-02-19T12:22:17.246Z"
   },
   {
    "duration": 36,
    "start_time": "2024-02-19T12:22:44.222Z"
   },
   {
    "duration": 1155,
    "start_time": "2024-02-19T12:40:38.084Z"
   },
   {
    "duration": 76,
    "start_time": "2024-02-19T12:40:48.868Z"
   },
   {
    "duration": 85,
    "start_time": "2024-02-19T12:48:05.920Z"
   },
   {
    "duration": 107,
    "start_time": "2024-02-19T12:48:40.897Z"
   },
   {
    "duration": 134,
    "start_time": "2024-02-19T12:49:44.280Z"
   },
   {
    "duration": 127,
    "start_time": "2024-02-19T12:50:38.615Z"
   },
   {
    "duration": 149,
    "start_time": "2024-02-19T12:50:53.344Z"
   },
   {
    "duration": 143,
    "start_time": "2024-02-19T12:50:55.727Z"
   },
   {
    "duration": 1811,
    "start_time": "2024-02-19T12:52:49.292Z"
   },
   {
    "duration": 74,
    "start_time": "2024-02-19T12:52:56.014Z"
   },
   {
    "duration": 79,
    "start_time": "2024-02-19T12:53:01.509Z"
   },
   {
    "duration": 139,
    "start_time": "2024-02-19T12:53:23.134Z"
   },
   {
    "duration": 193,
    "start_time": "2024-02-19T12:53:32.005Z"
   },
   {
    "duration": 230,
    "start_time": "2024-02-19T12:53:46.430Z"
   },
   {
    "duration": 248,
    "start_time": "2024-02-19T12:54:12.037Z"
   },
   {
    "duration": 260,
    "start_time": "2024-02-19T12:54:34.677Z"
   },
   {
    "duration": 303,
    "start_time": "2024-02-19T12:55:17.413Z"
   },
   {
    "duration": 29,
    "start_time": "2024-02-19T13:20:31.637Z"
   },
   {
    "duration": 23,
    "start_time": "2024-02-19T13:32:35.261Z"
   },
   {
    "duration": 125,
    "start_time": "2024-02-19T13:35:13.459Z"
   },
   {
    "duration": 28,
    "start_time": "2024-02-19T13:35:25.811Z"
   },
   {
    "duration": 1555,
    "start_time": "2024-02-19T13:39:15.881Z"
   },
   {
    "duration": 256,
    "start_time": "2024-02-19T13:39:41.522Z"
   },
   {
    "duration": 29,
    "start_time": "2024-02-19T13:48:11.846Z"
   },
   {
    "duration": 348,
    "start_time": "2024-02-19T13:51:40.260Z"
   },
   {
    "duration": 405,
    "start_time": "2024-02-19T13:51:47.333Z"
   },
   {
    "duration": 440,
    "start_time": "2024-02-19T13:52:20.956Z"
   },
   {
    "duration": 85,
    "start_time": "2024-02-19T13:52:50.852Z"
   },
   {
    "duration": 32,
    "start_time": "2024-02-19T13:52:57.395Z"
   },
   {
    "duration": 92,
    "start_time": "2024-02-19T13:53:13.756Z"
   },
   {
    "duration": 26,
    "start_time": "2024-02-19T13:53:21.035Z"
   },
   {
    "duration": 93,
    "start_time": "2024-02-19T13:53:23.051Z"
   },
   {
    "duration": 459,
    "start_time": "2024-02-19T13:55:56.250Z"
   },
   {
    "duration": 280,
    "start_time": "2024-02-19T13:56:56.881Z"
   },
   {
    "duration": 281,
    "start_time": "2024-02-19T13:58:48.464Z"
   },
   {
    "duration": 1966,
    "start_time": "2024-02-19T13:59:24.808Z"
   },
   {
    "duration": 317,
    "start_time": "2024-02-19T13:59:27.464Z"
   },
   {
    "duration": 83,
    "start_time": "2024-02-19T14:00:12.240Z"
   },
   {
    "duration": 86,
    "start_time": "2024-02-19T14:00:15.328Z"
   },
   {
    "duration": 277,
    "start_time": "2024-02-19T14:00:18.672Z"
   },
   {
    "duration": 294,
    "start_time": "2024-02-19T14:01:37.199Z"
   },
   {
    "duration": 175,
    "start_time": "2024-02-19T14:43:39.554Z"
   },
   {
    "duration": 94,
    "start_time": "2024-02-19T14:43:49.855Z"
   },
   {
    "duration": 120,
    "start_time": "2024-02-19T14:44:04.647Z"
   },
   {
    "duration": 124,
    "start_time": "2024-02-19T14:44:15.559Z"
   },
   {
    "duration": 138,
    "start_time": "2024-02-19T14:45:50.366Z"
   },
   {
    "duration": 1236,
    "start_time": "2024-02-19T14:46:15.726Z"
   },
   {
    "duration": 127,
    "start_time": "2024-02-19T14:46:25.150Z"
   },
   {
    "duration": 2813,
    "start_time": "2024-02-19T14:46:48.030Z"
   },
   {
    "duration": 2637,
    "start_time": "2024-02-19T14:47:17.430Z"
   },
   {
    "duration": 7,
    "start_time": "2024-02-19T14:50:20.242Z"
   },
   {
    "duration": 341,
    "start_time": "2024-02-19T14:50:33.521Z"
   },
   {
    "duration": 1169,
    "start_time": "2024-02-19T14:52:50.697Z"
   },
   {
    "duration": 2509,
    "start_time": "2024-02-19T14:54:56.982Z"
   },
   {
    "duration": 91,
    "start_time": "2024-02-20T07:40:14.704Z"
   },
   {
    "duration": 42,
    "start_time": "2024-02-20T07:40:17.803Z"
   },
   {
    "duration": 3252,
    "start_time": "2024-02-20T07:40:24.051Z"
   },
   {
    "duration": 298,
    "start_time": "2024-02-20T07:40:30.667Z"
   },
   {
    "duration": 322,
    "start_time": "2024-02-20T07:40:34.211Z"
   },
   {
    "duration": 2357,
    "start_time": "2024-02-20T07:40:37.163Z"
   },
   {
    "duration": 2484,
    "start_time": "2024-02-20T07:41:07.307Z"
   },
   {
    "duration": 2497,
    "start_time": "2024-02-20T07:41:26.035Z"
   },
   {
    "duration": 2385,
    "start_time": "2024-02-20T07:53:29.367Z"
   },
   {
    "duration": 89,
    "start_time": "2024-02-20T07:54:43.030Z"
   },
   {
    "duration": 1449,
    "start_time": "2024-02-20T07:54:48.901Z"
   },
   {
    "duration": 2485,
    "start_time": "2024-02-20T07:55:34.821Z"
   },
   {
    "duration": 1422,
    "start_time": "2024-02-20T07:56:56.059Z"
   },
   {
    "duration": 1399,
    "start_time": "2024-02-20T07:57:13.315Z"
   },
   {
    "duration": 1267,
    "start_time": "2024-02-20T07:57:18.483Z"
   },
   {
    "duration": 1434,
    "start_time": "2024-02-20T07:57:56.667Z"
   },
   {
    "duration": 1421,
    "start_time": "2024-02-20T07:58:25.690Z"
   },
   {
    "duration": 1046,
    "start_time": "2024-02-20T07:58:38.810Z"
   },
   {
    "duration": 1266,
    "start_time": "2024-02-20T07:58:45.234Z"
   },
   {
    "duration": 1081,
    "start_time": "2024-02-20T07:58:54.881Z"
   },
   {
    "duration": 1724,
    "start_time": "2024-02-20T08:16:18.127Z"
   },
   {
    "duration": 1673,
    "start_time": "2024-02-20T08:16:50.030Z"
   },
   {
    "duration": 1702,
    "start_time": "2024-02-20T08:17:19.206Z"
   },
   {
    "duration": 1574,
    "start_time": "2024-02-20T08:17:48.718Z"
   },
   {
    "duration": 1750,
    "start_time": "2024-02-20T08:18:12.181Z"
   },
   {
    "duration": 1760,
    "start_time": "2024-02-20T08:18:16.245Z"
   },
   {
    "duration": 1642,
    "start_time": "2024-02-20T08:18:18.805Z"
   },
   {
    "duration": 1725,
    "start_time": "2024-02-20T08:18:31.758Z"
   },
   {
    "duration": 1774,
    "start_time": "2024-02-20T08:18:35.180Z"
   },
   {
    "duration": 1655,
    "start_time": "2024-02-20T08:18:51.133Z"
   },
   {
    "duration": 1268,
    "start_time": "2024-02-20T08:19:45.597Z"
   },
   {
    "duration": 53,
    "start_time": "2024-02-20T16:58:24.748Z"
   },
   {
    "duration": 3346,
    "start_time": "2024-02-20T16:58:31.606Z"
   },
   {
    "duration": 326,
    "start_time": "2024-02-20T16:58:38.030Z"
   },
   {
    "duration": 359,
    "start_time": "2024-02-20T16:58:41.046Z"
   },
   {
    "duration": 1285,
    "start_time": "2024-02-20T16:58:43.711Z"
   },
   {
    "duration": 3374,
    "start_time": "2024-02-20T17:04:49.178Z"
   },
   {
    "duration": 323,
    "start_time": "2024-02-20T17:04:54.961Z"
   },
   {
    "duration": 341,
    "start_time": "2024-02-20T17:04:57.419Z"
   },
   {
    "duration": 1345,
    "start_time": "2024-02-20T17:05:59.272Z"
   },
   {
    "duration": 1168,
    "start_time": "2024-02-20T17:07:24.137Z"
   },
   {
    "duration": 1311,
    "start_time": "2024-02-20T17:07:38.281Z"
   },
   {
    "duration": 1198,
    "start_time": "2024-02-20T17:08:10.160Z"
   },
   {
    "duration": 3550,
    "start_time": "2024-02-20T17:11:51.838Z"
   },
   {
    "duration": 372,
    "start_time": "2024-02-20T17:11:57.789Z"
   },
   {
    "duration": 366,
    "start_time": "2024-02-20T17:12:00.013Z"
   },
   {
    "duration": 3237,
    "start_time": "2024-02-20T17:16:26.003Z"
   },
   {
    "duration": 379,
    "start_time": "2024-02-20T17:16:31.083Z"
   },
   {
    "duration": 345,
    "start_time": "2024-02-20T17:16:34.346Z"
   },
   {
    "duration": 2934,
    "start_time": "2024-02-20T17:16:36.722Z"
   },
   {
    "duration": 2663,
    "start_time": "2024-02-20T17:17:41.442Z"
   },
   {
    "duration": 2922,
    "start_time": "2024-02-20T17:18:45.657Z"
   },
   {
    "duration": 1592,
    "start_time": "2024-02-20T17:19:47.993Z"
   },
   {
    "duration": 1758,
    "start_time": "2024-02-20T17:20:31.280Z"
   },
   {
    "duration": 1686,
    "start_time": "2024-02-20T17:20:54.665Z"
   },
   {
    "duration": 2865,
    "start_time": "2024-02-20T17:21:12.736Z"
   },
   {
    "duration": 3070,
    "start_time": "2024-02-20T17:21:34.760Z"
   },
   {
    "duration": 2709,
    "start_time": "2024-02-20T17:21:57.072Z"
   },
   {
    "duration": 2237,
    "start_time": "2024-02-20T17:23:06.551Z"
   },
   {
    "duration": 2355,
    "start_time": "2024-02-20T17:23:15.383Z"
   },
   {
    "duration": 2233,
    "start_time": "2024-02-20T17:23:35.470Z"
   },
   {
    "duration": 2235,
    "start_time": "2024-02-20T17:23:46.606Z"
   },
   {
    "duration": 2298,
    "start_time": "2024-02-20T17:24:09.966Z"
   },
   {
    "duration": 2437,
    "start_time": "2024-02-20T17:34:25.545Z"
   },
   {
    "duration": 2539,
    "start_time": "2024-02-20T17:35:01.360Z"
   },
   {
    "duration": 3528,
    "start_time": "2024-02-20T17:35:55.303Z"
   },
   {
    "duration": 3498,
    "start_time": "2024-02-20T17:59:53.202Z"
   },
   {
    "duration": 1409,
    "start_time": "2024-02-20T18:00:11.937Z"
   },
   {
    "duration": 3654,
    "start_time": "2024-02-20T18:00:15.113Z"
   },
   {
    "duration": 3569,
    "start_time": "2024-02-20T18:00:56.944Z"
   },
   {
    "duration": 3550,
    "start_time": "2024-02-20T18:01:07.464Z"
   },
   {
    "duration": 3571,
    "start_time": "2024-02-20T18:01:22.127Z"
   },
   {
    "duration": 3620,
    "start_time": "2024-02-20T18:01:35.616Z"
   },
   {
    "duration": 3577,
    "start_time": "2024-02-20T18:05:16.518Z"
   },
   {
    "duration": 3574,
    "start_time": "2024-02-20T18:05:29.543Z"
   },
   {
    "duration": 3435,
    "start_time": "2024-02-20T18:05:40.599Z"
   },
   {
    "duration": 3513,
    "start_time": "2024-02-20T18:06:31.822Z"
   },
   {
    "duration": 3502,
    "start_time": "2024-02-20T18:06:38.966Z"
   },
   {
    "duration": 3718,
    "start_time": "2024-02-20T18:07:01.837Z"
   },
   {
    "duration": 3509,
    "start_time": "2024-02-20T18:07:10.261Z"
   },
   {
    "duration": 3532,
    "start_time": "2024-02-20T18:07:21.861Z"
   },
   {
    "duration": 3552,
    "start_time": "2024-02-20T18:07:30.149Z"
   },
   {
    "duration": 96,
    "start_time": "2024-02-20T18:07:39.710Z"
   },
   {
    "duration": 95,
    "start_time": "2024-02-20T18:07:42.933Z"
   },
   {
    "duration": 3423,
    "start_time": "2024-02-20T18:07:50.540Z"
   },
   {
    "duration": 3700,
    "start_time": "2024-02-20T18:08:41.093Z"
   },
   {
    "duration": 3612,
    "start_time": "2024-02-20T18:08:48.741Z"
   },
   {
    "duration": 3461,
    "start_time": "2024-02-20T18:08:54.373Z"
   },
   {
    "duration": 3545,
    "start_time": "2024-02-20T18:10:08.892Z"
   },
   {
    "duration": 197,
    "start_time": "2024-02-20T18:10:24.732Z"
   },
   {
    "duration": 3472,
    "start_time": "2024-02-20T18:10:27.004Z"
   },
   {
    "duration": 3618,
    "start_time": "2024-02-20T18:10:44.076Z"
   },
   {
    "duration": 3673,
    "start_time": "2024-02-20T18:10:49.164Z"
   },
   {
    "duration": 3444,
    "start_time": "2024-02-20T18:11:24.996Z"
   },
   {
    "duration": 3488,
    "start_time": "2024-02-20T18:11:56.596Z"
   },
   {
    "duration": 3444,
    "start_time": "2024-02-20T18:12:11.267Z"
   },
   {
    "duration": 3466,
    "start_time": "2024-02-20T18:15:38.268Z"
   },
   {
    "duration": 3580,
    "start_time": "2024-02-20T18:17:37.628Z"
   },
   {
    "duration": 3529,
    "start_time": "2024-02-20T18:17:48.171Z"
   },
   {
    "duration": 3740,
    "start_time": "2024-02-20T18:17:58.659Z"
   },
   {
    "duration": 3661,
    "start_time": "2024-02-20T18:18:17.068Z"
   },
   {
    "duration": 5412,
    "start_time": "2024-02-20T18:19:13.402Z"
   },
   {
    "duration": 5251,
    "start_time": "2024-02-20T18:20:11.762Z"
   },
   {
    "duration": 5341,
    "start_time": "2024-02-20T18:20:52.554Z"
   },
   {
    "duration": 3837,
    "start_time": "2024-02-20T18:21:11.585Z"
   },
   {
    "duration": 3864,
    "start_time": "2024-02-20T18:21:23.945Z"
   },
   {
    "duration": 3282,
    "start_time": "2024-02-21T15:36:26.972Z"
   },
   {
    "duration": 314,
    "start_time": "2024-02-21T15:36:34.682Z"
   },
   {
    "duration": 351,
    "start_time": "2024-02-21T15:36:39.842Z"
   },
   {
    "duration": 108,
    "start_time": "2024-02-21T15:44:57.239Z"
   },
   {
    "duration": 3724,
    "start_time": "2024-02-21T15:45:10.366Z"
   },
   {
    "duration": 126,
    "start_time": "2024-02-21T15:51:58.362Z"
   },
   {
    "duration": 3729,
    "start_time": "2024-02-21T15:52:04.344Z"
   },
   {
    "duration": 3690,
    "start_time": "2024-02-21T15:54:15.808Z"
   },
   {
    "duration": 21,
    "start_time": "2024-02-21T15:54:28.304Z"
   },
   {
    "duration": 20,
    "start_time": "2024-02-21T15:54:31.615Z"
   },
   {
    "duration": 2410,
    "start_time": "2024-02-21T15:54:44.622Z"
   },
   {
    "duration": 311,
    "start_time": "2024-02-21T16:09:39.663Z"
   },
   {
    "duration": 321,
    "start_time": "2024-02-21T16:09:42.399Z"
   },
   {
    "duration": 3859,
    "start_time": "2024-02-21T16:09:45.943Z"
   },
   {
    "duration": 3989,
    "start_time": "2024-02-21T16:10:04.760Z"
   },
   {
    "duration": 4060,
    "start_time": "2024-02-21T16:10:20.184Z"
   },
   {
    "duration": 4419,
    "start_time": "2024-02-21T16:10:35.495Z"
   },
   {
    "duration": 4430,
    "start_time": "2024-02-21T16:10:44.726Z"
   },
   {
    "duration": 4204,
    "start_time": "2024-02-21T16:11:04.351Z"
   },
   {
    "duration": 4446,
    "start_time": "2024-02-21T16:11:18.943Z"
   },
   {
    "duration": 4185,
    "start_time": "2024-02-21T16:12:37.334Z"
   },
   {
    "duration": 4099,
    "start_time": "2024-02-21T16:12:51.990Z"
   },
   {
    "duration": 3896,
    "start_time": "2024-02-21T17:14:35.199Z"
   },
   {
    "duration": 3907,
    "start_time": "2024-02-21T17:14:51.182Z"
   },
   {
    "duration": 294,
    "start_time": "2024-02-21T17:27:15.486Z"
   },
   {
    "duration": 343,
    "start_time": "2024-02-21T17:31:48.915Z"
   },
   {
    "duration": 3865,
    "start_time": "2024-02-21T17:39:22.608Z"
   },
   {
    "duration": 120,
    "start_time": "2024-02-21T17:41:44.039Z"
   },
   {
    "duration": 168,
    "start_time": "2024-02-21T17:41:50.144Z"
   },
   {
    "duration": 3925,
    "start_time": "2024-02-21T17:41:58.325Z"
   },
   {
    "duration": 3376,
    "start_time": "2024-02-21T17:51:42.016Z"
   },
   {
    "duration": 300,
    "start_time": "2024-02-21T17:51:45.394Z"
   },
   {
    "duration": 360,
    "start_time": "2024-02-21T17:51:45.695Z"
   },
   {
    "duration": 3762,
    "start_time": "2024-02-21T17:51:46.057Z"
   },
   {
    "duration": 3003,
    "start_time": "2024-02-21T17:58:14.470Z"
   },
   {
    "duration": 302,
    "start_time": "2024-02-21T17:58:17.475Z"
   },
   {
    "duration": 345,
    "start_time": "2024-02-21T17:58:17.781Z"
   },
   {
    "duration": 3726,
    "start_time": "2024-02-21T17:58:18.128Z"
   },
   {
    "duration": 120,
    "start_time": "2024-02-26T20:00:12.161Z"
   },
   {
    "duration": 735,
    "start_time": "2024-02-26T20:04:38.969Z"
   },
   {
    "duration": 15,
    "start_time": "2024-02-26T20:04:42.216Z"
   },
   {
    "duration": 2651,
    "start_time": "2024-02-26T20:04:45.256Z"
   },
   {
    "duration": 13,
    "start_time": "2024-02-26T20:04:53.001Z"
   },
   {
    "duration": 16,
    "start_time": "2024-02-26T20:04:55.681Z"
   },
   {
    "duration": 302,
    "start_time": "2024-02-26T20:04:57.736Z"
   },
   {
    "duration": 319,
    "start_time": "2024-02-26T20:05:00.161Z"
   },
   {
    "duration": 275,
    "start_time": "2024-02-26T20:05:16.520Z"
   },
   {
    "duration": 366,
    "start_time": "2024-02-26T20:05:21.913Z"
   },
   {
    "duration": 1886,
    "start_time": "2024-02-26T20:05:24.201Z"
   },
   {
    "duration": 295,
    "start_time": "2024-02-26T20:05:27.208Z"
   },
   {
    "duration": 1230,
    "start_time": "2024-02-26T20:05:29.312Z"
   },
   {
    "duration": 31,
    "start_time": "2024-02-26T20:05:33.144Z"
   },
   {
    "duration": 354,
    "start_time": "2024-02-26T20:05:35.728Z"
   },
   {
    "duration": 458,
    "start_time": "2024-02-27T05:55:51.199Z"
   },
   {
    "duration": 15,
    "start_time": "2024-02-27T05:55:51.659Z"
   },
   {
    "duration": 2210,
    "start_time": "2024-02-27T05:55:51.675Z"
   },
   {
    "duration": 12,
    "start_time": "2024-02-27T05:55:53.887Z"
   },
   {
    "duration": 21,
    "start_time": "2024-02-27T05:55:53.901Z"
   },
   {
    "duration": 242,
    "start_time": "2024-02-27T05:55:53.923Z"
   },
   {
    "duration": 281,
    "start_time": "2024-02-27T05:55:54.167Z"
   },
   {
    "duration": 1730,
    "start_time": "2024-02-27T05:55:54.449Z"
   },
   {
    "duration": 199,
    "start_time": "2024-02-27T05:55:56.181Z"
   },
   {
    "duration": 1241,
    "start_time": "2024-02-27T05:55:56.382Z"
   },
   {
    "duration": 24,
    "start_time": "2024-02-27T05:55:57.625Z"
   },
   {
    "duration": 331,
    "start_time": "2024-02-27T05:55:57.664Z"
   },
   {
    "duration": 7,
    "start_time": "2024-02-27T05:57:45.535Z"
   },
   {
    "duration": 67,
    "start_time": "2024-02-27T05:58:06.292Z"
   },
   {
    "duration": 83,
    "start_time": "2024-02-27T05:58:08.785Z"
   },
   {
    "duration": 403,
    "start_time": "2024-02-28T12:03:47.711Z"
   },
   {
    "duration": 295,
    "start_time": "2024-02-28T12:03:49.921Z"
   },
   {
    "duration": 41,
    "start_time": "2024-02-28T12:03:52.106Z"
   },
   {
    "duration": 2410,
    "start_time": "2024-02-28T12:04:07.545Z"
   },
   {
    "duration": 2050,
    "start_time": "2024-02-28T12:04:20.881Z"
   },
   {
    "duration": 2030,
    "start_time": "2024-02-28T12:04:25.361Z"
   },
   {
    "duration": 1239,
    "start_time": "2024-02-28T12:11:22.464Z"
   },
   {
    "duration": 16,
    "start_time": "2024-02-28T12:11:32.639Z"
   },
   {
    "duration": 3,
    "start_time": "2024-02-28T12:11:39.967Z"
   },
   {
    "duration": 92,
    "start_time": "2024-02-28T12:11:41.438Z"
   },
   {
    "duration": 37,
    "start_time": "2024-02-28T12:11:43.743Z"
   },
   {
    "duration": 2009,
    "start_time": "2024-02-28T12:11:46.974Z"
   },
   {
    "duration": 12,
    "start_time": "2024-02-28T12:11:52.390Z"
   },
   {
    "duration": 12,
    "start_time": "2024-02-28T12:11:55.222Z"
   },
   {
    "duration": 240,
    "start_time": "2024-02-28T12:11:57.918Z"
   },
   {
    "duration": 291,
    "start_time": "2024-02-28T12:12:01.535Z"
   },
   {
    "duration": 1884,
    "start_time": "2024-02-28T12:12:03.966Z"
   },
   {
    "duration": 1758,
    "start_time": "2024-02-28T12:13:52.535Z"
   },
   {
    "duration": 1970,
    "start_time": "2024-02-28T12:16:19.821Z"
   },
   {
    "duration": 1828,
    "start_time": "2024-02-28T12:16:27.070Z"
   },
   {
    "duration": 1780,
    "start_time": "2024-02-28T12:16:39.757Z"
   },
   {
    "duration": 1875,
    "start_time": "2024-02-28T12:17:00.935Z"
   },
   {
    "duration": 1796,
    "start_time": "2024-02-28T12:17:04.876Z"
   },
   {
    "duration": 73,
    "start_time": "2024-02-28T12:18:30.539Z"
   },
   {
    "duration": 613,
    "start_time": "2024-02-28T12:40:04.197Z"
   },
   {
    "duration": 622,
    "start_time": "2024-02-28T12:40:49.049Z"
   },
   {
    "duration": 192026,
    "start_time": "2024-02-28T12:42:23.594Z"
   },
   {
    "duration": 11,
    "start_time": "2024-02-28T12:46:54.580Z"
   },
   {
    "duration": 12,
    "start_time": "2024-02-28T12:47:47.323Z"
   },
   {
    "duration": 11,
    "start_time": "2024-02-28T12:47:54.068Z"
   },
   {
    "duration": 90,
    "start_time": "2024-02-28T12:48:57.267Z"
   },
   {
    "duration": 317,
    "start_time": "2024-02-28T12:49:04.115Z"
   },
   {
    "duration": 20,
    "start_time": "2024-02-28T12:49:17.948Z"
   },
   {
    "duration": 71,
    "start_time": "2024-02-28T12:50:44.578Z"
   },
   {
    "duration": 73,
    "start_time": "2024-02-28T12:50:48.538Z"
   },
   {
    "duration": 10,
    "start_time": "2024-02-28T12:50:51.834Z"
   },
   {
    "duration": 23,
    "start_time": "2024-02-28T12:52:01.722Z"
   },
   {
    "duration": 19,
    "start_time": "2024-02-28T12:57:07.047Z"
   },
   {
    "duration": 888,
    "start_time": "2024-02-28T16:19:10.070Z"
   },
   {
    "duration": 809,
    "start_time": "2024-02-28T17:11:10.762Z"
   },
   {
    "duration": 935,
    "start_time": "2024-02-28T17:11:18.551Z"
   },
   {
    "duration": 777,
    "start_time": "2024-02-28T17:11:31.935Z"
   },
   {
    "duration": 882,
    "start_time": "2024-02-28T17:12:01.151Z"
   },
   {
    "duration": 913,
    "start_time": "2024-02-28T17:12:17.760Z"
   },
   {
    "duration": 913,
    "start_time": "2024-02-28T17:13:21.478Z"
   },
   {
    "duration": 794,
    "start_time": "2024-02-28T17:13:33.333Z"
   },
   {
    "duration": 815,
    "start_time": "2024-02-28T17:13:51.606Z"
   },
   {
    "duration": 765,
    "start_time": "2024-02-28T17:13:56.405Z"
   },
   {
    "duration": 958,
    "start_time": "2024-02-28T17:14:12.252Z"
   },
   {
    "duration": 929,
    "start_time": "2024-02-28T17:14:22.357Z"
   },
   {
    "duration": 1234,
    "start_time": "2024-02-28T17:15:04.612Z"
   },
   {
    "duration": 1218,
    "start_time": "2024-02-28T17:15:33.476Z"
   },
   {
    "duration": 1223,
    "start_time": "2024-02-28T17:15:42.484Z"
   },
   {
    "duration": 1260,
    "start_time": "2024-02-28T17:18:44.930Z"
   },
   {
    "duration": 36,
    "start_time": "2024-02-28T17:19:29.099Z"
   },
   {
    "duration": 23,
    "start_time": "2024-02-28T17:20:28.097Z"
   },
   {
    "duration": 26,
    "start_time": "2024-02-28T17:20:40.929Z"
   },
   {
    "duration": 309,
    "start_time": "2024-02-28T17:21:46.737Z"
   },
   {
    "duration": 1550,
    "start_time": "2024-02-28T19:34:53.809Z"
   },
   {
    "duration": 376,
    "start_time": "2024-02-28T19:35:11.695Z"
   },
   {
    "duration": 724,
    "start_time": "2024-02-29T05:53:41.422Z"
   },
   {
    "duration": 203,
    "start_time": "2024-02-29T05:53:42.148Z"
   },
   {
    "duration": 101,
    "start_time": "2024-02-29T05:53:42.353Z"
   },
   {
    "duration": 5408,
    "start_time": "2024-02-29T05:53:42.456Z"
   },
   {
    "duration": 64,
    "start_time": "2024-02-29T05:53:47.866Z"
   },
   {
    "duration": 16,
    "start_time": "2024-02-29T05:53:47.931Z"
   },
   {
    "duration": 590,
    "start_time": "2024-02-29T05:53:47.949Z"
   },
   {
    "duration": 692,
    "start_time": "2024-02-29T05:53:48.541Z"
   },
   {
    "duration": 4209,
    "start_time": "2024-02-29T05:53:49.235Z"
   },
   {
    "duration": 412,
    "start_time": "2024-02-29T05:53:53.446Z"
   },
   {
    "duration": 2886,
    "start_time": "2024-02-29T05:53:53.860Z"
   },
   {
    "duration": 81,
    "start_time": "2024-02-29T05:53:56.747Z"
   },
   {
    "duration": 701,
    "start_time": "2024-02-29T05:53:56.829Z"
   },
   {
    "duration": 83,
    "start_time": "2024-02-29T06:58:53.059Z"
   },
   {
    "duration": 390,
    "start_time": "2024-02-29T06:59:03.464Z"
   },
   {
    "duration": 104,
    "start_time": "2024-02-29T06:59:03.856Z"
   },
   {
    "duration": 51,
    "start_time": "2024-02-29T06:59:03.962Z"
   },
   {
    "duration": 2480,
    "start_time": "2024-02-29T06:59:04.022Z"
   },
   {
    "duration": 21,
    "start_time": "2024-02-29T06:59:06.505Z"
   },
   {
    "duration": 23,
    "start_time": "2024-02-29T06:59:06.528Z"
   },
   {
    "duration": 307,
    "start_time": "2024-02-29T06:59:06.553Z"
   },
   {
    "duration": 330,
    "start_time": "2024-02-29T06:59:06.862Z"
   },
   {
    "duration": 2016,
    "start_time": "2024-02-29T06:59:07.194Z"
   },
   {
    "duration": 89,
    "start_time": "2024-02-29T06:59:09.212Z"
   },
   {
    "duration": 207,
    "start_time": "2024-02-29T06:59:09.302Z"
   },
   {
    "duration": 1419,
    "start_time": "2024-02-29T06:59:09.510Z"
   },
   {
    "duration": 26,
    "start_time": "2024-02-29T06:59:10.931Z"
   },
   {
    "duration": 345,
    "start_time": "2024-02-29T06:59:10.960Z"
   },
   {
    "duration": 402,
    "start_time": "2024-02-29T09:07:55.238Z"
   },
   {
    "duration": 309,
    "start_time": "2024-02-29T09:07:57.018Z"
   },
   {
    "duration": 44,
    "start_time": "2024-02-29T09:07:59.138Z"
   },
   {
    "duration": 2856,
    "start_time": "2024-02-29T09:08:03.460Z"
   },
   {
    "duration": 19,
    "start_time": "2024-02-29T09:08:11.448Z"
   },
   {
    "duration": 23,
    "start_time": "2024-02-29T09:08:14.280Z"
   },
   {
    "duration": 297,
    "start_time": "2024-02-29T09:08:16.679Z"
   },
   {
    "duration": 405,
    "start_time": "2024-02-29T09:08:22.690Z"
   },
   {
    "duration": 2201,
    "start_time": "2024-02-29T09:08:28.225Z"
   },
   {
    "duration": 2105,
    "start_time": "2024-02-29T09:09:57.408Z"
   },
   {
    "duration": 2016,
    "start_time": "2024-02-29T09:10:08.172Z"
   },
   {
    "duration": 3,
    "start_time": "2024-02-29T09:11:29.138Z"
   },
   {
    "duration": 108,
    "start_time": "2024-02-29T09:11:30.681Z"
   },
   {
    "duration": 57,
    "start_time": "2024-02-29T09:11:33.072Z"
   },
   {
    "duration": 2364,
    "start_time": "2024-02-29T09:11:38.399Z"
   },
   {
    "duration": 12,
    "start_time": "2024-02-29T09:11:45.158Z"
   },
   {
    "duration": 314,
    "start_time": "2024-02-29T09:11:47.309Z"
   },
   {
    "duration": 87,
    "start_time": "2024-02-29T09:11:51.312Z"
   },
   {
    "duration": 13,
    "start_time": "2024-02-29T09:12:07.822Z"
   },
   {
    "duration": 341,
    "start_time": "2024-02-29T09:12:11.147Z"
   },
   {
    "duration": 336,
    "start_time": "2024-02-29T09:12:14.196Z"
   },
   {
    "duration": 2024,
    "start_time": "2024-02-29T09:12:22.904Z"
   },
   {
    "duration": 1989,
    "start_time": "2024-02-29T09:13:50.021Z"
   },
   {
    "duration": 206,
    "start_time": "2024-02-29T09:14:08.709Z"
   },
   {
    "duration": 1460,
    "start_time": "2024-02-29T09:14:11.502Z"
   },
   {
    "duration": 21,
    "start_time": "2024-02-29T09:14:18.204Z"
   },
   {
    "duration": 18,
    "start_time": "2024-02-29T09:17:05.361Z"
   },
   {
    "duration": 2123,
    "start_time": "2024-02-29T09:17:13.461Z"
   },
   {
    "duration": 3,
    "start_time": "2024-02-29T09:17:29.200Z"
   },
   {
    "duration": 115,
    "start_time": "2024-02-29T09:17:30.180Z"
   },
   {
    "duration": 38,
    "start_time": "2024-02-29T09:17:32.748Z"
   },
   {
    "duration": 2467,
    "start_time": "2024-02-29T09:17:36.391Z"
   },
   {
    "duration": 14,
    "start_time": "2024-02-29T09:17:44.008Z"
   },
   {
    "duration": 13,
    "start_time": "2024-02-29T09:17:46.641Z"
   },
   {
    "duration": 350,
    "start_time": "2024-02-29T09:17:48.711Z"
   },
   {
    "duration": 388,
    "start_time": "2024-02-29T09:18:03.182Z"
   },
   {
    "duration": 2149,
    "start_time": "2024-02-29T09:18:07.862Z"
   },
   {
    "duration": 209,
    "start_time": "2024-02-29T09:18:13.988Z"
   },
   {
    "duration": 1491,
    "start_time": "2024-02-29T09:18:18.203Z"
   },
   {
    "duration": 3,
    "start_time": "2024-02-29T09:18:43.028Z"
   },
   {
    "duration": 94,
    "start_time": "2024-02-29T09:18:44.942Z"
   },
   {
    "duration": 42,
    "start_time": "2024-02-29T09:18:46.660Z"
   },
   {
    "duration": 2275,
    "start_time": "2024-02-29T09:18:50.199Z"
   },
   {
    "duration": 17,
    "start_time": "2024-02-29T09:18:53.881Z"
   },
   {
    "duration": 20,
    "start_time": "2024-02-29T09:18:56.243Z"
   },
   {
    "duration": 314,
    "start_time": "2024-02-29T09:18:58.402Z"
   },
   {
    "duration": 343,
    "start_time": "2024-02-29T09:19:02.299Z"
   },
   {
    "duration": 2190,
    "start_time": "2024-02-29T09:19:04.363Z"
   },
   {
    "duration": 2,
    "start_time": "2024-02-29T09:19:47.700Z"
   },
   {
    "duration": 100,
    "start_time": "2024-02-29T09:19:48.179Z"
   },
   {
    "duration": 38,
    "start_time": "2024-02-29T09:19:50.400Z"
   },
   {
    "duration": 2319,
    "start_time": "2024-02-29T09:19:57.709Z"
   },
   {
    "duration": 12,
    "start_time": "2024-02-29T09:20:03.721Z"
   },
   {
    "duration": 18,
    "start_time": "2024-02-29T09:20:07.030Z"
   },
   {
    "duration": 301,
    "start_time": "2024-02-29T09:20:09.379Z"
   },
   {
    "duration": 346,
    "start_time": "2024-02-29T09:20:12.897Z"
   },
   {
    "duration": 2171,
    "start_time": "2024-02-29T09:20:14.763Z"
   },
   {
    "duration": 2322,
    "start_time": "2024-02-29T09:22:25.339Z"
   },
   {
    "duration": 2346,
    "start_time": "2024-02-29T09:22:31.031Z"
   },
   {
    "duration": 2123,
    "start_time": "2024-02-29T09:22:39.448Z"
   },
   {
    "duration": 187,
    "start_time": "2024-02-29T09:22:56.621Z"
   },
   {
    "duration": 1720,
    "start_time": "2024-02-29T09:22:59.021Z"
   },
   {
    "duration": 37,
    "start_time": "2024-02-29T09:23:03.291Z"
   },
   {
    "duration": 39,
    "start_time": "2024-02-29T09:24:20.921Z"
   },
   {
    "duration": 1364,
    "start_time": "2024-02-29T19:32:12.730Z"
   },
   {
    "duration": 492,
    "start_time": "2024-02-29T19:32:14.096Z"
   },
   {
    "duration": 116,
    "start_time": "2024-02-29T19:32:14.590Z"
   },
   {
    "duration": 14100,
    "start_time": "2024-02-29T19:32:14.788Z"
   },
   {
    "duration": 95,
    "start_time": "2024-02-29T19:32:28.892Z"
   },
   {
    "duration": 18,
    "start_time": "2024-02-29T19:32:28.989Z"
   },
   {
    "duration": 1908,
    "start_time": "2024-02-29T19:32:29.088Z"
   },
   {
    "duration": 1111,
    "start_time": "2024-02-29T19:32:30.998Z"
   },
   {
    "duration": 10195,
    "start_time": "2024-02-29T19:32:32.111Z"
   },
   {
    "duration": 902,
    "start_time": "2024-02-29T19:32:42.388Z"
   },
   {
    "duration": 6020,
    "start_time": "2024-02-29T19:32:43.292Z"
   },
   {
    "duration": 93,
    "start_time": "2024-02-29T19:32:49.314Z"
   },
   {
    "duration": 1195,
    "start_time": "2024-02-29T19:32:49.409Z"
   },
   {
    "duration": 90,
    "start_time": "2024-02-29T19:34:18.648Z"
   }
  ],
  "colab": {
   "provenance": []
  },
  "kernelspec": {
   "display_name": "Python 3 (ipykernel)",
   "language": "python",
   "name": "python3"
  },
  "language_info": {
   "codemirror_mode": {
    "name": "ipython",
    "version": 3
   },
   "file_extension": ".py",
   "mimetype": "text/x-python",
   "name": "python",
   "nbconvert_exporter": "python",
   "pygments_lexer": "ipython3",
   "version": "3.9.5"
  },
  "toc": {
   "base_numbering": 1,
   "nav_menu": {},
   "number_sections": true,
   "sideBar": true,
   "skip_h1_title": true,
   "title_cell": "Table of Contents",
   "title_sidebar": "Contents",
   "toc_cell": false,
   "toc_position": {},
   "toc_section_display": true,
   "toc_window_display": false
  }
 },
 "nbformat": 4,
 "nbformat_minor": 1
}
