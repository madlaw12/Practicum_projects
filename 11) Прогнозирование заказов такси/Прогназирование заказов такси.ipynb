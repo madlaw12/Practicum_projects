{
 "cells": [
  {
   "cell_type": "markdown",
   "metadata": {
    "toc": true
   },
   "source": [
    "<h1>Содержание<span class=\"tocSkip\"></span></h1>\n",
    "<div class=\"toc\"><ul class=\"toc-item\"><li><span><a href=\"#Подготовка\" data-toc-modified-id=\"Подготовка-1\"><span class=\"toc-item-num\">1&nbsp;&nbsp;</span>Подготовка</a></span></li><li><span><a href=\"#Анализ\" data-toc-modified-id=\"Анализ-2\"><span class=\"toc-item-num\">2&nbsp;&nbsp;</span>Анализ</a></span></li><li><span><a href=\"#Обучение\" data-toc-modified-id=\"Обучение-3\"><span class=\"toc-item-num\">3&nbsp;&nbsp;</span>Обучение</a></span><ul class=\"toc-item\"><li><span><a href=\"#LinearRegression\" data-toc-modified-id=\"LinearRegression-3.1\"><span class=\"toc-item-num\">3.1&nbsp;&nbsp;</span>LinearRegression</a></span></li><li><span><a href=\"#RandomForestRegressor\" data-toc-modified-id=\"RandomForestRegressor-3.2\"><span class=\"toc-item-num\">3.2&nbsp;&nbsp;</span>RandomForestRegressor</a></span></li><li><span><a href=\"#CatBoost\" data-toc-modified-id=\"CatBoost-3.3\"><span class=\"toc-item-num\">3.3&nbsp;&nbsp;</span>CatBoost</a></span></li><li><span><a href=\"#XGBoost\" data-toc-modified-id=\"XGBoost-3.4\"><span class=\"toc-item-num\">3.4&nbsp;&nbsp;</span>XGBoost</a></span></li></ul></li><li><span><a href=\"#Вывод\" data-toc-modified-id=\"Вывод-4\"><span class=\"toc-item-num\">4&nbsp;&nbsp;</span>Вывод</a></span></li><li><span><a href=\"#Чек-лист-проверки\" data-toc-modified-id=\"Чек-лист-проверки-5\"><span class=\"toc-item-num\">5&nbsp;&nbsp;</span>Чек-лист проверки</a></span></li></ul></div>"
   ]
  },
  {
   "cell_type": "markdown",
   "metadata": {},
   "source": [
    "#  Прогнозирование заказов такси"
   ]
  },
  {
   "cell_type": "markdown",
   "metadata": {},
   "source": [
    "Компания «Чётенькое такси» собрала исторические данные о заказах такси в аэропортах. Чтобы привлекать больше водителей в период пиковой нагрузки, нужно спрогнозировать количество заказов такси на следующий час. Постройте модель для такого предсказания.\n",
    "\n",
    "Значение метрики *RMSE* на тестовой выборке должно быть не больше 48.\n",
    "\n",
    "Вам нужно:\n",
    "\n",
    "1. Загрузить данные и выполнить их ресемплирование по одному часу.\n",
    "2. Проанализировать данные.\n",
    "3. Обучить разные модели с различными гиперпараметрами. Сделать тестовую выборку размером 10% от исходных данных.\n",
    "4. Проверить данные на тестовой выборке и сделать выводы.\n",
    "\n",
    "\n",
    "Данные лежат в файле `taxi.csv`. Количество заказов находится в столбце `num_orders` (от англ. *number of orders*, «число заказов»)."
   ]
  },
  {
   "cell_type": "markdown",
   "metadata": {},
   "source": [
    "## Подготовка"
   ]
  },
  {
   "cell_type": "code",
   "execution_count": 1,
   "metadata": {},
   "outputs": [],
   "source": [
    "import pandas as pd\n",
    "from sklearn.impute import SimpleImputer\n",
    "from sklearn.pipeline import Pipeline\n",
    "from sklearn.compose import ColumnTransformer\n",
    "from sklearn.preprocessing import StandardScaler\n",
    "from statsmodels.tsa.seasonal import seasonal_decompose\n",
    "import matplotlib.pyplot as plt\n",
    "from sklearn.model_selection import train_test_split, GridSearchCV\n",
    "from sklearn.linear_model import LinearRegression\n",
    "from sklearn.metrics import mean_squared_error\n",
    "from sklearn.ensemble import RandomForestRegressor\n",
    "from sklearn.metrics import make_scorer\n",
    "from catboost import CatBoostRegressor, Pool, MetricVisualizer\n",
    "from xgboost import XGBRegressor\n",
    "import matplotlib.pyplot as plt\n",
    "from math import sqrt\n",
    "import datetime"
   ]
  },
  {
   "cell_type": "code",
   "execution_count": 2,
   "metadata": {},
   "outputs": [
    {
     "data": {
      "text/html": [
       "<div>\n",
       "<style scoped>\n",
       "    .dataframe tbody tr th:only-of-type {\n",
       "        vertical-align: middle;\n",
       "    }\n",
       "\n",
       "    .dataframe tbody tr th {\n",
       "        vertical-align: top;\n",
       "    }\n",
       "\n",
       "    .dataframe thead th {\n",
       "        text-align: right;\n",
       "    }\n",
       "</style>\n",
       "<table border=\"1\" class=\"dataframe\">\n",
       "  <thead>\n",
       "    <tr style=\"text-align: right;\">\n",
       "      <th></th>\n",
       "      <th>num_orders</th>\n",
       "    </tr>\n",
       "    <tr>\n",
       "      <th>datetime</th>\n",
       "      <th></th>\n",
       "    </tr>\n",
       "  </thead>\n",
       "  <tbody>\n",
       "    <tr>\n",
       "      <th>2018-03-01 00:00:00</th>\n",
       "      <td>9</td>\n",
       "    </tr>\n",
       "    <tr>\n",
       "      <th>2018-03-01 00:10:00</th>\n",
       "      <td>14</td>\n",
       "    </tr>\n",
       "    <tr>\n",
       "      <th>2018-03-01 00:20:00</th>\n",
       "      <td>28</td>\n",
       "    </tr>\n",
       "    <tr>\n",
       "      <th>2018-03-01 00:30:00</th>\n",
       "      <td>20</td>\n",
       "    </tr>\n",
       "    <tr>\n",
       "      <th>2018-03-01 00:40:00</th>\n",
       "      <td>32</td>\n",
       "    </tr>\n",
       "  </tbody>\n",
       "</table>\n",
       "</div>"
      ],
      "text/plain": [
       "                     num_orders\n",
       "datetime                       \n",
       "2018-03-01 00:00:00           9\n",
       "2018-03-01 00:10:00          14\n",
       "2018-03-01 00:20:00          28\n",
       "2018-03-01 00:30:00          20\n",
       "2018-03-01 00:40:00          32"
      ]
     },
     "execution_count": 2,
     "metadata": {},
     "output_type": "execute_result"
    }
   ],
   "source": [
    "df = pd.read_csv('/datasets/taxi.csv', index_col=[0], parse_dates=[0])\n",
    "df.head()"
   ]
  },
  {
   "cell_type": "code",
   "execution_count": 3,
   "metadata": {},
   "outputs": [
    {
     "name": "stdout",
     "output_type": "stream",
     "text": [
      "<class 'pandas.core.frame.DataFrame'>\n",
      "DatetimeIndex: 26496 entries, 2018-03-01 00:00:00 to 2018-08-31 23:50:00\n",
      "Data columns (total 1 columns):\n",
      " #   Column      Non-Null Count  Dtype\n",
      "---  ------      --------------  -----\n",
      " 0   num_orders  26496 non-null  int64\n",
      "dtypes: int64(1)\n",
      "memory usage: 414.0 KB\n"
     ]
    }
   ],
   "source": [
    "df.info()"
   ]
  },
  {
   "cell_type": "markdown",
   "metadata": {},
   "source": [
    "Проверим временной рад на монотонность и наличие пропусков"
   ]
  },
  {
   "cell_type": "code",
   "execution_count": 4,
   "metadata": {},
   "outputs": [
    {
     "data": {
      "text/plain": [
       "True"
      ]
     },
     "execution_count": 4,
     "metadata": {},
     "output_type": "execute_result"
    }
   ],
   "source": [
    "df.index.is_monotonic"
   ]
  },
  {
   "cell_type": "code",
   "execution_count": 5,
   "metadata": {},
   "outputs": [
    {
     "data": {
      "text/plain": [
       "0"
      ]
     },
     "execution_count": 5,
     "metadata": {},
     "output_type": "execute_result"
    }
   ],
   "source": [
    "df.num_orders.isna().sum()"
   ]
  },
  {
   "cell_type": "code",
   "execution_count": 6,
   "metadata": {},
   "outputs": [
    {
     "data": {
      "text/plain": [
       "<AxesSubplot:>"
      ]
     },
     "execution_count": 6,
     "metadata": {},
     "output_type": "execute_result"
    },
    {
     "data": {
      "image/png": "[encoded data removed]",
      "text/plain": [
       "<Figure size 432x288 with 1 Axes>"
      ]
     },
     "metadata": {
      "needs_background": "light"
     },
     "output_type": "display_data"
    }
   ],
   "source": [
    "df['num_orders'].hist()"
   ]
  },
  {
   "cell_type": "markdown",
   "metadata": {},
   "source": [
    "## Анализ"
   ]
  },
  {
   "cell_type": "code",
   "execution_count": 7,
   "metadata": {},
   "outputs": [],
   "source": [
    "df=df.resample('1H').sum()"
   ]
  },
  {
   "cell_type": "markdown",
   "metadata": {},
   "source": [
    "Разложим ряд на тренд, сезонную составляющую и остаточный шум."
   ]
  },
  {
   "cell_type": "code",
   "execution_count": 8,
   "metadata": {},
   "outputs": [],
   "source": [
    "decomposed = seasonal_decompose(df)"
   ]
  },
  {
   "cell_type": "code",
   "execution_count": 9,
   "metadata": {},
   "outputs": [
    {
     "data": {
      "image/png": "[encoded data removed]",
      "text/plain": [
       "<Figure size 432x288 with 1 Axes>"
      ]
     },
     "metadata": {
      "needs_background": "light"
     },
     "output_type": "display_data"
    }
   ],
   "source": [
    "decomposed.seasonal.plot()\n",
    "ax = plt.gca()\n",
    "ax.set_xlim(['2018-05-01', '2018-05-15'])\n",
    "plt.show()"
   ]
  },
  {
   "cell_type": "code",
   "execution_count": 10,
   "metadata": {},
   "outputs": [
    {
     "data": {
      "text/plain": [
       "<AxesSubplot:xlabel='datetime'>"
      ]
     },
     "execution_count": 10,
     "metadata": {},
     "output_type": "execute_result"
    },
    {
     "data": {
      "image/png": "[encoded data removed]",
      "text/plain": [
       "<Figure size 432x288 with 1 Axes>"
      ]
     },
     "metadata": {
      "needs_background": "light"
     },
     "output_type": "display_data"
    }
   ],
   "source": [
    "decomposed.trend.plot()"
   ]
  },
  {
   "cell_type": "code",
   "execution_count": 11,
   "metadata": {},
   "outputs": [
    {
     "data": {
      "text/plain": [
       "<AxesSubplot:xlabel='datetime'>"
      ]
     },
     "execution_count": 11,
     "metadata": {},
     "output_type": "execute_result"
    },
    {
     "data": {
      "image/png": "[encoded data removed]",
      "text/plain": [
       "<Figure size 432x288 with 1 Axes>"
      ]
     },
     "metadata": {
      "needs_background": "light"
     },
     "output_type": "display_data"
    }
   ],
   "source": [
    "decomposed.resid.plot()"
   ]
  },
  {
   "cell_type": "markdown",
   "metadata": {},
   "source": [
    "Отмечается выраженная суточная сезонность и постоянный тренд роста количества заказов. В остатке декомпозиции можно отметить наличие выбросов. Бросаются в глаза пики роста на в конце августа."
   ]
  },
  {
   "cell_type": "markdown",
   "metadata": {},
   "source": [
    "## Обучение"
   ]
  },
  {
   "cell_type": "markdown",
   "metadata": {},
   "source": [
    "Напишем функцию, которая добавляет уточняющие столбцы с датой и временем, столбцы с отстающими значениями и столбец со скользящим средним."
   ]
  },
  {
   "cell_type": "code",
   "execution_count": 12,
   "metadata": {},
   "outputs": [],
   "source": [
    "def rmse(true, pred):\n",
    "    return sqrt(mean_squared_error(true, pred))\n",
    "rmse_scorer = make_scorer(rmse, greater_is_better=False)\n",
    "def make_features(df, max_lag, rolling_mean_size):\n",
    "    df['hour'] = df.index.hour    \n",
    "    df['day_of_week'] = df.index.dayofweek\n",
    "    \n",
    "    for lag in range(1, max_lag + 1):\n",
    "        df['lag_{}'.format(lag)] = df['num_orders'].shift(lag)\n",
    "        \n",
    "    df['rolling_mean'] = df['num_orders'].shift().rolling(rolling_mean_size).mean()\n",
    "    return df"
   ]
  },
  {
   "cell_type": "markdown",
   "metadata": {},
   "source": [
    "На линейной модели определим, какое количество столбоц с отстающими значеними и какой размер скользящего окна оптимальны для обучения"
   ]
  },
  {
   "cell_type": "code",
   "execution_count": 13,
   "metadata": {},
   "outputs": [
    {
     "name": "stdout",
     "output_type": "stream",
     "text": [
      "Оптимальное количество столбцов с отстающими значениями: 195\n",
      "Оптимальный размер скользящего окна: 50\n",
      "CPU times: user 1min 38s, sys: 1min 34s, total: 3min 12s\n",
      "Wall time: 3min 12s\n"
     ]
    }
   ],
   "source": [
    "%%time\n",
    "best_rmse = 1000\n",
    "for max_lag in range(5, 201, 5):\n",
    "    for rolling_mean_size in range(10, 101, 10):\n",
    "        df_changed = make_features(df, max_lag, rolling_mean_size)\n",
    "        df_changed = df_changed.dropna()\n",
    "        features = df_changed.drop('num_orders', axis=1)\n",
    "        target = df_changed['num_orders']\n",
    "        features_train, features_, target_train, target_ = train_test_split(features, target, test_size=.2, shuffle=False)\n",
    "        features_valid, features_test, target_valid, target_test = train_test_split(features_, target_, test_size=.5, shuffle=False)\n",
    "        model = LinearRegression()\n",
    "        model.fit(features_train, target_train)\n",
    "        if rmse(target_valid, model.predict(features_valid)) < best_rmse:\n",
    "            best_rmse = rmse(target_valid, model.predict(features_valid))\n",
    "            best_linear_model = model\n",
    "            best_lag = max_lag\n",
    "            best_rolling_mean_size = rolling_mean_size\n",
    "            best_df = df_changed\n",
    "print('Оптимальное количество столбцов с отстающими значениями:', best_lag)\n",
    "print('Оптимальный размер скользящего окна:', best_rolling_mean_size)"
   ]
  },
  {
   "cell_type": "markdown",
   "metadata": {},
   "source": [
    "Сохраним полученные оптимальные параметры временного ряда и поделиим датафрейм на обучающую, валидационную и тестовую выборки."
   ]
  },
  {
   "cell_type": "code",
   "execution_count": 16,
   "metadata": {},
   "outputs": [],
   "source": [
    "df = best_df\n",
    "features = df.drop('num_orders', axis=1)\n",
    "target = df['num_orders']\n",
    "features_train, features_, target_train, target_ = train_test_split(features, target, test_size=.2, shuffle=False)\n",
    "features_valid, features_test, target_valid, target_test = train_test_split(features_, target_, test_size=.5, shuffle=False)"
   ]
  },
  {
   "cell_type": "markdown",
   "metadata": {},
   "source": [
    "Проверим работу разных моделей"
   ]
  },
  {
   "cell_type": "markdown",
   "metadata": {},
   "source": [
    "### LinearRegression"
   ]
  },
  {
   "cell_type": "code",
   "execution_count": 15,
   "metadata": {
    "scrolled": true
   },
   "outputs": [
    {
     "name": "stdout",
     "output_type": "stream",
     "text": [
      "Наилучший RMSE линейной модели на валидационной выборке составил 29.0\n"
     ]
    }
   ],
   "source": [
    "print('Наилучший RMSE линейной модели на валидационной выборке составил {:.1f}'.format(best_rmse))"
   ]
  },
  {
   "cell_type": "markdown",
   "metadata": {},
   "source": [
    "### RandomForestRegressor"
   ]
  },
  {
   "cell_type": "code",
   "execution_count": 20,
   "metadata": {},
   "outputs": [
    {
     "name": "stdout",
     "output_type": "stream",
     "text": [
      "Лучший результат на валидационной выборке составил 30.0\n",
      "Оптимальные гиперпараметры модели: 50 деревьев при глубине 20\n",
      "CPU times: user 1min 32s, sys: 0 ns, total: 1min 32s\n",
      "Wall time: 1min 32s\n"
     ]
    }
   ],
   "source": [
    "%%time\n",
    "best_forest_rmse = 1000\n",
    "for n_estimators in [10, 50, 100]:\n",
    "    for max_depth in [1, 10, 20]:\n",
    "        model = RandomForestRegressor(n_estimators=n_estimators, max_depth=max_depth, random_state=1)\n",
    "        model.fit(features_train, target_train)\n",
    "        rmse_valid = rmse(target_valid, model.predict(features_valid))\n",
    "        if rmse_valid < best_forest_rmse:\n",
    "            best_forest_rmse = rmse_valid\n",
    "            best_forest_model = model\n",
    "            best_forest_estimators = n_estimators\n",
    "            best_forest_depth = max_depth\n",
    "print('Лучший результат на валидационной выборке составил {:.1f}'.format(best_forest_rmse))\n",
    "print(f'Оптимальные гиперпараметры модели: {best_forest_estimators} деревьев при глубине {best_forest_depth}')"
   ]
  },
  {
   "cell_type": "code",
   "execution_count": 21,
   "metadata": {
    "scrolled": true
   },
   "outputs": [
    {
     "name": "stdout",
     "output_type": "stream",
     "text": [
      "RMSE модели CatBoost на тестовой выборке составил 30.1\n"
     ]
    }
   ],
   "source": [
    "valid_rmse_forest = rmse(target_valid, model.predict(features_valid))\n",
    "print('RMSE модели CatBoost на тестовой выборке составил {:.1f}'.format(valid_rmse_forest))"
   ]
  },
  {
   "cell_type": "markdown",
   "metadata": {},
   "source": [
    "### CatBoost"
   ]
  },
  {
   "cell_type": "code",
   "execution_count": 22,
   "metadata": {},
   "outputs": [
    {
     "name": "stdout",
     "output_type": "stream",
     "text": [
      "CPU times: user 48.4 s, sys: 0 ns, total: 48.4 s\n",
      "Wall time: 49.2 s\n"
     ]
    },
    {
     "data": {
      "text/plain": [
       "<catboost.core.CatBoostRegressor at 0x7f6f17c239a0>"
      ]
     },
     "execution_count": 22,
     "metadata": {},
     "output_type": "execute_result"
    }
   ],
   "source": [
    "%%time\n",
    "model_cb = CatBoostRegressor(loss_function='RMSE', random_seed=1, iterations=150, \n",
    "                             learning_rate=0.03, depth=10, use_best_model=True, eval_metric='RMSE')\n",
    "model_cb.fit(features_train, target_train,\n",
    "          eval_set=(features_valid, target_valid),\n",
    "          verbose=False)"
   ]
  },
  {
   "cell_type": "code",
   "execution_count": 23,
   "metadata": {
    "scrolled": true
   },
   "outputs": [
    {
     "name": "stdout",
     "output_type": "stream",
     "text": [
      "RMSE модели CatBoost на тестовой выборке составил 32.2\n"
     ]
    }
   ],
   "source": [
    "valid_rmse_cb = rmse(target_valid, model_cb.predict(features_valid))\n",
    "print('RMSE модели CatBoost на тестовой выборке составил {:.1f}'.format(valid_rmse_cb))"
   ]
  },
  {
   "cell_type": "markdown",
   "metadata": {},
   "source": [
    "### XGBoost"
   ]
  },
  {
   "cell_type": "code",
   "execution_count": 24,
   "metadata": {},
   "outputs": [
    {
     "name": "stdout",
     "output_type": "stream",
     "text": [
      "CPU times: user 1min 19s, sys: 0 ns, total: 1min 19s\n",
      "Wall time: 1min 19s\n"
     ]
    },
    {
     "data": {
      "text/plain": [
       "XGBRegressor(base_score=0.5, booster='gbtree', colsample_bylevel=1,\n",
       "             colsample_bynode=1, colsample_bytree=1, enable_categorical=False,\n",
       "             gamma=0, gpu_id=-1, importance_type=None,\n",
       "             interaction_constraints='', learning_rate=0.03, max_delta_step=0,\n",
       "             max_depth=15, min_child_weight=1, missing=nan,\n",
       "             monotone_constraints='()', n_estimators=200, n_jobs=8,\n",
       "             num_parallel_tree=1, predictor='auto', random_state=1, reg_alpha=0,\n",
       "             reg_lambda=1, scale_pos_weight=1, seed=1, subsample=1,\n",
       "             tree_method='exact', validate_parameters=1, verbosity=None)"
      ]
     },
     "execution_count": 24,
     "metadata": {},
     "output_type": "execute_result"
    }
   ],
   "source": [
    "%%time\n",
    "model_xgb = XGBRegressor(learning_rate=0.03, n_estimators=200, seed=1, max_depth=15)\n",
    "model_xgb.fit(features_train, target_train)"
   ]
  },
  {
   "cell_type": "code",
   "execution_count": 25,
   "metadata": {},
   "outputs": [
    {
     "name": "stdout",
     "output_type": "stream",
     "text": [
      "RMSE модели XGBoost на тестовой выборке составил 32.5\n"
     ]
    }
   ],
   "source": [
    "valid_rmse_xgb = rmse(target_valid, model_xgb.predict(features_valid))\n",
    "print('RMSE модели XGBoost на тестовой выборке составил {:.1f}'.format(valid_rmse_xgb))"
   ]
  },
  {
   "cell_type": "markdown",
   "metadata": {},
   "source": [
    "## Вывод"
   ]
  },
  {
   "cell_type": "markdown",
   "metadata": {},
   "source": [
    "Объединим результаты работы разных моделей в один датафрейм"
   ]
  },
  {
   "cell_type": "code",
   "execution_count": 26,
   "metadata": {},
   "outputs": [
    {
     "data": {
      "text/html": [
       "<div>\n",
       "<style scoped>\n",
       "    .dataframe tbody tr th:only-of-type {\n",
       "        vertical-align: middle;\n",
       "    }\n",
       "\n",
       "    .dataframe tbody tr th {\n",
       "        vertical-align: top;\n",
       "    }\n",
       "\n",
       "    .dataframe thead th {\n",
       "        text-align: right;\n",
       "    }\n",
       "</style>\n",
       "<table border=\"1\" class=\"dataframe\">\n",
       "  <thead>\n",
       "    <tr style=\"text-align: right;\">\n",
       "      <th></th>\n",
       "      <th>Models</th>\n",
       "      <th>RMSE</th>\n",
       "    </tr>\n",
       "  </thead>\n",
       "  <tbody>\n",
       "    <tr>\n",
       "      <th>0</th>\n",
       "      <td>LinearRegression</td>\n",
       "      <td>28.955884</td>\n",
       "    </tr>\n",
       "    <tr>\n",
       "      <th>1</th>\n",
       "      <td>RandomForestRegressor</td>\n",
       "      <td>30.108124</td>\n",
       "    </tr>\n",
       "    <tr>\n",
       "      <th>2</th>\n",
       "      <td>CatBoost</td>\n",
       "      <td>32.210563</td>\n",
       "    </tr>\n",
       "    <tr>\n",
       "      <th>3</th>\n",
       "      <td>XGBoost</td>\n",
       "      <td>32.524306</td>\n",
       "    </tr>\n",
       "  </tbody>\n",
       "</table>\n",
       "</div>"
      ],
      "text/plain": [
       "                  Models       RMSE\n",
       "0       LinearRegression  28.955884\n",
       "1  RandomForestRegressor  30.108124\n",
       "2               CatBoost  32.210563\n",
       "3                XGBoost  32.524306"
      ]
     },
     "metadata": {},
     "output_type": "display_data"
    }
   ],
   "source": [
    "results = pd.DataFrame({'Models':['LinearRegression', 'RandomForestRegressor', 'CatBoost', 'XGBoost'],\n",
    "                        'RMSE': [best_rmse, valid_rmse_forest, valid_rmse_cb, valid_rmse_xgb]})\n",
    "display(results)"
   ]
  },
  {
   "cell_type": "markdown",
   "metadata": {},
   "source": [
    "Лучше всего себя показала модель линейной регрессии. Вероятно, это связано с устойчивым трендом роста заказов на протяжении всего периода времени. Модели случайного леса и градиентного бустинга показали слабый результат.\n",
    "\n",
    "Визуализируем эффективность модели линейной регрессии."
   ]
  },
  {
   "cell_type": "code",
   "execution_count": 17,
   "metadata": {},
   "outputs": [
    {
     "name": "stdout",
     "output_type": "stream",
     "text": [
      "RMSE модели линейной на тестовой выборке составил 34.4\n"
     ]
    }
   ],
   "source": [
    "test_rmse_linear = rmse(target_test, best_linear_model.predict(features_test))\n",
    "print('RMSE модели линейной на тестовой выборке составил {:.1f}'.format(test_rmse_linear))"
   ]
  },
  {
   "cell_type": "code",
   "execution_count": 19,
   "metadata": {},
   "outputs": [
    {
     "data": {
      "image/png": "[encoded data removed]",
      "text/plain": [
       "<Figure size 1008x432 with 1 Axes>"
      ]
     },
     "metadata": {
      "needs_background": "light"
     },
     "output_type": "display_data"
    }
   ],
   "source": [
    "linear_results = pd.DataFrame({'num_orders_true':target_test,\n",
    "                               'num_orders_pred':best_linear_model.predict(features_test)})\n",
    "linear_results.plot(figsize=(14,6), title='Сравнение реальных значений и предсказаний на тестовой выборке');"
   ]
  },
  {
   "cell_type": "markdown",
   "metadata": {},
   "source": [
    "## Чек-лист проверки"
   ]
  },
  {
   "cell_type": "markdown",
   "metadata": {},
   "source": [
    "- [x]  Jupyter Notebook открыт\n",
    "- [x]  Весь код выполняется без ошибок\n",
    "- [x]  Ячейки с кодом расположены в порядке исполнения\n",
    "- [x]  Данные загружены и подготовлены\n",
    "- [x]  Данные проанализированы\n",
    "- [x]  Модель обучена, гиперпараметры подобраны\n",
    "- [x]  Качество моделей проверено, выводы сделаны\n",
    "- [x]  Значение *RMSE* на тестовой выборке не больше 48"
   ]
  }
 ],
 "metadata": {
  "ExecuteTimeLog": [
   {
    "duration": 1723,
    "start_time": "2024-12-24T12:57:23.776Z"
   },
   {
    "duration": 177,
    "start_time": "2024-12-24T12:57:44.038Z"
   },
   {
    "duration": 11,
    "start_time": "2024-12-24T12:57:54.076Z"
   },
   {
    "duration": 5,
    "start_time": "2024-12-24T12:58:20.367Z"
   },
   {
    "duration": 7,
    "start_time": "2024-12-24T12:58:26.821Z"
   },
   {
    "duration": 173,
    "start_time": "2024-12-24T12:58:39.534Z"
   },
   {
    "duration": 122,
    "start_time": "2024-12-24T12:59:23.375Z"
   },
   {
    "duration": 12,
    "start_time": "2024-12-24T12:59:35.663Z"
   },
   {
    "duration": 12,
    "start_time": "2024-12-24T13:00:04.707Z"
   },
   {
    "duration": 4,
    "start_time": "2024-12-24T13:00:58.132Z"
   },
   {
    "duration": 61,
    "start_time": "2024-12-24T13:00:58.645Z"
   },
   {
    "duration": 9,
    "start_time": "2024-12-24T13:00:59.346Z"
   },
   {
    "duration": 5,
    "start_time": "2024-12-24T13:01:00.183Z"
   },
   {
    "duration": 5,
    "start_time": "2024-12-24T13:01:00.524Z"
   },
   {
    "duration": 129,
    "start_time": "2024-12-24T13:01:01.285Z"
   },
   {
    "duration": 17,
    "start_time": "2024-12-24T13:01:03.424Z"
   },
   {
    "duration": 96,
    "start_time": "2024-12-24T13:02:23.972Z"
   },
   {
    "duration": 10,
    "start_time": "2024-12-24T13:02:31.105Z"
   },
   {
    "duration": 10,
    "start_time": "2024-12-24T13:02:38.746Z"
   },
   {
    "duration": 16,
    "start_time": "2024-12-24T13:02:47.817Z"
   },
   {
    "duration": 3,
    "start_time": "2024-12-24T13:03:16.606Z"
   },
   {
    "duration": 132,
    "start_time": "2024-12-24T13:03:16.612Z"
   },
   {
    "duration": 15,
    "start_time": "2024-12-24T13:03:16.746Z"
   },
   {
    "duration": 5,
    "start_time": "2024-12-24T13:03:17.114Z"
   },
   {
    "duration": 8,
    "start_time": "2024-12-24T13:03:17.284Z"
   },
   {
    "duration": 289,
    "start_time": "2024-12-24T13:03:17.637Z"
   },
   {
    "duration": 16,
    "start_time": "2024-12-24T13:03:18.814Z"
   },
   {
    "duration": 187,
    "start_time": "2024-12-24T13:04:28.878Z"
   },
   {
    "duration": 49,
    "start_time": "2024-12-24T13:04:52.104Z"
   },
   {
    "duration": 17,
    "start_time": "2024-12-24T13:05:23.134Z"
   },
   {
    "duration": 15,
    "start_time": "2024-12-24T13:07:30.715Z"
   },
   {
    "duration": 14,
    "start_time": "2024-12-24T13:07:34.765Z"
   },
   {
    "duration": 11,
    "start_time": "2024-12-24T13:10:05.833Z"
   },
   {
    "duration": 16,
    "start_time": "2024-12-24T13:10:07.115Z"
   },
   {
    "duration": 16,
    "start_time": "2024-12-24T13:10:11.028Z"
   },
   {
    "duration": 16,
    "start_time": "2024-12-24T13:10:23.844Z"
   },
   {
    "duration": 5,
    "start_time": "2024-12-24T13:14:06.112Z"
   },
   {
    "duration": 13,
    "start_time": "2024-12-24T13:14:21.255Z"
   },
   {
    "duration": 16,
    "start_time": "2024-12-24T13:14:32.295Z"
   },
   {
    "duration": 160,
    "start_time": "2024-12-24T13:14:40.964Z"
   },
   {
    "duration": 13,
    "start_time": "2024-12-24T13:14:58.816Z"
   },
   {
    "duration": 155,
    "start_time": "2024-12-24T13:15:04.972Z"
   },
   {
    "duration": 10,
    "start_time": "2024-12-24T13:15:05.693Z"
   },
   {
    "duration": 4,
    "start_time": "2024-12-24T13:15:14.245Z"
   },
   {
    "duration": 94,
    "start_time": "2024-12-24T13:15:14.252Z"
   },
   {
    "duration": 14,
    "start_time": "2024-12-24T13:15:14.495Z"
   },
   {
    "duration": 5,
    "start_time": "2024-12-24T13:15:14.834Z"
   },
   {
    "duration": 6,
    "start_time": "2024-12-24T13:15:15.169Z"
   },
   {
    "duration": 166,
    "start_time": "2024-12-24T13:15:15.765Z"
   },
   {
    "duration": 8,
    "start_time": "2024-12-24T13:15:16.454Z"
   },
   {
    "duration": 230,
    "start_time": "2024-12-24T13:15:17.245Z"
   },
   {
    "duration": 15,
    "start_time": "2024-12-24T13:15:17.736Z"
   },
   {
    "duration": 15,
    "start_time": "2024-12-24T13:15:57.267Z"
   },
   {
    "duration": 149,
    "start_time": "2024-12-24T13:17:07.964Z"
   },
   {
    "duration": 224,
    "start_time": "2024-12-24T13:17:08.334Z"
   },
   {
    "duration": 195,
    "start_time": "2024-12-24T13:17:33.324Z"
   },
   {
    "duration": 307,
    "start_time": "2024-12-24T13:17:42.681Z"
   },
   {
    "duration": 7,
    "start_time": "2024-12-24T13:17:54.404Z"
   },
   {
    "duration": 215,
    "start_time": "2024-12-24T13:17:55.770Z"
   },
   {
    "duration": 230,
    "start_time": "2024-12-24T13:18:00.151Z"
   },
   {
    "duration": 195,
    "start_time": "2024-12-24T13:18:01.185Z"
   },
   {
    "duration": 204,
    "start_time": "2024-12-24T13:18:10.412Z"
   },
   {
    "duration": 4,
    "start_time": "2024-12-24T13:18:26.260Z"
   },
   {
    "duration": 70,
    "start_time": "2024-12-24T13:18:32.909Z"
   },
   {
    "duration": 264,
    "start_time": "2024-12-24T13:18:33.340Z"
   },
   {
    "duration": 282,
    "start_time": "2024-12-24T13:18:34.960Z"
   },
   {
    "duration": 50,
    "start_time": "2024-12-24T13:18:41.328Z"
   },
   {
    "duration": 217,
    "start_time": "2024-12-24T13:18:41.884Z"
   },
   {
    "duration": 242,
    "start_time": "2024-12-24T13:18:43.300Z"
   },
   {
    "duration": 9,
    "start_time": "2024-12-24T13:18:54.448Z"
   },
   {
    "duration": 332,
    "start_time": "2024-12-24T13:18:54.657Z"
   },
   {
    "duration": 195,
    "start_time": "2024-12-24T13:18:55.955Z"
   },
   {
    "duration": 10,
    "start_time": "2024-12-24T13:19:08.420Z"
   },
   {
    "duration": 255,
    "start_time": "2024-12-24T13:19:08.694Z"
   },
   {
    "duration": 224,
    "start_time": "2024-12-24T13:19:10.081Z"
   },
   {
    "duration": 10,
    "start_time": "2024-12-24T13:19:24.410Z"
   },
   {
    "duration": 336,
    "start_time": "2024-12-24T13:19:24.751Z"
   },
   {
    "duration": 197,
    "start_time": "2024-12-24T13:19:25.089Z"
   },
   {
    "duration": 229,
    "start_time": "2024-12-24T13:19:35.181Z"
   },
   {
    "duration": 5,
    "start_time": "2024-12-24T13:21:54.532Z"
   },
   {
    "duration": 165361,
    "start_time": "2024-12-24T13:22:27.031Z"
   },
   {
    "duration": 14,
    "start_time": "2024-12-24T15:10:34.674Z"
   },
   {
    "duration": 100,
    "start_time": "2024-12-24T15:11:22.191Z"
   },
   {
    "duration": 97093,
    "start_time": "2024-12-24T15:11:57.272Z"
   },
   {
    "duration": 15,
    "start_time": "2024-12-24T15:13:36.715Z"
   },
   {
    "duration": 54424,
    "start_time": "2024-12-24T15:13:44.592Z"
   },
   {
    "duration": 15,
    "start_time": "2024-12-24T15:14:39.018Z"
   },
   {
    "duration": 3946,
    "start_time": "2024-12-24T18:31:39.341Z"
   },
   {
    "duration": 198,
    "start_time": "2024-12-24T18:31:43.290Z"
   },
   {
    "duration": 16,
    "start_time": "2024-12-24T18:31:43.490Z"
   },
   {
    "duration": 5,
    "start_time": "2024-12-24T18:31:43.509Z"
   },
   {
    "duration": 38,
    "start_time": "2024-12-24T18:31:43.517Z"
   },
   {
    "duration": 209,
    "start_time": "2024-12-24T18:31:43.558Z"
   },
   {
    "duration": 17,
    "start_time": "2024-12-24T18:31:43.769Z"
   },
   {
    "duration": 10,
    "start_time": "2024-12-24T18:31:43.789Z"
   },
   {
    "duration": 304,
    "start_time": "2024-12-24T18:31:43.801Z"
   },
   {
    "duration": 410,
    "start_time": "2024-12-24T18:31:44.107Z"
   },
   {
    "duration": 333,
    "start_time": "2024-12-24T18:31:44.519Z"
   },
   {
    "duration": 1715,
    "start_time": "2024-12-24T20:05:33.742Z"
   },
   {
    "duration": 4,
    "start_time": "2024-12-24T20:05:38.051Z"
   },
   {
    "duration": 109,
    "start_time": "2024-12-24T20:05:38.707Z"
   },
   {
    "duration": 10,
    "start_time": "2024-12-24T20:05:38.818Z"
   },
   {
    "duration": 4,
    "start_time": "2024-12-24T20:05:38.837Z"
   },
   {
    "duration": 4,
    "start_time": "2024-12-24T20:05:38.870Z"
   },
   {
    "duration": 145,
    "start_time": "2024-12-24T20:05:38.910Z"
   },
   {
    "duration": 9,
    "start_time": "2024-12-24T20:05:39.056Z"
   },
   {
    "duration": 8,
    "start_time": "2024-12-24T20:05:39.810Z"
   },
   {
    "duration": 307,
    "start_time": "2024-12-24T20:05:40.103Z"
   },
   {
    "duration": 216,
    "start_time": "2024-12-24T20:05:40.411Z"
   },
   {
    "duration": 216,
    "start_time": "2024-12-24T20:05:40.630Z"
   },
   {
    "duration": 6,
    "start_time": "2024-12-24T20:05:46.047Z"
   },
   {
    "duration": 117,
    "start_time": "2024-12-24T20:10:49.775Z"
   },
   {
    "duration": 14,
    "start_time": "2024-12-24T20:13:25.333Z"
   },
   {
    "duration": 55,
    "start_time": "2024-12-24T20:13:25.348Z"
   },
   {
    "duration": 9,
    "start_time": "2024-12-24T20:13:25.405Z"
   },
   {
    "duration": 28,
    "start_time": "2024-12-24T20:13:25.416Z"
   },
   {
    "duration": 6,
    "start_time": "2024-12-24T20:13:25.446Z"
   },
   {
    "duration": 150,
    "start_time": "2024-12-24T20:13:25.454Z"
   },
   {
    "duration": 7,
    "start_time": "2024-12-24T20:13:25.606Z"
   },
   {
    "duration": 16,
    "start_time": "2024-12-24T20:13:25.615Z"
   },
   {
    "duration": 204,
    "start_time": "2024-12-24T20:13:25.632Z"
   },
   {
    "duration": 233,
    "start_time": "2024-12-24T20:13:25.839Z"
   },
   {
    "duration": 289,
    "start_time": "2024-12-24T20:13:26.074Z"
   },
   {
    "duration": 204,
    "start_time": "2024-12-24T20:31:00.776Z"
   },
   {
    "duration": 4,
    "start_time": "2024-12-24T20:31:02.615Z"
   },
   {
    "duration": 135638,
    "start_time": "2024-12-24T20:31:07.091Z"
   },
   {
    "duration": 102,
    "start_time": "2024-12-24T20:33:22.733Z"
   },
   {
    "duration": 118,
    "start_time": "2024-12-24T20:33:22.836Z"
   },
   {
    "duration": 81,
    "start_time": "2024-12-24T20:40:42.016Z"
   },
   {
    "duration": 87,
    "start_time": "2024-12-24T20:40:54.021Z"
   },
   {
    "duration": 123,
    "start_time": "2024-12-24T20:41:06.428Z"
   },
   {
    "duration": 56,
    "start_time": "2024-12-24T20:41:33.680Z"
   },
   {
    "duration": 12,
    "start_time": "2024-12-24T20:44:00.908Z"
   },
   {
    "duration": 48,
    "start_time": "2024-12-25T09:37:11.958Z"
   },
   {
    "duration": 1703,
    "start_time": "2024-12-25T09:37:15.826Z"
   },
   {
    "duration": 169,
    "start_time": "2024-12-25T09:37:17.532Z"
   },
   {
    "duration": 10,
    "start_time": "2024-12-25T09:37:17.703Z"
   },
   {
    "duration": 15,
    "start_time": "2024-12-25T09:37:17.715Z"
   },
   {
    "duration": 8,
    "start_time": "2024-12-25T09:37:17.732Z"
   },
   {
    "duration": 154,
    "start_time": "2024-12-25T09:37:17.742Z"
   },
   {
    "duration": 8,
    "start_time": "2024-12-25T09:37:17.898Z"
   },
   {
    "duration": 8,
    "start_time": "2024-12-25T09:37:17.907Z"
   },
   {
    "duration": 254,
    "start_time": "2024-12-25T09:37:17.917Z"
   },
   {
    "duration": 198,
    "start_time": "2024-12-25T09:37:18.173Z"
   },
   {
    "duration": 196,
    "start_time": "2024-12-25T09:37:18.372Z"
   },
   {
    "duration": 4,
    "start_time": "2024-12-25T09:37:19.574Z"
   },
   {
    "duration": 125673,
    "start_time": "2024-12-25T09:37:20.782Z"
   },
   {
    "duration": 101,
    "start_time": "2024-12-25T09:39:26.547Z"
   },
   {
    "duration": 3,
    "start_time": "2024-12-25T09:39:26.650Z"
   },
   {
    "duration": 93328,
    "start_time": "2024-12-25T09:40:25.698Z"
   },
   {
    "duration": 50181,
    "start_time": "2024-12-25T09:41:59.027Z"
   },
   {
    "duration": 82,
    "start_time": "2024-12-25T09:42:49.209Z"
   },
   {
    "duration": 0,
    "start_time": "2024-12-25T09:42:49.292Z"
   },
   {
    "duration": 0,
    "start_time": "2024-12-25T09:42:49.294Z"
   },
   {
    "duration": 0,
    "start_time": "2024-12-25T09:42:49.296Z"
   },
   {
    "duration": 0,
    "start_time": "2024-12-25T09:42:49.297Z"
   },
   {
    "duration": 92337,
    "start_time": "2024-12-25T09:46:02.535Z"
   },
   {
    "duration": 22,
    "start_time": "2024-12-25T09:47:34.874Z"
   },
   {
    "duration": 49208,
    "start_time": "2024-12-25T09:48:33.187Z"
   },
   {
    "duration": 7,
    "start_time": "2024-12-25T09:49:22.397Z"
   },
   {
    "duration": 79539,
    "start_time": "2024-12-25T09:49:29.543Z"
   },
   {
    "duration": 61,
    "start_time": "2024-12-25T09:50:49.085Z"
   },
   {
    "duration": 9,
    "start_time": "2024-12-25T09:50:56.670Z"
   },
   {
    "duration": 425,
    "start_time": "2024-12-25T09:51:01.434Z"
   },
   {
    "duration": 3919,
    "start_time": "2024-12-25T10:19:12.409Z"
   },
   {
    "duration": 107,
    "start_time": "2024-12-25T10:19:16.330Z"
   },
   {
    "duration": 12,
    "start_time": "2024-12-25T10:19:16.439Z"
   },
   {
    "duration": 5,
    "start_time": "2024-12-25T10:19:16.452Z"
   },
   {
    "duration": 26,
    "start_time": "2024-12-25T10:19:16.460Z"
   },
   {
    "duration": 252,
    "start_time": "2024-12-25T10:19:16.488Z"
   },
   {
    "duration": 9,
    "start_time": "2024-12-25T10:19:16.742Z"
   },
   {
    "duration": 32,
    "start_time": "2024-12-25T10:19:16.752Z"
   },
   {
    "duration": 299,
    "start_time": "2024-12-25T10:19:16.786Z"
   },
   {
    "duration": 237,
    "start_time": "2024-12-25T10:19:17.086Z"
   },
   {
    "duration": 238,
    "start_time": "2024-12-25T10:19:17.325Z"
   },
   {
    "duration": 18,
    "start_time": "2024-12-25T10:19:17.565Z"
   },
   {
    "duration": 192901,
    "start_time": "2024-12-25T10:19:17.585Z"
   },
   {
    "duration": 96,
    "start_time": "2024-12-25T10:22:30.490Z"
   },
   {
    "duration": 89,
    "start_time": "2024-12-25T10:22:30.593Z"
   },
   {
    "duration": 14,
    "start_time": "2024-12-25T10:29:35.216Z"
   },
   {
    "duration": 28,
    "start_time": "2024-12-25T10:29:47.650Z"
   },
   {
    "duration": 36,
    "start_time": "2024-12-25T10:30:15.114Z"
   },
   {
    "duration": 469,
    "start_time": "2024-12-25T10:31:36.670Z"
   }
  ],
  "kernelspec": {
   "display_name": "Python 3 (ipykernel)",
   "language": "python",
   "name": "python3"
  },
  "language_info": {
   "codemirror_mode": {
    "name": "ipython",
    "version": 3
   },
   "file_extension": ".py",
   "mimetype": "text/x-python",
   "name": "python",
   "nbconvert_exporter": "python",
   "pygments_lexer": "ipython3",
   "version": "3.9.5"
  },
  "toc": {
   "base_numbering": 1,
   "nav_menu": {},
   "number_sections": true,
   "sideBar": true,
   "skip_h1_title": true,
   "title_cell": "Содержание",
   "title_sidebar": "Contents",
   "toc_cell": true,
   "toc_position": {
    "height": "calc(100% - 180px)",
    "left": "10px",
    "top": "150px",
    "width": "165px"
   },
   "toc_section_display": true,
   "toc_window_display": true
  }
 },
 "nbformat": 4,
 "nbformat_minor": 2
}
