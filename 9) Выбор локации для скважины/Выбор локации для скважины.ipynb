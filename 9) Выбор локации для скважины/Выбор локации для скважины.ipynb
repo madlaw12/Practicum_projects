{
 "cells": [
  {
   "cell_type": "markdown",
   "metadata": {},
   "source": [
    "# Выбор локации для скважины"
   ]
  },
  {
   "cell_type": "markdown",
   "metadata": {},
   "source": [
    "Допустим, вы работаете в добывающей компании «ГлавРосГосНефть». Нужно решить, где бурить новую скважину.\n",
    "\n",
    "Вам предоставлены пробы нефти в трёх регионах: в каждом 10 000 месторождений, где измерили качество нефти и объём её запасов. Постройте модель машинного обучения, которая поможет определить регион, где добыча принесёт наибольшую прибыль. Проанализируйте возможную прибыль и риски техникой *Bootstrap.*\n",
    "\n",
    "Шаги для выбора локации:\n",
    "\n",
    "- В избранном регионе ищут месторождения, для каждого определяют значения признаков;\n",
    "- Строят модель и оценивают объём запасов;\n",
    "- Выбирают месторождения с самым высокими оценками значений. Количество месторождений зависит от бюджета компании и стоимости разработки одной скважины;\n",
    "- Прибыль равна суммарной прибыли отобранных месторождений."
   ]
  },
  {
   "cell_type": "markdown",
   "metadata": {},
   "source": [
    "## Загрузка и подготовка данных"
   ]
  },
  {
   "cell_type": "code",
   "execution_count": 1,
   "metadata": {},
   "outputs": [],
   "source": [
    "import numpy as np\n",
    "import pandas as pd\n",
    "import matplotlib.pyplot as plt\n",
    "import seaborn as sns\n",
    "from numpy.random import RandomState\n",
    "from sklearn.linear_model import LinearRegression\n",
    "from sklearn.metrics import mean_squared_error\n",
    "from sklearn.model_selection import train_test_split"
   ]
  },
  {
   "cell_type": "code",
   "execution_count": 2,
   "metadata": {},
   "outputs": [
    {
     "data": {
      "text/html": [
       "<div>\n",
       "<style scoped>\n",
       "    .dataframe tbody tr th:only-of-type {\n",
       "        vertical-align: middle;\n",
       "    }\n",
       "\n",
       "    .dataframe tbody tr th {\n",
       "        vertical-align: top;\n",
       "    }\n",
       "\n",
       "    .dataframe thead th {\n",
       "        text-align: right;\n",
       "    }\n",
       "</style>\n",
       "<table border=\"1\" class=\"dataframe\">\n",
       "  <thead>\n",
       "    <tr style=\"text-align: right;\">\n",
       "      <th></th>\n",
       "      <th>id</th>\n",
       "      <th>f0</th>\n",
       "      <th>f1</th>\n",
       "      <th>f2</th>\n",
       "      <th>product</th>\n",
       "    </tr>\n",
       "  </thead>\n",
       "  <tbody>\n",
       "    <tr>\n",
       "      <th>0</th>\n",
       "      <td>txEyH</td>\n",
       "      <td>0.705745</td>\n",
       "      <td>-0.497823</td>\n",
       "      <td>1.221170</td>\n",
       "      <td>105.280062</td>\n",
       "    </tr>\n",
       "    <tr>\n",
       "      <th>1</th>\n",
       "      <td>2acmU</td>\n",
       "      <td>1.334711</td>\n",
       "      <td>-0.340164</td>\n",
       "      <td>4.365080</td>\n",
       "      <td>73.037750</td>\n",
       "    </tr>\n",
       "    <tr>\n",
       "      <th>2</th>\n",
       "      <td>409Wp</td>\n",
       "      <td>1.022732</td>\n",
       "      <td>0.151990</td>\n",
       "      <td>1.419926</td>\n",
       "      <td>85.265647</td>\n",
       "    </tr>\n",
       "    <tr>\n",
       "      <th>3</th>\n",
       "      <td>iJLyR</td>\n",
       "      <td>-0.032172</td>\n",
       "      <td>0.139033</td>\n",
       "      <td>2.978566</td>\n",
       "      <td>168.620776</td>\n",
       "    </tr>\n",
       "    <tr>\n",
       "      <th>4</th>\n",
       "      <td>Xdl7t</td>\n",
       "      <td>1.988431</td>\n",
       "      <td>0.155413</td>\n",
       "      <td>4.751769</td>\n",
       "      <td>154.036647</td>\n",
       "    </tr>\n",
       "  </tbody>\n",
       "</table>\n",
       "</div>"
      ],
      "text/plain": [
       "      id        f0        f1        f2     product\n",
       "0  txEyH  0.705745 -0.497823  1.221170  105.280062\n",
       "1  2acmU  1.334711 -0.340164  4.365080   73.037750\n",
       "2  409Wp  1.022732  0.151990  1.419926   85.265647\n",
       "3  iJLyR -0.032172  0.139033  2.978566  168.620776\n",
       "4  Xdl7t  1.988431  0.155413  4.751769  154.036647"
      ]
     },
     "execution_count": 2,
     "metadata": {},
     "output_type": "execute_result"
    }
   ],
   "source": [
    "geo_data_0=pd.read_csv('/datasets/geo_data_0.csv')\n",
    "geo_data_0.head()"
   ]
  },
  {
   "cell_type": "code",
   "execution_count": 3,
   "metadata": {},
   "outputs": [
    {
     "data": {
      "text/html": [
       "<div>\n",
       "<style scoped>\n",
       "    .dataframe tbody tr th:only-of-type {\n",
       "        vertical-align: middle;\n",
       "    }\n",
       "\n",
       "    .dataframe tbody tr th {\n",
       "        vertical-align: top;\n",
       "    }\n",
       "\n",
       "    .dataframe thead th {\n",
       "        text-align: right;\n",
       "    }\n",
       "</style>\n",
       "<table border=\"1\" class=\"dataframe\">\n",
       "  <thead>\n",
       "    <tr style=\"text-align: right;\">\n",
       "      <th></th>\n",
       "      <th>id</th>\n",
       "      <th>f0</th>\n",
       "      <th>f1</th>\n",
       "      <th>f2</th>\n",
       "      <th>product</th>\n",
       "    </tr>\n",
       "  </thead>\n",
       "  <tbody>\n",
       "    <tr>\n",
       "      <th>0</th>\n",
       "      <td>kBEdx</td>\n",
       "      <td>-15.001348</td>\n",
       "      <td>-8.276000</td>\n",
       "      <td>-0.005876</td>\n",
       "      <td>3.179103</td>\n",
       "    </tr>\n",
       "    <tr>\n",
       "      <th>1</th>\n",
       "      <td>62mP7</td>\n",
       "      <td>14.272088</td>\n",
       "      <td>-3.475083</td>\n",
       "      <td>0.999183</td>\n",
       "      <td>26.953261</td>\n",
       "    </tr>\n",
       "    <tr>\n",
       "      <th>2</th>\n",
       "      <td>vyE1P</td>\n",
       "      <td>6.263187</td>\n",
       "      <td>-5.948386</td>\n",
       "      <td>5.001160</td>\n",
       "      <td>134.766305</td>\n",
       "    </tr>\n",
       "    <tr>\n",
       "      <th>3</th>\n",
       "      <td>KcrkZ</td>\n",
       "      <td>-13.081196</td>\n",
       "      <td>-11.506057</td>\n",
       "      <td>4.999415</td>\n",
       "      <td>137.945408</td>\n",
       "    </tr>\n",
       "    <tr>\n",
       "      <th>4</th>\n",
       "      <td>AHL4O</td>\n",
       "      <td>12.702195</td>\n",
       "      <td>-8.147433</td>\n",
       "      <td>5.004363</td>\n",
       "      <td>134.766305</td>\n",
       "    </tr>\n",
       "  </tbody>\n",
       "</table>\n",
       "</div>"
      ],
      "text/plain": [
       "      id         f0         f1        f2     product\n",
       "0  kBEdx -15.001348  -8.276000 -0.005876    3.179103\n",
       "1  62mP7  14.272088  -3.475083  0.999183   26.953261\n",
       "2  vyE1P   6.263187  -5.948386  5.001160  134.766305\n",
       "3  KcrkZ -13.081196 -11.506057  4.999415  137.945408\n",
       "4  AHL4O  12.702195  -8.147433  5.004363  134.766305"
      ]
     },
     "execution_count": 3,
     "metadata": {},
     "output_type": "execute_result"
    }
   ],
   "source": [
    "geo_data_1=pd.read_csv('/datasets/geo_data_1.csv')\n",
    "geo_data_1.head()"
   ]
  },
  {
   "cell_type": "code",
   "execution_count": 4,
   "metadata": {},
   "outputs": [
    {
     "data": {
      "text/html": [
       "<div>\n",
       "<style scoped>\n",
       "    .dataframe tbody tr th:only-of-type {\n",
       "        vertical-align: middle;\n",
       "    }\n",
       "\n",
       "    .dataframe tbody tr th {\n",
       "        vertical-align: top;\n",
       "    }\n",
       "\n",
       "    .dataframe thead th {\n",
       "        text-align: right;\n",
       "    }\n",
       "</style>\n",
       "<table border=\"1\" class=\"dataframe\">\n",
       "  <thead>\n",
       "    <tr style=\"text-align: right;\">\n",
       "      <th></th>\n",
       "      <th>id</th>\n",
       "      <th>f0</th>\n",
       "      <th>f1</th>\n",
       "      <th>f2</th>\n",
       "      <th>product</th>\n",
       "    </tr>\n",
       "  </thead>\n",
       "  <tbody>\n",
       "    <tr>\n",
       "      <th>0</th>\n",
       "      <td>fwXo0</td>\n",
       "      <td>-1.146987</td>\n",
       "      <td>0.963328</td>\n",
       "      <td>-0.828965</td>\n",
       "      <td>27.758673</td>\n",
       "    </tr>\n",
       "    <tr>\n",
       "      <th>1</th>\n",
       "      <td>WJtFt</td>\n",
       "      <td>0.262778</td>\n",
       "      <td>0.269839</td>\n",
       "      <td>-2.530187</td>\n",
       "      <td>56.069697</td>\n",
       "    </tr>\n",
       "    <tr>\n",
       "      <th>2</th>\n",
       "      <td>ovLUW</td>\n",
       "      <td>0.194587</td>\n",
       "      <td>0.289035</td>\n",
       "      <td>-5.586433</td>\n",
       "      <td>62.871910</td>\n",
       "    </tr>\n",
       "    <tr>\n",
       "      <th>3</th>\n",
       "      <td>q6cA6</td>\n",
       "      <td>2.236060</td>\n",
       "      <td>-0.553760</td>\n",
       "      <td>0.930038</td>\n",
       "      <td>114.572842</td>\n",
       "    </tr>\n",
       "    <tr>\n",
       "      <th>4</th>\n",
       "      <td>WPMUX</td>\n",
       "      <td>-0.515993</td>\n",
       "      <td>1.716266</td>\n",
       "      <td>5.899011</td>\n",
       "      <td>149.600746</td>\n",
       "    </tr>\n",
       "  </tbody>\n",
       "</table>\n",
       "</div>"
      ],
      "text/plain": [
       "      id        f0        f1        f2     product\n",
       "0  fwXo0 -1.146987  0.963328 -0.828965   27.758673\n",
       "1  WJtFt  0.262778  0.269839 -2.530187   56.069697\n",
       "2  ovLUW  0.194587  0.289035 -5.586433   62.871910\n",
       "3  q6cA6  2.236060 -0.553760  0.930038  114.572842\n",
       "4  WPMUX -0.515993  1.716266  5.899011  149.600746"
      ]
     },
     "execution_count": 4,
     "metadata": {},
     "output_type": "execute_result"
    }
   ],
   "source": [
    "geo_data_2=pd.read_csv('/datasets/geo_data_2.csv')\n",
    "geo_data_2.head()"
   ]
  },
  {
   "cell_type": "markdown",
   "metadata": {},
   "source": [
    "Вывод: На этом этапы мы загрузили данные и проверили, что загрузка прошла успешно"
   ]
  },
  {
   "cell_type": "markdown",
   "metadata": {},
   "source": [
    "Теперь можно подготовить данные к работе"
   ]
  },
  {
   "cell_type": "code",
   "execution_count": 5,
   "metadata": {},
   "outputs": [
    {
     "name": "stdout",
     "output_type": "stream",
     "text": [
      "<class 'pandas.core.frame.DataFrame'>\n",
      "RangeIndex: 100000 entries, 0 to 99999\n",
      "Data columns (total 5 columns):\n",
      " #   Column   Non-Null Count   Dtype  \n",
      "---  ------   --------------   -----  \n",
      " 0   id       100000 non-null  object \n",
      " 1   f0       100000 non-null  float64\n",
      " 2   f1       100000 non-null  float64\n",
      " 3   f2       100000 non-null  float64\n",
      " 4   product  100000 non-null  float64\n",
      "dtypes: float64(4), object(1)\n",
      "memory usage: 3.8+ MB\n"
     ]
    }
   ],
   "source": [
    "geo_data_0.info()"
   ]
  },
  {
   "cell_type": "code",
   "execution_count": 6,
   "metadata": {},
   "outputs": [
    {
     "name": "stdout",
     "output_type": "stream",
     "text": [
      "<class 'pandas.core.frame.DataFrame'>\n",
      "RangeIndex: 100000 entries, 0 to 99999\n",
      "Data columns (total 5 columns):\n",
      " #   Column   Non-Null Count   Dtype  \n",
      "---  ------   --------------   -----  \n",
      " 0   id       100000 non-null  object \n",
      " 1   f0       100000 non-null  float64\n",
      " 2   f1       100000 non-null  float64\n",
      " 3   f2       100000 non-null  float64\n",
      " 4   product  100000 non-null  float64\n",
      "dtypes: float64(4), object(1)\n",
      "memory usage: 3.8+ MB\n"
     ]
    }
   ],
   "source": [
    "geo_data_1.info()"
   ]
  },
  {
   "cell_type": "code",
   "execution_count": 7,
   "metadata": {},
   "outputs": [
    {
     "name": "stdout",
     "output_type": "stream",
     "text": [
      "<class 'pandas.core.frame.DataFrame'>\n",
      "RangeIndex: 100000 entries, 0 to 99999\n",
      "Data columns (total 5 columns):\n",
      " #   Column   Non-Null Count   Dtype  \n",
      "---  ------   --------------   -----  \n",
      " 0   id       100000 non-null  object \n",
      " 1   f0       100000 non-null  float64\n",
      " 2   f1       100000 non-null  float64\n",
      " 3   f2       100000 non-null  float64\n",
      " 4   product  100000 non-null  float64\n",
      "dtypes: float64(4), object(1)\n",
      "memory usage: 3.8+ MB\n"
     ]
    }
   ],
   "source": [
    "geo_data_2.info()"
   ]
  },
  {
   "cell_type": "markdown",
   "metadata": {},
   "source": [
    "Вывод: Мы видим, что ошибок в типе данных нету. К тому же, нигде нету пропусков. Дальше проведём исследовательский анализ данных."
   ]
  },
  {
   "cell_type": "code",
   "execution_count": 8,
   "metadata": {
    "scrolled": true
   },
   "outputs": [
    {
     "data": {
      "image/png": "[encoded data removed]",
      "text/plain": [
       "<Figure size 864x288 with 2 Axes>"
      ]
     },
     "metadata": {
      "needs_background": "light"
     },
     "output_type": "display_data"
    },
    {
     "name": "stdout",
     "output_type": "stream",
     "text": [
      "count    100000.000000\n",
      "mean         92.500000\n",
      "std          44.288691\n",
      "min           0.000000\n",
      "25%          56.497507\n",
      "50%          91.849972\n",
      "75%         128.564089\n",
      "max         185.364347\n",
      "Name: product, dtype: float64\n"
     ]
    }
   ],
   "source": [
    "fig, axes = plt.subplots(nrows=1, ncols=2, figsize=(12, 4))\n",
    "geo_data_0['product'].plot.hist(bins=25, ax=axes[0])\n",
    "axes[0].set_title('product   - Гистограмма')\n",
    "axes[0].set_xlabel('product')\n",
    "axes[0].set_ylabel('Частота')\n",
    "sns.boxplot(x=geo_data_0['product'], ax=axes[1])\n",
    "axes[1].set_title('product - Boxplot')\n",
    "axes[1].set_xlabel('product')\n",
    "plt.show()\n",
    "print(geo_data_0['product'].describe())"
   ]
  },
  {
   "cell_type": "code",
   "execution_count": 9,
   "metadata": {},
   "outputs": [
    {
     "data": {
      "image/png": "[encoded data removed]",
      "text/plain": [
       "<Figure size 864x288 with 2 Axes>"
      ]
     },
     "metadata": {
      "needs_background": "light"
     },
     "output_type": "display_data"
    },
    {
     "name": "stdout",
     "output_type": "stream",
     "text": [
      "count    100000.000000\n",
      "mean         68.825000\n",
      "std          45.944423\n",
      "min           0.000000\n",
      "25%          26.953261\n",
      "50%          57.085625\n",
      "75%         107.813044\n",
      "max         137.945408\n",
      "Name: product, dtype: float64\n"
     ]
    }
   ],
   "source": [
    "fig, axes = plt.subplots(nrows=1, ncols=2, figsize=(12, 4))\n",
    "geo_data_1['product'].plot.hist(bins=25, ax=axes[0])\n",
    "axes[0].set_title('product   - Гистограмма')\n",
    "axes[0].set_xlabel('product')\n",
    "axes[0].set_ylabel('Частота')\n",
    "sns.boxplot(x=geo_data_1['product'], ax=axes[1])\n",
    "axes[1].set_title('product - Boxplot')\n",
    "axes[1].set_xlabel('product')\n",
    "plt.show()\n",
    "print(geo_data_1['product'].describe())"
   ]
  },
  {
   "cell_type": "code",
   "execution_count": 10,
   "metadata": {},
   "outputs": [
    {
     "data": {
      "image/png": "[encoded data removed]",
      "text/plain": [
       "<Figure size 864x288 with 2 Axes>"
      ]
     },
     "metadata": {
      "needs_background": "light"
     },
     "output_type": "display_data"
    },
    {
     "name": "stdout",
     "output_type": "stream",
     "text": [
      "count    100000.000000\n",
      "mean         95.000000\n",
      "std          44.749921\n",
      "min           0.000000\n",
      "25%          59.450441\n",
      "50%          94.925613\n",
      "75%         130.595027\n",
      "max         190.029838\n",
      "Name: product, dtype: float64\n"
     ]
    }
   ],
   "source": [
    "fig, axes = plt.subplots(nrows=1, ncols=2, figsize=(12, 4))\n",
    "geo_data_2['product'].plot.hist(bins=25, ax=axes[0])\n",
    "axes[0].set_title('product   - Гистограмма')\n",
    "axes[0].set_xlabel('product')\n",
    "axes[0].set_ylabel('Частота')\n",
    "sns.boxplot(x=geo_data_2['product'], ax=axes[1])\n",
    "axes[1].set_title('product - Boxplot')\n",
    "axes[1].set_xlabel('product')\n",
    "plt.show()\n",
    "print(geo_data_2['product'].describe())"
   ]
  },
  {
   "cell_type": "markdown",
   "metadata": {},
   "source": [
    "Выбросов не обнаружено.\n"
   ]
  },
  {
   "cell_type": "code",
   "execution_count": 11,
   "metadata": {},
   "outputs": [
    {
     "data": {
      "text/plain": [
       "True"
      ]
     },
     "execution_count": 11,
     "metadata": {},
     "output_type": "execute_result"
    }
   ],
   "source": [
    "geo_data_0['id'].duplicated().any()"
   ]
  },
  {
   "cell_type": "code",
   "execution_count": 12,
   "metadata": {},
   "outputs": [],
   "source": [
    "geo_data_0=geo_data_0.drop_duplicates(['id']).reset_index(drop=True) "
   ]
  },
  {
   "cell_type": "code",
   "execution_count": 13,
   "metadata": {},
   "outputs": [
    {
     "data": {
      "text/plain": [
       "False"
      ]
     },
     "execution_count": 13,
     "metadata": {},
     "output_type": "execute_result"
    }
   ],
   "source": [
    "geo_data_0['id'].duplicated().any()"
   ]
  },
  {
   "cell_type": "code",
   "execution_count": 14,
   "metadata": {},
   "outputs": [
    {
     "data": {
      "text/plain": [
       "True"
      ]
     },
     "execution_count": 14,
     "metadata": {},
     "output_type": "execute_result"
    }
   ],
   "source": [
    "geo_data_1['id'].duplicated().any()"
   ]
  },
  {
   "cell_type": "code",
   "execution_count": 15,
   "metadata": {},
   "outputs": [],
   "source": [
    "geo_data_1=geo_data_1.drop_duplicates(['id']).reset_index(drop=True)"
   ]
  },
  {
   "cell_type": "code",
   "execution_count": 16,
   "metadata": {},
   "outputs": [
    {
     "data": {
      "text/plain": [
       "False"
      ]
     },
     "execution_count": 16,
     "metadata": {},
     "output_type": "execute_result"
    }
   ],
   "source": [
    "geo_data_1['id'].duplicated().any()"
   ]
  },
  {
   "cell_type": "code",
   "execution_count": 17,
   "metadata": {},
   "outputs": [
    {
     "data": {
      "text/plain": [
       "True"
      ]
     },
     "execution_count": 17,
     "metadata": {},
     "output_type": "execute_result"
    }
   ],
   "source": [
    "geo_data_2['id'].duplicated().any()"
   ]
  },
  {
   "cell_type": "code",
   "execution_count": 18,
   "metadata": {},
   "outputs": [],
   "source": [
    "geo_data_2=geo_data_2.drop_duplicates(['id']).reset_index(drop=True)"
   ]
  },
  {
   "cell_type": "code",
   "execution_count": 19,
   "metadata": {},
   "outputs": [
    {
     "data": {
      "text/plain": [
       "False"
      ]
     },
     "execution_count": 19,
     "metadata": {},
     "output_type": "execute_result"
    }
   ],
   "source": [
    "geo_data_2['id'].duplicated().any()"
   ]
  },
  {
   "cell_type": "markdown",
   "metadata": {},
   "source": [
    "### Вывод:\n",
    "1)В данных нет пропусков\n",
    "2)Нет дубликатов\n",
    "3)Типы данных подходящие\n",
    "4)Масштабы распределений признаков не сильно отличны, масштабирование применять не будем\n",
    "5)На данном этапе мы оставляем данные в том виде, в котором они нам предоставлены"
   ]
  },
  {
   "cell_type": "markdown",
   "metadata": {},
   "source": [
    "## Обучение и проверка модели"
   ]
  },
  {
   "cell_type": "markdown",
   "metadata": {},
   "source": [
    "Выведем целевой признак."
   ]
  },
  {
   "cell_type": "code",
   "execution_count": 20,
   "metadata": {},
   "outputs": [],
   "source": [
    "features = ['f0', 'f1', 'f2']\n",
    "target = ['product']\n",
    "\n",
    "X_0 = geo_data_0[features]\n",
    "y_0 = geo_data_0[target]\n",
    "X_1 = geo_data_1[features]\n",
    "y_1 = geo_data_1[target]\n",
    "X_2 = geo_data_2[features]\n",
    "y_2 = geo_data_2[target]\n",
    "RANDOM_STATE=25"
   ]
  },
  {
   "cell_type": "code",
   "execution_count": 21,
   "metadata": {},
   "outputs": [],
   "source": [
    "def predict(X, y):\n",
    "    X_train, X_valid, y_train, y_valid = train_test_split(X, y, test_size=0.25, random_state=RANDOM_STATE)\n",
    "    model = LinearRegression()\n",
    "    model.fit(X_train, y_train)\n",
    "    predicts = model.predict(X_valid)\n",
    "    predicts_mean=predicts.mean()\n",
    "    RMSE=mean_squared_error(y_valid, predicts)**.5\n",
    "    print('Средний запас предсказанного сырья {:.2f}'.format(predicts_mean))\n",
    "    print('RMSE модели. {:.2f}'.format(RMSE))\n",
    "    return y_valid, predicts"
   ]
  },
  {
   "cell_type": "code",
   "execution_count": 22,
   "metadata": {},
   "outputs": [
    {
     "name": "stdout",
     "output_type": "stream",
     "text": [
      "Средний запас предсказанного сырья 92.69\n",
      "RMSE модели. 37.80\n"
     ]
    }
   ],
   "source": [
    "y_true_0, y_pred_0=predict(X_0, y_0)"
   ]
  },
  {
   "cell_type": "code",
   "execution_count": 23,
   "metadata": {},
   "outputs": [
    {
     "name": "stdout",
     "output_type": "stream",
     "text": [
      "Средний запас предсказанного сырья 68.96\n",
      "RMSE модели. 0.89\n"
     ]
    }
   ],
   "source": [
    "y_true_1, y_pred_1=predict(X_1, y_1)"
   ]
  },
  {
   "cell_type": "code",
   "execution_count": 24,
   "metadata": {},
   "outputs": [
    {
     "name": "stdout",
     "output_type": "stream",
     "text": [
      "Средний запас предсказанного сырья 94.92\n",
      "RMSE модели. 40.22\n"
     ]
    }
   ],
   "source": [
    "y_true_2, y_pred_2=predict(X_2, y_2)"
   ]
  },
  {
   "cell_type": "markdown",
   "metadata": {},
   "source": [
    "### Вывод:\n",
    "1)В регионе 0 средний запас предсказанного сырья достаточно большой(92.56), но и RMSE высокая(37.66)\n",
    "2)В регионе 2 ситация похожая. Средний запас предсказанного сырья достаточно большой(94.92), но и RMSE высокая(40.22)\n",
    "3)А вот в регионе 2 средний запас предсказанного сырья не такой большой(68.96), зато RMSE маленькая(0.89) "
   ]
  },
  {
   "cell_type": "markdown",
   "metadata": {},
   "source": [
    "## Подготовка к расчёту прибыли"
   ]
  },
  {
   "cell_type": "code",
   "execution_count": 25,
   "metadata": {},
   "outputs": [],
   "source": [
    "all_places=500\n",
    "required_places=200\n",
    "budget=10e9\n",
    "income=450000"
   ]
  },
  {
   "cell_type": "code",
   "execution_count": 26,
   "metadata": {},
   "outputs": [
    {
     "name": "stdout",
     "output_type": "stream",
     "text": [
      "Необходимый объём сырья для безубыточной разработки новой скважины 111.11111111111111\n"
     ]
    }
   ],
   "source": [
    "print('Необходимый объём сырья для безубыточной разработки новой скважины', budget/(required_places*income))"
   ]
  },
  {
   "cell_type": "code",
   "execution_count": 27,
   "metadata": {},
   "outputs": [
    {
     "name": "stdout",
     "output_type": "stream",
     "text": [
      "Среднее значение целевой переменной в регионе 0 product    92.499684\n",
      "dtype: float64\n"
     ]
    }
   ],
   "source": [
    "print('Среднее значение целевой переменной в регионе 0', geo_data_0[target].mean())"
   ]
  },
  {
   "cell_type": "code",
   "execution_count": 28,
   "metadata": {},
   "outputs": [
    {
     "name": "stdout",
     "output_type": "stream",
     "text": [
      "Среднее значение целевой переменной в регионе 1 product    68.823916\n",
      "dtype: float64\n"
     ]
    }
   ],
   "source": [
    "print('Среднее значение целевой переменной в регионе 1', geo_data_1[target].mean())"
   ]
  },
  {
   "cell_type": "code",
   "execution_count": 29,
   "metadata": {},
   "outputs": [
    {
     "name": "stdout",
     "output_type": "stream",
     "text": [
      "Среднее значение целевой переменной в регионе 2 product    94.998342\n",
      "dtype: float64\n"
     ]
    }
   ],
   "source": [
    "print('Среднее значение целевой переменной в регионе 2', geo_data_2[target].mean())"
   ]
  },
  {
   "cell_type": "markdown",
   "metadata": {},
   "source": [
    "### Вывод:\n",
    "Минимальный объём сырья для безубыточной разработки новой скважины-111,11. Это намного больше чем среднее значение по регионам, однако в этих регионах есть значения побольше."
   ]
  },
  {
   "cell_type": "markdown",
   "metadata": {},
   "source": [
    "## Расчёт прибыли и рисков "
   ]
  },
  {
   "cell_type": "markdown",
   "metadata": {},
   "source": [
    "Переведём данные в формат pd.Series"
   ]
  },
  {
   "cell_type": "code",
   "execution_count": 30,
   "metadata": {},
   "outputs": [],
   "source": [
    "y_true_0 = pd.Series(y_true_0['product']).reset_index(drop=True)\n",
    "y_true_1 = pd.Series(y_true_1['product']).reset_index(drop=True)\n",
    "y_true_2 = pd.Series(y_true_2['product']).reset_index(drop=True)\n",
    "\n",
    "y_pred_0 = pd.Series(y_pred_0[:, 0])\n",
    "y_pred_1 = pd.Series(y_pred_1[:, 0])\n",
    "y_pred_2 = pd.Series(y_pred_2[:, 0])"
   ]
  },
  {
   "cell_type": "code",
   "execution_count": 31,
   "metadata": {},
   "outputs": [],
   "source": [
    "def income_predict(y_target, top_predictions):\n",
    "    top_targets = y_target[top_predictions.index]\n",
    "    top_sum = top_targets.sum()\n",
    "    top_income = top_sum * income - budget\n",
    "    return top_income"
   ]
  },
  {
   "cell_type": "markdown",
   "metadata": {},
   "source": [
    "Добавим некоторые переменные для техники Bootstrap"
   ]
  },
  {
   "cell_type": "code",
   "execution_count": 32,
   "metadata": {},
   "outputs": [],
   "source": [
    "samples_count = 1000\n",
    "alpha = 0.05"
   ]
  },
  {
   "cell_type": "code",
   "execution_count": 33,
   "metadata": {},
   "outputs": [],
   "source": [
    "def risk_predict(title, y_target, y_predict):\n",
    "    incomes = []\n",
    "    loss_count = 0\n",
    "    state = np.random.RandomState(RANDOM_STATE)\n",
    "    for i in range(samples_count):\n",
    "        sample = y_predict.sample(n=all_places, replace=True, random_state=state)\n",
    "        top_predictions = sample.sort_values(ascending=False).head(required_places)\n",
    "        income = income_predict(y_target, top_predictions)\n",
    "        incomes.append(income)\n",
    "        if income < 0:\n",
    "            loss_count += 1\n",
    "    incomes = pd.Series(incomes)\n",
    "    incomes_mean = incomes.mean()\n",
    "    lower = incomes.quantile(alpha / 2)\n",
    "    upper = incomes.quantile(1 - alpha / 2)\n",
    "    loss_rate = loss_count / samples_count\n",
    "    print('-----', title, '-----')\n",
    "    print('Количество повторений Bootstrap техники:', samples_count)\n",
    "    print('Средняя прибыль: {:.2f}'.format(incomes_mean))\n",
    "    print('Нижняя граница доверительного интервала: {:.2f}'.format(lower))\n",
    "    print('Верхняя граница доверительного интервала: {:.2f}'.format(upper))\n",
    "    print('Риск убытков: {:.2%}'.format(loss_rate))"
   ]
  },
  {
   "cell_type": "code",
   "execution_count": 34,
   "metadata": {
    "scrolled": true
   },
   "outputs": [
    {
     "name": "stdout",
     "output_type": "stream",
     "text": [
      "----- Регион 0 -----\n",
      "Количество повторений Bootstrap техники: 1000\n",
      "Средняя прибыль: 411426348.51\n",
      "Нижняя граница доверительного интервала: -93397935.28\n",
      "Верхняя граница доверительного интервала: 896811851.17\n",
      "Риск убытков: 4.80%\n"
     ]
    }
   ],
   "source": [
    "risk_predict('Регион 0', y_true_0, y_pred_0)"
   ]
  },
  {
   "cell_type": "code",
   "execution_count": 35,
   "metadata": {},
   "outputs": [
    {
     "name": "stdout",
     "output_type": "stream",
     "text": [
      "----- Регион 1 -----\n",
      "Количество повторений Bootstrap техники: 1000\n",
      "Средняя прибыль: 451446174.52\n",
      "Нижняя граница доверительного интервала: 66029138.00\n",
      "Верхняя граница доверительного интервала: 840177591.36\n",
      "Риск убытков: 1.30%\n"
     ]
    }
   ],
   "source": [
    "risk_predict('Регион 1', y_true_1, y_pred_1)"
   ]
  },
  {
   "cell_type": "code",
   "execution_count": 36,
   "metadata": {},
   "outputs": [
    {
     "name": "stdout",
     "output_type": "stream",
     "text": [
      "----- Регион 2 -----\n",
      "Количество повторений Bootstrap техники: 1000\n",
      "Средняя прибыль: 371187985.57\n",
      "Нижняя граница доверительного интервала: -159142021.82\n",
      "Верхняя граница доверительного интервала: 863623283.86\n",
      "Риск убытков: 8.20%\n"
     ]
    }
   ],
   "source": [
    "risk_predict('Регион 2', y_true_2, y_pred_2)"
   ]
  },
  {
   "cell_type": "markdown",
   "metadata": {},
   "source": [
    "При применении техники Bootstrap результаты получены следующие:\n",
    "\n",
    "У региона One самая высокая средняя прибыль: 451 446 174.52\n",
    "Только у региона One в 95%-й доверительный интервал не попадают убытки, а только прибыль\n",
    "Только регион One обеспечивает риск убытков ниже 2.5%, а именно 1.30%\n",
    "Можно рекомендовать к разработке регион One"
   ]
  },
  {
   "cell_type": "markdown",
   "metadata": {},
   "source": [
    "## Общий вывод:\n",
    "1)В регионе 0 средний запас предсказанного сырья достаточно большой(92.56), но и RMSE высокая(37.66)\n",
    "2)В регионе 2 ситация похожая. Средний запас предсказанного сырья достаточно большой(94.92), но и RMSE высокая(40.22)\n",
    "3)А вот в регионе 2 средний запас предсказанного сырья не такой большой(68.96), зато RMSE маленькая(0.89) \n",
    "\n",
    "При применении техники Bootstrap результаты получены следующие:\n",
    "\n",
    "У региона One самая высокая средняя прибыль: 451 446 174.52\n",
    "Только у региона One в 95%-й доверительный интервал не попадают убытки, а только прибыль\n",
    "Только регион One обеспечивает риск убытков ниже 2.5%, а именно 1.30%\n",
    "Можно рекомендовать к разработке регион One"
   ]
  },
  {
   "cell_type": "markdown",
   "metadata": {},
   "source": [
    "## Чек-лист готовности проекта"
   ]
  },
  {
   "cell_type": "markdown",
   "metadata": {},
   "source": [
    "Поставьте 'x' в выполненных пунктах. Далее нажмите Shift+Enter."
   ]
  },
  {
   "cell_type": "markdown",
   "metadata": {},
   "source": [
    "- [x]  Jupyter Notebook открыт\n",
    "- [x]  Весь код выполняется без ошибок\n",
    "- [x]  Ячейки с кодом расположены в порядке исполнения\n",
    "- [x]  Выполнен шаг 1: данные подготовлены\n",
    "- [x]  Выполнен шаг 2: модели обучены и проверены\n",
    "    - [x]  Данные корректно разбиты на обучающую и валидационную выборки\n",
    "    - [x]  Модели обучены, предсказания сделаны\n",
    "    - [x]  Предсказания и правильные ответы на валидационной выборке сохранены\n",
    "    - [x]  На экране напечатаны результаты\n",
    "    - [x]  Сделаны выводы\n",
    "- [x]  Выполнен шаг 3: проведена подготовка к расчёту прибыли\n",
    "    - [x]  Для всех ключевых значений созданы константы Python\n",
    "    - [x]  Посчитано минимальное среднее количество продукта в месторождениях региона, достаточное для разработки\n",
    "    - [x]  По предыдущему пункту сделаны выводы\n",
    "    - [x]  Написана функция расчёта прибыли\n",
    "- [x]  Выполнен шаг 4: посчитаны риски и прибыль\n",
    "    - [x]  Проведена процедура *Bootstrap*\n",
    "    - [x]  Все параметры бутстрепа соответствуют условию\n",
    "    - [x]  Найдены все нужные величины\n",
    "    - [x]  Предложен регион для разработки месторождения\n",
    "    - [x]  Выбор региона обоснован"
   ]
  },
  {
   "cell_type": "code",
   "execution_count": null,
   "metadata": {},
   "outputs": [],
   "source": []
  }
 ],
 "metadata": {
  "ExecuteTimeLog": [
   {
    "duration": 1238,
    "start_time": "2024-12-03T12:38:04.202Z"
   },
   {
    "duration": 2,
    "start_time": "2024-12-03T12:39:33.311Z"
   },
   {
    "duration": 563,
    "start_time": "2024-12-03T12:41:12.952Z"
   },
   {
    "duration": 127,
    "start_time": "2024-12-03T12:41:24.439Z"
   },
   {
    "duration": 129,
    "start_time": "2024-12-03T12:41:43.195Z"
   },
   {
    "duration": 128,
    "start_time": "2024-12-03T12:41:44.623Z"
   },
   {
    "duration": 12,
    "start_time": "2024-12-03T12:44:17.453Z"
   },
   {
    "duration": 12,
    "start_time": "2024-12-03T12:53:23.064Z"
   },
   {
    "duration": 12,
    "start_time": "2024-12-03T12:53:30.264Z"
   },
   {
    "duration": 18,
    "start_time": "2024-12-03T12:57:56.661Z"
   },
   {
    "duration": 18,
    "start_time": "2024-12-03T12:57:56.813Z"
   },
   {
    "duration": 107,
    "start_time": "2024-12-03T13:01:41.087Z"
   },
   {
    "duration": 179,
    "start_time": "2024-12-03T13:01:57.485Z"
   },
   {
    "duration": 74,
    "start_time": "2024-12-03T13:04:04.723Z"
   },
   {
    "duration": 1461,
    "start_time": "2024-12-03T13:04:22.083Z"
   },
   {
    "duration": 291,
    "start_time": "2024-12-03T13:05:07.290Z"
   },
   {
    "duration": 279,
    "start_time": "2024-12-03T13:05:20.538Z"
   },
   {
    "duration": 244,
    "start_time": "2024-12-03T13:05:26.694Z"
   },
   {
    "duration": 294,
    "start_time": "2024-12-03T13:05:29.294Z"
   },
   {
    "duration": 254,
    "start_time": "2024-12-03T13:05:36.942Z"
   },
   {
    "duration": 256,
    "start_time": "2024-12-03T13:06:17.427Z"
   },
   {
    "duration": 264,
    "start_time": "2024-12-03T13:06:19.151Z"
   },
   {
    "duration": 358,
    "start_time": "2024-12-03T13:14:46.503Z"
   },
   {
    "duration": 302,
    "start_time": "2024-12-03T13:15:11.923Z"
   },
   {
    "duration": 272,
    "start_time": "2024-12-03T13:15:13.791Z"
   },
   {
    "duration": 352,
    "start_time": "2024-12-03T13:15:22.579Z"
   },
   {
    "duration": 287,
    "start_time": "2024-12-03T13:15:28.727Z"
   },
   {
    "duration": 265,
    "start_time": "2024-12-03T13:15:33.895Z"
   },
   {
    "duration": 260,
    "start_time": "2024-12-03T13:18:40.683Z"
   },
   {
    "duration": 323,
    "start_time": "2024-12-03T13:18:48.231Z"
   },
   {
    "duration": 15,
    "start_time": "2024-12-04T14:16:43.234Z"
   },
   {
    "duration": 1365,
    "start_time": "2024-12-04T14:16:43.789Z"
   },
   {
    "duration": 0,
    "start_time": "2024-12-04T14:16:45.156Z"
   },
   {
    "duration": 0,
    "start_time": "2024-12-04T14:16:45.157Z"
   },
   {
    "duration": 2,
    "start_time": "2024-12-04T14:16:52.626Z"
   },
   {
    "duration": 123,
    "start_time": "2024-12-04T14:16:53.965Z"
   },
   {
    "duration": 113,
    "start_time": "2024-12-04T14:16:54.134Z"
   },
   {
    "duration": 101,
    "start_time": "2024-12-04T14:16:54.301Z"
   },
   {
    "duration": 14,
    "start_time": "2024-12-04T14:16:54.709Z"
   },
   {
    "duration": 13,
    "start_time": "2024-12-04T14:16:54.873Z"
   },
   {
    "duration": 12,
    "start_time": "2024-12-04T14:16:55.026Z"
   },
   {
    "duration": 14,
    "start_time": "2024-12-04T14:16:55.157Z"
   },
   {
    "duration": 1363,
    "start_time": "2024-12-04T14:16:55.466Z"
   },
   {
    "duration": 0,
    "start_time": "2024-12-04T14:16:56.830Z"
   },
   {
    "duration": 0,
    "start_time": "2024-12-04T14:16:56.831Z"
   },
   {
    "duration": 15,
    "start_time": "2024-12-04T14:17:25.678Z"
   },
   {
    "duration": 19,
    "start_time": "2024-12-04T14:17:54.753Z"
   },
   {
    "duration": 10,
    "start_time": "2024-12-04T14:18:24.417Z"
   },
   {
    "duration": 11,
    "start_time": "2024-12-04T14:18:33.345Z"
   },
   {
    "duration": 14,
    "start_time": "2024-12-04T14:20:00.505Z"
   },
   {
    "duration": 3,
    "start_time": "2024-12-04T14:20:12.796Z"
   },
   {
    "duration": 124,
    "start_time": "2024-12-04T14:20:12.932Z"
   },
   {
    "duration": 102,
    "start_time": "2024-12-04T14:20:13.076Z"
   },
   {
    "duration": 102,
    "start_time": "2024-12-04T14:20:13.228Z"
   },
   {
    "duration": 11,
    "start_time": "2024-12-04T14:20:14.073Z"
   },
   {
    "duration": 12,
    "start_time": "2024-12-04T14:20:15.928Z"
   },
   {
    "duration": 12,
    "start_time": "2024-12-04T14:20:16.117Z"
   },
   {
    "duration": 12,
    "start_time": "2024-12-04T14:20:16.993Z"
   },
   {
    "duration": 8,
    "start_time": "2024-12-04T14:20:41.705Z"
   },
   {
    "duration": 9,
    "start_time": "2024-12-04T14:21:24.696Z"
   },
   {
    "duration": 2,
    "start_time": "2024-12-04T14:21:29.013Z"
   },
   {
    "duration": 119,
    "start_time": "2024-12-04T14:21:29.256Z"
   },
   {
    "duration": 105,
    "start_time": "2024-12-04T14:21:29.388Z"
   },
   {
    "duration": 101,
    "start_time": "2024-12-04T14:21:29.516Z"
   },
   {
    "duration": 13,
    "start_time": "2024-12-04T14:21:29.940Z"
   },
   {
    "duration": 12,
    "start_time": "2024-12-04T14:21:30.428Z"
   },
   {
    "duration": 13,
    "start_time": "2024-12-04T14:21:30.968Z"
   },
   {
    "duration": 15,
    "start_time": "2024-12-04T14:21:31.848Z"
   },
   {
    "duration": 1467,
    "start_time": "2024-12-04T14:21:34.620Z"
   },
   {
    "duration": 0,
    "start_time": "2024-12-04T14:21:36.088Z"
   },
   {
    "duration": 0,
    "start_time": "2024-12-04T14:21:36.089Z"
   },
   {
    "duration": 1504,
    "start_time": "2024-12-04T14:22:10.296Z"
   },
   {
    "duration": 0,
    "start_time": "2024-12-04T14:22:11.802Z"
   },
   {
    "duration": 2,
    "start_time": "2024-12-04T14:22:45.664Z"
   },
   {
    "duration": 118,
    "start_time": "2024-12-04T14:22:45.804Z"
   },
   {
    "duration": 97,
    "start_time": "2024-12-04T14:22:45.948Z"
   },
   {
    "duration": 101,
    "start_time": "2024-12-04T14:22:46.083Z"
   },
   {
    "duration": 12,
    "start_time": "2024-12-04T14:22:46.505Z"
   },
   {
    "duration": 12,
    "start_time": "2024-12-04T14:22:46.676Z"
   },
   {
    "duration": 11,
    "start_time": "2024-12-04T14:22:46.872Z"
   },
   {
    "duration": 259,
    "start_time": "2024-12-04T14:22:47.364Z"
   },
   {
    "duration": 268,
    "start_time": "2024-12-04T14:22:47.624Z"
   },
   {
    "duration": 225,
    "start_time": "2024-12-04T14:22:48.044Z"
   },
   {
    "duration": 257,
    "start_time": "2024-12-04T14:23:04.876Z"
   },
   {
    "duration": 8,
    "start_time": "2024-12-04T15:23:53.129Z"
   },
   {
    "duration": 2,
    "start_time": "2024-12-05T10:08:59.190Z"
   },
   {
    "duration": 140,
    "start_time": "2024-12-05T10:08:59.698Z"
   },
   {
    "duration": 115,
    "start_time": "2024-12-05T10:08:59.840Z"
   },
   {
    "duration": 127,
    "start_time": "2024-12-05T10:08:59.956Z"
   },
   {
    "duration": 11,
    "start_time": "2024-12-05T10:09:00.085Z"
   },
   {
    "duration": 67,
    "start_time": "2024-12-05T10:09:00.098Z"
   },
   {
    "duration": 41,
    "start_time": "2024-12-05T10:09:00.167Z"
   },
   {
    "duration": 401,
    "start_time": "2024-12-05T10:09:00.210Z"
   },
   {
    "duration": 289,
    "start_time": "2024-12-05T10:09:00.613Z"
   },
   {
    "duration": 288,
    "start_time": "2024-12-05T10:09:00.903Z"
   },
   {
    "duration": 9,
    "start_time": "2024-12-05T10:09:03.086Z"
   },
   {
    "duration": 70,
    "start_time": "2024-12-05T10:16:24.815Z"
   },
   {
    "duration": 4,
    "start_time": "2024-12-05T10:16:43.783Z"
   },
   {
    "duration": 14,
    "start_time": "2024-12-05T10:17:22.183Z"
   },
   {
    "duration": 254,
    "start_time": "2024-12-05T10:17:43.403Z"
   },
   {
    "duration": 20,
    "start_time": "2024-12-05T10:17:49.131Z"
   },
   {
    "duration": 9,
    "start_time": "2024-12-05T10:18:18.687Z"
   },
   {
    "duration": 3,
    "start_time": "2024-12-05T10:18:18.884Z"
   },
   {
    "duration": 58,
    "start_time": "2024-12-05T10:18:19.715Z"
   },
   {
    "duration": 7,
    "start_time": "2024-12-05T10:19:18.924Z"
   },
   {
    "duration": 104,
    "start_time": "2024-12-05T10:19:19.368Z"
   },
   {
    "duration": 17,
    "start_time": "2024-12-05T10:19:34.539Z"
   },
   {
    "duration": 27,
    "start_time": "2024-12-05T10:19:44.464Z"
   },
   {
    "duration": 4,
    "start_time": "2024-12-05T10:20:48.839Z"
   },
   {
    "duration": 25,
    "start_time": "2024-12-05T10:20:49.011Z"
   },
   {
    "duration": 19,
    "start_time": "2024-12-05T10:20:49.448Z"
   },
   {
    "duration": 17,
    "start_time": "2024-12-05T10:20:49.908Z"
   },
   {
    "duration": 3,
    "start_time": "2024-12-05T10:21:36.320Z"
   },
   {
    "duration": 131,
    "start_time": "2024-12-05T10:21:36.464Z"
   },
   {
    "duration": 115,
    "start_time": "2024-12-05T10:21:36.603Z"
   },
   {
    "duration": 108,
    "start_time": "2024-12-05T10:21:36.735Z"
   },
   {
    "duration": 12,
    "start_time": "2024-12-05T10:21:37.168Z"
   },
   {
    "duration": 12,
    "start_time": "2024-12-05T10:21:37.296Z"
   },
   {
    "duration": 13,
    "start_time": "2024-12-05T10:21:37.452Z"
   },
   {
    "duration": 277,
    "start_time": "2024-12-05T10:21:37.736Z"
   },
   {
    "duration": 369,
    "start_time": "2024-12-05T10:21:38.014Z"
   },
   {
    "duration": 317,
    "start_time": "2024-12-05T10:21:38.385Z"
   },
   {
    "duration": 8,
    "start_time": "2024-12-05T10:21:39.660Z"
   },
   {
    "duration": 8,
    "start_time": "2024-12-05T10:21:40.028Z"
   },
   {
    "duration": 27,
    "start_time": "2024-12-05T10:21:40.436Z"
   },
   {
    "duration": 100,
    "start_time": "2024-12-05T10:21:40.672Z"
   },
   {
    "duration": 21,
    "start_time": "2024-12-05T10:21:40.935Z"
   },
   {
    "duration": 2,
    "start_time": "2024-12-05T10:23:13.948Z"
   },
   {
    "duration": 126,
    "start_time": "2024-12-05T10:23:14.456Z"
   },
   {
    "duration": 534,
    "start_time": "2024-12-05T10:23:14.584Z"
   },
   {
    "duration": 483,
    "start_time": "2024-12-05T10:23:15.120Z"
   },
   {
    "duration": 12,
    "start_time": "2024-12-05T10:23:15.605Z"
   },
   {
    "duration": 15,
    "start_time": "2024-12-05T10:23:15.618Z"
   },
   {
    "duration": 13,
    "start_time": "2024-12-05T10:23:15.634Z"
   },
   {
    "duration": 329,
    "start_time": "2024-12-05T10:23:15.649Z"
   },
   {
    "duration": 307,
    "start_time": "2024-12-05T10:23:15.979Z"
   },
   {
    "duration": 309,
    "start_time": "2024-12-05T10:23:16.289Z"
   },
   {
    "duration": 8,
    "start_time": "2024-12-05T10:23:16.599Z"
   },
   {
    "duration": 5,
    "start_time": "2024-12-05T10:23:16.608Z"
   },
   {
    "duration": 61,
    "start_time": "2024-12-05T10:23:16.614Z"
   },
   {
    "duration": 103,
    "start_time": "2024-12-05T10:23:16.685Z"
   },
   {
    "duration": 116,
    "start_time": "2024-12-05T10:23:16.875Z"
   },
   {
    "duration": 3,
    "start_time": "2024-12-05T11:07:16.066Z"
   },
   {
    "duration": 12,
    "start_time": "2024-12-05T11:08:32.171Z"
   },
   {
    "duration": 1815,
    "start_time": "2024-12-06T09:16:46.757Z"
   },
   {
    "duration": 270,
    "start_time": "2024-12-06T09:16:48.575Z"
   },
   {
    "duration": 250,
    "start_time": "2024-12-06T09:16:48.847Z"
   },
   {
    "duration": 267,
    "start_time": "2024-12-06T09:16:49.100Z"
   },
   {
    "duration": 16,
    "start_time": "2024-12-06T09:16:49.368Z"
   },
   {
    "duration": 87,
    "start_time": "2024-12-06T09:16:49.385Z"
   },
   {
    "duration": 14,
    "start_time": "2024-12-06T09:16:49.474Z"
   },
   {
    "duration": 476,
    "start_time": "2024-12-06T09:16:49.499Z"
   },
   {
    "duration": 0,
    "start_time": "2024-12-06T09:16:49.977Z"
   },
   {
    "duration": 0,
    "start_time": "2024-12-06T09:16:49.979Z"
   },
   {
    "duration": 0,
    "start_time": "2024-12-06T09:16:49.988Z"
   },
   {
    "duration": 0,
    "start_time": "2024-12-06T09:16:49.990Z"
   },
   {
    "duration": 0,
    "start_time": "2024-12-06T09:16:49.991Z"
   },
   {
    "duration": 0,
    "start_time": "2024-12-06T09:16:49.992Z"
   },
   {
    "duration": 0,
    "start_time": "2024-12-06T09:16:49.996Z"
   },
   {
    "duration": 0,
    "start_time": "2024-12-06T09:16:49.998Z"
   },
   {
    "duration": 0,
    "start_time": "2024-12-06T09:16:50.000Z"
   },
   {
    "duration": 0,
    "start_time": "2024-12-06T09:16:50.000Z"
   },
   {
    "duration": 317,
    "start_time": "2024-12-06T09:17:49.281Z"
   },
   {
    "duration": 379,
    "start_time": "2024-12-06T09:17:50.637Z"
   },
   {
    "duration": 318,
    "start_time": "2024-12-06T09:17:53.712Z"
   },
   {
    "duration": 15,
    "start_time": "2024-12-06T09:17:54.756Z"
   },
   {
    "duration": 5,
    "start_time": "2024-12-06T09:17:55.145Z"
   },
   {
    "duration": 44,
    "start_time": "2024-12-06T09:17:55.357Z"
   },
   {
    "duration": 25,
    "start_time": "2024-12-06T09:17:55.717Z"
   },
   {
    "duration": 36,
    "start_time": "2024-12-06T09:17:56.000Z"
   },
   {
    "duration": 7,
    "start_time": "2024-12-06T09:17:56.896Z"
   },
   {
    "duration": 7,
    "start_time": "2024-12-06T09:17:57.101Z"
   },
   {
    "duration": 10,
    "start_time": "2024-12-06T09:17:58.001Z"
   },
   {
    "duration": 14,
    "start_time": "2024-12-06T09:56:57.939Z"
   },
   {
    "duration": 3,
    "start_time": "2024-12-06T09:58:55.268Z"
   },
   {
    "duration": 8,
    "start_time": "2024-12-06T09:59:26.288Z"
   },
   {
    "duration": 14,
    "start_time": "2024-12-06T10:00:13.511Z"
   },
   {
    "duration": 4,
    "start_time": "2024-12-06T10:01:20.655Z"
   },
   {
    "duration": 8,
    "start_time": "2024-12-06T10:01:21.406Z"
   },
   {
    "duration": 3,
    "start_time": "2024-12-06T10:02:41.815Z"
   },
   {
    "duration": 6,
    "start_time": "2024-12-06T10:02:41.987Z"
   },
   {
    "duration": 3,
    "start_time": "2024-12-06T10:02:43.167Z"
   },
   {
    "duration": 4,
    "start_time": "2024-12-06T10:02:43.667Z"
   },
   {
    "duration": 10,
    "start_time": "2024-12-06T10:02:47.499Z"
   },
   {
    "duration": 4,
    "start_time": "2024-12-06T10:03:28.063Z"
   },
   {
    "duration": 9,
    "start_time": "2024-12-06T10:03:28.448Z"
   },
   {
    "duration": 6,
    "start_time": "2024-12-06T10:03:33.651Z"
   },
   {
    "duration": 3,
    "start_time": "2024-12-06T10:03:48.259Z"
   },
   {
    "duration": 3,
    "start_time": "2024-12-06T10:03:48.567Z"
   },
   {
    "duration": 3,
    "start_time": "2024-12-06T10:03:49.939Z"
   },
   {
    "duration": 4,
    "start_time": "2024-12-06T10:03:50.355Z"
   },
   {
    "duration": 6,
    "start_time": "2024-12-06T10:03:50.971Z"
   },
   {
    "duration": 20,
    "start_time": "2024-12-06T10:04:54.198Z"
   },
   {
    "duration": 21,
    "start_time": "2024-12-06T10:06:23.895Z"
   },
   {
    "duration": 4,
    "start_time": "2024-12-06T10:06:24.455Z"
   },
   {
    "duration": 44,
    "start_time": "2024-12-06T10:06:25.179Z"
   },
   {
    "duration": 39,
    "start_time": "2024-12-06T10:06:25.390Z"
   },
   {
    "duration": 102,
    "start_time": "2024-12-06T10:06:25.519Z"
   },
   {
    "duration": 3,
    "start_time": "2024-12-06T10:06:26.953Z"
   },
   {
    "duration": 3,
    "start_time": "2024-12-06T10:06:27.152Z"
   },
   {
    "duration": 6,
    "start_time": "2024-12-06T10:06:28.943Z"
   },
   {
    "duration": 5,
    "start_time": "2024-12-06T10:06:30.715Z"
   },
   {
    "duration": 6,
    "start_time": "2024-12-06T10:06:31.436Z"
   },
   {
    "duration": 8,
    "start_time": "2024-12-06T10:06:37.087Z"
   },
   {
    "duration": 24,
    "start_time": "2024-12-06T10:06:40.295Z"
   },
   {
    "duration": 13,
    "start_time": "2024-12-06T10:06:42.315Z"
   },
   {
    "duration": 8,
    "start_time": "2024-12-06T10:06:46.901Z"
   },
   {
    "duration": 6,
    "start_time": "2024-12-06T10:06:47.759Z"
   },
   {
    "duration": 7,
    "start_time": "2024-12-06T10:07:51.794Z"
   },
   {
    "duration": 5,
    "start_time": "2024-12-06T10:07:53.147Z"
   },
   {
    "duration": 6,
    "start_time": "2024-12-06T10:08:18.015Z"
   },
   {
    "duration": 8,
    "start_time": "2024-12-06T10:08:36.204Z"
   },
   {
    "duration": 3,
    "start_time": "2024-12-06T10:09:52.783Z"
   },
   {
    "duration": 7,
    "start_time": "2024-12-06T10:10:10.015Z"
   },
   {
    "duration": 8,
    "start_time": "2024-12-06T10:10:38.679Z"
   },
   {
    "duration": 19,
    "start_time": "2024-12-06T10:10:53.004Z"
   },
   {
    "duration": 10,
    "start_time": "2024-12-06T10:11:08.392Z"
   },
   {
    "duration": 5,
    "start_time": "2024-12-06T10:11:13.971Z"
   },
   {
    "duration": 12,
    "start_time": "2024-12-06T10:11:14.363Z"
   },
   {
    "duration": 5,
    "start_time": "2024-12-06T10:11:42.635Z"
   },
   {
    "duration": 911,
    "start_time": "2024-12-06T10:11:43.306Z"
   },
   {
    "duration": 885,
    "start_time": "2024-12-06T10:12:20.631Z"
   },
   {
    "duration": 3,
    "start_time": "2024-12-06T10:13:13.611Z"
   },
   {
    "duration": 5,
    "start_time": "2024-12-06T10:13:14.519Z"
   },
   {
    "duration": 3,
    "start_time": "2024-12-06T10:14:16.047Z"
   },
   {
    "duration": 5,
    "start_time": "2024-12-06T10:14:16.259Z"
   },
   {
    "duration": 1017,
    "start_time": "2024-12-06T10:14:17.315Z"
   },
   {
    "duration": 4,
    "start_time": "2024-12-06T10:14:48.723Z"
   },
   {
    "duration": 6,
    "start_time": "2024-12-06T10:14:49.143Z"
   },
   {
    "duration": 6,
    "start_time": "2024-12-06T10:14:49.571Z"
   },
   {
    "duration": 7,
    "start_time": "2024-12-06T10:14:49.843Z"
   },
   {
    "duration": 3,
    "start_time": "2024-12-06T10:14:50.571Z"
   },
   {
    "duration": 5,
    "start_time": "2024-12-06T10:14:50.775Z"
   },
   {
    "duration": 1009,
    "start_time": "2024-12-06T10:14:51.531Z"
   },
   {
    "duration": 9,
    "start_time": "2024-12-06T10:15:12.603Z"
   },
   {
    "duration": 988,
    "start_time": "2024-12-06T10:15:13.087Z"
   },
   {
    "duration": 3,
    "start_time": "2024-12-06T10:15:28.108Z"
   },
   {
    "duration": 5,
    "start_time": "2024-12-06T10:15:28.547Z"
   },
   {
    "duration": 916,
    "start_time": "2024-12-06T10:15:28.975Z"
   },
   {
    "duration": 1000,
    "start_time": "2024-12-06T10:15:45.747Z"
   },
   {
    "duration": 5,
    "start_time": "2024-12-06T10:16:51.355Z"
   },
   {
    "duration": 1007,
    "start_time": "2024-12-06T10:16:52.052Z"
   },
   {
    "duration": 1006,
    "start_time": "2024-12-06T10:17:38.943Z"
   },
   {
    "duration": 1000,
    "start_time": "2024-12-06T10:17:45.847Z"
   },
   {
    "duration": 991,
    "start_time": "2024-12-06T10:17:47.318Z"
   },
   {
    "duration": 3,
    "start_time": "2024-12-06T10:18:21.515Z"
   },
   {
    "duration": 6,
    "start_time": "2024-12-06T10:18:21.731Z"
   },
   {
    "duration": 1015,
    "start_time": "2024-12-06T10:18:21.904Z"
   },
   {
    "duration": 1019,
    "start_time": "2024-12-06T10:18:22.921Z"
   },
   {
    "duration": 1055,
    "start_time": "2024-12-06T10:18:23.942Z"
   },
   {
    "duration": 85,
    "start_time": "2024-12-06T15:58:33.642Z"
   },
   {
    "duration": 2738,
    "start_time": "2024-12-06T15:58:37.197Z"
   },
   {
    "duration": 657,
    "start_time": "2024-12-06T15:58:39.937Z"
   },
   {
    "duration": 572,
    "start_time": "2024-12-06T15:58:40.596Z"
   },
   {
    "duration": 575,
    "start_time": "2024-12-06T15:58:41.170Z"
   },
   {
    "duration": 20,
    "start_time": "2024-12-06T15:58:41.747Z"
   },
   {
    "duration": 41,
    "start_time": "2024-12-06T15:58:41.769Z"
   },
   {
    "duration": 20,
    "start_time": "2024-12-06T15:58:41.812Z"
   },
   {
    "duration": 301,
    "start_time": "2024-12-06T15:58:41.834Z"
   },
   {
    "duration": 300,
    "start_time": "2024-12-06T15:58:42.136Z"
   },
   {
    "duration": 371,
    "start_time": "2024-12-06T15:58:42.440Z"
   },
   {
    "duration": 20,
    "start_time": "2024-12-06T15:58:42.812Z"
   },
   {
    "duration": 5,
    "start_time": "2024-12-06T15:58:42.834Z"
   },
   {
    "duration": 93,
    "start_time": "2024-12-06T15:58:42.841Z"
   },
   {
    "duration": 106,
    "start_time": "2024-12-06T15:58:42.937Z"
   },
   {
    "duration": 140,
    "start_time": "2024-12-06T15:58:43.079Z"
   },
   {
    "duration": 7,
    "start_time": "2024-12-06T15:58:43.220Z"
   },
   {
    "duration": 6,
    "start_time": "2024-12-06T15:58:43.230Z"
   },
   {
    "duration": 78,
    "start_time": "2024-12-06T15:58:43.238Z"
   },
   {
    "duration": 66,
    "start_time": "2024-12-06T15:58:43.317Z"
   },
   {
    "duration": 26,
    "start_time": "2024-12-06T15:58:43.385Z"
   },
   {
    "duration": 18,
    "start_time": "2024-12-06T15:58:43.413Z"
   },
   {
    "duration": 5,
    "start_time": "2024-12-06T15:58:43.433Z"
   },
   {
    "duration": 5,
    "start_time": "2024-12-06T15:58:43.440Z"
   },
   {
    "duration": 2,
    "start_time": "2024-12-06T15:58:43.446Z"
   },
   {
    "duration": 5,
    "start_time": "2024-12-06T15:58:43.449Z"
   },
   {
    "duration": 843,
    "start_time": "2024-12-06T15:58:43.455Z"
   },
   {
    "duration": 721,
    "start_time": "2024-12-06T15:58:44.300Z"
   },
   {
    "duration": 825,
    "start_time": "2024-12-06T15:58:45.024Z"
   },
   {
    "duration": 6,
    "start_time": "2024-12-06T15:58:57.229Z"
   },
   {
    "duration": 1667,
    "start_time": "2024-12-07T11:37:24.197Z"
   },
   {
    "duration": 730,
    "start_time": "2024-12-07T11:37:25.866Z"
   },
   {
    "duration": 620,
    "start_time": "2024-12-07T11:37:26.598Z"
   },
   {
    "duration": 588,
    "start_time": "2024-12-07T11:37:27.220Z"
   },
   {
    "duration": 15,
    "start_time": "2024-12-07T11:37:27.809Z"
   },
   {
    "duration": 14,
    "start_time": "2024-12-07T11:37:27.826Z"
   },
   {
    "duration": 29,
    "start_time": "2024-12-07T11:37:27.841Z"
   },
   {
    "duration": 275,
    "start_time": "2024-12-07T11:37:27.872Z"
   },
   {
    "duration": 298,
    "start_time": "2024-12-07T11:37:28.149Z"
   },
   {
    "duration": 356,
    "start_time": "2024-12-07T11:37:28.449Z"
   },
   {
    "duration": 59,
    "start_time": "2024-12-07T11:37:28.807Z"
   },
   {
    "duration": 20,
    "start_time": "2024-12-07T11:37:35.053Z"
   },
   {
    "duration": 21,
    "start_time": "2024-12-07T11:37:51.396Z"
   },
   {
    "duration": 18,
    "start_time": "2024-12-07T11:37:51.584Z"
   },
   {
    "duration": 18,
    "start_time": "2024-12-07T11:38:14.776Z"
   },
   {
    "duration": 19,
    "start_time": "2024-12-07T11:38:19.608Z"
   },
   {
    "duration": 16,
    "start_time": "2024-12-07T11:38:20.088Z"
   },
   {
    "duration": 16,
    "start_time": "2024-12-07T11:38:27.336Z"
   },
   {
    "duration": 19,
    "start_time": "2024-12-07T11:38:27.929Z"
   },
   {
    "duration": 17,
    "start_time": "2024-12-07T11:38:28.573Z"
   },
   {
    "duration": 17,
    "start_time": "2024-12-07T11:38:56.068Z"
   },
   {
    "duration": 16,
    "start_time": "2024-12-07T11:38:56.704Z"
   },
   {
    "duration": 16,
    "start_time": "2024-12-07T11:42:27.948Z"
   },
   {
    "duration": 59,
    "start_time": "2024-12-07T11:42:28.408Z"
   },
   {
    "duration": 111,
    "start_time": "2024-12-07T11:42:28.748Z"
   },
   {
    "duration": 3,
    "start_time": "2024-12-07T11:42:43.248Z"
   },
   {
    "duration": 167,
    "start_time": "2024-12-07T11:42:43.396Z"
   },
   {
    "duration": 152,
    "start_time": "2024-12-07T11:42:43.564Z"
   },
   {
    "duration": 154,
    "start_time": "2024-12-07T11:42:43.718Z"
   },
   {
    "duration": 17,
    "start_time": "2024-12-07T11:42:44.120Z"
   },
   {
    "duration": 16,
    "start_time": "2024-12-07T11:42:44.380Z"
   },
   {
    "duration": 16,
    "start_time": "2024-12-07T11:42:44.519Z"
   },
   {
    "duration": 278,
    "start_time": "2024-12-07T11:42:44.800Z"
   },
   {
    "duration": 296,
    "start_time": "2024-12-07T11:42:45.080Z"
   },
   {
    "duration": 301,
    "start_time": "2024-12-07T11:42:45.377Z"
   },
   {
    "duration": 20,
    "start_time": "2024-12-07T11:42:46.764Z"
   },
   {
    "duration": 49,
    "start_time": "2024-12-07T11:42:47.259Z"
   },
   {
    "duration": 8,
    "start_time": "2024-12-07T11:42:47.728Z"
   },
   {
    "duration": 12,
    "start_time": "2024-12-07T11:43:39.392Z"
   },
   {
    "duration": 9,
    "start_time": "2024-12-07T11:43:39.728Z"
   },
   {
    "duration": 159,
    "start_time": "2024-12-07T11:43:45.180Z"
   },
   {
    "duration": 151,
    "start_time": "2024-12-07T11:43:45.684Z"
   },
   {
    "duration": 155,
    "start_time": "2024-12-07T11:43:45.836Z"
   },
   {
    "duration": 15,
    "start_time": "2024-12-07T11:43:45.993Z"
   },
   {
    "duration": 20,
    "start_time": "2024-12-07T11:43:46.010Z"
   },
   {
    "duration": 30,
    "start_time": "2024-12-07T11:43:46.032Z"
   },
   {
    "duration": 300,
    "start_time": "2024-12-07T11:43:46.064Z"
   },
   {
    "duration": 302,
    "start_time": "2024-12-07T11:43:46.366Z"
   },
   {
    "duration": 385,
    "start_time": "2024-12-07T11:43:46.670Z"
   },
   {
    "duration": 20,
    "start_time": "2024-12-07T11:43:47.062Z"
   },
   {
    "duration": 67,
    "start_time": "2024-12-07T11:43:47.084Z"
   },
   {
    "duration": 4,
    "start_time": "2024-12-07T11:44:59.280Z"
   },
   {
    "duration": 162,
    "start_time": "2024-12-07T11:44:59.311Z"
   },
   {
    "duration": 146,
    "start_time": "2024-12-07T11:44:59.475Z"
   },
   {
    "duration": 146,
    "start_time": "2024-12-07T11:44:59.623Z"
   },
   {
    "duration": 15,
    "start_time": "2024-12-07T11:44:59.771Z"
   },
   {
    "duration": 15,
    "start_time": "2024-12-07T11:44:59.788Z"
   },
   {
    "duration": 15,
    "start_time": "2024-12-07T11:44:59.804Z"
   },
   {
    "duration": 312,
    "start_time": "2024-12-07T11:44:59.820Z"
   },
   {
    "duration": 280,
    "start_time": "2024-12-07T11:45:00.133Z"
   },
   {
    "duration": 300,
    "start_time": "2024-12-07T11:45:00.415Z"
   },
   {
    "duration": 24,
    "start_time": "2024-12-07T11:45:00.716Z"
   },
   {
    "duration": 73,
    "start_time": "2024-12-07T11:45:00.742Z"
   },
   {
    "duration": 16,
    "start_time": "2024-12-07T11:45:00.817Z"
   },
   {
    "duration": 16,
    "start_time": "2024-12-07T11:45:20.460Z"
   },
   {
    "duration": 23,
    "start_time": "2024-12-07T11:45:21.192Z"
   },
   {
    "duration": 16,
    "start_time": "2024-12-07T11:45:21.544Z"
   },
   {
    "duration": 17,
    "start_time": "2024-12-07T11:45:25.172Z"
   },
   {
    "duration": 23,
    "start_time": "2024-12-07T11:45:29.399Z"
   },
   {
    "duration": 17,
    "start_time": "2024-12-07T11:45:29.540Z"
   },
   {
    "duration": 21,
    "start_time": "2024-12-07T11:45:29.688Z"
   },
   {
    "duration": 24,
    "start_time": "2024-12-07T11:45:30.992Z"
   },
   {
    "duration": 16,
    "start_time": "2024-12-07T11:45:31.644Z"
   },
   {
    "duration": 15,
    "start_time": "2024-12-07T11:45:33.532Z"
   },
   {
    "duration": 23,
    "start_time": "2024-12-07T11:45:33.988Z"
   },
   {
    "duration": 16,
    "start_time": "2024-12-07T11:45:34.240Z"
   },
   {
    "duration": 18,
    "start_time": "2024-12-07T11:45:48.707Z"
   },
   {
    "duration": 24,
    "start_time": "2024-12-07T11:45:51.604Z"
   },
   {
    "duration": 17,
    "start_time": "2024-12-07T11:45:51.956Z"
   },
   {
    "duration": 85,
    "start_time": "2024-12-07T11:45:59.111Z"
   },
   {
    "duration": 18,
    "start_time": "2024-12-07T11:45:59.480Z"
   },
   {
    "duration": 17,
    "start_time": "2024-12-07T11:46:01.584Z"
   },
   {
    "duration": 68,
    "start_time": "2024-12-07T11:46:02.341Z"
   },
   {
    "duration": 23,
    "start_time": "2024-12-07T11:46:02.411Z"
   },
   {
    "duration": 16,
    "start_time": "2024-12-07T11:47:50.944Z"
   },
   {
    "duration": 68,
    "start_time": "2024-12-07T11:47:51.236Z"
   },
   {
    "duration": 16,
    "start_time": "2024-12-07T11:47:51.564Z"
   },
   {
    "duration": 68,
    "start_time": "2024-12-07T11:48:29.440Z"
   },
   {
    "duration": 62,
    "start_time": "2024-12-07T11:48:31.624Z"
   },
   {
    "duration": 17,
    "start_time": "2024-12-07T11:48:32.648Z"
   },
   {
    "duration": 64,
    "start_time": "2024-12-07T11:49:04.132Z"
   },
   {
    "duration": 18,
    "start_time": "2024-12-07T11:49:04.875Z"
   },
   {
    "duration": 18,
    "start_time": "2024-12-07T11:49:06.592Z"
   },
   {
    "duration": 65,
    "start_time": "2024-12-07T11:49:07.728Z"
   },
   {
    "duration": 18,
    "start_time": "2024-12-07T11:49:08.392Z"
   },
   {
    "duration": 17,
    "start_time": "2024-12-07T11:49:09.496Z"
   },
   {
    "duration": 20,
    "start_time": "2024-12-07T11:49:09.912Z"
   },
   {
    "duration": 57,
    "start_time": "2024-12-07T11:53:03.212Z"
   },
   {
    "duration": 16,
    "start_time": "2024-12-07T11:53:08.271Z"
   },
   {
    "duration": 34,
    "start_time": "2024-12-07T11:53:44.303Z"
   },
   {
    "duration": 16,
    "start_time": "2024-12-07T11:53:45.100Z"
   },
   {
    "duration": 15,
    "start_time": "2024-12-07T11:53:46.664Z"
   },
   {
    "duration": 52,
    "start_time": "2024-12-07T11:53:50.788Z"
   },
   {
    "duration": 17,
    "start_time": "2024-12-07T11:53:55.027Z"
   },
   {
    "duration": 46,
    "start_time": "2024-12-07T11:53:55.435Z"
   },
   {
    "duration": 16,
    "start_time": "2024-12-07T11:53:55.740Z"
   },
   {
    "duration": 27,
    "start_time": "2024-12-07T11:54:56.332Z"
   },
   {
    "duration": 16,
    "start_time": "2024-12-07T11:54:58.455Z"
   },
   {
    "duration": 20,
    "start_time": "2024-12-07T11:54:59.272Z"
   },
   {
    "duration": 30,
    "start_time": "2024-12-07T11:54:59.788Z"
   },
   {
    "duration": 14,
    "start_time": "2024-12-07T11:55:00.200Z"
   },
   {
    "duration": 26,
    "start_time": "2024-12-07T11:55:07.227Z"
   },
   {
    "duration": 16,
    "start_time": "2024-12-07T11:55:07.504Z"
   },
   {
    "duration": 13,
    "start_time": "2024-12-07T12:15:59.002Z"
   },
   {
    "duration": 291,
    "start_time": "2024-12-07T12:16:05.450Z"
   },
   {
    "duration": 18,
    "start_time": "2024-12-07T12:16:05.878Z"
   },
   {
    "duration": 43,
    "start_time": "2024-12-07T12:16:06.010Z"
   },
   {
    "duration": 17,
    "start_time": "2024-12-07T12:16:06.138Z"
   },
   {
    "duration": 17,
    "start_time": "2024-12-07T12:16:06.282Z"
   },
   {
    "duration": 30,
    "start_time": "2024-12-07T12:16:06.426Z"
   },
   {
    "duration": 17,
    "start_time": "2024-12-07T12:16:06.565Z"
   },
   {
    "duration": 17,
    "start_time": "2024-12-07T12:16:06.710Z"
   },
   {
    "duration": 29,
    "start_time": "2024-12-07T12:16:06.850Z"
   },
   {
    "duration": 18,
    "start_time": "2024-12-07T12:16:07.006Z"
   },
   {
    "duration": 10,
    "start_time": "2024-12-07T12:16:08.262Z"
   },
   {
    "duration": 4,
    "start_time": "2024-12-07T12:16:08.570Z"
   },
   {
    "duration": 41,
    "start_time": "2024-12-07T12:16:08.778Z"
   },
   {
    "duration": 26,
    "start_time": "2024-12-07T12:16:09.110Z"
   },
   {
    "duration": 29,
    "start_time": "2024-12-07T12:16:10.610Z"
   },
   {
    "duration": 2,
    "start_time": "2024-12-07T12:16:44.514Z"
   },
   {
    "duration": 3,
    "start_time": "2024-12-07T12:16:45.470Z"
   },
   {
    "duration": 7,
    "start_time": "2024-12-07T12:16:46.705Z"
   },
   {
    "duration": 73,
    "start_time": "2024-12-07T12:16:58.013Z"
   },
   {
    "duration": 7,
    "start_time": "2024-12-07T12:17:01.858Z"
   },
   {
    "duration": 6,
    "start_time": "2024-12-07T12:17:13.250Z"
   },
   {
    "duration": 6,
    "start_time": "2024-12-07T12:17:13.419Z"
   },
   {
    "duration": 6,
    "start_time": "2024-12-07T12:17:17.166Z"
   },
   {
    "duration": 6,
    "start_time": "2024-12-07T12:17:20.074Z"
   },
   {
    "duration": 9,
    "start_time": "2024-12-07T12:19:07.638Z"
   },
   {
    "duration": 15,
    "start_time": "2024-12-07T12:19:10.734Z"
   },
   {
    "duration": 4,
    "start_time": "2024-12-07T12:19:11.646Z"
   },
   {
    "duration": 4,
    "start_time": "2024-12-07T12:19:12.078Z"
   },
   {
    "duration": 8,
    "start_time": "2024-12-07T12:19:25.698Z"
   },
   {
    "duration": 3,
    "start_time": "2024-12-07T12:19:25.906Z"
   },
   {
    "duration": 4,
    "start_time": "2024-12-07T12:19:26.326Z"
   },
   {
    "duration": 59,
    "start_time": "2024-12-07T12:19:37.774Z"
   },
   {
    "duration": 11,
    "start_time": "2024-12-07T12:19:40.234Z"
   },
   {
    "duration": 4,
    "start_time": "2024-12-07T12:20:05.270Z"
   },
   {
    "duration": 7,
    "start_time": "2024-12-07T12:20:05.406Z"
   },
   {
    "duration": 7,
    "start_time": "2024-12-07T12:20:05.550Z"
   },
   {
    "duration": 6,
    "start_time": "2024-12-07T12:20:05.990Z"
   },
   {
    "duration": 5,
    "start_time": "2024-12-07T13:04:27.230Z"
   },
   {
    "duration": 7,
    "start_time": "2024-12-07T13:04:30.298Z"
   },
   {
    "duration": 5,
    "start_time": "2024-12-07T13:04:31.331Z"
   },
   {
    "duration": 3,
    "start_time": "2024-12-07T13:04:31.559Z"
   },
   {
    "duration": 11,
    "start_time": "2024-12-07T13:04:32.714Z"
   },
   {
    "duration": 12,
    "start_time": "2024-12-07T13:04:40.194Z"
   },
   {
    "duration": 3,
    "start_time": "2024-12-07T13:25:48.184Z"
   },
   {
    "duration": 2,
    "start_time": "2024-12-07T13:25:53.304Z"
   },
   {
    "duration": 6,
    "start_time": "2024-12-07T13:26:01.524Z"
   },
   {
    "duration": 16,
    "start_time": "2024-12-07T13:26:03.700Z"
   },
   {
    "duration": 3,
    "start_time": "2024-12-07T13:28:14.400Z"
   },
   {
    "duration": 3,
    "start_time": "2024-12-07T13:28:15.384Z"
   },
   {
    "duration": 5,
    "start_time": "2024-12-07T13:28:15.841Z"
   },
   {
    "duration": 928,
    "start_time": "2024-12-07T13:28:16.704Z"
   },
   {
    "duration": 891,
    "start_time": "2024-12-07T13:28:19.720Z"
   },
   {
    "duration": 904,
    "start_time": "2024-12-07T13:28:20.612Z"
   },
   {
    "duration": 6,
    "start_time": "2024-12-07T13:29:52.040Z"
   },
   {
    "duration": 903,
    "start_time": "2024-12-07T13:29:53.049Z"
   },
   {
    "duration": 6,
    "start_time": "2024-12-07T13:30:01.156Z"
   },
   {
    "duration": 6,
    "start_time": "2024-12-07T14:54:38.127Z"
   },
   {
    "duration": 692,
    "start_time": "2024-12-07T14:54:39.158Z"
   },
   {
    "duration": 667,
    "start_time": "2024-12-07T14:54:41.118Z"
   },
   {
    "duration": 680,
    "start_time": "2024-12-07T14:54:41.786Z"
   },
   {
    "duration": 2402,
    "start_time": "2024-12-09T07:11:22.210Z"
   },
   {
    "duration": 751,
    "start_time": "2024-12-09T07:11:24.614Z"
   },
   {
    "duration": 600,
    "start_time": "2024-12-09T07:11:25.366Z"
   },
   {
    "duration": 576,
    "start_time": "2024-12-09T07:11:25.969Z"
   },
   {
    "duration": 17,
    "start_time": "2024-12-09T07:11:26.547Z"
   },
   {
    "duration": 15,
    "start_time": "2024-12-09T07:11:26.565Z"
   },
   {
    "duration": 15,
    "start_time": "2024-12-09T07:11:26.582Z"
   },
   {
    "duration": 325,
    "start_time": "2024-12-09T07:11:26.599Z"
   },
   {
    "duration": 312,
    "start_time": "2024-12-09T07:11:26.927Z"
   },
   {
    "duration": 381,
    "start_time": "2024-12-09T07:11:27.242Z"
   },
   {
    "duration": 21,
    "start_time": "2024-12-09T07:11:27.625Z"
   },
   {
    "duration": 31,
    "start_time": "2024-12-09T07:11:27.663Z"
   },
   {
    "duration": 18,
    "start_time": "2024-12-09T07:11:27.696Z"
   },
   {
    "duration": 23,
    "start_time": "2024-12-09T07:11:27.716Z"
   },
   {
    "duration": 54,
    "start_time": "2024-12-09T07:11:27.740Z"
   },
   {
    "duration": 16,
    "start_time": "2024-12-09T07:11:27.796Z"
   },
   {
    "duration": 38,
    "start_time": "2024-12-09T07:11:27.814Z"
   },
   {
    "duration": 36,
    "start_time": "2024-12-09T07:11:27.854Z"
   },
   {
    "duration": 16,
    "start_time": "2024-12-09T07:11:27.892Z"
   },
   {
    "duration": 14,
    "start_time": "2024-12-09T07:11:27.910Z"
   },
   {
    "duration": 17,
    "start_time": "2024-12-09T07:11:27.925Z"
   },
   {
    "duration": 40,
    "start_time": "2024-12-09T07:11:27.944Z"
   },
   {
    "duration": 187,
    "start_time": "2024-12-09T07:11:27.987Z"
   },
   {
    "duration": 197,
    "start_time": "2024-12-09T07:11:28.176Z"
   },
   {
    "duration": 87,
    "start_time": "2024-12-09T07:11:28.376Z"
   },
   {
    "duration": 99,
    "start_time": "2024-12-09T07:11:28.465Z"
   },
   {
    "duration": 21,
    "start_time": "2024-12-09T07:11:28.566Z"
   },
   {
    "duration": 16,
    "start_time": "2024-12-09T07:11:28.591Z"
   },
   {
    "duration": 26,
    "start_time": "2024-12-09T07:11:28.609Z"
   },
   {
    "duration": 7,
    "start_time": "2024-12-09T07:11:28.637Z"
   },
   {
    "duration": 21,
    "start_time": "2024-12-09T07:11:28.646Z"
   },
   {
    "duration": 4,
    "start_time": "2024-12-09T07:11:28.669Z"
   },
   {
    "duration": 15,
    "start_time": "2024-12-09T07:11:28.675Z"
   },
   {
    "duration": 727,
    "start_time": "2024-12-09T07:11:28.692Z"
   },
   {
    "duration": 679,
    "start_time": "2024-12-09T07:11:29.421Z"
   },
   {
    "duration": 703,
    "start_time": "2024-12-09T07:11:30.102Z"
   }
  ],
  "kernelspec": {
   "display_name": "Python 3 (ipykernel)",
   "language": "python",
   "name": "python3"
  },
  "language_info": {
   "codemirror_mode": {
    "name": "ipython",
    "version": 3
   },
   "file_extension": ".py",
   "mimetype": "text/x-python",
   "name": "python",
   "nbconvert_exporter": "python",
   "pygments_lexer": "ipython3",
   "version": "3.9.5"
  },
  "toc": {
   "base_numbering": 1,
   "nav_menu": {},
   "number_sections": true,
   "sideBar": true,
   "skip_h1_title": true,
   "title_cell": "Table of Contents",
   "title_sidebar": "Contents",
   "toc_cell": false,
   "toc_position": {},
   "toc_section_display": true,
   "toc_window_display": false
  }
 },
 "nbformat": 4,
 "nbformat_minor": 2
}
