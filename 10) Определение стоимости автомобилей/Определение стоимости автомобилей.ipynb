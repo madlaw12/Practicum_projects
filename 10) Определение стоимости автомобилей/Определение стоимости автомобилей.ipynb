{
 "cells": [
  {
   "cell_type": "markdown",
   "metadata": {},
   "source": [
    "# Определение стоимости автомобилей"
   ]
  },
  {
   "cell_type": "markdown",
   "metadata": {},
   "source": [
    "Сервис по продаже автомобилей с пробегом «Не бит, не крашен» разрабатывает приложение для привлечения новых клиентов. В нём можно быстро узнать рыночную стоимость своего автомобиля. В вашем распоряжении исторические данные: технические характеристики, комплектации и цены автомобилей. Вам нужно построить модель для определения стоимости. \n",
    "\n",
    "Заказчику важны:\n",
    "\n",
    "- качество предсказания;\n",
    "- скорость предсказания;\n",
    "- время обучения."
   ]
  },
  {
   "cell_type": "markdown",
   "metadata": {},
   "source": [
    "## Описание данных\n",
    "Признаки\n",
    "\n",
    "DateCrawled — дата скачивания анкеты из базы\n",
    "VehicleType — тип автомобильного кузова\n",
    "RegistrationYear — год регистрации автомобиля\n",
    "Gearbox — тип коробки передач\n",
    "Power — мощность (л. с.)\n",
    "Model — модель автомобиля\n",
    "Kilometer — пробег (км)\n",
    "RegistrationMonth — месяц регистрации автомобиля\n",
    "FuelType — тип топлива\n",
    "Brand — марка автомобиля\n",
    "NotRepaired — была машина в ремонте или нет\n",
    "DateCreated — дата создания анкеты\n",
    "NumberOfPictures — количество фотографий автомобиля\n",
    "PostalCode — почтовый индекс владельца анкеты (пользователя)\n",
    "LastSeen — дата последней активности пользователя\n",
    "Целевой признак\n",
    "\n",
    "Price — цена (евро)"
   ]
  },
  {
   "cell_type": "markdown",
   "metadata": {},
   "source": [
    "## Подготовка данных"
   ]
  },
  {
   "cell_type": "code",
   "execution_count": 1,
   "metadata": {
    "scrolled": true
   },
   "outputs": [],
   "source": [
    "!pip install lightgbm -q"
   ]
  },
  {
   "cell_type": "code",
   "execution_count": 2,
   "metadata": {},
   "outputs": [],
   "source": [
    "! pip install phik -q"
   ]
  },
  {
   "cell_type": "code",
   "execution_count": 3,
   "metadata": {},
   "outputs": [],
   "source": [
    "! pip install -Uq scikit-learn"
   ]
  },
  {
   "cell_type": "code",
   "execution_count": 4,
   "metadata": {},
   "outputs": [
    {
     "data": {
      "text/plain": [
       "<Figure size 1440x480 with 0 Axes>"
      ]
     },
     "metadata": {},
     "output_type": "display_data"
    }
   ],
   "source": [
    "import pandas as pd\n",
    "from sklearn.impute import SimpleImputer\n",
    "from sklearn.pipeline import Pipeline\n",
    "from sklearn.compose import ColumnTransformer\n",
    "import matplotlib.pyplot as plt\n",
    "plt.figure(figsize=(18, 6), dpi=80);\n",
    "import numpy as np\n",
    "from sklearn.model_selection import train_test_split\n",
    "from sklearn.preprocessing import StandardScaler, OneHotEncoder\n",
    "from sklearn.linear_model import LinearRegression\n",
    "from sklearn.tree import DecisionTreeRegressor\n",
    "from sklearn.metrics import mean_squared_error\n",
    "from math import sqrt\n",
    "from sklearn.model_selection import GridSearchCV\n",
    "from sklearn.metrics import make_scorer\n",
    "from sklearn.ensemble import RandomForestRegressor\n",
    "from catboost import CatBoostRegressor, Pool\n",
    "import lightgbm as lgb\n",
    "import time"
   ]
  },
  {
   "cell_type": "code",
   "execution_count": 5,
   "metadata": {},
   "outputs": [
    {
     "data": {
      "text/html": [
       "<div>\n",
       "<style scoped>\n",
       "    .dataframe tbody tr th:only-of-type {\n",
       "        vertical-align: middle;\n",
       "    }\n",
       "\n",
       "    .dataframe tbody tr th {\n",
       "        vertical-align: top;\n",
       "    }\n",
       "\n",
       "    .dataframe thead th {\n",
       "        text-align: right;\n",
       "    }\n",
       "</style>\n",
       "<table border=\"1\" class=\"dataframe\">\n",
       "  <thead>\n",
       "    <tr style=\"text-align: right;\">\n",
       "      <th></th>\n",
       "      <th>DateCrawled</th>\n",
       "      <th>Price</th>\n",
       "      <th>VehicleType</th>\n",
       "      <th>RegistrationYear</th>\n",
       "      <th>Gearbox</th>\n",
       "      <th>Power</th>\n",
       "      <th>Model</th>\n",
       "      <th>Kilometer</th>\n",
       "      <th>RegistrationMonth</th>\n",
       "      <th>FuelType</th>\n",
       "      <th>Brand</th>\n",
       "      <th>Repaired</th>\n",
       "      <th>DateCreated</th>\n",
       "      <th>NumberOfPictures</th>\n",
       "      <th>PostalCode</th>\n",
       "      <th>LastSeen</th>\n",
       "    </tr>\n",
       "  </thead>\n",
       "  <tbody>\n",
       "    <tr>\n",
       "      <th>0</th>\n",
       "      <td>2016-03-24 11:52:17</td>\n",
       "      <td>480</td>\n",
       "      <td>NaN</td>\n",
       "      <td>1993</td>\n",
       "      <td>manual</td>\n",
       "      <td>0</td>\n",
       "      <td>golf</td>\n",
       "      <td>150000</td>\n",
       "      <td>0</td>\n",
       "      <td>petrol</td>\n",
       "      <td>volkswagen</td>\n",
       "      <td>NaN</td>\n",
       "      <td>2016-03-24 00:00:00</td>\n",
       "      <td>0</td>\n",
       "      <td>70435</td>\n",
       "      <td>2016-04-07 03:16:57</td>\n",
       "    </tr>\n",
       "    <tr>\n",
       "      <th>1</th>\n",
       "      <td>2016-03-24 10:58:45</td>\n",
       "      <td>18300</td>\n",
       "      <td>coupe</td>\n",
       "      <td>2011</td>\n",
       "      <td>manual</td>\n",
       "      <td>190</td>\n",
       "      <td>NaN</td>\n",
       "      <td>125000</td>\n",
       "      <td>5</td>\n",
       "      <td>gasoline</td>\n",
       "      <td>audi</td>\n",
       "      <td>yes</td>\n",
       "      <td>2016-03-24 00:00:00</td>\n",
       "      <td>0</td>\n",
       "      <td>66954</td>\n",
       "      <td>2016-04-07 01:46:50</td>\n",
       "    </tr>\n",
       "    <tr>\n",
       "      <th>2</th>\n",
       "      <td>2016-03-14 12:52:21</td>\n",
       "      <td>9800</td>\n",
       "      <td>suv</td>\n",
       "      <td>2004</td>\n",
       "      <td>auto</td>\n",
       "      <td>163</td>\n",
       "      <td>grand</td>\n",
       "      <td>125000</td>\n",
       "      <td>8</td>\n",
       "      <td>gasoline</td>\n",
       "      <td>jeep</td>\n",
       "      <td>NaN</td>\n",
       "      <td>2016-03-14 00:00:00</td>\n",
       "      <td>0</td>\n",
       "      <td>90480</td>\n",
       "      <td>2016-04-05 12:47:46</td>\n",
       "    </tr>\n",
       "    <tr>\n",
       "      <th>3</th>\n",
       "      <td>2016-03-17 16:54:04</td>\n",
       "      <td>1500</td>\n",
       "      <td>small</td>\n",
       "      <td>2001</td>\n",
       "      <td>manual</td>\n",
       "      <td>75</td>\n",
       "      <td>golf</td>\n",
       "      <td>150000</td>\n",
       "      <td>6</td>\n",
       "      <td>petrol</td>\n",
       "      <td>volkswagen</td>\n",
       "      <td>no</td>\n",
       "      <td>2016-03-17 00:00:00</td>\n",
       "      <td>0</td>\n",
       "      <td>91074</td>\n",
       "      <td>2016-03-17 17:40:17</td>\n",
       "    </tr>\n",
       "    <tr>\n",
       "      <th>4</th>\n",
       "      <td>2016-03-31 17:25:20</td>\n",
       "      <td>3600</td>\n",
       "      <td>small</td>\n",
       "      <td>2008</td>\n",
       "      <td>manual</td>\n",
       "      <td>69</td>\n",
       "      <td>fabia</td>\n",
       "      <td>90000</td>\n",
       "      <td>7</td>\n",
       "      <td>gasoline</td>\n",
       "      <td>skoda</td>\n",
       "      <td>no</td>\n",
       "      <td>2016-03-31 00:00:00</td>\n",
       "      <td>0</td>\n",
       "      <td>60437</td>\n",
       "      <td>2016-04-06 10:17:21</td>\n",
       "    </tr>\n",
       "  </tbody>\n",
       "</table>\n",
       "</div>"
      ],
      "text/plain": [
       "           DateCrawled  Price VehicleType  RegistrationYear Gearbox  Power  \\\n",
       "0  2016-03-24 11:52:17    480         NaN              1993  manual      0   \n",
       "1  2016-03-24 10:58:45  18300       coupe              2011  manual    190   \n",
       "2  2016-03-14 12:52:21   9800         suv              2004    auto    163   \n",
       "3  2016-03-17 16:54:04   1500       small              2001  manual     75   \n",
       "4  2016-03-31 17:25:20   3600       small              2008  manual     69   \n",
       "\n",
       "   Model  Kilometer  RegistrationMonth  FuelType       Brand Repaired  \\\n",
       "0   golf     150000                  0    petrol  volkswagen      NaN   \n",
       "1    NaN     125000                  5  gasoline        audi      yes   \n",
       "2  grand     125000                  8  gasoline        jeep      NaN   \n",
       "3   golf     150000                  6    petrol  volkswagen       no   \n",
       "4  fabia      90000                  7  gasoline       skoda       no   \n",
       "\n",
       "           DateCreated  NumberOfPictures  PostalCode             LastSeen  \n",
       "0  2016-03-24 00:00:00                 0       70435  2016-04-07 03:16:57  \n",
       "1  2016-03-24 00:00:00                 0       66954  2016-04-07 01:46:50  \n",
       "2  2016-03-14 00:00:00                 0       90480  2016-04-05 12:47:46  \n",
       "3  2016-03-17 00:00:00                 0       91074  2016-03-17 17:40:17  \n",
       "4  2016-03-31 00:00:00                 0       60437  2016-04-06 10:17:21  "
      ]
     },
     "execution_count": 5,
     "metadata": {},
     "output_type": "execute_result"
    }
   ],
   "source": [
    "df = pd.read_csv('/datasets/autos.csv')\n",
    "df.head()"
   ]
  },
  {
   "cell_type": "markdown",
   "metadata": {},
   "source": [
    "Переведем названия столбцов в общепринятый формат"
   ]
  },
  {
   "cell_type": "code",
   "execution_count": 6,
   "metadata": {},
   "outputs": [
    {
     "data": {
      "text/html": [
       "<div>\n",
       "<style scoped>\n",
       "    .dataframe tbody tr th:only-of-type {\n",
       "        vertical-align: middle;\n",
       "    }\n",
       "\n",
       "    .dataframe tbody tr th {\n",
       "        vertical-align: top;\n",
       "    }\n",
       "\n",
       "    .dataframe thead th {\n",
       "        text-align: right;\n",
       "    }\n",
       "</style>\n",
       "<table border=\"1\" class=\"dataframe\">\n",
       "  <thead>\n",
       "    <tr style=\"text-align: right;\">\n",
       "      <th></th>\n",
       "      <th>date_crawled</th>\n",
       "      <th>price</th>\n",
       "      <th>vehicle_type</th>\n",
       "      <th>registration_year</th>\n",
       "      <th>gearbox</th>\n",
       "      <th>power</th>\n",
       "      <th>model</th>\n",
       "      <th>kilometer</th>\n",
       "      <th>registration_month</th>\n",
       "      <th>fuel_type</th>\n",
       "      <th>brand</th>\n",
       "      <th>not_repaired</th>\n",
       "      <th>date_created</th>\n",
       "      <th>number_of_pictures</th>\n",
       "      <th>postal_code</th>\n",
       "      <th>last_seen</th>\n",
       "    </tr>\n",
       "  </thead>\n",
       "  <tbody>\n",
       "    <tr>\n",
       "      <th>0</th>\n",
       "      <td>2016-03-24 11:52:17</td>\n",
       "      <td>480</td>\n",
       "      <td>NaN</td>\n",
       "      <td>1993</td>\n",
       "      <td>manual</td>\n",
       "      <td>0</td>\n",
       "      <td>golf</td>\n",
       "      <td>150000</td>\n",
       "      <td>0</td>\n",
       "      <td>petrol</td>\n",
       "      <td>volkswagen</td>\n",
       "      <td>NaN</td>\n",
       "      <td>2016-03-24 00:00:00</td>\n",
       "      <td>0</td>\n",
       "      <td>70435</td>\n",
       "      <td>2016-04-07 03:16:57</td>\n",
       "    </tr>\n",
       "    <tr>\n",
       "      <th>1</th>\n",
       "      <td>2016-03-24 10:58:45</td>\n",
       "      <td>18300</td>\n",
       "      <td>coupe</td>\n",
       "      <td>2011</td>\n",
       "      <td>manual</td>\n",
       "      <td>190</td>\n",
       "      <td>NaN</td>\n",
       "      <td>125000</td>\n",
       "      <td>5</td>\n",
       "      <td>gasoline</td>\n",
       "      <td>audi</td>\n",
       "      <td>yes</td>\n",
       "      <td>2016-03-24 00:00:00</td>\n",
       "      <td>0</td>\n",
       "      <td>66954</td>\n",
       "      <td>2016-04-07 01:46:50</td>\n",
       "    </tr>\n",
       "    <tr>\n",
       "      <th>2</th>\n",
       "      <td>2016-03-14 12:52:21</td>\n",
       "      <td>9800</td>\n",
       "      <td>suv</td>\n",
       "      <td>2004</td>\n",
       "      <td>auto</td>\n",
       "      <td>163</td>\n",
       "      <td>grand</td>\n",
       "      <td>125000</td>\n",
       "      <td>8</td>\n",
       "      <td>gasoline</td>\n",
       "      <td>jeep</td>\n",
       "      <td>NaN</td>\n",
       "      <td>2016-03-14 00:00:00</td>\n",
       "      <td>0</td>\n",
       "      <td>90480</td>\n",
       "      <td>2016-04-05 12:47:46</td>\n",
       "    </tr>\n",
       "    <tr>\n",
       "      <th>3</th>\n",
       "      <td>2016-03-17 16:54:04</td>\n",
       "      <td>1500</td>\n",
       "      <td>small</td>\n",
       "      <td>2001</td>\n",
       "      <td>manual</td>\n",
       "      <td>75</td>\n",
       "      <td>golf</td>\n",
       "      <td>150000</td>\n",
       "      <td>6</td>\n",
       "      <td>petrol</td>\n",
       "      <td>volkswagen</td>\n",
       "      <td>no</td>\n",
       "      <td>2016-03-17 00:00:00</td>\n",
       "      <td>0</td>\n",
       "      <td>91074</td>\n",
       "      <td>2016-03-17 17:40:17</td>\n",
       "    </tr>\n",
       "    <tr>\n",
       "      <th>4</th>\n",
       "      <td>2016-03-31 17:25:20</td>\n",
       "      <td>3600</td>\n",
       "      <td>small</td>\n",
       "      <td>2008</td>\n",
       "      <td>manual</td>\n",
       "      <td>69</td>\n",
       "      <td>fabia</td>\n",
       "      <td>90000</td>\n",
       "      <td>7</td>\n",
       "      <td>gasoline</td>\n",
       "      <td>skoda</td>\n",
       "      <td>no</td>\n",
       "      <td>2016-03-31 00:00:00</td>\n",
       "      <td>0</td>\n",
       "      <td>60437</td>\n",
       "      <td>2016-04-06 10:17:21</td>\n",
       "    </tr>\n",
       "  </tbody>\n",
       "</table>\n",
       "</div>"
      ],
      "text/plain": [
       "          date_crawled  price vehicle_type  registration_year gearbox  power  \\\n",
       "0  2016-03-24 11:52:17    480          NaN               1993  manual      0   \n",
       "1  2016-03-24 10:58:45  18300        coupe               2011  manual    190   \n",
       "2  2016-03-14 12:52:21   9800          suv               2004    auto    163   \n",
       "3  2016-03-17 16:54:04   1500        small               2001  manual     75   \n",
       "4  2016-03-31 17:25:20   3600        small               2008  manual     69   \n",
       "\n",
       "   model  kilometer  registration_month fuel_type       brand not_repaired  \\\n",
       "0   golf     150000                   0    petrol  volkswagen          NaN   \n",
       "1    NaN     125000                   5  gasoline        audi          yes   \n",
       "2  grand     125000                   8  gasoline        jeep          NaN   \n",
       "3   golf     150000                   6    petrol  volkswagen           no   \n",
       "4  fabia      90000                   7  gasoline       skoda           no   \n",
       "\n",
       "          date_created  number_of_pictures  postal_code            last_seen  \n",
       "0  2016-03-24 00:00:00                   0        70435  2016-04-07 03:16:57  \n",
       "1  2016-03-24 00:00:00                   0        66954  2016-04-07 01:46:50  \n",
       "2  2016-03-14 00:00:00                   0        90480  2016-04-05 12:47:46  \n",
       "3  2016-03-17 00:00:00                   0        91074  2016-03-17 17:40:17  \n",
       "4  2016-03-31 00:00:00                   0        60437  2016-04-06 10:17:21  "
      ]
     },
     "execution_count": 6,
     "metadata": {},
     "output_type": "execute_result"
    }
   ],
   "source": [
    "df.columns = ['date_crawled', 'price', 'vehicle_type', 'registration_year', 'gearbox',\n",
    "       'power', 'model', 'kilometer', 'registration_month', 'fuel_type', 'brand',\n",
    "       'not_repaired', 'date_created', 'number_of_pictures', 'postal_code',\n",
    "      'last_seen']\n",
    "df.head()"
   ]
  },
  {
   "cell_type": "code",
   "execution_count": 7,
   "metadata": {},
   "outputs": [
    {
     "name": "stdout",
     "output_type": "stream",
     "text": [
      "<class 'pandas.core.frame.DataFrame'>\n",
      "RangeIndex: 354369 entries, 0 to 354368\n",
      "Data columns (total 16 columns):\n",
      " #   Column              Non-Null Count   Dtype \n",
      "---  ------              --------------   ----- \n",
      " 0   date_crawled        354369 non-null  object\n",
      " 1   price               354369 non-null  int64 \n",
      " 2   vehicle_type        316879 non-null  object\n",
      " 3   registration_year   354369 non-null  int64 \n",
      " 4   gearbox             334536 non-null  object\n",
      " 5   power               354369 non-null  int64 \n",
      " 6   model               334664 non-null  object\n",
      " 7   kilometer           354369 non-null  int64 \n",
      " 8   registration_month  354369 non-null  int64 \n",
      " 9   fuel_type           321474 non-null  object\n",
      " 10  brand               354369 non-null  object\n",
      " 11  not_repaired        283215 non-null  object\n",
      " 12  date_created        354369 non-null  object\n",
      " 13  number_of_pictures  354369 non-null  int64 \n",
      " 14  postal_code         354369 non-null  int64 \n",
      " 15  last_seen           354369 non-null  object\n",
      "dtypes: int64(7), object(9)\n",
      "memory usage: 43.3+ MB\n"
     ]
    }
   ],
   "source": [
    "df.info()"
   ]
  },
  {
   "cell_type": "markdown",
   "metadata": {},
   "source": [
    "Начнем с удаления неинформативных признаков"
   ]
  },
  {
   "cell_type": "markdown",
   "metadata": {},
   "source": [
    "Рассмотрим дату создания анкеты и последнюю активность пользователя"
   ]
  },
  {
   "cell_type": "code",
   "execution_count": 8,
   "metadata": {},
   "outputs": [],
   "source": [
    "df['last_seen'] = pd.to_datetime(df['last_seen'], format='%Y-%m-%d %H:%M:%S')\n",
    "df['date_created'] = pd.to_datetime(df['date_created'], format='%Y-%m-%d %H:%M:%S')\n",
    "df['date_crawled'] = pd.to_datetime(df['date_crawled'], format='%Y-%m-%d %H:%M:%S')"
   ]
  },
  {
   "cell_type": "code",
   "execution_count": 9,
   "metadata": {},
   "outputs": [
    {
     "data": {
      "image/png": "[encoded data removed]",
      "text/plain": [
       "<Figure size 432x288 with 1 Axes>"
      ]
     },
     "metadata": {
      "needs_background": "light"
     },
     "output_type": "display_data"
    }
   ],
   "source": [
    "df['date_created'].hist(bins=100)\n",
    "plt.xlabel('Date')\n",
    "plt.ylabel('Count')\n",
    "plt.title('date_created')\n",
    "plt.xticks(rotation=90)\n",
    "plt.show()"
   ]
  },
  {
   "cell_type": "code",
   "execution_count": 10,
   "metadata": {},
   "outputs": [
    {
     "data": {
      "image/png": "[encoded data removed]",
      "text/plain": [
       "<Figure size 432x288 with 1 Axes>"
      ]
     },
     "metadata": {
      "needs_background": "light"
     },
     "output_type": "display_data"
    }
   ],
   "source": [
    "df['last_seen'].hist(bins=100)\n",
    "plt.xlabel('Date')\n",
    "plt.ylabel('Count')\n",
    "plt.title('last_seen')\n",
    "plt.xticks(rotation=90)\n",
    "plt.show()"
   ]
  },
  {
   "cell_type": "markdown",
   "metadata": {},
   "source": [
    "Из гистограмм видно, что большинство анкет создано в марте-апреле 2016 года, но есть небольшое количесвто анкет, созданных в  2014-2016 гг. Можно было бы предположить, что информация в этих анкетах потеряла свою актуальность. Но так как дата последней активности пользователей находится в диапазоне март-апрель 2016 года, все анкеты должны быть одинаково актуальны. Исключим эти признаки из выборки, как не несущие полезной информации. Также на стоимость автомобиля не могут влиять дата выгрузки анкеты, месяц регистрации автомобиля, почтовый индекс владельца анкеты"
   ]
  },
  {
   "cell_type": "code",
   "execution_count": 11,
   "metadata": {},
   "outputs": [],
   "source": [
    "df = df.drop(['date_created', 'last_seen', 'registration_month', 'postal_code'], axis=1)"
   ]
  },
  {
   "cell_type": "code",
   "execution_count": 12,
   "metadata": {},
   "outputs": [
    {
     "data": {
      "text/plain": [
       "Text(0.5, 1.0, 'price')"
      ]
     },
     "execution_count": 12,
     "metadata": {},
     "output_type": "execute_result"
    },
    {
     "data": {
      "image/png": "[encoded data removed]",
      "text/plain": [
       "<Figure size 432x288 with 1 Axes>"
      ]
     },
     "metadata": {
      "needs_background": "light"
     },
     "output_type": "display_data"
    }
   ],
   "source": [
    "df.price.hist(bins=100);\n",
    "plt.xlabel('Price')\n",
    "plt.ylabel('Count')\n",
    "plt.title('price')"
   ]
  },
  {
   "cell_type": "markdown",
   "metadata": {},
   "source": [
    "Объявления, у которых отсутствует целевой признак, или он слишком маленький, не подходят для обучения модели. Исключим эти объекты из выборки."
   ]
  },
  {
   "cell_type": "code",
   "execution_count": 13,
   "metadata": {},
   "outputs": [],
   "source": [
    "df = df.query('price>500')"
   ]
  },
  {
   "cell_type": "markdown",
   "metadata": {},
   "source": [
    "Заменим пропуске в столбцах с типом кузова, коробкой передач, моделью, типом топлива на dummy-значение 'unknown':"
   ]
  },
  {
   "cell_type": "code",
   "execution_count": 14,
   "metadata": {},
   "outputs": [],
   "source": [
    "df[['vehicle_type', 'gearbox', 'model', 'fuel_type']] = df[['vehicle_type', 'gearbox', 'model', 'fuel_type']].fillna('unknown')"
   ]
  },
  {
   "cell_type": "markdown",
   "metadata": {},
   "source": [
    "Ремонтированные автомобили"
   ]
  },
  {
   "cell_type": "code",
   "execution_count": 15,
   "metadata": {},
   "outputs": [
    {
     "data": {
      "text/plain": [
       "no     0.905463\n",
       "yes    0.094537\n",
       "Name: not_repaired, dtype: float64"
      ]
     },
     "execution_count": 15,
     "metadata": {},
     "output_type": "execute_result"
    }
   ],
   "source": [
    "df.not_repaired.value_counts(normalize=True)"
   ]
  },
  {
   "cell_type": "markdown",
   "metadata": {},
   "source": [
    "Среди тех объявлений, где указано, ремонтировалась ли машина, всего лишь 12% автомобилей не были в ремонте. Среди объявлений, где это этот признак не указан, вероятно, такое же превалирование ремонтированных машин. Заменим пропуски на 'no'."
   ]
  },
  {
   "cell_type": "code",
   "execution_count": 16,
   "metadata": {},
   "outputs": [],
   "source": [
    "df.not_repaired = df.not_repaired.fillna('no')"
   ]
  },
  {
   "cell_type": "markdown",
   "metadata": {},
   "source": [
    "Год регистрации"
   ]
  },
  {
   "cell_type": "code",
   "execution_count": 17,
   "metadata": {},
   "outputs": [
    {
     "data": {
      "text/plain": [
       "Text(0.5, 1.0, 'registration_year')"
      ]
     },
     "execution_count": 17,
     "metadata": {},
     "output_type": "execute_result"
    },
    {
     "data": {
      "image/png": "[encoded data removed]",
      "text/plain": [
       "<Figure size 432x288 with 1 Axes>"
      ]
     },
     "metadata": {
      "needs_background": "light"
     },
     "output_type": "display_data"
    }
   ],
   "source": [
    "df['registration_year'].hist();\n",
    "plt.xlabel('Year')\n",
    "plt.ylabel('Count')\n",
    "plt.title('registration_year')"
   ]
  },
  {
   "cell_type": "markdown",
   "metadata": {},
   "source": [
    "Видно, что значения года регистрации находятся в диапазоне от 0 до 10000, что указывает на наличие некорректных значений"
   ]
  },
  {
   "cell_type": "code",
   "execution_count": 18,
   "metadata": {},
   "outputs": [
    {
     "data": {
      "text/plain": [
       "Text(0.5, 1.0, 'registration_year')"
      ]
     },
     "execution_count": 18,
     "metadata": {},
     "output_type": "execute_result"
    },
    {
     "data": {
      "image/png": "[encoded data removed]",
      "text/plain": [
       "<Figure size 432x288 with 1 Axes>"
      ]
     },
     "metadata": {
      "needs_background": "light"
     },
     "output_type": "display_data"
    }
   ],
   "source": [
    "df[(df['registration_year'] < 2030) & (df['registration_year'] > 1900)]['registration_year'].hist();plt.xlabel('Date')\n",
    "plt.xlabel('Year')\n",
    "plt.ylabel('Count')\n",
    "plt.title('registration_year')"
   ]
  },
  {
   "cell_type": "markdown",
   "metadata": {},
   "source": [
    "Предположим, что в объявлениях действительно есть раритетные автомобили до 1940 года выпуска. Дату в объявлениях раньше 1940 или позже 2020 заменим на dummy-значение 0."
   ]
  },
  {
   "cell_type": "code",
   "execution_count": 19,
   "metadata": {},
   "outputs": [
    {
     "data": {
      "image/png": "[encoded data removed]",
      "text/plain": [
       "<Figure size 432x288 with 1 Axes>"
      ]
     },
     "metadata": {
      "needs_background": "light"
     },
     "output_type": "display_data"
    }
   ],
   "source": [
    "df['date_crawled'].hist(bins=100)\n",
    "plt.xlabel('Date')\n",
    "plt.ylabel('Count')\n",
    "plt.title('date_crawled')\n",
    "plt.xticks(rotation=90)\n",
    "plt.show()"
   ]
  },
  {
   "cell_type": "markdown",
   "metadata": {},
   "source": [
    "После проверки на актуальность базы данных мы узнали, что дата последнего скачивания была 5 апереля 2016 года"
   ]
  },
  {
   "cell_type": "code",
   "execution_count": 20,
   "metadata": {},
   "outputs": [],
   "source": [
    "def change_date(row):\n",
    "    if (row['registration_year'] < 1940) or (row['registration_year'] > 2017):\n",
    "        return 0\n",
    "    else:\n",
    "        return row['registration_year']"
   ]
  },
  {
   "cell_type": "code",
   "execution_count": 21,
   "metadata": {},
   "outputs": [],
   "source": [
    "df['registration_year'] = df.apply(change_date, axis=1)"
   ]
  },
  {
   "cell_type": "markdown",
   "metadata": {},
   "source": [
    "Количество фотографий"
   ]
  },
  {
   "cell_type": "code",
   "execution_count": 22,
   "metadata": {},
   "outputs": [
    {
     "data": {
      "text/plain": [
       "0    312645\n",
       "Name: number_of_pictures, dtype: int64"
      ]
     },
     "execution_count": 22,
     "metadata": {},
     "output_type": "execute_result"
    }
   ],
   "source": [
    "df.number_of_pictures.value_counts()"
   ]
  },
  {
   "cell_type": "markdown",
   "metadata": {},
   "source": [
    "У каждого объявления указано нулевое количество фотографий. Удалим этот признак как неинформативный"
   ]
  },
  {
   "cell_type": "code",
   "execution_count": 23,
   "metadata": {},
   "outputs": [],
   "source": [
    "df = df.drop(['number_of_pictures'], axis=1)"
   ]
  },
  {
   "cell_type": "markdown",
   "metadata": {},
   "source": [
    "Мощность"
   ]
  },
  {
   "cell_type": "code",
   "execution_count": 24,
   "metadata": {
    "scrolled": true
   },
   "outputs": [
    {
     "data": {
      "text/plain": [
       "Text(0.5, 1.0, 'power')"
      ]
     },
     "execution_count": 24,
     "metadata": {},
     "output_type": "execute_result"
    },
    {
     "data": {
      "image/png": "[encoded data removed]",
      "text/plain": [
       "<Figure size 432x288 with 1 Axes>"
      ]
     },
     "metadata": {
      "needs_background": "light"
     },
     "output_type": "display_data"
    }
   ],
   "source": [
    "df.power.hist(bins=100);\n",
    "plt.xlabel('Power')\n",
    "plt.ylabel('Count')\n",
    "plt.title('power')"
   ]
  },
  {
   "cell_type": "markdown",
   "metadata": {},
   "source": [
    "Видно, что имеется большое количество выбросов."
   ]
  },
  {
   "cell_type": "code",
   "execution_count": 25,
   "metadata": {},
   "outputs": [
    {
     "name": "stdout",
     "output_type": "stream",
     "text": [
      "0.1% наибольших значений мощности принимает значения выше 600.0\n"
     ]
    },
    {
     "data": {
      "text/html": [
       "<div>\n",
       "<style scoped>\n",
       "    .dataframe tbody tr th:only-of-type {\n",
       "        vertical-align: middle;\n",
       "    }\n",
       "\n",
       "    .dataframe tbody tr th {\n",
       "        vertical-align: top;\n",
       "    }\n",
       "\n",
       "    .dataframe thead th {\n",
       "        text-align: right;\n",
       "    }\n",
       "</style>\n",
       "<table border=\"1\" class=\"dataframe\">\n",
       "  <thead>\n",
       "    <tr style=\"text-align: right;\">\n",
       "      <th></th>\n",
       "      <th>date_crawled</th>\n",
       "      <th>price</th>\n",
       "      <th>vehicle_type</th>\n",
       "      <th>registration_year</th>\n",
       "      <th>gearbox</th>\n",
       "      <th>power</th>\n",
       "      <th>model</th>\n",
       "      <th>kilometer</th>\n",
       "      <th>fuel_type</th>\n",
       "      <th>brand</th>\n",
       "      <th>not_repaired</th>\n",
       "    </tr>\n",
       "  </thead>\n",
       "  <tbody>\n",
       "    <tr>\n",
       "      <th>1816</th>\n",
       "      <td>2016-03-22 20:52:00</td>\n",
       "      <td>3200</td>\n",
       "      <td>small</td>\n",
       "      <td>2004</td>\n",
       "      <td>manual</td>\n",
       "      <td>1398</td>\n",
       "      <td>corolla</td>\n",
       "      <td>5000</td>\n",
       "      <td>petrol</td>\n",
       "      <td>toyota</td>\n",
       "      <td>no</td>\n",
       "    </tr>\n",
       "    <tr>\n",
       "      <th>4060</th>\n",
       "      <td>2016-04-03 20:31:00</td>\n",
       "      <td>3100</td>\n",
       "      <td>sedan</td>\n",
       "      <td>2005</td>\n",
       "      <td>manual</td>\n",
       "      <td>953</td>\n",
       "      <td>colt</td>\n",
       "      <td>150000</td>\n",
       "      <td>gasoline</td>\n",
       "      <td>mitsubishi</td>\n",
       "      <td>no</td>\n",
       "    </tr>\n",
       "    <tr>\n",
       "      <th>6296</th>\n",
       "      <td>2016-03-31 23:50:47</td>\n",
       "      <td>599</td>\n",
       "      <td>small</td>\n",
       "      <td>2002</td>\n",
       "      <td>manual</td>\n",
       "      <td>603</td>\n",
       "      <td>matiz</td>\n",
       "      <td>5000</td>\n",
       "      <td>petrol</td>\n",
       "      <td>chevrolet</td>\n",
       "      <td>yes</td>\n",
       "    </tr>\n",
       "    <tr>\n",
       "      <th>6504</th>\n",
       "      <td>2016-03-14 15:54:34</td>\n",
       "      <td>3000</td>\n",
       "      <td>small</td>\n",
       "      <td>2009</td>\n",
       "      <td>manual</td>\n",
       "      <td>771</td>\n",
       "      <td>punto</td>\n",
       "      <td>125000</td>\n",
       "      <td>petrol</td>\n",
       "      <td>fiat</td>\n",
       "      <td>no</td>\n",
       "    </tr>\n",
       "    <tr>\n",
       "      <th>6637</th>\n",
       "      <td>2016-03-31 19:48:22</td>\n",
       "      <td>600</td>\n",
       "      <td>small</td>\n",
       "      <td>1996</td>\n",
       "      <td>manual</td>\n",
       "      <td>603</td>\n",
       "      <td>corsa</td>\n",
       "      <td>150000</td>\n",
       "      <td>petrol</td>\n",
       "      <td>opel</td>\n",
       "      <td>yes</td>\n",
       "    </tr>\n",
       "    <tr>\n",
       "      <th>...</th>\n",
       "      <td>...</td>\n",
       "      <td>...</td>\n",
       "      <td>...</td>\n",
       "      <td>...</td>\n",
       "      <td>...</td>\n",
       "      <td>...</td>\n",
       "      <td>...</td>\n",
       "      <td>...</td>\n",
       "      <td>...</td>\n",
       "      <td>...</td>\n",
       "      <td>...</td>\n",
       "    </tr>\n",
       "    <tr>\n",
       "      <th>348668</th>\n",
       "      <td>2016-03-05 17:53:09</td>\n",
       "      <td>1000</td>\n",
       "      <td>wagon</td>\n",
       "      <td>1996</td>\n",
       "      <td>manual</td>\n",
       "      <td>2598</td>\n",
       "      <td>a6</td>\n",
       "      <td>150000</td>\n",
       "      <td>unknown</td>\n",
       "      <td>audi</td>\n",
       "      <td>no</td>\n",
       "    </tr>\n",
       "    <tr>\n",
       "      <th>348883</th>\n",
       "      <td>2016-03-13 11:51:57</td>\n",
       "      <td>7500</td>\n",
       "      <td>sedan</td>\n",
       "      <td>2011</td>\n",
       "      <td>manual</td>\n",
       "      <td>1548</td>\n",
       "      <td>scenic</td>\n",
       "      <td>90000</td>\n",
       "      <td>petrol</td>\n",
       "      <td>renault</td>\n",
       "      <td>no</td>\n",
       "    </tr>\n",
       "    <tr>\n",
       "      <th>351947</th>\n",
       "      <td>2016-03-07 21:36:19</td>\n",
       "      <td>1500</td>\n",
       "      <td>bus</td>\n",
       "      <td>2001</td>\n",
       "      <td>manual</td>\n",
       "      <td>1001</td>\n",
       "      <td>zafira</td>\n",
       "      <td>5000</td>\n",
       "      <td>gasoline</td>\n",
       "      <td>opel</td>\n",
       "      <td>no</td>\n",
       "    </tr>\n",
       "    <tr>\n",
       "      <th>353493</th>\n",
       "      <td>2016-04-02 20:54:21</td>\n",
       "      <td>12500</td>\n",
       "      <td>unknown</td>\n",
       "      <td>2017</td>\n",
       "      <td>manual</td>\n",
       "      <td>2000</td>\n",
       "      <td>other</td>\n",
       "      <td>60000</td>\n",
       "      <td>gasoline</td>\n",
       "      <td>chrysler</td>\n",
       "      <td>no</td>\n",
       "    </tr>\n",
       "    <tr>\n",
       "      <th>353633</th>\n",
       "      <td>2016-03-23 23:55:21</td>\n",
       "      <td>2400</td>\n",
       "      <td>sedan</td>\n",
       "      <td>2007</td>\n",
       "      <td>manual</td>\n",
       "      <td>650</td>\n",
       "      <td>c2</td>\n",
       "      <td>150000</td>\n",
       "      <td>petrol</td>\n",
       "      <td>citroen</td>\n",
       "      <td>no</td>\n",
       "    </tr>\n",
       "  </tbody>\n",
       "</table>\n",
       "<p>306 rows × 11 columns</p>\n",
       "</div>"
      ],
      "text/plain": [
       "              date_crawled  price vehicle_type  registration_year gearbox  \\\n",
       "1816   2016-03-22 20:52:00   3200        small               2004  manual   \n",
       "4060   2016-04-03 20:31:00   3100        sedan               2005  manual   \n",
       "6296   2016-03-31 23:50:47    599        small               2002  manual   \n",
       "6504   2016-03-14 15:54:34   3000        small               2009  manual   \n",
       "6637   2016-03-31 19:48:22    600        small               1996  manual   \n",
       "...                    ...    ...          ...                ...     ...   \n",
       "348668 2016-03-05 17:53:09   1000        wagon               1996  manual   \n",
       "348883 2016-03-13 11:51:57   7500        sedan               2011  manual   \n",
       "351947 2016-03-07 21:36:19   1500          bus               2001  manual   \n",
       "353493 2016-04-02 20:54:21  12500      unknown               2017  manual   \n",
       "353633 2016-03-23 23:55:21   2400        sedan               2007  manual   \n",
       "\n",
       "        power    model  kilometer fuel_type       brand not_repaired  \n",
       "1816     1398  corolla       5000    petrol      toyota           no  \n",
       "4060      953     colt     150000  gasoline  mitsubishi           no  \n",
       "6296      603    matiz       5000    petrol   chevrolet          yes  \n",
       "6504      771    punto     125000    petrol        fiat           no  \n",
       "6637      603    corsa     150000    petrol        opel          yes  \n",
       "...       ...      ...        ...       ...         ...          ...  \n",
       "348668   2598       a6     150000   unknown        audi           no  \n",
       "348883   1548   scenic      90000    petrol     renault           no  \n",
       "351947   1001   zafira       5000  gasoline        opel           no  \n",
       "353493   2000    other      60000  gasoline    chrysler           no  \n",
       "353633    650       c2     150000    petrol     citroen           no  \n",
       "\n",
       "[306 rows x 11 columns]"
      ]
     },
     "execution_count": 25,
     "metadata": {},
     "output_type": "execute_result"
    }
   ],
   "source": [
    "print('0.1% наибольших значений мощности принимает значения выше', df.power.quantile(.999))\n",
    "df[df['power'] > df.power.quantile(.999)]"
   ]
  },
  {
   "cell_type": "markdown",
   "metadata": {},
   "source": [
    "Заменим выбросы, находящиеся в диапазоне выше 0.999 квантили, и нулевые значения на медианное значение"
   ]
  },
  {
   "cell_type": "code",
   "execution_count": 26,
   "metadata": {},
   "outputs": [],
   "source": [
    "power_median = df.power.median()\n",
    "power_quantile = df.power.quantile(.999)"
   ]
  },
  {
   "cell_type": "code",
   "execution_count": 27,
   "metadata": {},
   "outputs": [],
   "source": [
    "def change_power(row):\n",
    "    if (row['power'] > power_quantile) or (row['power'] == 0):\n",
    "        return power_median\n",
    "    else:\n",
    "        return row['power']"
   ]
  },
  {
   "cell_type": "code",
   "execution_count": 28,
   "metadata": {},
   "outputs": [],
   "source": [
    "df['power'] = df.apply(change_power, axis=1)"
   ]
  },
  {
   "cell_type": "code",
   "execution_count": 29,
   "metadata": {},
   "outputs": [
    {
     "data": {
      "text/plain": [
       "Text(0.5, 1.0, 'power')"
      ]
     },
     "execution_count": 29,
     "metadata": {},
     "output_type": "execute_result"
    },
    {
     "data": {
      "image/png": "[encoded data removed]",
      "text/plain": [
       "<Figure size 432x288 with 1 Axes>"
      ]
     },
     "metadata": {
      "needs_background": "light"
     },
     "output_type": "display_data"
    }
   ],
   "source": [
    "df.power.hist();\n",
    "plt.xlabel('Power')\n",
    "plt.ylabel('Count')\n",
    "plt.title('power')"
   ]
  },
  {
   "cell_type": "markdown",
   "metadata": {},
   "source": [
    "Теперь заменим тип данных на целочисленные"
   ]
  },
  {
   "cell_type": "code",
   "execution_count": 30,
   "metadata": {},
   "outputs": [],
   "source": [
    "df['power'] = df['power'].astype(int)"
   ]
  },
  {
   "cell_type": "markdown",
   "metadata": {},
   "source": [
    "Датафрейм готов для дальнейшего обучения моделей."
   ]
  },
  {
   "cell_type": "code",
   "execution_count": 31,
   "metadata": {},
   "outputs": [
    {
     "data": {
      "text/plain": [
       "0"
      ]
     },
     "execution_count": 31,
     "metadata": {},
     "output_type": "execute_result"
    }
   ],
   "source": [
    "df.duplicated().sum()\n",
    "df=df.drop_duplicates()\n",
    "df.duplicated().sum()"
   ]
  },
  {
   "cell_type": "code",
   "execution_count": 32,
   "metadata": {},
   "outputs": [],
   "source": [
    "df = df.drop(['date_crawled'], axis=1)"
   ]
  },
  {
   "cell_type": "markdown",
   "metadata": {},
   "source": [
    "## Обучение моделей"
   ]
  },
  {
   "cell_type": "markdown",
   "metadata": {},
   "source": [
    "Линейная регрессия"
   ]
  },
  {
   "cell_type": "code",
   "execution_count": 33,
   "metadata": {},
   "outputs": [],
   "source": [
    "num_columns = ['power', 'kilometer']\n",
    "ohe_columns=['vehicle_type', 'gearbox', 'model', 'fuel_type', 'brand', 'not_repaired']\n",
    "\n",
    "\n",
    "ohe_pipe_train = Pipeline([\n",
    "    ('imputer', SimpleImputer(strategy='constant', fill_value=' ')),  # Заменяем пробелы на константу\n",
    "    ('ohe', OneHotEncoder(drop='first', handle_unknown='ignore'))\n",
    "])\n",
    "\n",
    "num_pipe_train = Pipeline([\n",
    "    ('imputer', SimpleImputer(strategy='median')),  # Заменяем пропуски медианным значением\n",
    "    ('scaler', StandardScaler())\n",
    "])\n",
    "\n",
    "train_preprocessor = ColumnTransformer([\n",
    "    ('ohe', ohe_pipe_train, ohe_columns),\n",
    "    ('num', num_pipe_train, num_columns)\n",
    "],  remainder='passthrough')"
   ]
  },
  {
   "cell_type": "code",
   "execution_count": 34,
   "metadata": {},
   "outputs": [
    {
     "data": {
      "text/html": [
       "<style>#sk-container-id-1 {\n",
       "  /* Definition of color scheme common for light and dark mode */\n",
       "  --sklearn-color-text: #000;\n",
       "  --sklearn-color-text-muted: #666;\n",
       "  --sklearn-color-line: gray;\n",
       "  /* Definition of color scheme for unfitted estimators */\n",
       "  --sklearn-color-unfitted-level-0: #fff5e6;\n",
       "  --sklearn-color-unfitted-level-1: #f6e4d2;\n",
       "  --sklearn-color-unfitted-level-2: #ffe0b3;\n",
       "  --sklearn-color-unfitted-level-3: chocolate;\n",
       "  /* Definition of color scheme for fitted estimators */\n",
       "  --sklearn-color-fitted-level-0: #f0f8ff;\n",
       "  --sklearn-color-fitted-level-1: #d4ebff;\n",
       "  --sklearn-color-fitted-level-2: #b3dbfd;\n",
       "  --sklearn-color-fitted-level-3: cornflowerblue;\n",
       "\n",
       "  /* Specific color for light theme */\n",
       "  --sklearn-color-text-on-default-background: var(--sg-text-color, var(--theme-code-foreground, var(--jp-content-font-color1, black)));\n",
       "  --sklearn-color-background: var(--sg-background-color, var(--theme-background, var(--jp-layout-color0, white)));\n",
       "  --sklearn-color-border-box: var(--sg-text-color, var(--theme-code-foreground, var(--jp-content-font-color1, black)));\n",
       "  --sklearn-color-icon: #696969;\n",
       "\n",
       "  @media (prefers-color-scheme: dark) {\n",
       "    /* Redefinition of color scheme for dark theme */\n",
       "    --sklearn-color-text-on-default-background: var(--sg-text-color, var(--theme-code-foreground, var(--jp-content-font-color1, white)));\n",
       "    --sklearn-color-background: var(--sg-background-color, var(--theme-background, var(--jp-layout-color0, #111)));\n",
       "    --sklearn-color-border-box: var(--sg-text-color, var(--theme-code-foreground, var(--jp-content-font-color1, white)));\n",
       "    --sklearn-color-icon: #878787;\n",
       "  }\n",
       "}\n",
       "\n",
       "#sk-container-id-1 {\n",
       "  color: var(--sklearn-color-text);\n",
       "}\n",
       "\n",
       "#sk-container-id-1 pre {\n",
       "  padding: 0;\n",
       "}\n",
       "\n",
       "#sk-container-id-1 input.sk-hidden--visually {\n",
       "  border: 0;\n",
       "  clip: rect(1px 1px 1px 1px);\n",
       "  clip: rect(1px, 1px, 1px, 1px);\n",
       "  height: 1px;\n",
       "  margin: -1px;\n",
       "  overflow: hidden;\n",
       "  padding: 0;\n",
       "  position: absolute;\n",
       "  width: 1px;\n",
       "}\n",
       "\n",
       "#sk-container-id-1 div.sk-dashed-wrapped {\n",
       "  border: 1px dashed var(--sklearn-color-line);\n",
       "  margin: 0 0.4em 0.5em 0.4em;\n",
       "  box-sizing: border-box;\n",
       "  padding-bottom: 0.4em;\n",
       "  background-color: var(--sklearn-color-background);\n",
       "}\n",
       "\n",
       "#sk-container-id-1 div.sk-container {\n",
       "  /* jupyter's `normalize.less` sets `[hidden] { display: none; }`\n",
       "     but bootstrap.min.css set `[hidden] { display: none !important; }`\n",
       "     so we also need the `!important` here to be able to override the\n",
       "     default hidden behavior on the sphinx rendered scikit-learn.org.\n",
       "     See: https://github.com/scikit-learn/scikit-learn/issues/21755 */\n",
       "  display: inline-block !important;\n",
       "  position: relative;\n",
       "}\n",
       "\n",
       "#sk-container-id-1 div.sk-text-repr-fallback {\n",
       "  display: none;\n",
       "}\n",
       "\n",
       "div.sk-parallel-item,\n",
       "div.sk-serial,\n",
       "div.sk-item {\n",
       "  /* draw centered vertical line to link estimators */\n",
       "  background-image: linear-gradient(var(--sklearn-color-text-on-default-background), var(--sklearn-color-text-on-default-background));\n",
       "  background-size: 2px 100%;\n",
       "  background-repeat: no-repeat;\n",
       "  background-position: center center;\n",
       "}\n",
       "\n",
       "/* Parallel-specific style estimator block */\n",
       "\n",
       "#sk-container-id-1 div.sk-parallel-item::after {\n",
       "  content: \"\";\n",
       "  width: 100%;\n",
       "  border-bottom: 2px solid var(--sklearn-color-text-on-default-background);\n",
       "  flex-grow: 1;\n",
       "}\n",
       "\n",
       "#sk-container-id-1 div.sk-parallel {\n",
       "  display: flex;\n",
       "  align-items: stretch;\n",
       "  justify-content: center;\n",
       "  background-color: var(--sklearn-color-background);\n",
       "  position: relative;\n",
       "}\n",
       "\n",
       "#sk-container-id-1 div.sk-parallel-item {\n",
       "  display: flex;\n",
       "  flex-direction: column;\n",
       "}\n",
       "\n",
       "#sk-container-id-1 div.sk-parallel-item:first-child::after {\n",
       "  align-self: flex-end;\n",
       "  width: 50%;\n",
       "}\n",
       "\n",
       "#sk-container-id-1 div.sk-parallel-item:last-child::after {\n",
       "  align-self: flex-start;\n",
       "  width: 50%;\n",
       "}\n",
       "\n",
       "#sk-container-id-1 div.sk-parallel-item:only-child::after {\n",
       "  width: 0;\n",
       "}\n",
       "\n",
       "/* Serial-specific style estimator block */\n",
       "\n",
       "#sk-container-id-1 div.sk-serial {\n",
       "  display: flex;\n",
       "  flex-direction: column;\n",
       "  align-items: center;\n",
       "  background-color: var(--sklearn-color-background);\n",
       "  padding-right: 1em;\n",
       "  padding-left: 1em;\n",
       "}\n",
       "\n",
       "\n",
       "/* Toggleable style: style used for estimator/Pipeline/ColumnTransformer box that is\n",
       "clickable and can be expanded/collapsed.\n",
       "- Pipeline and ColumnTransformer use this feature and define the default style\n",
       "- Estimators will overwrite some part of the style using the `sk-estimator` class\n",
       "*/\n",
       "\n",
       "/* Pipeline and ColumnTransformer style (default) */\n",
       "\n",
       "#sk-container-id-1 div.sk-toggleable {\n",
       "  /* Default theme specific background. It is overwritten whether we have a\n",
       "  specific estimator or a Pipeline/ColumnTransformer */\n",
       "  background-color: var(--sklearn-color-background);\n",
       "}\n",
       "\n",
       "/* Toggleable label */\n",
       "#sk-container-id-1 label.sk-toggleable__label {\n",
       "  cursor: pointer;\n",
       "  display: flex;\n",
       "  width: 100%;\n",
       "  margin-bottom: 0;\n",
       "  padding: 0.5em;\n",
       "  box-sizing: border-box;\n",
       "  text-align: center;\n",
       "  align-items: start;\n",
       "  justify-content: space-between;\n",
       "  gap: 0.5em;\n",
       "}\n",
       "\n",
       "#sk-container-id-1 label.sk-toggleable__label .caption {\n",
       "  font-size: 0.6rem;\n",
       "  font-weight: lighter;\n",
       "  color: var(--sklearn-color-text-muted);\n",
       "}\n",
       "\n",
       "#sk-container-id-1 label.sk-toggleable__label-arrow:before {\n",
       "  /* Arrow on the left of the label */\n",
       "  content: \"▸\";\n",
       "  float: left;\n",
       "  margin-right: 0.25em;\n",
       "  color: var(--sklearn-color-icon);\n",
       "}\n",
       "\n",
       "#sk-container-id-1 label.sk-toggleable__label-arrow:hover:before {\n",
       "  color: var(--sklearn-color-text);\n",
       "}\n",
       "\n",
       "/* Toggleable content - dropdown */\n",
       "\n",
       "#sk-container-id-1 div.sk-toggleable__content {\n",
       "  max-height: 0;\n",
       "  max-width: 0;\n",
       "  overflow: hidden;\n",
       "  text-align: left;\n",
       "  /* unfitted */\n",
       "  background-color: var(--sklearn-color-unfitted-level-0);\n",
       "}\n",
       "\n",
       "#sk-container-id-1 div.sk-toggleable__content.fitted {\n",
       "  /* fitted */\n",
       "  background-color: var(--sklearn-color-fitted-level-0);\n",
       "}\n",
       "\n",
       "#sk-container-id-1 div.sk-toggleable__content pre {\n",
       "  margin: 0.2em;\n",
       "  border-radius: 0.25em;\n",
       "  color: var(--sklearn-color-text);\n",
       "  /* unfitted */\n",
       "  background-color: var(--sklearn-color-unfitted-level-0);\n",
       "}\n",
       "\n",
       "#sk-container-id-1 div.sk-toggleable__content.fitted pre {\n",
       "  /* unfitted */\n",
       "  background-color: var(--sklearn-color-fitted-level-0);\n",
       "}\n",
       "\n",
       "#sk-container-id-1 input.sk-toggleable__control:checked~div.sk-toggleable__content {\n",
       "  /* Expand drop-down */\n",
       "  max-height: 200px;\n",
       "  max-width: 100%;\n",
       "  overflow: auto;\n",
       "}\n",
       "\n",
       "#sk-container-id-1 input.sk-toggleable__control:checked~label.sk-toggleable__label-arrow:before {\n",
       "  content: \"▾\";\n",
       "}\n",
       "\n",
       "/* Pipeline/ColumnTransformer-specific style */\n",
       "\n",
       "#sk-container-id-1 div.sk-label input.sk-toggleable__control:checked~label.sk-toggleable__label {\n",
       "  color: var(--sklearn-color-text);\n",
       "  background-color: var(--sklearn-color-unfitted-level-2);\n",
       "}\n",
       "\n",
       "#sk-container-id-1 div.sk-label.fitted input.sk-toggleable__control:checked~label.sk-toggleable__label {\n",
       "  background-color: var(--sklearn-color-fitted-level-2);\n",
       "}\n",
       "\n",
       "/* Estimator-specific style */\n",
       "\n",
       "/* Colorize estimator box */\n",
       "#sk-container-id-1 div.sk-estimator input.sk-toggleable__control:checked~label.sk-toggleable__label {\n",
       "  /* unfitted */\n",
       "  background-color: var(--sklearn-color-unfitted-level-2);\n",
       "}\n",
       "\n",
       "#sk-container-id-1 div.sk-estimator.fitted input.sk-toggleable__control:checked~label.sk-toggleable__label {\n",
       "  /* fitted */\n",
       "  background-color: var(--sklearn-color-fitted-level-2);\n",
       "}\n",
       "\n",
       "#sk-container-id-1 div.sk-label label.sk-toggleable__label,\n",
       "#sk-container-id-1 div.sk-label label {\n",
       "  /* The background is the default theme color */\n",
       "  color: var(--sklearn-color-text-on-default-background);\n",
       "}\n",
       "\n",
       "/* On hover, darken the color of the background */\n",
       "#sk-container-id-1 div.sk-label:hover label.sk-toggleable__label {\n",
       "  color: var(--sklearn-color-text);\n",
       "  background-color: var(--sklearn-color-unfitted-level-2);\n",
       "}\n",
       "\n",
       "/* Label box, darken color on hover, fitted */\n",
       "#sk-container-id-1 div.sk-label.fitted:hover label.sk-toggleable__label.fitted {\n",
       "  color: var(--sklearn-color-text);\n",
       "  background-color: var(--sklearn-color-fitted-level-2);\n",
       "}\n",
       "\n",
       "/* Estimator label */\n",
       "\n",
       "#sk-container-id-1 div.sk-label label {\n",
       "  font-family: monospace;\n",
       "  font-weight: bold;\n",
       "  display: inline-block;\n",
       "  line-height: 1.2em;\n",
       "}\n",
       "\n",
       "#sk-container-id-1 div.sk-label-container {\n",
       "  text-align: center;\n",
       "}\n",
       "\n",
       "/* Estimator-specific */\n",
       "#sk-container-id-1 div.sk-estimator {\n",
       "  font-family: monospace;\n",
       "  border: 1px dotted var(--sklearn-color-border-box);\n",
       "  border-radius: 0.25em;\n",
       "  box-sizing: border-box;\n",
       "  margin-bottom: 0.5em;\n",
       "  /* unfitted */\n",
       "  background-color: var(--sklearn-color-unfitted-level-0);\n",
       "}\n",
       "\n",
       "#sk-container-id-1 div.sk-estimator.fitted {\n",
       "  /* fitted */\n",
       "  background-color: var(--sklearn-color-fitted-level-0);\n",
       "}\n",
       "\n",
       "/* on hover */\n",
       "#sk-container-id-1 div.sk-estimator:hover {\n",
       "  /* unfitted */\n",
       "  background-color: var(--sklearn-color-unfitted-level-2);\n",
       "}\n",
       "\n",
       "#sk-container-id-1 div.sk-estimator.fitted:hover {\n",
       "  /* fitted */\n",
       "  background-color: var(--sklearn-color-fitted-level-2);\n",
       "}\n",
       "\n",
       "/* Specification for estimator info (e.g. \"i\" and \"?\") */\n",
       "\n",
       "/* Common style for \"i\" and \"?\" */\n",
       "\n",
       ".sk-estimator-doc-link,\n",
       "a:link.sk-estimator-doc-link,\n",
       "a:visited.sk-estimator-doc-link {\n",
       "  float: right;\n",
       "  font-size: smaller;\n",
       "  line-height: 1em;\n",
       "  font-family: monospace;\n",
       "  background-color: var(--sklearn-color-background);\n",
       "  border-radius: 1em;\n",
       "  height: 1em;\n",
       "  width: 1em;\n",
       "  text-decoration: none !important;\n",
       "  margin-left: 0.5em;\n",
       "  text-align: center;\n",
       "  /* unfitted */\n",
       "  border: var(--sklearn-color-unfitted-level-1) 1pt solid;\n",
       "  color: var(--sklearn-color-unfitted-level-1);\n",
       "}\n",
       "\n",
       ".sk-estimator-doc-link.fitted,\n",
       "a:link.sk-estimator-doc-link.fitted,\n",
       "a:visited.sk-estimator-doc-link.fitted {\n",
       "  /* fitted */\n",
       "  border: var(--sklearn-color-fitted-level-1) 1pt solid;\n",
       "  color: var(--sklearn-color-fitted-level-1);\n",
       "}\n",
       "\n",
       "/* On hover */\n",
       "div.sk-estimator:hover .sk-estimator-doc-link:hover,\n",
       ".sk-estimator-doc-link:hover,\n",
       "div.sk-label-container:hover .sk-estimator-doc-link:hover,\n",
       ".sk-estimator-doc-link:hover {\n",
       "  /* unfitted */\n",
       "  background-color: var(--sklearn-color-unfitted-level-3);\n",
       "  color: var(--sklearn-color-background);\n",
       "  text-decoration: none;\n",
       "}\n",
       "\n",
       "div.sk-estimator.fitted:hover .sk-estimator-doc-link.fitted:hover,\n",
       ".sk-estimator-doc-link.fitted:hover,\n",
       "div.sk-label-container:hover .sk-estimator-doc-link.fitted:hover,\n",
       ".sk-estimator-doc-link.fitted:hover {\n",
       "  /* fitted */\n",
       "  background-color: var(--sklearn-color-fitted-level-3);\n",
       "  color: var(--sklearn-color-background);\n",
       "  text-decoration: none;\n",
       "}\n",
       "\n",
       "/* Span, style for the box shown on hovering the info icon */\n",
       ".sk-estimator-doc-link span {\n",
       "  display: none;\n",
       "  z-index: 9999;\n",
       "  position: relative;\n",
       "  font-weight: normal;\n",
       "  right: .2ex;\n",
       "  padding: .5ex;\n",
       "  margin: .5ex;\n",
       "  width: min-content;\n",
       "  min-width: 20ex;\n",
       "  max-width: 50ex;\n",
       "  color: var(--sklearn-color-text);\n",
       "  box-shadow: 2pt 2pt 4pt #999;\n",
       "  /* unfitted */\n",
       "  background: var(--sklearn-color-unfitted-level-0);\n",
       "  border: .5pt solid var(--sklearn-color-unfitted-level-3);\n",
       "}\n",
       "\n",
       ".sk-estimator-doc-link.fitted span {\n",
       "  /* fitted */\n",
       "  background: var(--sklearn-color-fitted-level-0);\n",
       "  border: var(--sklearn-color-fitted-level-3);\n",
       "}\n",
       "\n",
       ".sk-estimator-doc-link:hover span {\n",
       "  display: block;\n",
       "}\n",
       "\n",
       "/* \"?\"-specific style due to the `<a>` HTML tag */\n",
       "\n",
       "#sk-container-id-1 a.estimator_doc_link {\n",
       "  float: right;\n",
       "  font-size: 1rem;\n",
       "  line-height: 1em;\n",
       "  font-family: monospace;\n",
       "  background-color: var(--sklearn-color-background);\n",
       "  border-radius: 1rem;\n",
       "  height: 1rem;\n",
       "  width: 1rem;\n",
       "  text-decoration: none;\n",
       "  /* unfitted */\n",
       "  color: var(--sklearn-color-unfitted-level-1);\n",
       "  border: var(--sklearn-color-unfitted-level-1) 1pt solid;\n",
       "}\n",
       "\n",
       "#sk-container-id-1 a.estimator_doc_link.fitted {\n",
       "  /* fitted */\n",
       "  border: var(--sklearn-color-fitted-level-1) 1pt solid;\n",
       "  color: var(--sklearn-color-fitted-level-1);\n",
       "}\n",
       "\n",
       "/* On hover */\n",
       "#sk-container-id-1 a.estimator_doc_link:hover {\n",
       "  /* unfitted */\n",
       "  background-color: var(--sklearn-color-unfitted-level-3);\n",
       "  color: var(--sklearn-color-background);\n",
       "  text-decoration: none;\n",
       "}\n",
       "\n",
       "#sk-container-id-1 a.estimator_doc_link.fitted:hover {\n",
       "  /* fitted */\n",
       "  background-color: var(--sklearn-color-fitted-level-3);\n",
       "}\n",
       "</style><div id=\"sk-container-id-1\" class=\"sk-top-container\"><div class=\"sk-text-repr-fallback\"><pre>ColumnTransformer(remainder=&#x27;passthrough&#x27;,\n",
       "                  transformers=[(&#x27;ohe&#x27;,\n",
       "                                 Pipeline(steps=[(&#x27;imputer&#x27;,\n",
       "                                                  SimpleImputer(fill_value=&#x27; &#x27;,\n",
       "                                                                strategy=&#x27;constant&#x27;)),\n",
       "                                                 (&#x27;ohe&#x27;,\n",
       "                                                  OneHotEncoder(drop=&#x27;first&#x27;,\n",
       "                                                                handle_unknown=&#x27;ignore&#x27;))]),\n",
       "                                 [&#x27;vehicle_type&#x27;, &#x27;gearbox&#x27;, &#x27;model&#x27;,\n",
       "                                  &#x27;fuel_type&#x27;, &#x27;brand&#x27;, &#x27;not_repaired&#x27;]),\n",
       "                                (&#x27;num&#x27;,\n",
       "                                 Pipeline(steps=[(&#x27;imputer&#x27;,\n",
       "                                                  SimpleImputer(strategy=&#x27;median&#x27;)),\n",
       "                                                 (&#x27;scaler&#x27;, StandardScaler())]),\n",
       "                                 [&#x27;power&#x27;, &#x27;kilometer&#x27;])])</pre><b>In a Jupyter environment, please rerun this cell to show the HTML representation or trust the notebook. <br />On GitHub, the HTML representation is unable to render, please try loading this page with nbviewer.org.</b></div><div class=\"sk-container\" hidden><div class=\"sk-item sk-dashed-wrapped\"><div class=\"sk-label-container\"><div class=\"sk-label  sk-toggleable\"><input class=\"sk-toggleable__control sk-hidden--visually\" id=\"sk-estimator-id-1\" type=\"checkbox\" ><label for=\"sk-estimator-id-1\" class=\"sk-toggleable__label  sk-toggleable__label-arrow\"><div><div>ColumnTransformer</div></div><div><a class=\"sk-estimator-doc-link \" rel=\"noreferrer\" target=\"_blank\" href=\"https://scikit-learn.org/1.6/modules/generated/sklearn.compose.ColumnTransformer.html\">?<span>Documentation for ColumnTransformer</span></a><span class=\"sk-estimator-doc-link \">i<span>Not fitted</span></span></div></label><div class=\"sk-toggleable__content \"><pre>ColumnTransformer(remainder=&#x27;passthrough&#x27;,\n",
       "                  transformers=[(&#x27;ohe&#x27;,\n",
       "                                 Pipeline(steps=[(&#x27;imputer&#x27;,\n",
       "                                                  SimpleImputer(fill_value=&#x27; &#x27;,\n",
       "                                                                strategy=&#x27;constant&#x27;)),\n",
       "                                                 (&#x27;ohe&#x27;,\n",
       "                                                  OneHotEncoder(drop=&#x27;first&#x27;,\n",
       "                                                                handle_unknown=&#x27;ignore&#x27;))]),\n",
       "                                 [&#x27;vehicle_type&#x27;, &#x27;gearbox&#x27;, &#x27;model&#x27;,\n",
       "                                  &#x27;fuel_type&#x27;, &#x27;brand&#x27;, &#x27;not_repaired&#x27;]),\n",
       "                                (&#x27;num&#x27;,\n",
       "                                 Pipeline(steps=[(&#x27;imputer&#x27;,\n",
       "                                                  SimpleImputer(strategy=&#x27;median&#x27;)),\n",
       "                                                 (&#x27;scaler&#x27;, StandardScaler())]),\n",
       "                                 [&#x27;power&#x27;, &#x27;kilometer&#x27;])])</pre></div> </div></div><div class=\"sk-parallel\"><div class=\"sk-parallel-item\"><div class=\"sk-item\"><div class=\"sk-label-container\"><div class=\"sk-label  sk-toggleable\"><input class=\"sk-toggleable__control sk-hidden--visually\" id=\"sk-estimator-id-2\" type=\"checkbox\" ><label for=\"sk-estimator-id-2\" class=\"sk-toggleable__label  sk-toggleable__label-arrow\"><div><div>ohe</div></div></label><div class=\"sk-toggleable__content \"><pre>[&#x27;vehicle_type&#x27;, &#x27;gearbox&#x27;, &#x27;model&#x27;, &#x27;fuel_type&#x27;, &#x27;brand&#x27;, &#x27;not_repaired&#x27;]</pre></div> </div></div><div class=\"sk-serial\"><div class=\"sk-item\"><div class=\"sk-serial\"><div class=\"sk-item\"><div class=\"sk-estimator  sk-toggleable\"><input class=\"sk-toggleable__control sk-hidden--visually\" id=\"sk-estimator-id-3\" type=\"checkbox\" ><label for=\"sk-estimator-id-3\" class=\"sk-toggleable__label  sk-toggleable__label-arrow\"><div><div>SimpleImputer</div></div><div><a class=\"sk-estimator-doc-link \" rel=\"noreferrer\" target=\"_blank\" href=\"https://scikit-learn.org/1.6/modules/generated/sklearn.impute.SimpleImputer.html\">?<span>Documentation for SimpleImputer</span></a></div></label><div class=\"sk-toggleable__content \"><pre>SimpleImputer(fill_value=&#x27; &#x27;, strategy=&#x27;constant&#x27;)</pre></div> </div></div><div class=\"sk-item\"><div class=\"sk-estimator  sk-toggleable\"><input class=\"sk-toggleable__control sk-hidden--visually\" id=\"sk-estimator-id-4\" type=\"checkbox\" ><label for=\"sk-estimator-id-4\" class=\"sk-toggleable__label  sk-toggleable__label-arrow\"><div><div>OneHotEncoder</div></div><div><a class=\"sk-estimator-doc-link \" rel=\"noreferrer\" target=\"_blank\" href=\"https://scikit-learn.org/1.6/modules/generated/sklearn.preprocessing.OneHotEncoder.html\">?<span>Documentation for OneHotEncoder</span></a></div></label><div class=\"sk-toggleable__content \"><pre>OneHotEncoder(drop=&#x27;first&#x27;, handle_unknown=&#x27;ignore&#x27;)</pre></div> </div></div></div></div></div></div></div><div class=\"sk-parallel-item\"><div class=\"sk-item\"><div class=\"sk-label-container\"><div class=\"sk-label  sk-toggleable\"><input class=\"sk-toggleable__control sk-hidden--visually\" id=\"sk-estimator-id-5\" type=\"checkbox\" ><label for=\"sk-estimator-id-5\" class=\"sk-toggleable__label  sk-toggleable__label-arrow\"><div><div>num</div></div></label><div class=\"sk-toggleable__content \"><pre>[&#x27;power&#x27;, &#x27;kilometer&#x27;]</pre></div> </div></div><div class=\"sk-serial\"><div class=\"sk-item\"><div class=\"sk-serial\"><div class=\"sk-item\"><div class=\"sk-estimator  sk-toggleable\"><input class=\"sk-toggleable__control sk-hidden--visually\" id=\"sk-estimator-id-6\" type=\"checkbox\" ><label for=\"sk-estimator-id-6\" class=\"sk-toggleable__label  sk-toggleable__label-arrow\"><div><div>SimpleImputer</div></div><div><a class=\"sk-estimator-doc-link \" rel=\"noreferrer\" target=\"_blank\" href=\"https://scikit-learn.org/1.6/modules/generated/sklearn.impute.SimpleImputer.html\">?<span>Documentation for SimpleImputer</span></a></div></label><div class=\"sk-toggleable__content \"><pre>SimpleImputer(strategy=&#x27;median&#x27;)</pre></div> </div></div><div class=\"sk-item\"><div class=\"sk-estimator  sk-toggleable\"><input class=\"sk-toggleable__control sk-hidden--visually\" id=\"sk-estimator-id-7\" type=\"checkbox\" ><label for=\"sk-estimator-id-7\" class=\"sk-toggleable__label  sk-toggleable__label-arrow\"><div><div>StandardScaler</div></div><div><a class=\"sk-estimator-doc-link \" rel=\"noreferrer\" target=\"_blank\" href=\"https://scikit-learn.org/1.6/modules/generated/sklearn.preprocessing.StandardScaler.html\">?<span>Documentation for StandardScaler</span></a></div></label><div class=\"sk-toggleable__content \"><pre>StandardScaler()</pre></div> </div></div></div></div></div></div></div><div class=\"sk-parallel-item\"><div class=\"sk-item\"><div class=\"sk-label-container\"><div class=\"sk-label  sk-toggleable\"><input class=\"sk-toggleable__control sk-hidden--visually\" id=\"sk-estimator-id-8\" type=\"checkbox\" ><label for=\"sk-estimator-id-8\" class=\"sk-toggleable__label  sk-toggleable__label-arrow\"><div><div>remainder</div></div></label><div class=\"sk-toggleable__content \"><pre></pre></div> </div></div><div class=\"sk-serial\"><div class=\"sk-item\"><div class=\"sk-estimator  sk-toggleable\"><input class=\"sk-toggleable__control sk-hidden--visually\" id=\"sk-estimator-id-9\" type=\"checkbox\" ><label for=\"sk-estimator-id-9\" class=\"sk-toggleable__label  sk-toggleable__label-arrow\"><div><div>passthrough</div></div></label><div class=\"sk-toggleable__content \"><pre>passthrough</pre></div> </div></div></div></div></div></div></div></div></div>"
      ],
      "text/plain": [
       "ColumnTransformer(remainder='passthrough',\n",
       "                  transformers=[('ohe',\n",
       "                                 Pipeline(steps=[('imputer',\n",
       "                                                  SimpleImputer(fill_value=' ',\n",
       "                                                                strategy='constant')),\n",
       "                                                 ('ohe',\n",
       "                                                  OneHotEncoder(drop='first',\n",
       "                                                                handle_unknown='ignore'))]),\n",
       "                                 ['vehicle_type', 'gearbox', 'model',\n",
       "                                  'fuel_type', 'brand', 'not_repaired']),\n",
       "                                ('num',\n",
       "                                 Pipeline(steps=[('imputer',\n",
       "                                                  SimpleImputer(strategy='median')),\n",
       "                                                 ('scaler', StandardScaler())]),\n",
       "                                 ['power', 'kilometer'])])"
      ]
     },
     "execution_count": 34,
     "metadata": {},
     "output_type": "execute_result"
    }
   ],
   "source": [
    "train_preprocessor"
   ]
  },
  {
   "cell_type": "markdown",
   "metadata": {},
   "source": [
    "Поделим данные на обучающую и тестовую выборки в отношении 4:1."
   ]
  },
  {
   "cell_type": "code",
   "execution_count": 35,
   "metadata": {},
   "outputs": [],
   "source": [
    "features = df.drop('price', axis=1)\n",
    "target = df['price']\n",
    "features_train, features_test, target_train, target_test = train_test_split(features, target, test_size=.2, random_state=1)"
   ]
  },
  {
   "cell_type": "markdown",
   "metadata": {},
   "source": [
    "Масштабируем численные признаки и кодируем категориальные"
   ]
  },
  {
   "cell_type": "code",
   "execution_count": 36,
   "metadata": {
    "scrolled": true
   },
   "outputs": [
    {
     "name": "stderr",
     "output_type": "stream",
     "text": [
      "/opt/conda/lib/python3.9/site-packages/sklearn/preprocessing/_encoders.py:246: UserWarning: Found unknown categories in columns [2] during transform. These unknown categories will be encoded as all zeros\n",
      "  warnings.warn(\n",
      "/opt/conda/lib/python3.9/site-packages/sklearn/preprocessing/_encoders.py:246: UserWarning: Found unknown categories in columns [2] during transform. These unknown categories will be encoded as all zeros\n",
      "  warnings.warn(\n",
      "/opt/conda/lib/python3.9/site-packages/sklearn/preprocessing/_encoders.py:246: UserWarning: Found unknown categories in columns [2] during transform. These unknown categories will be encoded as all zeros\n",
      "  warnings.warn(\n",
      "/opt/conda/lib/python3.9/site-packages/sklearn/preprocessing/_encoders.py:246: UserWarning: Found unknown categories in columns [2] during transform. These unknown categories will be encoded as all zeros\n",
      "  warnings.warn(\n"
     ]
    },
    {
     "name": "stdout",
     "output_type": "stream",
     "text": [
      "Лучший результат RMSE: 2900.33\n",
      "Лучшие параметры: {'models': LinearRegression(), 'preprocessor__num': StandardScaler()}\n",
      "\n",
      "Метрика RMSE на тестовой выборке для лучшей модели: 2887.794053996541\n",
      "CPU times: user 22.4 s, sys: 16.7 s, total: 39 s\n",
      "Wall time: 39.1 s\n"
     ]
    }
   ],
   "source": [
    "%%time\n",
    "fit_time_start = time.time()\n",
    "RANDOM_STATE = 42\n",
    "def rmse(true, pred):\n",
    "    return sqrt(mean_squared_error(true, pred))\n",
    "\n",
    "rmse_scorer = make_scorer(rmse, greater_is_better=False)\n",
    "\n",
    "param_grid = [\n",
    "    {\n",
    "        'models': [LinearRegression()],\n",
    "        'preprocessor__num': [StandardScaler(), 'passthrough']  \n",
    "    }\n",
    "]\n",
    "\n",
    "# Создаем пайплайн\n",
    "pipe_final = Pipeline([\n",
    "    ('preprocessor', train_preprocessor),\n",
    "    ('models', LinearRegression())\n",
    "])\n",
    "\n",
    "# Определяем метрику SMAPE\n",
    "\n",
    "# Инициализируем поиск по сетке\n",
    "grid_search = GridSearchCV(\n",
    "    pipe_final, \n",
    "    param_grid, \n",
    "    cv=5,\n",
    "    scoring=rmse_scorer,  \n",
    "    n_jobs=1,\n",
    "    error_score='raise'\n",
    ")\n",
    "\n",
    "# Запускаем поиск по сетке\n",
    "grid_search.fit(features_train, target_train)\n",
    "fit_time_end = time.time()\n",
    "\n",
    "best_index = np.argmax(grid_search.cv_results_['mean_test_score'])\n",
    "best_score = -grid_search.cv_results_['mean_test_score'][best_index]\n",
    "best_params = grid_search.cv_results_['params'][best_index]\n",
    "print(f\"Лучший результат RMSE: {best_score:.2f}\")\n",
    "print(f\"Лучшие параметры: {best_params}\")\n",
    "\n",
    "best_model = grid_search.best_estimator_\n",
    "y_test_pred = best_model.predict(features_test)\n",
    "rmse_linear = rmse(target_test, y_test_pred)\n",
    "print('\\nМетрика RMSE на тестовой выборке для лучшей модели:', rmse_linear)\n",
    "predict_time_end = time.time()"
   ]
  },
  {
   "cell_type": "code",
   "execution_count": 37,
   "metadata": {},
   "outputs": [],
   "source": [
    "linear_fit_time = fit_time_end - fit_time_start\n",
    "linear_pred_time = predict_time_end - fit_time_end"
   ]
  },
  {
   "cell_type": "markdown",
   "metadata": {},
   "source": [
    "CatBoost"
   ]
  },
  {
   "cell_type": "markdown",
   "metadata": {},
   "source": [
    "Для модели CatBoost необязательно перобразовывать категориальные признаки. Поделим исходный датафрейм на обучающую и тестовую выборки без преобразования категориальных признаков"
   ]
  },
  {
   "cell_type": "code",
   "execution_count": 38,
   "metadata": {},
   "outputs": [],
   "source": [
    "features_cb = df.drop('price', axis=1)\n",
    "target_cb = df['price']\n",
    "\n",
    "features_cb_train, features_cb_test, target_cb_train, target_cb_test = train_test_split(\n",
    "    features_cb, target_cb, test_size=.2, random_state=1)\n",
    "\n",
    "cat_features = ['vehicle_type', 'gearbox', 'model', 'fuel_type', 'brand', 'not_repaired']"
   ]
  },
  {
   "cell_type": "code",
   "execution_count": 39,
   "metadata": {
    "scrolled": true
   },
   "outputs": [
    {
     "name": "stdout",
     "output_type": "stream",
     "text": [
      "\n",
      "bestTest = 5566.088009\n",
      "bestIteration = 9\n",
      "\n",
      "\n",
      "bestTest = 4105.913144\n",
      "bestIteration = 9\n",
      "\n",
      "\n",
      "bestTest = 3700.849555\n",
      "bestIteration = 49\n",
      "\n",
      "\n",
      "bestTest = 2845.243195\n",
      "bestIteration = 49\n",
      "\n",
      "\n",
      "bestTest = 3183.600339\n",
      "bestIteration = 99\n",
      "\n",
      "\n",
      "bestTest = 2516.176111\n",
      "bestIteration = 99\n",
      "\n",
      "\n",
      "bestTest = 5239.739354\n",
      "bestIteration = 9\n",
      "\n",
      "\n",
      "bestTest = 3232.478468\n",
      "bestIteration = 9\n",
      "\n",
      "\n",
      "bestTest = 2643.059611\n",
      "bestIteration = 49\n",
      "\n",
      "\n",
      "bestTest = 1845.627004\n",
      "bestIteration = 49\n",
      "\n",
      "\n",
      "bestTest = 1989.433778\n",
      "bestIteration = 99\n",
      "\n",
      "\n",
      "bestTest = 1759.204696\n",
      "bestIteration = 99\n",
      "\n",
      "\n",
      "bestTest = 5224.077678\n",
      "bestIteration = 9\n",
      "\n",
      "\n",
      "bestTest = 3191.911462\n",
      "bestIteration = 9\n",
      "\n",
      "\n",
      "bestTest = 2596.129685\n",
      "bestIteration = 49\n",
      "\n",
      "\n",
      "bestTest = 1755.631196\n",
      "bestIteration = 49\n",
      "\n",
      "\n",
      "bestTest = 1901.413943\n",
      "bestIteration = 99\n",
      "\n",
      "\n",
      "bestTest = 1687.636864\n",
      "bestIteration = 99\n",
      "\n",
      "Training on fold [0/3]\n",
      "\n",
      "bestTest = 1679.718365\n",
      "bestIteration = 99\n",
      "\n",
      "Training on fold [1/3]\n",
      "\n",
      "bestTest = 1702.497025\n",
      "bestIteration = 99\n",
      "\n",
      "Training on fold [2/3]\n",
      "\n",
      "bestTest = 1694.044854\n",
      "bestIteration = 99\n",
      "\n",
      "RMSE работы CatBoost на тестовой выборке: 1672.6805900502286\n",
      "CPU times: user 6min 32s, sys: 1min 16s, total: 7min 48s\n",
      "Wall time: 7min 54s\n"
     ]
    }
   ],
   "source": [
    "%%time\n",
    "model_cb = CatBoostRegressor(loss_function='RMSE', random_state=1, verbose=0)\n",
    "grid_cb = {'iterations': [10, 50, 100],\n",
    "        'learning_rate': [0.03, 0.1],\n",
    "        'depth': [1, 10, 15]}\n",
    "\n",
    "\n",
    "train_cb = Pool(features_cb_train, target_cb_train, cat_features=cat_features) \n",
    "\n",
    "fit_time_start = time.time()\n",
    "model_cb.grid_search(grid_cb, train_cb, verbose=0)\n",
    "fit_time_end = time.time()\n",
    "rmse_cb = rmse(target_cb_test, model_cb.predict(features_cb_test))\n",
    "predict_time_end = time.time()\n",
    "print('RMSE работы CatBoost на тестовой выборке:', rmse_cb)"
   ]
  },
  {
   "cell_type": "code",
   "execution_count": 40,
   "metadata": {},
   "outputs": [],
   "source": [
    "cb_fit_time = fit_time_end - fit_time_start\n",
    "cb_pred_time = predict_time_end - fit_time_end"
   ]
  },
  {
   "cell_type": "markdown",
   "metadata": {},
   "source": [
    "LightGBM"
   ]
  },
  {
   "cell_type": "markdown",
   "metadata": {},
   "source": [
    "Для работы модели LightGBM нужно преобразовать тип данных категориальных признаков"
   ]
  },
  {
   "cell_type": "code",
   "execution_count": 41,
   "metadata": {},
   "outputs": [],
   "source": [
    "features_cb_train[cat_features] = features_cb_train[cat_features].astype('category')\n",
    "features_cb_test[cat_features] = features_cb_test[cat_features].astype('category')"
   ]
  },
  {
   "cell_type": "code",
   "execution_count": 42,
   "metadata": {
    "scrolled": true
   },
   "outputs": [
    {
     "name": "stderr",
     "output_type": "stream",
     "text": [
      "/opt/conda/lib/python3.9/site-packages/sklearn/utils/_tags.py:354: FutureWarning: The LGBMRegressor or classes from which it inherits use `_get_tags` and `_more_tags`. Please define the `__sklearn_tags__` method, or inherit from `sklearn.base.BaseEstimator` and/or other appropriate mixins such as `sklearn.base.TransformerMixin`, `sklearn.base.ClassifierMixin`, `sklearn.base.RegressorMixin`, and `sklearn.base.OutlierMixin`. From scikit-learn 1.7, not defining `__sklearn_tags__` will raise an error.\n",
      "  warnings.warn(\n",
      "/opt/conda/lib/python3.9/site-packages/sklearn/utils/_tags.py:354: FutureWarning: The LGBMRegressor or classes from which it inherits use `_get_tags` and `_more_tags`. Please define the `__sklearn_tags__` method, or inherit from `sklearn.base.BaseEstimator` and/or other appropriate mixins such as `sklearn.base.TransformerMixin`, `sklearn.base.ClassifierMixin`, `sklearn.base.RegressorMixin`, and `sklearn.base.OutlierMixin`. From scikit-learn 1.7, not defining `__sklearn_tags__` will raise an error.\n",
      "  warnings.warn(\n",
      "/opt/conda/lib/python3.9/site-packages/sklearn/utils/_tags.py:354: FutureWarning: The LGBMRegressor or classes from which it inherits use `_get_tags` and `_more_tags`. Please define the `__sklearn_tags__` method, or inherit from `sklearn.base.BaseEstimator` and/or other appropriate mixins such as `sklearn.base.TransformerMixin`, `sklearn.base.ClassifierMixin`, `sklearn.base.RegressorMixin`, and `sklearn.base.OutlierMixin`. From scikit-learn 1.7, not defining `__sklearn_tags__` will raise an error.\n",
      "  warnings.warn(\n",
      "/opt/conda/lib/python3.9/site-packages/sklearn/utils/_tags.py:354: FutureWarning: The LGBMRegressor or classes from which it inherits use `_get_tags` and `_more_tags`. Please define the `__sklearn_tags__` method, or inherit from `sklearn.base.BaseEstimator` and/or other appropriate mixins such as `sklearn.base.TransformerMixin`, `sklearn.base.ClassifierMixin`, `sklearn.base.RegressorMixin`, and `sklearn.base.OutlierMixin`. From scikit-learn 1.7, not defining `__sklearn_tags__` will raise an error.\n",
      "  warnings.warn(\n",
      "/opt/conda/lib/python3.9/site-packages/sklearn/utils/_tags.py:354: FutureWarning: The LGBMRegressor or classes from which it inherits use `_get_tags` and `_more_tags`. Please define the `__sklearn_tags__` method, or inherit from `sklearn.base.BaseEstimator` and/or other appropriate mixins such as `sklearn.base.TransformerMixin`, `sklearn.base.ClassifierMixin`, `sklearn.base.RegressorMixin`, and `sklearn.base.OutlierMixin`. From scikit-learn 1.7, not defining `__sklearn_tags__` will raise an error.\n",
      "  warnings.warn(\n",
      "/opt/conda/lib/python3.9/site-packages/sklearn/utils/_tags.py:354: FutureWarning: The LGBMRegressor or classes from which it inherits use `_get_tags` and `_more_tags`. Please define the `__sklearn_tags__` method, or inherit from `sklearn.base.BaseEstimator` and/or other appropriate mixins such as `sklearn.base.TransformerMixin`, `sklearn.base.ClassifierMixin`, `sklearn.base.RegressorMixin`, and `sklearn.base.OutlierMixin`. From scikit-learn 1.7, not defining `__sklearn_tags__` will raise an error.\n",
      "  warnings.warn(\n",
      "/opt/conda/lib/python3.9/site-packages/sklearn/utils/_tags.py:354: FutureWarning: The LGBMRegressor or classes from which it inherits use `_get_tags` and `_more_tags`. Please define the `__sklearn_tags__` method, or inherit from `sklearn.base.BaseEstimator` and/or other appropriate mixins such as `sklearn.base.TransformerMixin`, `sklearn.base.ClassifierMixin`, `sklearn.base.RegressorMixin`, and `sklearn.base.OutlierMixin`. From scikit-learn 1.7, not defining `__sklearn_tags__` will raise an error.\n",
      "  warnings.warn(\n",
      "/opt/conda/lib/python3.9/site-packages/sklearn/utils/_tags.py:354: FutureWarning: The LGBMRegressor or classes from which it inherits use `_get_tags` and `_more_tags`. Please define the `__sklearn_tags__` method, or inherit from `sklearn.base.BaseEstimator` and/or other appropriate mixins such as `sklearn.base.TransformerMixin`, `sklearn.base.ClassifierMixin`, `sklearn.base.RegressorMixin`, and `sklearn.base.OutlierMixin`. From scikit-learn 1.7, not defining `__sklearn_tags__` will raise an error.\n",
      "  warnings.warn(\n",
      "/opt/conda/lib/python3.9/site-packages/sklearn/utils/_tags.py:354: FutureWarning: The LGBMRegressor or classes from which it inherits use `_get_tags` and `_more_tags`. Please define the `__sklearn_tags__` method, or inherit from `sklearn.base.BaseEstimator` and/or other appropriate mixins such as `sklearn.base.TransformerMixin`, `sklearn.base.ClassifierMixin`, `sklearn.base.RegressorMixin`, and `sklearn.base.OutlierMixin`. From scikit-learn 1.7, not defining `__sklearn_tags__` will raise an error.\n",
      "  warnings.warn(\n",
      "/opt/conda/lib/python3.9/site-packages/sklearn/utils/_tags.py:354: FutureWarning: The LGBMRegressor or classes from which it inherits use `_get_tags` and `_more_tags`. Please define the `__sklearn_tags__` method, or inherit from `sklearn.base.BaseEstimator` and/or other appropriate mixins such as `sklearn.base.TransformerMixin`, `sklearn.base.ClassifierMixin`, `sklearn.base.RegressorMixin`, and `sklearn.base.OutlierMixin`. From scikit-learn 1.7, not defining `__sklearn_tags__` will raise an error.\n",
      "  warnings.warn(\n",
      "/opt/conda/lib/python3.9/site-packages/sklearn/utils/_tags.py:354: FutureWarning: The LGBMRegressor or classes from which it inherits use `_get_tags` and `_more_tags`. Please define the `__sklearn_tags__` method, or inherit from `sklearn.base.BaseEstimator` and/or other appropriate mixins such as `sklearn.base.TransformerMixin`, `sklearn.base.ClassifierMixin`, `sklearn.base.RegressorMixin`, and `sklearn.base.OutlierMixin`. From scikit-learn 1.7, not defining `__sklearn_tags__` will raise an error.\n",
      "  warnings.warn(\n",
      "/opt/conda/lib/python3.9/site-packages/sklearn/utils/_tags.py:354: FutureWarning: The LGBMRegressor or classes from which it inherits use `_get_tags` and `_more_tags`. Please define the `__sklearn_tags__` method, or inherit from `sklearn.base.BaseEstimator` and/or other appropriate mixins such as `sklearn.base.TransformerMixin`, `sklearn.base.ClassifierMixin`, `sklearn.base.RegressorMixin`, and `sklearn.base.OutlierMixin`. From scikit-learn 1.7, not defining `__sklearn_tags__` will raise an error.\n",
      "  warnings.warn(\n",
      "/opt/conda/lib/python3.9/site-packages/sklearn/utils/_tags.py:354: FutureWarning: The LGBMRegressor or classes from which it inherits use `_get_tags` and `_more_tags`. Please define the `__sklearn_tags__` method, or inherit from `sklearn.base.BaseEstimator` and/or other appropriate mixins such as `sklearn.base.TransformerMixin`, `sklearn.base.ClassifierMixin`, `sklearn.base.RegressorMixin`, and `sklearn.base.OutlierMixin`. From scikit-learn 1.7, not defining `__sklearn_tags__` will raise an error.\n",
      "  warnings.warn(\n",
      "/opt/conda/lib/python3.9/site-packages/sklearn/utils/_tags.py:354: FutureWarning: The LGBMRegressor or classes from which it inherits use `_get_tags` and `_more_tags`. Please define the `__sklearn_tags__` method, or inherit from `sklearn.base.BaseEstimator` and/or other appropriate mixins such as `sklearn.base.TransformerMixin`, `sklearn.base.ClassifierMixin`, `sklearn.base.RegressorMixin`, and `sklearn.base.OutlierMixin`. From scikit-learn 1.7, not defining `__sklearn_tags__` will raise an error.\n",
      "  warnings.warn(\n",
      "/opt/conda/lib/python3.9/site-packages/sklearn/utils/_tags.py:354: FutureWarning: The LGBMRegressor or classes from which it inherits use `_get_tags` and `_more_tags`. Please define the `__sklearn_tags__` method, or inherit from `sklearn.base.BaseEstimator` and/or other appropriate mixins such as `sklearn.base.TransformerMixin`, `sklearn.base.ClassifierMixin`, `sklearn.base.RegressorMixin`, and `sklearn.base.OutlierMixin`. From scikit-learn 1.7, not defining `__sklearn_tags__` will raise an error.\n",
      "  warnings.warn(\n",
      "/opt/conda/lib/python3.9/site-packages/sklearn/utils/_tags.py:354: FutureWarning: The LGBMRegressor or classes from which it inherits use `_get_tags` and `_more_tags`. Please define the `__sklearn_tags__` method, or inherit from `sklearn.base.BaseEstimator` and/or other appropriate mixins such as `sklearn.base.TransformerMixin`, `sklearn.base.ClassifierMixin`, `sklearn.base.RegressorMixin`, and `sklearn.base.OutlierMixin`. From scikit-learn 1.7, not defining `__sklearn_tags__` will raise an error.\n",
      "  warnings.warn(\n",
      "/opt/conda/lib/python3.9/site-packages/sklearn/utils/_tags.py:354: FutureWarning: The LGBMRegressor or classes from which it inherits use `_get_tags` and `_more_tags`. Please define the `__sklearn_tags__` method, or inherit from `sklearn.base.BaseEstimator` and/or other appropriate mixins such as `sklearn.base.TransformerMixin`, `sklearn.base.ClassifierMixin`, `sklearn.base.RegressorMixin`, and `sklearn.base.OutlierMixin`. From scikit-learn 1.7, not defining `__sklearn_tags__` will raise an error.\n",
      "  warnings.warn(\n",
      "/opt/conda/lib/python3.9/site-packages/sklearn/utils/_tags.py:354: FutureWarning: The LGBMRegressor or classes from which it inherits use `_get_tags` and `_more_tags`. Please define the `__sklearn_tags__` method, or inherit from `sklearn.base.BaseEstimator` and/or other appropriate mixins such as `sklearn.base.TransformerMixin`, `sklearn.base.ClassifierMixin`, `sklearn.base.RegressorMixin`, and `sklearn.base.OutlierMixin`. From scikit-learn 1.7, not defining `__sklearn_tags__` will raise an error.\n",
      "  warnings.warn(\n",
      "/opt/conda/lib/python3.9/site-packages/sklearn/utils/_tags.py:354: FutureWarning: The LGBMRegressor or classes from which it inherits use `_get_tags` and `_more_tags`. Please define the `__sklearn_tags__` method, or inherit from `sklearn.base.BaseEstimator` and/or other appropriate mixins such as `sklearn.base.TransformerMixin`, `sklearn.base.ClassifierMixin`, `sklearn.base.RegressorMixin`, and `sklearn.base.OutlierMixin`. From scikit-learn 1.7, not defining `__sklearn_tags__` will raise an error.\n",
      "  warnings.warn(\n",
      "/opt/conda/lib/python3.9/site-packages/sklearn/utils/_tags.py:354: FutureWarning: The LGBMRegressor or classes from which it inherits use `_get_tags` and `_more_tags`. Please define the `__sklearn_tags__` method, or inherit from `sklearn.base.BaseEstimator` and/or other appropriate mixins such as `sklearn.base.TransformerMixin`, `sklearn.base.ClassifierMixin`, `sklearn.base.RegressorMixin`, and `sklearn.base.OutlierMixin`. From scikit-learn 1.7, not defining `__sklearn_tags__` will raise an error.\n",
      "  warnings.warn(\n",
      "/opt/conda/lib/python3.9/site-packages/sklearn/utils/_tags.py:354: FutureWarning: The LGBMRegressor or classes from which it inherits use `_get_tags` and `_more_tags`. Please define the `__sklearn_tags__` method, or inherit from `sklearn.base.BaseEstimator` and/or other appropriate mixins such as `sklearn.base.TransformerMixin`, `sklearn.base.ClassifierMixin`, `sklearn.base.RegressorMixin`, and `sklearn.base.OutlierMixin`. From scikit-learn 1.7, not defining `__sklearn_tags__` will raise an error.\n",
      "  warnings.warn(\n",
      "/opt/conda/lib/python3.9/site-packages/sklearn/utils/_tags.py:354: FutureWarning: The LGBMRegressor or classes from which it inherits use `_get_tags` and `_more_tags`. Please define the `__sklearn_tags__` method, or inherit from `sklearn.base.BaseEstimator` and/or other appropriate mixins such as `sklearn.base.TransformerMixin`, `sklearn.base.ClassifierMixin`, `sklearn.base.RegressorMixin`, and `sklearn.base.OutlierMixin`. From scikit-learn 1.7, not defining `__sklearn_tags__` will raise an error.\n",
      "  warnings.warn(\n",
      "/opt/conda/lib/python3.9/site-packages/sklearn/utils/_tags.py:354: FutureWarning: The LGBMRegressor or classes from which it inherits use `_get_tags` and `_more_tags`. Please define the `__sklearn_tags__` method, or inherit from `sklearn.base.BaseEstimator` and/or other appropriate mixins such as `sklearn.base.TransformerMixin`, `sklearn.base.ClassifierMixin`, `sklearn.base.RegressorMixin`, and `sklearn.base.OutlierMixin`. From scikit-learn 1.7, not defining `__sklearn_tags__` will raise an error.\n",
      "  warnings.warn(\n",
      "/opt/conda/lib/python3.9/site-packages/sklearn/utils/_tags.py:354: FutureWarning: The LGBMRegressor or classes from which it inherits use `_get_tags` and `_more_tags`. Please define the `__sklearn_tags__` method, or inherit from `sklearn.base.BaseEstimator` and/or other appropriate mixins such as `sklearn.base.TransformerMixin`, `sklearn.base.ClassifierMixin`, `sklearn.base.RegressorMixin`, and `sklearn.base.OutlierMixin`. From scikit-learn 1.7, not defining `__sklearn_tags__` will raise an error.\n",
      "  warnings.warn(\n",
      "/opt/conda/lib/python3.9/site-packages/sklearn/utils/_tags.py:354: FutureWarning: The LGBMRegressor or classes from which it inherits use `_get_tags` and `_more_tags`. Please define the `__sklearn_tags__` method, or inherit from `sklearn.base.BaseEstimator` and/or other appropriate mixins such as `sklearn.base.TransformerMixin`, `sklearn.base.ClassifierMixin`, `sklearn.base.RegressorMixin`, and `sklearn.base.OutlierMixin`. From scikit-learn 1.7, not defining `__sklearn_tags__` will raise an error.\n",
      "  warnings.warn(\n",
      "/opt/conda/lib/python3.9/site-packages/sklearn/utils/_tags.py:354: FutureWarning: The LGBMRegressor or classes from which it inherits use `_get_tags` and `_more_tags`. Please define the `__sklearn_tags__` method, or inherit from `sklearn.base.BaseEstimator` and/or other appropriate mixins such as `sklearn.base.TransformerMixin`, `sklearn.base.ClassifierMixin`, `sklearn.base.RegressorMixin`, and `sklearn.base.OutlierMixin`. From scikit-learn 1.7, not defining `__sklearn_tags__` will raise an error.\n",
      "  warnings.warn(\n",
      "/opt/conda/lib/python3.9/site-packages/sklearn/utils/_tags.py:354: FutureWarning: The LGBMRegressor or classes from which it inherits use `_get_tags` and `_more_tags`. Please define the `__sklearn_tags__` method, or inherit from `sklearn.base.BaseEstimator` and/or other appropriate mixins such as `sklearn.base.TransformerMixin`, `sklearn.base.ClassifierMixin`, `sklearn.base.RegressorMixin`, and `sklearn.base.OutlierMixin`. From scikit-learn 1.7, not defining `__sklearn_tags__` will raise an error.\n",
      "  warnings.warn(\n",
      "/opt/conda/lib/python3.9/site-packages/sklearn/utils/_tags.py:354: FutureWarning: The LGBMRegressor or classes from which it inherits use `_get_tags` and `_more_tags`. Please define the `__sklearn_tags__` method, or inherit from `sklearn.base.BaseEstimator` and/or other appropriate mixins such as `sklearn.base.TransformerMixin`, `sklearn.base.ClassifierMixin`, `sklearn.base.RegressorMixin`, and `sklearn.base.OutlierMixin`. From scikit-learn 1.7, not defining `__sklearn_tags__` will raise an error.\n",
      "  warnings.warn(\n",
      "/opt/conda/lib/python3.9/site-packages/sklearn/utils/_tags.py:354: FutureWarning: The LGBMRegressor or classes from which it inherits use `_get_tags` and `_more_tags`. Please define the `__sklearn_tags__` method, or inherit from `sklearn.base.BaseEstimator` and/or other appropriate mixins such as `sklearn.base.TransformerMixin`, `sklearn.base.ClassifierMixin`, `sklearn.base.RegressorMixin`, and `sklearn.base.OutlierMixin`. From scikit-learn 1.7, not defining `__sklearn_tags__` will raise an error.\n",
      "  warnings.warn(\n",
      "/opt/conda/lib/python3.9/site-packages/sklearn/utils/_tags.py:354: FutureWarning: The LGBMRegressor or classes from which it inherits use `_get_tags` and `_more_tags`. Please define the `__sklearn_tags__` method, or inherit from `sklearn.base.BaseEstimator` and/or other appropriate mixins such as `sklearn.base.TransformerMixin`, `sklearn.base.ClassifierMixin`, `sklearn.base.RegressorMixin`, and `sklearn.base.OutlierMixin`. From scikit-learn 1.7, not defining `__sklearn_tags__` will raise an error.\n",
      "  warnings.warn(\n",
      "/opt/conda/lib/python3.9/site-packages/sklearn/utils/_tags.py:354: FutureWarning: The LGBMRegressor or classes from which it inherits use `_get_tags` and `_more_tags`. Please define the `__sklearn_tags__` method, or inherit from `sklearn.base.BaseEstimator` and/or other appropriate mixins such as `sklearn.base.TransformerMixin`, `sklearn.base.ClassifierMixin`, `sklearn.base.RegressorMixin`, and `sklearn.base.OutlierMixin`. From scikit-learn 1.7, not defining `__sklearn_tags__` will raise an error.\n",
      "  warnings.warn(\n",
      "/opt/conda/lib/python3.9/site-packages/sklearn/utils/_tags.py:354: FutureWarning: The LGBMRegressor or classes from which it inherits use `_get_tags` and `_more_tags`. Please define the `__sklearn_tags__` method, or inherit from `sklearn.base.BaseEstimator` and/or other appropriate mixins such as `sklearn.base.TransformerMixin`, `sklearn.base.ClassifierMixin`, `sklearn.base.RegressorMixin`, and `sklearn.base.OutlierMixin`. From scikit-learn 1.7, not defining `__sklearn_tags__` will raise an error.\n",
      "  warnings.warn(\n",
      "/opt/conda/lib/python3.9/site-packages/sklearn/utils/_tags.py:354: FutureWarning: The LGBMRegressor or classes from which it inherits use `_get_tags` and `_more_tags`. Please define the `__sklearn_tags__` method, or inherit from `sklearn.base.BaseEstimator` and/or other appropriate mixins such as `sklearn.base.TransformerMixin`, `sklearn.base.ClassifierMixin`, `sklearn.base.RegressorMixin`, and `sklearn.base.OutlierMixin`. From scikit-learn 1.7, not defining `__sklearn_tags__` will raise an error.\n",
      "  warnings.warn(\n",
      "/opt/conda/lib/python3.9/site-packages/sklearn/utils/_tags.py:354: FutureWarning: The LGBMRegressor or classes from which it inherits use `_get_tags` and `_more_tags`. Please define the `__sklearn_tags__` method, or inherit from `sklearn.base.BaseEstimator` and/or other appropriate mixins such as `sklearn.base.TransformerMixin`, `sklearn.base.ClassifierMixin`, `sklearn.base.RegressorMixin`, and `sklearn.base.OutlierMixin`. From scikit-learn 1.7, not defining `__sklearn_tags__` will raise an error.\n",
      "  warnings.warn(\n",
      "/opt/conda/lib/python3.9/site-packages/sklearn/utils/_tags.py:354: FutureWarning: The LGBMRegressor or classes from which it inherits use `_get_tags` and `_more_tags`. Please define the `__sklearn_tags__` method, or inherit from `sklearn.base.BaseEstimator` and/or other appropriate mixins such as `sklearn.base.TransformerMixin`, `sklearn.base.ClassifierMixin`, `sklearn.base.RegressorMixin`, and `sklearn.base.OutlierMixin`. From scikit-learn 1.7, not defining `__sklearn_tags__` will raise an error.\n",
      "  warnings.warn(\n",
      "/opt/conda/lib/python3.9/site-packages/sklearn/utils/_tags.py:354: FutureWarning: The LGBMRegressor or classes from which it inherits use `_get_tags` and `_more_tags`. Please define the `__sklearn_tags__` method, or inherit from `sklearn.base.BaseEstimator` and/or other appropriate mixins such as `sklearn.base.TransformerMixin`, `sklearn.base.ClassifierMixin`, `sklearn.base.RegressorMixin`, and `sklearn.base.OutlierMixin`. From scikit-learn 1.7, not defining `__sklearn_tags__` will raise an error.\n",
      "  warnings.warn(\n",
      "/opt/conda/lib/python3.9/site-packages/sklearn/utils/_tags.py:354: FutureWarning: The LGBMRegressor or classes from which it inherits use `_get_tags` and `_more_tags`. Please define the `__sklearn_tags__` method, or inherit from `sklearn.base.BaseEstimator` and/or other appropriate mixins such as `sklearn.base.TransformerMixin`, `sklearn.base.ClassifierMixin`, `sklearn.base.RegressorMixin`, and `sklearn.base.OutlierMixin`. From scikit-learn 1.7, not defining `__sklearn_tags__` will raise an error.\n",
      "  warnings.warn(\n",
      "/opt/conda/lib/python3.9/site-packages/sklearn/utils/_tags.py:354: FutureWarning: The LGBMRegressor or classes from which it inherits use `_get_tags` and `_more_tags`. Please define the `__sklearn_tags__` method, or inherit from `sklearn.base.BaseEstimator` and/or other appropriate mixins such as `sklearn.base.TransformerMixin`, `sklearn.base.ClassifierMixin`, `sklearn.base.RegressorMixin`, and `sklearn.base.OutlierMixin`. From scikit-learn 1.7, not defining `__sklearn_tags__` will raise an error.\n",
      "  warnings.warn(\n",
      "/opt/conda/lib/python3.9/site-packages/sklearn/utils/_tags.py:354: FutureWarning: The LGBMRegressor or classes from which it inherits use `_get_tags` and `_more_tags`. Please define the `__sklearn_tags__` method, or inherit from `sklearn.base.BaseEstimator` and/or other appropriate mixins such as `sklearn.base.TransformerMixin`, `sklearn.base.ClassifierMixin`, `sklearn.base.RegressorMixin`, and `sklearn.base.OutlierMixin`. From scikit-learn 1.7, not defining `__sklearn_tags__` will raise an error.\n",
      "  warnings.warn(\n",
      "/opt/conda/lib/python3.9/site-packages/sklearn/utils/_tags.py:354: FutureWarning: The LGBMRegressor or classes from which it inherits use `_get_tags` and `_more_tags`. Please define the `__sklearn_tags__` method, or inherit from `sklearn.base.BaseEstimator` and/or other appropriate mixins such as `sklearn.base.TransformerMixin`, `sklearn.base.ClassifierMixin`, `sklearn.base.RegressorMixin`, and `sklearn.base.OutlierMixin`. From scikit-learn 1.7, not defining `__sklearn_tags__` will raise an error.\n",
      "  warnings.warn(\n",
      "/opt/conda/lib/python3.9/site-packages/sklearn/utils/_tags.py:354: FutureWarning: The LGBMRegressor or classes from which it inherits use `_get_tags` and `_more_tags`. Please define the `__sklearn_tags__` method, or inherit from `sklearn.base.BaseEstimator` and/or other appropriate mixins such as `sklearn.base.TransformerMixin`, `sklearn.base.ClassifierMixin`, `sklearn.base.RegressorMixin`, and `sklearn.base.OutlierMixin`. From scikit-learn 1.7, not defining `__sklearn_tags__` will raise an error.\n",
      "  warnings.warn(\n",
      "/opt/conda/lib/python3.9/site-packages/sklearn/utils/_tags.py:354: FutureWarning: The LGBMRegressor or classes from which it inherits use `_get_tags` and `_more_tags`. Please define the `__sklearn_tags__` method, or inherit from `sklearn.base.BaseEstimator` and/or other appropriate mixins such as `sklearn.base.TransformerMixin`, `sklearn.base.ClassifierMixin`, `sklearn.base.RegressorMixin`, and `sklearn.base.OutlierMixin`. From scikit-learn 1.7, not defining `__sklearn_tags__` will raise an error.\n",
      "  warnings.warn(\n",
      "/opt/conda/lib/python3.9/site-packages/sklearn/utils/_tags.py:354: FutureWarning: The LGBMRegressor or classes from which it inherits use `_get_tags` and `_more_tags`. Please define the `__sklearn_tags__` method, or inherit from `sklearn.base.BaseEstimator` and/or other appropriate mixins such as `sklearn.base.TransformerMixin`, `sklearn.base.ClassifierMixin`, `sklearn.base.RegressorMixin`, and `sklearn.base.OutlierMixin`. From scikit-learn 1.7, not defining `__sklearn_tags__` will raise an error.\n",
      "  warnings.warn(\n",
      "/opt/conda/lib/python3.9/site-packages/sklearn/utils/_tags.py:354: FutureWarning: The LGBMRegressor or classes from which it inherits use `_get_tags` and `_more_tags`. Please define the `__sklearn_tags__` method, or inherit from `sklearn.base.BaseEstimator` and/or other appropriate mixins such as `sklearn.base.TransformerMixin`, `sklearn.base.ClassifierMixin`, `sklearn.base.RegressorMixin`, and `sklearn.base.OutlierMixin`. From scikit-learn 1.7, not defining `__sklearn_tags__` will raise an error.\n",
      "  warnings.warn(\n",
      "/opt/conda/lib/python3.9/site-packages/sklearn/utils/_tags.py:354: FutureWarning: The LGBMRegressor or classes from which it inherits use `_get_tags` and `_more_tags`. Please define the `__sklearn_tags__` method, or inherit from `sklearn.base.BaseEstimator` and/or other appropriate mixins such as `sklearn.base.TransformerMixin`, `sklearn.base.ClassifierMixin`, `sklearn.base.RegressorMixin`, and `sklearn.base.OutlierMixin`. From scikit-learn 1.7, not defining `__sklearn_tags__` will raise an error.\n",
      "  warnings.warn(\n",
      "/opt/conda/lib/python3.9/site-packages/sklearn/utils/_tags.py:354: FutureWarning: The LGBMRegressor or classes from which it inherits use `_get_tags` and `_more_tags`. Please define the `__sklearn_tags__` method, or inherit from `sklearn.base.BaseEstimator` and/or other appropriate mixins such as `sklearn.base.TransformerMixin`, `sklearn.base.ClassifierMixin`, `sklearn.base.RegressorMixin`, and `sklearn.base.OutlierMixin`. From scikit-learn 1.7, not defining `__sklearn_tags__` will raise an error.\n",
      "  warnings.warn(\n",
      "/opt/conda/lib/python3.9/site-packages/sklearn/utils/_tags.py:354: FutureWarning: The LGBMRegressor or classes from which it inherits use `_get_tags` and `_more_tags`. Please define the `__sklearn_tags__` method, or inherit from `sklearn.base.BaseEstimator` and/or other appropriate mixins such as `sklearn.base.TransformerMixin`, `sklearn.base.ClassifierMixin`, `sklearn.base.RegressorMixin`, and `sklearn.base.OutlierMixin`. From scikit-learn 1.7, not defining `__sklearn_tags__` will raise an error.\n",
      "  warnings.warn(\n",
      "/opt/conda/lib/python3.9/site-packages/sklearn/utils/_tags.py:354: FutureWarning: The LGBMRegressor or classes from which it inherits use `_get_tags` and `_more_tags`. Please define the `__sklearn_tags__` method, or inherit from `sklearn.base.BaseEstimator` and/or other appropriate mixins such as `sklearn.base.TransformerMixin`, `sklearn.base.ClassifierMixin`, `sklearn.base.RegressorMixin`, and `sklearn.base.OutlierMixin`. From scikit-learn 1.7, not defining `__sklearn_tags__` will raise an error.\n",
      "  warnings.warn(\n",
      "/opt/conda/lib/python3.9/site-packages/sklearn/utils/_tags.py:354: FutureWarning: The LGBMRegressor or classes from which it inherits use `_get_tags` and `_more_tags`. Please define the `__sklearn_tags__` method, or inherit from `sklearn.base.BaseEstimator` and/or other appropriate mixins such as `sklearn.base.TransformerMixin`, `sklearn.base.ClassifierMixin`, `sklearn.base.RegressorMixin`, and `sklearn.base.OutlierMixin`. From scikit-learn 1.7, not defining `__sklearn_tags__` will raise an error.\n",
      "  warnings.warn(\n",
      "/opt/conda/lib/python3.9/site-packages/sklearn/utils/_tags.py:354: FutureWarning: The LGBMRegressor or classes from which it inherits use `_get_tags` and `_more_tags`. Please define the `__sklearn_tags__` method, or inherit from `sklearn.base.BaseEstimator` and/or other appropriate mixins such as `sklearn.base.TransformerMixin`, `sklearn.base.ClassifierMixin`, `sklearn.base.RegressorMixin`, and `sklearn.base.OutlierMixin`. From scikit-learn 1.7, not defining `__sklearn_tags__` will raise an error.\n",
      "  warnings.warn(\n",
      "/opt/conda/lib/python3.9/site-packages/sklearn/utils/_tags.py:354: FutureWarning: The LGBMRegressor or classes from which it inherits use `_get_tags` and `_more_tags`. Please define the `__sklearn_tags__` method, or inherit from `sklearn.base.BaseEstimator` and/or other appropriate mixins such as `sklearn.base.TransformerMixin`, `sklearn.base.ClassifierMixin`, `sklearn.base.RegressorMixin`, and `sklearn.base.OutlierMixin`. From scikit-learn 1.7, not defining `__sklearn_tags__` will raise an error.\n",
      "  warnings.warn(\n",
      "/opt/conda/lib/python3.9/site-packages/sklearn/utils/_tags.py:354: FutureWarning: The LGBMRegressor or classes from which it inherits use `_get_tags` and `_more_tags`. Please define the `__sklearn_tags__` method, or inherit from `sklearn.base.BaseEstimator` and/or other appropriate mixins such as `sklearn.base.TransformerMixin`, `sklearn.base.ClassifierMixin`, `sklearn.base.RegressorMixin`, and `sklearn.base.OutlierMixin`. From scikit-learn 1.7, not defining `__sklearn_tags__` will raise an error.\n",
      "  warnings.warn(\n",
      "/opt/conda/lib/python3.9/site-packages/sklearn/utils/_tags.py:354: FutureWarning: The LGBMRegressor or classes from which it inherits use `_get_tags` and `_more_tags`. Please define the `__sklearn_tags__` method, or inherit from `sklearn.base.BaseEstimator` and/or other appropriate mixins such as `sklearn.base.TransformerMixin`, `sklearn.base.ClassifierMixin`, `sklearn.base.RegressorMixin`, and `sklearn.base.OutlierMixin`. From scikit-learn 1.7, not defining `__sklearn_tags__` will raise an error.\n",
      "  warnings.warn(\n",
      "/opt/conda/lib/python3.9/site-packages/sklearn/utils/_tags.py:354: FutureWarning: The LGBMRegressor or classes from which it inherits use `_get_tags` and `_more_tags`. Please define the `__sklearn_tags__` method, or inherit from `sklearn.base.BaseEstimator` and/or other appropriate mixins such as `sklearn.base.TransformerMixin`, `sklearn.base.ClassifierMixin`, `sklearn.base.RegressorMixin`, and `sklearn.base.OutlierMixin`. From scikit-learn 1.7, not defining `__sklearn_tags__` will raise an error.\n",
      "  warnings.warn(\n",
      "/opt/conda/lib/python3.9/site-packages/sklearn/utils/_tags.py:354: FutureWarning: The LGBMRegressor or classes from which it inherits use `_get_tags` and `_more_tags`. Please define the `__sklearn_tags__` method, or inherit from `sklearn.base.BaseEstimator` and/or other appropriate mixins such as `sklearn.base.TransformerMixin`, `sklearn.base.ClassifierMixin`, `sklearn.base.RegressorMixin`, and `sklearn.base.OutlierMixin`. From scikit-learn 1.7, not defining `__sklearn_tags__` will raise an error.\n",
      "  warnings.warn(\n",
      "/opt/conda/lib/python3.9/site-packages/sklearn/utils/_tags.py:354: FutureWarning: The LGBMRegressor or classes from which it inherits use `_get_tags` and `_more_tags`. Please define the `__sklearn_tags__` method, or inherit from `sklearn.base.BaseEstimator` and/or other appropriate mixins such as `sklearn.base.TransformerMixin`, `sklearn.base.ClassifierMixin`, `sklearn.base.RegressorMixin`, and `sklearn.base.OutlierMixin`. From scikit-learn 1.7, not defining `__sklearn_tags__` will raise an error.\n",
      "  warnings.warn(\n",
      "/opt/conda/lib/python3.9/site-packages/sklearn/utils/_tags.py:354: FutureWarning: The LGBMRegressor or classes from which it inherits use `_get_tags` and `_more_tags`. Please define the `__sklearn_tags__` method, or inherit from `sklearn.base.BaseEstimator` and/or other appropriate mixins such as `sklearn.base.TransformerMixin`, `sklearn.base.ClassifierMixin`, `sklearn.base.RegressorMixin`, and `sklearn.base.OutlierMixin`. From scikit-learn 1.7, not defining `__sklearn_tags__` will raise an error.\n",
      "  warnings.warn(\n",
      "/opt/conda/lib/python3.9/site-packages/sklearn/utils/_tags.py:354: FutureWarning: The LGBMRegressor or classes from which it inherits use `_get_tags` and `_more_tags`. Please define the `__sklearn_tags__` method, or inherit from `sklearn.base.BaseEstimator` and/or other appropriate mixins such as `sklearn.base.TransformerMixin`, `sklearn.base.ClassifierMixin`, `sklearn.base.RegressorMixin`, and `sklearn.base.OutlierMixin`. From scikit-learn 1.7, not defining `__sklearn_tags__` will raise an error.\n",
      "  warnings.warn(\n",
      "/opt/conda/lib/python3.9/site-packages/sklearn/utils/_tags.py:354: FutureWarning: The LGBMRegressor or classes from which it inherits use `_get_tags` and `_more_tags`. Please define the `__sklearn_tags__` method, or inherit from `sklearn.base.BaseEstimator` and/or other appropriate mixins such as `sklearn.base.TransformerMixin`, `sklearn.base.ClassifierMixin`, `sklearn.base.RegressorMixin`, and `sklearn.base.OutlierMixin`. From scikit-learn 1.7, not defining `__sklearn_tags__` will raise an error.\n",
      "  warnings.warn(\n",
      "/opt/conda/lib/python3.9/site-packages/sklearn/utils/_tags.py:354: FutureWarning: The LGBMRegressor or classes from which it inherits use `_get_tags` and `_more_tags`. Please define the `__sklearn_tags__` method, or inherit from `sklearn.base.BaseEstimator` and/or other appropriate mixins such as `sklearn.base.TransformerMixin`, `sklearn.base.ClassifierMixin`, `sklearn.base.RegressorMixin`, and `sklearn.base.OutlierMixin`. From scikit-learn 1.7, not defining `__sklearn_tags__` will raise an error.\n",
      "  warnings.warn(\n",
      "/opt/conda/lib/python3.9/site-packages/sklearn/utils/_tags.py:354: FutureWarning: The LGBMRegressor or classes from which it inherits use `_get_tags` and `_more_tags`. Please define the `__sklearn_tags__` method, or inherit from `sklearn.base.BaseEstimator` and/or other appropriate mixins such as `sklearn.base.TransformerMixin`, `sklearn.base.ClassifierMixin`, `sklearn.base.RegressorMixin`, and `sklearn.base.OutlierMixin`. From scikit-learn 1.7, not defining `__sklearn_tags__` will raise an error.\n",
      "  warnings.warn(\n",
      "/opt/conda/lib/python3.9/site-packages/sklearn/utils/_tags.py:354: FutureWarning: The LGBMRegressor or classes from which it inherits use `_get_tags` and `_more_tags`. Please define the `__sklearn_tags__` method, or inherit from `sklearn.base.BaseEstimator` and/or other appropriate mixins such as `sklearn.base.TransformerMixin`, `sklearn.base.ClassifierMixin`, `sklearn.base.RegressorMixin`, and `sklearn.base.OutlierMixin`. From scikit-learn 1.7, not defining `__sklearn_tags__` will raise an error.\n",
      "  warnings.warn(\n",
      "/opt/conda/lib/python3.9/site-packages/sklearn/utils/_tags.py:354: FutureWarning: The LGBMRegressor or classes from which it inherits use `_get_tags` and `_more_tags`. Please define the `__sklearn_tags__` method, or inherit from `sklearn.base.BaseEstimator` and/or other appropriate mixins such as `sklearn.base.TransformerMixin`, `sklearn.base.ClassifierMixin`, `sklearn.base.RegressorMixin`, and `sklearn.base.OutlierMixin`. From scikit-learn 1.7, not defining `__sklearn_tags__` will raise an error.\n",
      "  warnings.warn(\n",
      "/opt/conda/lib/python3.9/site-packages/sklearn/utils/_tags.py:354: FutureWarning: The LGBMRegressor or classes from which it inherits use `_get_tags` and `_more_tags`. Please define the `__sklearn_tags__` method, or inherit from `sklearn.base.BaseEstimator` and/or other appropriate mixins such as `sklearn.base.TransformerMixin`, `sklearn.base.ClassifierMixin`, `sklearn.base.RegressorMixin`, and `sklearn.base.OutlierMixin`. From scikit-learn 1.7, not defining `__sklearn_tags__` will raise an error.\n",
      "  warnings.warn(\n",
      "/opt/conda/lib/python3.9/site-packages/sklearn/utils/_tags.py:354: FutureWarning: The LGBMRegressor or classes from which it inherits use `_get_tags` and `_more_tags`. Please define the `__sklearn_tags__` method, or inherit from `sklearn.base.BaseEstimator` and/or other appropriate mixins such as `sklearn.base.TransformerMixin`, `sklearn.base.ClassifierMixin`, `sklearn.base.RegressorMixin`, and `sklearn.base.OutlierMixin`. From scikit-learn 1.7, not defining `__sklearn_tags__` will raise an error.\n",
      "  warnings.warn(\n",
      "/opt/conda/lib/python3.9/site-packages/sklearn/utils/_tags.py:354: FutureWarning: The LGBMRegressor or classes from which it inherits use `_get_tags` and `_more_tags`. Please define the `__sklearn_tags__` method, or inherit from `sklearn.base.BaseEstimator` and/or other appropriate mixins such as `sklearn.base.TransformerMixin`, `sklearn.base.ClassifierMixin`, `sklearn.base.RegressorMixin`, and `sklearn.base.OutlierMixin`. From scikit-learn 1.7, not defining `__sklearn_tags__` will raise an error.\n",
      "  warnings.warn(\n",
      "/opt/conda/lib/python3.9/site-packages/sklearn/utils/_tags.py:354: FutureWarning: The LGBMRegressor or classes from which it inherits use `_get_tags` and `_more_tags`. Please define the `__sklearn_tags__` method, or inherit from `sklearn.base.BaseEstimator` and/or other appropriate mixins such as `sklearn.base.TransformerMixin`, `sklearn.base.ClassifierMixin`, `sklearn.base.RegressorMixin`, and `sklearn.base.OutlierMixin`. From scikit-learn 1.7, not defining `__sklearn_tags__` will raise an error.\n",
      "  warnings.warn(\n",
      "/opt/conda/lib/python3.9/site-packages/sklearn/utils/_tags.py:354: FutureWarning: The LGBMRegressor or classes from which it inherits use `_get_tags` and `_more_tags`. Please define the `__sklearn_tags__` method, or inherit from `sklearn.base.BaseEstimator` and/or other appropriate mixins such as `sklearn.base.TransformerMixin`, `sklearn.base.ClassifierMixin`, `sklearn.base.RegressorMixin`, and `sklearn.base.OutlierMixin`. From scikit-learn 1.7, not defining `__sklearn_tags__` will raise an error.\n",
      "  warnings.warn(\n",
      "/opt/conda/lib/python3.9/site-packages/sklearn/utils/_tags.py:354: FutureWarning: The LGBMRegressor or classes from which it inherits use `_get_tags` and `_more_tags`. Please define the `__sklearn_tags__` method, or inherit from `sklearn.base.BaseEstimator` and/or other appropriate mixins such as `sklearn.base.TransformerMixin`, `sklearn.base.ClassifierMixin`, `sklearn.base.RegressorMixin`, and `sklearn.base.OutlierMixin`. From scikit-learn 1.7, not defining `__sklearn_tags__` will raise an error.\n",
      "  warnings.warn(\n",
      "/opt/conda/lib/python3.9/site-packages/sklearn/utils/_tags.py:354: FutureWarning: The LGBMRegressor or classes from which it inherits use `_get_tags` and `_more_tags`. Please define the `__sklearn_tags__` method, or inherit from `sklearn.base.BaseEstimator` and/or other appropriate mixins such as `sklearn.base.TransformerMixin`, `sklearn.base.ClassifierMixin`, `sklearn.base.RegressorMixin`, and `sklearn.base.OutlierMixin`. From scikit-learn 1.7, not defining `__sklearn_tags__` will raise an error.\n",
      "  warnings.warn(\n",
      "/opt/conda/lib/python3.9/site-packages/sklearn/utils/_tags.py:354: FutureWarning: The LGBMRegressor or classes from which it inherits use `_get_tags` and `_more_tags`. Please define the `__sklearn_tags__` method, or inherit from `sklearn.base.BaseEstimator` and/or other appropriate mixins such as `sklearn.base.TransformerMixin`, `sklearn.base.ClassifierMixin`, `sklearn.base.RegressorMixin`, and `sklearn.base.OutlierMixin`. From scikit-learn 1.7, not defining `__sklearn_tags__` will raise an error.\n",
      "  warnings.warn(\n",
      "/opt/conda/lib/python3.9/site-packages/sklearn/utils/_tags.py:354: FutureWarning: The LGBMRegressor or classes from which it inherits use `_get_tags` and `_more_tags`. Please define the `__sklearn_tags__` method, or inherit from `sklearn.base.BaseEstimator` and/or other appropriate mixins such as `sklearn.base.TransformerMixin`, `sklearn.base.ClassifierMixin`, `sklearn.base.RegressorMixin`, and `sklearn.base.OutlierMixin`. From scikit-learn 1.7, not defining `__sklearn_tags__` will raise an error.\n",
      "  warnings.warn(\n",
      "/opt/conda/lib/python3.9/site-packages/sklearn/utils/_tags.py:354: FutureWarning: The LGBMRegressor or classes from which it inherits use `_get_tags` and `_more_tags`. Please define the `__sklearn_tags__` method, or inherit from `sklearn.base.BaseEstimator` and/or other appropriate mixins such as `sklearn.base.TransformerMixin`, `sklearn.base.ClassifierMixin`, `sklearn.base.RegressorMixin`, and `sklearn.base.OutlierMixin`. From scikit-learn 1.7, not defining `__sklearn_tags__` will raise an error.\n",
      "  warnings.warn(\n",
      "/opt/conda/lib/python3.9/site-packages/sklearn/utils/_tags.py:354: FutureWarning: The LGBMRegressor or classes from which it inherits use `_get_tags` and `_more_tags`. Please define the `__sklearn_tags__` method, or inherit from `sklearn.base.BaseEstimator` and/or other appropriate mixins such as `sklearn.base.TransformerMixin`, `sklearn.base.ClassifierMixin`, `sklearn.base.RegressorMixin`, and `sklearn.base.OutlierMixin`. From scikit-learn 1.7, not defining `__sklearn_tags__` will raise an error.\n",
      "  warnings.warn(\n",
      "/opt/conda/lib/python3.9/site-packages/sklearn/utils/_tags.py:354: FutureWarning: The LGBMRegressor or classes from which it inherits use `_get_tags` and `_more_tags`. Please define the `__sklearn_tags__` method, or inherit from `sklearn.base.BaseEstimator` and/or other appropriate mixins such as `sklearn.base.TransformerMixin`, `sklearn.base.ClassifierMixin`, `sklearn.base.RegressorMixin`, and `sklearn.base.OutlierMixin`. From scikit-learn 1.7, not defining `__sklearn_tags__` will raise an error.\n",
      "  warnings.warn(\n",
      "/opt/conda/lib/python3.9/site-packages/sklearn/utils/_tags.py:354: FutureWarning: The LGBMRegressor or classes from which it inherits use `_get_tags` and `_more_tags`. Please define the `__sklearn_tags__` method, or inherit from `sklearn.base.BaseEstimator` and/or other appropriate mixins such as `sklearn.base.TransformerMixin`, `sklearn.base.ClassifierMixin`, `sklearn.base.RegressorMixin`, and `sklearn.base.OutlierMixin`. From scikit-learn 1.7, not defining `__sklearn_tags__` will raise an error.\n",
      "  warnings.warn(\n",
      "/opt/conda/lib/python3.9/site-packages/sklearn/utils/_tags.py:354: FutureWarning: The LGBMRegressor or classes from which it inherits use `_get_tags` and `_more_tags`. Please define the `__sklearn_tags__` method, or inherit from `sklearn.base.BaseEstimator` and/or other appropriate mixins such as `sklearn.base.TransformerMixin`, `sklearn.base.ClassifierMixin`, `sklearn.base.RegressorMixin`, and `sklearn.base.OutlierMixin`. From scikit-learn 1.7, not defining `__sklearn_tags__` will raise an error.\n",
      "  warnings.warn(\n",
      "/opt/conda/lib/python3.9/site-packages/sklearn/utils/_tags.py:354: FutureWarning: The LGBMRegressor or classes from which it inherits use `_get_tags` and `_more_tags`. Please define the `__sklearn_tags__` method, or inherit from `sklearn.base.BaseEstimator` and/or other appropriate mixins such as `sklearn.base.TransformerMixin`, `sklearn.base.ClassifierMixin`, `sklearn.base.RegressorMixin`, and `sklearn.base.OutlierMixin`. From scikit-learn 1.7, not defining `__sklearn_tags__` will raise an error.\n",
      "  warnings.warn(\n",
      "/opt/conda/lib/python3.9/site-packages/sklearn/utils/_tags.py:354: FutureWarning: The LGBMRegressor or classes from which it inherits use `_get_tags` and `_more_tags`. Please define the `__sklearn_tags__` method, or inherit from `sklearn.base.BaseEstimator` and/or other appropriate mixins such as `sklearn.base.TransformerMixin`, `sklearn.base.ClassifierMixin`, `sklearn.base.RegressorMixin`, and `sklearn.base.OutlierMixin`. From scikit-learn 1.7, not defining `__sklearn_tags__` will raise an error.\n",
      "  warnings.warn(\n",
      "/opt/conda/lib/python3.9/site-packages/sklearn/utils/_tags.py:354: FutureWarning: The LGBMRegressor or classes from which it inherits use `_get_tags` and `_more_tags`. Please define the `__sklearn_tags__` method, or inherit from `sklearn.base.BaseEstimator` and/or other appropriate mixins such as `sklearn.base.TransformerMixin`, `sklearn.base.ClassifierMixin`, `sklearn.base.RegressorMixin`, and `sklearn.base.OutlierMixin`. From scikit-learn 1.7, not defining `__sklearn_tags__` will raise an error.\n",
      "  warnings.warn(\n",
      "/opt/conda/lib/python3.9/site-packages/sklearn/utils/_tags.py:354: FutureWarning: The LGBMRegressor or classes from which it inherits use `_get_tags` and `_more_tags`. Please define the `__sklearn_tags__` method, or inherit from `sklearn.base.BaseEstimator` and/or other appropriate mixins such as `sklearn.base.TransformerMixin`, `sklearn.base.ClassifierMixin`, `sklearn.base.RegressorMixin`, and `sklearn.base.OutlierMixin`. From scikit-learn 1.7, not defining `__sklearn_tags__` will raise an error.\n",
      "  warnings.warn(\n",
      "/opt/conda/lib/python3.9/site-packages/sklearn/utils/_tags.py:354: FutureWarning: The LGBMRegressor or classes from which it inherits use `_get_tags` and `_more_tags`. Please define the `__sklearn_tags__` method, or inherit from `sklearn.base.BaseEstimator` and/or other appropriate mixins such as `sklearn.base.TransformerMixin`, `sklearn.base.ClassifierMixin`, `sklearn.base.RegressorMixin`, and `sklearn.base.OutlierMixin`. From scikit-learn 1.7, not defining `__sklearn_tags__` will raise an error.\n",
      "  warnings.warn(\n",
      "/opt/conda/lib/python3.9/site-packages/sklearn/utils/_tags.py:354: FutureWarning: The LGBMRegressor or classes from which it inherits use `_get_tags` and `_more_tags`. Please define the `__sklearn_tags__` method, or inherit from `sklearn.base.BaseEstimator` and/or other appropriate mixins such as `sklearn.base.TransformerMixin`, `sklearn.base.ClassifierMixin`, `sklearn.base.RegressorMixin`, and `sklearn.base.OutlierMixin`. From scikit-learn 1.7, not defining `__sklearn_tags__` will raise an error.\n",
      "  warnings.warn(\n",
      "/opt/conda/lib/python3.9/site-packages/sklearn/utils/_tags.py:354: FutureWarning: The LGBMRegressor or classes from which it inherits use `_get_tags` and `_more_tags`. Please define the `__sklearn_tags__` method, or inherit from `sklearn.base.BaseEstimator` and/or other appropriate mixins such as `sklearn.base.TransformerMixin`, `sklearn.base.ClassifierMixin`, `sklearn.base.RegressorMixin`, and `sklearn.base.OutlierMixin`. From scikit-learn 1.7, not defining `__sklearn_tags__` will raise an error.\n",
      "  warnings.warn(\n",
      "/opt/conda/lib/python3.9/site-packages/sklearn/utils/_tags.py:354: FutureWarning: The LGBMRegressor or classes from which it inherits use `_get_tags` and `_more_tags`. Please define the `__sklearn_tags__` method, or inherit from `sklearn.base.BaseEstimator` and/or other appropriate mixins such as `sklearn.base.TransformerMixin`, `sklearn.base.ClassifierMixin`, `sklearn.base.RegressorMixin`, and `sklearn.base.OutlierMixin`. From scikit-learn 1.7, not defining `__sklearn_tags__` will raise an error.\n",
      "  warnings.warn(\n",
      "/opt/conda/lib/python3.9/site-packages/sklearn/utils/_tags.py:354: FutureWarning: The LGBMRegressor or classes from which it inherits use `_get_tags` and `_more_tags`. Please define the `__sklearn_tags__` method, or inherit from `sklearn.base.BaseEstimator` and/or other appropriate mixins such as `sklearn.base.TransformerMixin`, `sklearn.base.ClassifierMixin`, `sklearn.base.RegressorMixin`, and `sklearn.base.OutlierMixin`. From scikit-learn 1.7, not defining `__sklearn_tags__` will raise an error.\n",
      "  warnings.warn(\n",
      "/opt/conda/lib/python3.9/site-packages/sklearn/utils/_tags.py:354: FutureWarning: The LGBMRegressor or classes from which it inherits use `_get_tags` and `_more_tags`. Please define the `__sklearn_tags__` method, or inherit from `sklearn.base.BaseEstimator` and/or other appropriate mixins such as `sklearn.base.TransformerMixin`, `sklearn.base.ClassifierMixin`, `sklearn.base.RegressorMixin`, and `sklearn.base.OutlierMixin`. From scikit-learn 1.7, not defining `__sklearn_tags__` will raise an error.\n",
      "  warnings.warn(\n",
      "/opt/conda/lib/python3.9/site-packages/sklearn/utils/_tags.py:354: FutureWarning: The LGBMRegressor or classes from which it inherits use `_get_tags` and `_more_tags`. Please define the `__sklearn_tags__` method, or inherit from `sklearn.base.BaseEstimator` and/or other appropriate mixins such as `sklearn.base.TransformerMixin`, `sklearn.base.ClassifierMixin`, `sklearn.base.RegressorMixin`, and `sklearn.base.OutlierMixin`. From scikit-learn 1.7, not defining `__sklearn_tags__` will raise an error.\n",
      "  warnings.warn(\n",
      "/opt/conda/lib/python3.9/site-packages/sklearn/utils/_tags.py:354: FutureWarning: The LGBMRegressor or classes from which it inherits use `_get_tags` and `_more_tags`. Please define the `__sklearn_tags__` method, or inherit from `sklearn.base.BaseEstimator` and/or other appropriate mixins such as `sklearn.base.TransformerMixin`, `sklearn.base.ClassifierMixin`, `sklearn.base.RegressorMixin`, and `sklearn.base.OutlierMixin`. From scikit-learn 1.7, not defining `__sklearn_tags__` will raise an error.\n",
      "  warnings.warn(\n",
      "/opt/conda/lib/python3.9/site-packages/sklearn/utils/_tags.py:354: FutureWarning: The LGBMRegressor or classes from which it inherits use `_get_tags` and `_more_tags`. Please define the `__sklearn_tags__` method, or inherit from `sklearn.base.BaseEstimator` and/or other appropriate mixins such as `sklearn.base.TransformerMixin`, `sklearn.base.ClassifierMixin`, `sklearn.base.RegressorMixin`, and `sklearn.base.OutlierMixin`. From scikit-learn 1.7, not defining `__sklearn_tags__` will raise an error.\n",
      "  warnings.warn(\n"
     ]
    },
    {
     "name": "stdout",
     "output_type": "stream",
     "text": [
      "RMSE работы модели LightGBM на тестовой выборке: 1694.5782503403873\n",
      "Максимальная глубина дерева наилучшей модели: 10\n",
      "Количество деревьев в наилучшей модели: 100\n",
      "Коэффициент скорости обучения в наилучшей модели: 0.1\n",
      "CPU times: user 29min 2s, sys: 7.95 s, total: 29min 10s\n",
      "Wall time: 29min 13s\n"
     ]
    }
   ],
   "source": [
    "%%time\n",
    "lgb_model = lgb.LGBMRegressor(random_state=1)\n",
    "parametrs = {'n_estimators': [10, 50, 100],\n",
    "             'learning_rate': [0.03, 0.1],\n",
    "             'max_depth': [1, 10, 15],}\n",
    "grid_lgb = GridSearchCV(lgb_model, param_grid=parametrs, cv=5, scoring=rmse_scorer)\n",
    "fit_time_start = time.time()\n",
    "grid_lgb.fit(features_cb_train, target_cb_train)\n",
    "fit_time_end = time.time()\n",
    "rmse_lgb = rmse(target_cb_test, grid_lgb.best_estimator_.predict(features_cb_test))\n",
    "predict_time_end = time.time()\n",
    "\n",
    "print('RMSE работы модели LightGBM на тестовой выборке:', rmse_lgb)\n",
    "print('Максимальная глубина дерева наилучшей модели:', grid_lgb.best_params_['max_depth'])\n",
    "print('Количество деревьев в наилучшей модели:', grid_lgb.best_params_['n_estimators'])\n",
    "print('Коэффициент скорости обучения в наилучшей модели:', grid_lgb.best_params_['learning_rate'])"
   ]
  },
  {
   "cell_type": "code",
   "execution_count": 43,
   "metadata": {},
   "outputs": [],
   "source": [
    "lgb_fit_time = fit_time_end - fit_time_start\n",
    "lgb_pred_time = predict_time_end - fit_time_end"
   ]
  },
  {
   "cell_type": "markdown",
   "metadata": {},
   "source": [
    "## Анализ моделей"
   ]
  },
  {
   "cell_type": "code",
   "execution_count": 44,
   "metadata": {},
   "outputs": [
    {
     "data": {
      "text/html": [
       "<div>\n",
       "<style scoped>\n",
       "    .dataframe tbody tr th:only-of-type {\n",
       "        vertical-align: middle;\n",
       "    }\n",
       "\n",
       "    .dataframe tbody tr th {\n",
       "        vertical-align: top;\n",
       "    }\n",
       "\n",
       "    .dataframe thead th {\n",
       "        text-align: right;\n",
       "    }\n",
       "</style>\n",
       "<table border=\"1\" class=\"dataframe\">\n",
       "  <thead>\n",
       "    <tr style=\"text-align: right;\">\n",
       "      <th></th>\n",
       "      <th>Models</th>\n",
       "      <th>RMSE</th>\n",
       "      <th>Fit time</th>\n",
       "      <th>Predict time</th>\n",
       "    </tr>\n",
       "  </thead>\n",
       "  <tbody>\n",
       "    <tr>\n",
       "      <th>0</th>\n",
       "      <td>Linear Regression</td>\n",
       "      <td>2887.794054</td>\n",
       "      <td>38.855654</td>\n",
       "      <td>0.232298</td>\n",
       "    </tr>\n",
       "    <tr>\n",
       "      <th>1</th>\n",
       "      <td>CatBoost</td>\n",
       "      <td>1672.680590</td>\n",
       "      <td>473.768507</td>\n",
       "      <td>0.125736</td>\n",
       "    </tr>\n",
       "    <tr>\n",
       "      <th>2</th>\n",
       "      <td>LightGBM</td>\n",
       "      <td>1694.578250</td>\n",
       "      <td>1752.807477</td>\n",
       "      <td>0.792414</td>\n",
       "    </tr>\n",
       "  </tbody>\n",
       "</table>\n",
       "</div>"
      ],
      "text/plain": [
       "              Models         RMSE     Fit time  Predict time\n",
       "0  Linear Regression  2887.794054    38.855654      0.232298\n",
       "1           CatBoost  1672.680590   473.768507      0.125736\n",
       "2           LightGBM  1694.578250  1752.807477      0.792414"
      ]
     },
     "metadata": {},
     "output_type": "display_data"
    }
   ],
   "source": [
    "results = pd.DataFrame({'Models':['Linear Regression', 'CatBoost', 'LightGBM'],\n",
    "                       'RMSE': [rmse_linear, rmse_cb, rmse_lgb],\n",
    "                       'Fit time': [linear_fit_time, cb_fit_time, lgb_fit_time],\n",
    "                       'Predict time': [linear_pred_time, cb_pred_time, lgb_pred_time]})\n",
    "display(results)"
   ]
  },
  {
   "cell_type": "markdown",
   "metadata": {},
   "source": [
    "Анализ работы моделей показал, что при схожих гиперпараметрах наибольшая точность у моделей градиентного бустинга (CatBoost, LightGBM). При этом модели градиентного бустинга обучаются весьма быстро, а скорость обучение LightGBM выше скорости обучения CatBoost в 1,5 раза. Наивысшая скорость обучения у модели линейной регрессии - менее минуты, но такая скорость компенсируется низкой точностью прогнозов."
   ]
  }
 ],
 "metadata": {
  "ExecuteTimeLog": [
   {
    "duration": 2743,
    "start_time": "2024-12-21T07:07:22.900Z"
   },
   {
    "duration": 1672,
    "start_time": "2024-12-21T07:07:50.996Z"
   },
   {
    "duration": 4,
    "start_time": "2024-12-21T07:08:19.558Z"
   },
   {
    "duration": 80,
    "start_time": "2024-12-21T07:08:19.904Z"
   },
   {
    "duration": 3116,
    "start_time": "2024-12-21T07:08:27.095Z"
   },
   {
    "duration": 3,
    "start_time": "2024-12-21T07:10:41.641Z"
   },
   {
    "duration": 907,
    "start_time": "2024-12-21T07:11:22.665Z"
   },
   {
    "duration": 4,
    "start_time": "2024-12-21T07:12:00.532Z"
   },
   {
    "duration": 14,
    "start_time": "2024-12-21T07:12:10.345Z"
   },
   {
    "duration": 138,
    "start_time": "2024-12-21T07:12:19.932Z"
   },
   {
    "duration": 195,
    "start_time": "2024-12-21T07:15:50.780Z"
   },
   {
    "duration": 386,
    "start_time": "2024-12-21T07:16:00.256Z"
   },
   {
    "duration": 369,
    "start_time": "2024-12-21T07:16:08.388Z"
   },
   {
    "duration": 33,
    "start_time": "2024-12-21T07:16:48.912Z"
   },
   {
    "duration": 146,
    "start_time": "2024-12-21T07:16:55.165Z"
   },
   {
    "duration": 95,
    "start_time": "2024-12-21T07:16:58.597Z"
   },
   {
    "duration": 148,
    "start_time": "2024-12-21T07:17:03.364Z"
   },
   {
    "duration": 29,
    "start_time": "2024-12-21T07:17:32.068Z"
   },
   {
    "duration": 84,
    "start_time": "2024-12-21T07:18:00.393Z"
   },
   {
    "duration": 35,
    "start_time": "2024-12-21T07:18:16.344Z"
   },
   {
    "duration": 22,
    "start_time": "2024-12-21T07:18:35.140Z"
   },
   {
    "duration": 139,
    "start_time": "2024-12-21T07:18:50.217Z"
   },
   {
    "duration": 143,
    "start_time": "2024-12-21T07:18:53.769Z"
   },
   {
    "duration": 162,
    "start_time": "2024-12-21T07:19:20.033Z"
   },
   {
    "duration": 4,
    "start_time": "2024-12-21T07:19:41.580Z"
   },
   {
    "duration": 3647,
    "start_time": "2024-12-21T07:19:47.704Z"
   },
   {
    "duration": 8,
    "start_time": "2024-12-21T07:20:06.352Z"
   },
   {
    "duration": 19,
    "start_time": "2024-12-21T07:20:42.824Z"
   },
   {
    "duration": 242,
    "start_time": "2024-12-21T07:20:59.429Z"
   },
   {
    "duration": 254,
    "start_time": "2024-12-21T07:21:03.957Z"
   },
   {
    "duration": 31,
    "start_time": "2024-12-21T07:22:01.940Z"
   },
   {
    "duration": 15,
    "start_time": "2024-12-21T07:22:20.833Z"
   },
   {
    "duration": 3,
    "start_time": "2024-12-21T07:22:27.217Z"
   },
   {
    "duration": 3592,
    "start_time": "2024-12-21T07:22:33.472Z"
   },
   {
    "duration": 248,
    "start_time": "2024-12-21T07:22:44.957Z"
   },
   {
    "duration": 5,
    "start_time": "2024-12-21T07:23:06.109Z"
   },
   {
    "duration": 845,
    "start_time": "2024-12-21T07:24:17.756Z"
   },
   {
    "duration": 526,
    "start_time": "2024-12-21T07:24:40.752Z"
   },
   {
    "duration": 3,
    "start_time": "2024-12-21T07:25:00.021Z"
   },
   {
    "duration": 167,
    "start_time": "2024-12-21T07:25:13.513Z"
   },
   {
    "duration": 163,
    "start_time": "2024-12-21T07:26:08.165Z"
   },
   {
    "duration": 26377,
    "start_time": "2024-12-21T07:26:10.461Z"
   },
   {
    "duration": 2,
    "start_time": "2024-12-21T07:26:59.673Z"
   },
   {
    "duration": 211,
    "start_time": "2024-12-21T07:27:23.278Z"
   },
   {
    "duration": 3,
    "start_time": "2024-12-21T07:27:59.149Z"
   },
   {
    "duration": 3,
    "start_time": "2024-12-21T07:28:13.745Z"
   },
   {
    "duration": 102699,
    "start_time": "2024-12-21T07:28:22.645Z"
   },
   {
    "duration": 3,
    "start_time": "2024-12-21T07:32:48.709Z"
   },
   {
    "duration": 98,
    "start_time": "2024-12-21T07:32:57.861Z"
   },
   {
    "duration": 6053394,
    "start_time": "2024-12-21T07:33:13.189Z"
   },
   {
    "duration": 99,
    "start_time": "2024-12-21T09:14:06.585Z"
   },
   {
    "duration": 506550,
    "start_time": "2024-12-21T09:14:06.984Z"
   },
   {
    "duration": 3,
    "start_time": "2024-12-21T09:22:33.536Z"
   },
   {
    "duration": 88,
    "start_time": "2024-12-21T09:22:33.546Z"
   },
   {
    "duration": 0,
    "start_time": "2024-12-21T09:22:33.642Z"
   },
   {
    "duration": 0,
    "start_time": "2024-12-21T09:22:33.643Z"
   },
   {
    "duration": 0,
    "start_time": "2024-12-21T09:22:33.646Z"
   },
   {
    "duration": 0,
    "start_time": "2024-12-21T09:22:33.647Z"
   },
   {
    "duration": 0,
    "start_time": "2024-12-21T09:22:33.648Z"
   },
   {
    "duration": 174,
    "start_time": "2024-12-21T10:37:58.219Z"
   },
   {
    "duration": 268552,
    "start_time": "2024-12-21T10:37:58.687Z"
   },
   {
    "duration": 3,
    "start_time": "2024-12-21T10:42:27.241Z"
   },
   {
    "duration": 18,
    "start_time": "2024-12-21T10:42:27.247Z"
   },
   {
    "duration": 2751,
    "start_time": "2024-12-21T16:33:14.465Z"
   },
   {
    "duration": 1930,
    "start_time": "2024-12-21T16:33:17.218Z"
   },
   {
    "duration": 3006,
    "start_time": "2024-12-21T16:33:19.150Z"
   },
   {
    "duration": 13,
    "start_time": "2024-12-21T16:33:22.158Z"
   },
   {
    "duration": 215,
    "start_time": "2024-12-21T16:33:22.173Z"
   },
   {
    "duration": 196,
    "start_time": "2024-12-21T16:33:22.390Z"
   },
   {
    "duration": 382,
    "start_time": "2024-12-21T16:33:22.588Z"
   },
   {
    "duration": 389,
    "start_time": "2024-12-21T16:33:22.971Z"
   },
   {
    "duration": 37,
    "start_time": "2024-12-21T16:33:23.362Z"
   },
   {
    "duration": 174,
    "start_time": "2024-12-21T16:33:23.401Z"
   },
   {
    "duration": 36,
    "start_time": "2024-12-21T16:33:23.576Z"
   },
   {
    "duration": 93,
    "start_time": "2024-12-21T16:33:23.614Z"
   },
   {
    "duration": 46,
    "start_time": "2024-12-21T16:33:23.709Z"
   },
   {
    "duration": 30,
    "start_time": "2024-12-21T16:33:23.756Z"
   },
   {
    "duration": 143,
    "start_time": "2024-12-21T16:33:23.788Z"
   },
   {
    "duration": 170,
    "start_time": "2024-12-21T16:33:23.933Z"
   },
   {
    "duration": 3,
    "start_time": "2024-12-21T16:33:24.104Z"
   },
   {
    "duration": 3706,
    "start_time": "2024-12-21T16:33:24.108Z"
   },
   {
    "duration": 16,
    "start_time": "2024-12-21T16:33:27.815Z"
   },
   {
    "duration": 21,
    "start_time": "2024-12-21T16:33:27.833Z"
   },
   {
    "duration": 262,
    "start_time": "2024-12-21T16:33:27.855Z"
   },
   {
    "duration": 37,
    "start_time": "2024-12-21T16:33:28.120Z"
   },
   {
    "duration": 203,
    "start_time": "2024-12-21T16:33:28.159Z"
   },
   {
    "duration": 38,
    "start_time": "2024-12-21T16:33:28.364Z"
   },
   {
    "duration": 3752,
    "start_time": "2024-12-21T16:33:28.404Z"
   },
   {
    "duration": 144,
    "start_time": "2024-12-21T16:33:32.158Z"
   },
   {
    "duration": 46,
    "start_time": "2024-12-21T16:33:32.303Z"
   },
   {
    "duration": 895,
    "start_time": "2024-12-21T16:33:32.353Z"
   },
   {
    "duration": 533,
    "start_time": "2024-12-21T16:33:33.250Z"
   },
   {
    "duration": 2,
    "start_time": "2024-12-21T16:33:33.785Z"
   },
   {
    "duration": 229,
    "start_time": "2024-12-21T16:33:33.789Z"
   },
   {
    "duration": 28820,
    "start_time": "2024-12-21T16:33:34.019Z"
   },
   {
    "duration": 3,
    "start_time": "2024-12-21T16:34:02.931Z"
   },
   {
    "duration": 12,
    "start_time": "2024-12-21T16:34:02.936Z"
   },
   {
    "duration": 102396,
    "start_time": "2024-12-21T16:34:02.949Z"
   },
   {
    "duration": 2,
    "start_time": "2024-12-21T16:35:45.347Z"
   },
   {
    "duration": 1946528,
    "start_time": "2024-12-21T16:35:45.350Z"
   },
   {
    "duration": 2,
    "start_time": "2024-12-21T17:08:11.880Z"
   },
   {
    "duration": 103,
    "start_time": "2024-12-21T17:08:11.884Z"
   },
   {
    "duration": 307,
    "start_time": "2024-12-21T17:08:11.988Z"
   },
   {
    "duration": 0,
    "start_time": "2024-12-21T17:08:12.297Z"
   },
   {
    "duration": 0,
    "start_time": "2024-12-21T17:08:12.298Z"
   },
   {
    "duration": 0,
    "start_time": "2024-12-21T17:08:12.299Z"
   },
   {
    "duration": 0,
    "start_time": "2024-12-21T17:08:12.300Z"
   },
   {
    "duration": 0,
    "start_time": "2024-12-21T17:08:12.302Z"
   },
   {
    "duration": 2619,
    "start_time": "2024-12-22T10:52:27.644Z"
   },
   {
    "duration": 2312,
    "start_time": "2024-12-22T10:52:34.752Z"
   },
   {
    "duration": 2363,
    "start_time": "2024-12-22T10:52:41.048Z"
   },
   {
    "duration": 1635,
    "start_time": "2024-12-22T10:52:44.500Z"
   },
   {
    "duration": 2975,
    "start_time": "2024-12-22T10:52:46.137Z"
   },
   {
    "duration": 24,
    "start_time": "2024-12-22T10:52:49.114Z"
   },
   {
    "duration": 113,
    "start_time": "2024-12-22T10:55:55.279Z"
   },
   {
    "duration": 115,
    "start_time": "2024-12-22T10:56:03.030Z"
   },
   {
    "duration": 24,
    "start_time": "2024-12-22T10:56:21.012Z"
   },
   {
    "duration": 186,
    "start_time": "2024-12-22T10:56:22.404Z"
   },
   {
    "duration": 170,
    "start_time": "2024-12-22T10:56:34.964Z"
   },
   {
    "duration": 182,
    "start_time": "2024-12-22T10:56:35.853Z"
   },
   {
    "duration": 916,
    "start_time": "2024-12-22T10:56:47.040Z"
   },
   {
    "duration": 12,
    "start_time": "2024-12-22T10:56:47.958Z"
   },
   {
    "duration": 167,
    "start_time": "2024-12-22T10:56:47.972Z"
   },
   {
    "duration": 154,
    "start_time": "2024-12-22T10:56:48.760Z"
   },
   {
    "duration": 167,
    "start_time": "2024-12-22T10:56:48.944Z"
   },
   {
    "duration": 1477,
    "start_time": "2024-12-22T10:57:10.637Z"
   },
   {
    "duration": 1465,
    "start_time": "2024-12-22T10:57:24.301Z"
   },
   {
    "duration": 353,
    "start_time": "2024-12-22T10:57:41.788Z"
   },
   {
    "duration": 273,
    "start_time": "2024-12-22T10:58:40.912Z"
   },
   {
    "duration": 289,
    "start_time": "2024-12-22T11:00:32.961Z"
   },
   {
    "duration": 11,
    "start_time": "2024-12-22T11:03:39.401Z"
   },
   {
    "duration": 10,
    "start_time": "2024-12-22T11:03:45.673Z"
   },
   {
    "duration": 6,
    "start_time": "2024-12-22T11:04:27.281Z"
   },
   {
    "duration": 6,
    "start_time": "2024-12-22T11:04:33.806Z"
   },
   {
    "duration": 395,
    "start_time": "2024-12-22T11:04:44.997Z"
   },
   {
    "duration": 6,
    "start_time": "2024-12-22T11:05:04.213Z"
   },
   {
    "duration": 849,
    "start_time": "2024-12-22T11:05:05.646Z"
   },
   {
    "duration": 12,
    "start_time": "2024-12-22T11:05:06.497Z"
   },
   {
    "duration": 161,
    "start_time": "2024-12-22T11:05:06.522Z"
   },
   {
    "duration": 138,
    "start_time": "2024-12-22T11:05:07.069Z"
   },
   {
    "duration": 290,
    "start_time": "2024-12-22T11:05:07.237Z"
   },
   {
    "duration": 303,
    "start_time": "2024-12-22T11:05:14.913Z"
   },
   {
    "duration": 312,
    "start_time": "2024-12-22T11:05:15.790Z"
   },
   {
    "duration": 283,
    "start_time": "2024-12-22T11:05:44.273Z"
   },
   {
    "duration": 154,
    "start_time": "2024-12-22T11:06:23.522Z"
   },
   {
    "duration": 278,
    "start_time": "2024-12-22T11:06:28.038Z"
   },
   {
    "duration": 159,
    "start_time": "2024-12-22T11:06:41.357Z"
   },
   {
    "duration": 141,
    "start_time": "2024-12-22T11:07:06.045Z"
   },
   {
    "duration": 179,
    "start_time": "2024-12-22T11:21:30.602Z"
   },
   {
    "duration": 142,
    "start_time": "2024-12-22T11:21:50.054Z"
   },
   {
    "duration": 145,
    "start_time": "2024-12-22T11:22:14.571Z"
   },
   {
    "duration": 133,
    "start_time": "2024-12-22T11:22:26.629Z"
   },
   {
    "duration": 263,
    "start_time": "2024-12-22T11:22:35.282Z"
   },
   {
    "duration": 273,
    "start_time": "2024-12-22T11:22:58.246Z"
   },
   {
    "duration": 349,
    "start_time": "2024-12-22T11:23:29.303Z"
   },
   {
    "duration": 181,
    "start_time": "2024-12-22T11:28:57.475Z"
   },
   {
    "duration": 37,
    "start_time": "2024-12-22T11:30:46.603Z"
   },
   {
    "duration": 70,
    "start_time": "2024-12-22T11:30:48.143Z"
   },
   {
    "duration": 29,
    "start_time": "2024-12-22T11:30:48.979Z"
   },
   {
    "duration": 281,
    "start_time": "2024-12-22T11:31:23.815Z"
   },
   {
    "duration": 1498,
    "start_time": "2024-12-22T11:32:19.899Z"
   },
   {
    "duration": 6,
    "start_time": "2024-12-22T11:32:24.098Z"
   },
   {
    "duration": 2311,
    "start_time": "2024-12-22T12:04:26.880Z"
   },
   {
    "duration": 1484,
    "start_time": "2024-12-22T12:04:31.120Z"
   },
   {
    "duration": 2906,
    "start_time": "2024-12-22T12:04:32.606Z"
   },
   {
    "duration": 13,
    "start_time": "2024-12-22T12:04:39.688Z"
   },
   {
    "duration": 139,
    "start_time": "2024-12-22T12:04:41.672Z"
   },
   {
    "duration": 199,
    "start_time": "2024-12-22T12:04:43.192Z"
   },
   {
    "duration": 380,
    "start_time": "2024-12-22T12:04:43.476Z"
   },
   {
    "duration": 357,
    "start_time": "2024-12-22T12:04:44.660Z"
   },
   {
    "duration": 38,
    "start_time": "2024-12-22T12:04:45.019Z"
   },
   {
    "duration": 251,
    "start_time": "2024-12-22T12:04:45.452Z"
   },
   {
    "duration": 34,
    "start_time": "2024-12-22T12:04:45.752Z"
   },
   {
    "duration": 72,
    "start_time": "2024-12-22T12:04:46.540Z"
   },
   {
    "duration": 31,
    "start_time": "2024-12-22T12:04:46.836Z"
   },
   {
    "duration": 29,
    "start_time": "2024-12-22T12:04:47.141Z"
   },
   {
    "duration": 133,
    "start_time": "2024-12-22T12:04:47.735Z"
   },
   {
    "duration": 165,
    "start_time": "2024-12-22T12:04:48.008Z"
   },
   {
    "duration": 3,
    "start_time": "2024-12-22T12:04:48.852Z"
   },
   {
    "duration": 3364,
    "start_time": "2024-12-22T12:04:49.392Z"
   },
   {
    "duration": 7,
    "start_time": "2024-12-22T12:04:52.757Z"
   },
   {
    "duration": 20,
    "start_time": "2024-12-22T12:04:54.580Z"
   },
   {
    "duration": 254,
    "start_time": "2024-12-22T12:04:54.988Z"
   },
   {
    "duration": 25,
    "start_time": "2024-12-22T12:04:56.384Z"
   },
   {
    "duration": 13,
    "start_time": "2024-12-22T12:04:57.504Z"
   },
   {
    "duration": 4,
    "start_time": "2024-12-22T12:04:58.308Z"
   },
   {
    "duration": 4224,
    "start_time": "2024-12-22T12:04:58.640Z"
   },
   {
    "duration": 359,
    "start_time": "2024-12-22T12:05:02.866Z"
   },
   {
    "duration": 11,
    "start_time": "2024-12-22T12:05:03.226Z"
   },
   {
    "duration": 1519,
    "start_time": "2024-12-22T12:06:29.052Z"
   },
   {
    "duration": 1260,
    "start_time": "2024-12-22T12:07:41.134Z"
   },
   {
    "duration": 6,
    "start_time": "2024-12-22T12:07:56.792Z"
   },
   {
    "duration": 843,
    "start_time": "2024-12-22T12:07:57.060Z"
   },
   {
    "duration": 29,
    "start_time": "2024-12-22T12:07:57.905Z"
   },
   {
    "duration": 145,
    "start_time": "2024-12-22T12:07:59.604Z"
   },
   {
    "duration": 230,
    "start_time": "2024-12-22T12:08:01.352Z"
   },
   {
    "duration": 314,
    "start_time": "2024-12-22T12:08:05.449Z"
   },
   {
    "duration": 423,
    "start_time": "2024-12-22T12:08:05.765Z"
   },
   {
    "duration": 48,
    "start_time": "2024-12-22T12:08:06.190Z"
   },
   {
    "duration": 270,
    "start_time": "2024-12-22T12:08:06.336Z"
   },
   {
    "duration": 35,
    "start_time": "2024-12-22T12:08:06.607Z"
   },
   {
    "duration": 72,
    "start_time": "2024-12-22T12:08:07.044Z"
   },
   {
    "duration": 31,
    "start_time": "2024-12-22T12:08:07.448Z"
   },
   {
    "duration": 20,
    "start_time": "2024-12-22T12:08:07.760Z"
   },
   {
    "duration": 157,
    "start_time": "2024-12-22T12:08:08.056Z"
   },
   {
    "duration": 173,
    "start_time": "2024-12-22T12:08:08.834Z"
   },
   {
    "duration": 1650,
    "start_time": "2024-12-22T12:08:09.253Z"
   },
   {
    "duration": 1651,
    "start_time": "2024-12-22T12:08:21.812Z"
   },
   {
    "duration": 1260,
    "start_time": "2024-12-22T12:09:22.035Z"
   },
   {
    "duration": 138,
    "start_time": "2024-12-22T12:09:33.096Z"
   },
   {
    "duration": 1253,
    "start_time": "2024-12-22T12:09:37.549Z"
   },
   {
    "duration": 1443,
    "start_time": "2024-12-22T12:10:16.364Z"
   },
   {
    "duration": 1246,
    "start_time": "2024-12-22T12:11:18.244Z"
   },
   {
    "duration": 1367,
    "start_time": "2024-12-22T12:11:22.901Z"
   },
   {
    "duration": 12,
    "start_time": "2024-12-22T12:11:39.260Z"
   },
   {
    "duration": 1311,
    "start_time": "2024-12-22T12:11:59.476Z"
   },
   {
    "duration": 596,
    "start_time": "2024-12-22T12:12:07.033Z"
   },
   {
    "duration": 0,
    "start_time": "2024-12-22T12:12:07.630Z"
   },
   {
    "duration": 1303,
    "start_time": "2024-12-22T12:12:08.856Z"
   },
   {
    "duration": 0,
    "start_time": "2024-12-22T12:12:10.161Z"
   },
   {
    "duration": 0,
    "start_time": "2024-12-22T12:12:10.162Z"
   },
   {
    "duration": 12,
    "start_time": "2024-12-22T12:12:10.772Z"
   },
   {
    "duration": 797,
    "start_time": "2024-12-22T12:12:20.916Z"
   },
   {
    "duration": 18,
    "start_time": "2024-12-22T12:12:21.723Z"
   },
   {
    "duration": 142,
    "start_time": "2024-12-22T12:12:21.742Z"
   },
   {
    "duration": 240,
    "start_time": "2024-12-22T12:12:22.360Z"
   },
   {
    "duration": 281,
    "start_time": "2024-12-22T12:12:24.460Z"
   },
   {
    "duration": 294,
    "start_time": "2024-12-22T12:12:26.969Z"
   },
   {
    "duration": 28,
    "start_time": "2024-12-22T12:12:27.736Z"
   },
   {
    "duration": 373,
    "start_time": "2024-12-22T12:12:29.034Z"
   },
   {
    "duration": 34,
    "start_time": "2024-12-22T12:12:29.408Z"
   },
   {
    "duration": 72,
    "start_time": "2024-12-22T12:12:30.536Z"
   },
   {
    "duration": 41,
    "start_time": "2024-12-22T12:12:30.893Z"
   },
   {
    "duration": 18,
    "start_time": "2024-12-22T12:12:31.800Z"
   },
   {
    "duration": 130,
    "start_time": "2024-12-22T12:12:32.634Z"
   },
   {
    "duration": 168,
    "start_time": "2024-12-22T12:12:33.268Z"
   },
   {
    "duration": 1224,
    "start_time": "2024-12-22T12:12:48.365Z"
   },
   {
    "duration": 1322,
    "start_time": "2024-12-22T12:13:33.916Z"
   },
   {
    "duration": 0,
    "start_time": "2024-12-22T12:13:35.240Z"
   },
   {
    "duration": 1345,
    "start_time": "2024-12-22T12:13:39.272Z"
   },
   {
    "duration": 6,
    "start_time": "2024-12-22T12:13:51.188Z"
   },
   {
    "duration": 831,
    "start_time": "2024-12-22T12:13:51.484Z"
   },
   {
    "duration": 13,
    "start_time": "2024-12-22T12:13:52.948Z"
   },
   {
    "duration": 152,
    "start_time": "2024-12-22T12:13:54.909Z"
   },
   {
    "duration": 233,
    "start_time": "2024-12-22T12:14:02.548Z"
   },
   {
    "duration": 313,
    "start_time": "2024-12-22T12:14:10.068Z"
   },
   {
    "duration": 283,
    "start_time": "2024-12-22T12:14:25.480Z"
   },
   {
    "duration": 302,
    "start_time": "2024-12-22T12:14:29.034Z"
   },
   {
    "duration": 405,
    "start_time": "2024-12-22T12:14:40.508Z"
   },
   {
    "duration": 303,
    "start_time": "2024-12-22T12:14:45.534Z"
   },
   {
    "duration": 3,
    "start_time": "2024-12-22T12:16:24.884Z"
   },
   {
    "duration": 7382,
    "start_time": "2024-12-22T12:16:25.634Z"
   },
   {
    "duration": 12,
    "start_time": "2024-12-22T12:16:33.023Z"
   },
   {
    "duration": 21,
    "start_time": "2024-12-22T12:16:33.037Z"
   },
   {
    "duration": 280,
    "start_time": "2024-12-22T12:16:33.060Z"
   },
   {
    "duration": 32,
    "start_time": "2024-12-22T12:16:33.341Z"
   },
   {
    "duration": 14,
    "start_time": "2024-12-22T12:16:33.374Z"
   },
   {
    "duration": 6,
    "start_time": "2024-12-22T12:18:26.004Z"
   },
   {
    "duration": 2,
    "start_time": "2024-12-22T12:52:03.027Z"
   },
   {
    "duration": 3,
    "start_time": "2024-12-22T12:52:07.999Z"
   },
   {
    "duration": 94,
    "start_time": "2024-12-22T15:15:05.688Z"
   },
   {
    "duration": 115,
    "start_time": "2024-12-22T15:15:43.443Z"
   },
   {
    "duration": 274,
    "start_time": "2024-12-22T15:16:10.583Z"
   },
   {
    "duration": 94,
    "start_time": "2024-12-22T15:16:23.148Z"
   },
   {
    "duration": 2344,
    "start_time": "2024-12-22T15:17:16.308Z"
   },
   {
    "duration": 8,
    "start_time": "2024-12-22T15:17:18.655Z"
   },
   {
    "duration": 743,
    "start_time": "2024-12-22T15:17:18.664Z"
   },
   {
    "duration": 21,
    "start_time": "2024-12-22T15:17:19.410Z"
   },
   {
    "duration": 160,
    "start_time": "2024-12-22T15:17:19.432Z"
   },
   {
    "duration": 214,
    "start_time": "2024-12-22T15:17:19.593Z"
   },
   {
    "duration": 282,
    "start_time": "2024-12-22T15:17:19.808Z"
   },
   {
    "duration": 282,
    "start_time": "2024-12-22T15:17:20.093Z"
   },
   {
    "duration": 22,
    "start_time": "2024-12-22T15:17:20.377Z"
   },
   {
    "duration": 275,
    "start_time": "2024-12-22T15:17:20.401Z"
   },
   {
    "duration": 24,
    "start_time": "2024-12-22T15:17:20.677Z"
   },
   {
    "duration": 82,
    "start_time": "2024-12-22T15:17:20.702Z"
   },
   {
    "duration": 39,
    "start_time": "2024-12-22T15:17:20.785Z"
   },
   {
    "duration": 30,
    "start_time": "2024-12-22T15:17:20.826Z"
   },
   {
    "duration": 163,
    "start_time": "2024-12-22T15:17:20.857Z"
   },
   {
    "duration": 173,
    "start_time": "2024-12-22T15:17:21.022Z"
   },
   {
    "duration": 1388,
    "start_time": "2024-12-22T15:17:21.198Z"
   },
   {
    "duration": 0,
    "start_time": "2024-12-22T15:17:22.587Z"
   },
   {
    "duration": 0,
    "start_time": "2024-12-22T15:17:22.589Z"
   },
   {
    "duration": 0,
    "start_time": "2024-12-22T15:17:22.590Z"
   },
   {
    "duration": 0,
    "start_time": "2024-12-22T15:17:22.592Z"
   },
   {
    "duration": 0,
    "start_time": "2024-12-22T15:17:22.593Z"
   },
   {
    "duration": 0,
    "start_time": "2024-12-22T15:17:22.595Z"
   },
   {
    "duration": 0,
    "start_time": "2024-12-22T15:17:22.596Z"
   },
   {
    "duration": 0,
    "start_time": "2024-12-22T15:17:22.598Z"
   },
   {
    "duration": 0,
    "start_time": "2024-12-22T15:17:22.599Z"
   },
   {
    "duration": 0,
    "start_time": "2024-12-22T15:17:22.600Z"
   },
   {
    "duration": 0,
    "start_time": "2024-12-22T15:17:22.601Z"
   },
   {
    "duration": 9,
    "start_time": "2024-12-22T15:17:28.712Z"
   },
   {
    "duration": 3,
    "start_time": "2024-12-22T15:17:30.312Z"
   },
   {
    "duration": 10,
    "start_time": "2024-12-22T15:17:31.812Z"
   },
   {
    "duration": 65,
    "start_time": "2024-12-22T15:17:56.687Z"
   },
   {
    "duration": 3,
    "start_time": "2024-12-22T15:17:58.661Z"
   },
   {
    "duration": 150,
    "start_time": "2024-12-22T15:17:59.328Z"
   },
   {
    "duration": 2,
    "start_time": "2024-12-22T15:18:37.696Z"
   },
   {
    "duration": 529,
    "start_time": "2024-12-22T15:18:37.964Z"
   },
   {
    "duration": 127,
    "start_time": "2024-12-22T15:20:08.720Z"
   },
   {
    "duration": 274,
    "start_time": "2024-12-22T15:20:24.988Z"
   },
   {
    "duration": 404,
    "start_time": "2024-12-22T15:20:33.728Z"
   },
   {
    "duration": 125,
    "start_time": "2024-12-22T15:20:46.054Z"
   },
   {
    "duration": 381,
    "start_time": "2024-12-22T15:21:01.144Z"
   },
   {
    "duration": 371,
    "start_time": "2024-12-22T15:21:10.068Z"
   },
   {
    "duration": 70,
    "start_time": "2024-12-22T15:26:03.328Z"
   },
   {
    "duration": 65,
    "start_time": "2024-12-22T15:26:08.412Z"
   },
   {
    "duration": 14,
    "start_time": "2024-12-22T15:26:26.568Z"
   },
   {
    "duration": 9,
    "start_time": "2024-12-22T15:26:35.380Z"
   },
   {
    "duration": 9,
    "start_time": "2024-12-22T15:26:37.592Z"
   },
   {
    "duration": 11,
    "start_time": "2024-12-22T15:31:06.336Z"
   },
   {
    "duration": 8,
    "start_time": "2024-12-22T15:31:33.464Z"
   },
   {
    "duration": 13,
    "start_time": "2024-12-22T15:31:38.208Z"
   },
   {
    "duration": 9,
    "start_time": "2024-12-22T15:31:58.872Z"
   },
   {
    "duration": 13,
    "start_time": "2024-12-22T15:32:03.425Z"
   },
   {
    "duration": 11,
    "start_time": "2024-12-22T15:32:37.984Z"
   },
   {
    "duration": 8,
    "start_time": "2024-12-22T15:33:05.704Z"
   },
   {
    "duration": 12,
    "start_time": "2024-12-22T15:33:14.844Z"
   },
   {
    "duration": 4,
    "start_time": "2024-12-22T15:33:22.740Z"
   },
   {
    "duration": 11,
    "start_time": "2024-12-22T15:34:17.359Z"
   },
   {
    "duration": 59,
    "start_time": "2024-12-22T15:34:26.928Z"
   },
   {
    "duration": 18,
    "start_time": "2024-12-22T15:38:53.359Z"
   },
   {
    "duration": 12,
    "start_time": "2024-12-22T15:39:15.617Z"
   },
   {
    "duration": 95,
    "start_time": "2024-12-22T15:39:59.371Z"
   },
   {
    "duration": 6081,
    "start_time": "2024-12-22T15:42:36.458Z"
   },
   {
    "duration": 127,
    "start_time": "2024-12-22T15:42:51.363Z"
   },
   {
    "duration": 2266,
    "start_time": "2024-12-22T15:57:13.845Z"
   },
   {
    "duration": 35916,
    "start_time": "2024-12-22T15:57:16.114Z"
   },
   {
    "duration": 13,
    "start_time": "2024-12-22T15:57:58.394Z"
   },
   {
    "duration": 804,
    "start_time": "2024-12-22T15:57:58.469Z"
   },
   {
    "duration": 13,
    "start_time": "2024-12-22T15:57:59.274Z"
   },
   {
    "duration": 147,
    "start_time": "2024-12-22T15:57:59.288Z"
   },
   {
    "duration": 210,
    "start_time": "2024-12-22T15:57:59.438Z"
   },
   {
    "duration": 274,
    "start_time": "2024-12-22T15:57:59.649Z"
   },
   {
    "duration": 282,
    "start_time": "2024-12-22T15:57:59.925Z"
   },
   {
    "duration": 34,
    "start_time": "2024-12-22T15:58:00.209Z"
   },
   {
    "duration": 261,
    "start_time": "2024-12-22T15:58:00.244Z"
   },
   {
    "duration": 33,
    "start_time": "2024-12-22T15:58:00.507Z"
   },
   {
    "duration": 79,
    "start_time": "2024-12-22T15:58:00.542Z"
   },
   {
    "duration": 29,
    "start_time": "2024-12-22T15:58:00.623Z"
   },
   {
    "duration": 18,
    "start_time": "2024-12-22T15:58:00.745Z"
   },
   {
    "duration": 126,
    "start_time": "2024-12-22T15:58:01.045Z"
   },
   {
    "duration": 153,
    "start_time": "2024-12-22T15:58:01.445Z"
   },
   {
    "duration": 1305,
    "start_time": "2024-12-22T15:58:01.989Z"
   },
   {
    "duration": 0,
    "start_time": "2024-12-22T15:58:03.296Z"
   },
   {
    "duration": 0,
    "start_time": "2024-12-22T15:58:03.297Z"
   },
   {
    "duration": 0,
    "start_time": "2024-12-22T15:58:03.298Z"
   },
   {
    "duration": 0,
    "start_time": "2024-12-22T15:58:03.299Z"
   },
   {
    "duration": 20,
    "start_time": "2024-12-22T15:58:10.817Z"
   },
   {
    "duration": 68,
    "start_time": "2024-12-22T15:58:11.909Z"
   },
   {
    "duration": 30,
    "start_time": "2024-12-22T15:58:12.738Z"
   },
   {
    "duration": 19,
    "start_time": "2024-12-22T15:58:13.533Z"
   },
   {
    "duration": 131,
    "start_time": "2024-12-22T15:58:14.005Z"
   },
   {
    "duration": 157,
    "start_time": "2024-12-22T15:58:15.266Z"
   },
   {
    "duration": 1333,
    "start_time": "2024-12-22T15:58:16.445Z"
   },
   {
    "duration": 3,
    "start_time": "2024-12-22T15:58:24.501Z"
   },
   {
    "duration": 3184,
    "start_time": "2024-12-22T15:58:24.958Z"
   },
   {
    "duration": 8,
    "start_time": "2024-12-22T15:58:28.144Z"
   },
   {
    "duration": 23,
    "start_time": "2024-12-22T15:58:28.154Z"
   },
   {
    "duration": 267,
    "start_time": "2024-12-22T15:58:28.179Z"
   },
   {
    "duration": 25,
    "start_time": "2024-12-22T15:58:28.448Z"
   },
   {
    "duration": 21,
    "start_time": "2024-12-22T15:58:28.475Z"
   },
   {
    "duration": 29,
    "start_time": "2024-12-22T15:58:28.498Z"
   },
   {
    "duration": 3218,
    "start_time": "2024-12-22T15:58:28.528Z"
   },
   {
    "duration": 153,
    "start_time": "2024-12-22T15:58:31.748Z"
   },
   {
    "duration": 5,
    "start_time": "2024-12-22T15:58:31.903Z"
   },
   {
    "duration": 427,
    "start_time": "2024-12-22T15:58:31.909Z"
   },
   {
    "duration": 5,
    "start_time": "2024-12-22T15:58:33.849Z"
   },
   {
    "duration": 10,
    "start_time": "2024-12-22T15:58:35.637Z"
   },
   {
    "duration": 58,
    "start_time": "2024-12-22T15:58:38.833Z"
   },
   {
    "duration": 98,
    "start_time": "2024-12-22T15:58:40.541Z"
   },
   {
    "duration": 20099,
    "start_time": "2024-12-22T16:01:14.737Z"
   },
   {
    "duration": 2874,
    "start_time": "2024-12-22T16:01:34.839Z"
   },
   {
    "duration": 3211,
    "start_time": "2024-12-22T16:01:43.477Z"
   },
   {
    "duration": 10,
    "start_time": "2024-12-22T16:01:46.691Z"
   },
   {
    "duration": 802,
    "start_time": "2024-12-22T16:01:46.703Z"
   },
   {
    "duration": 16,
    "start_time": "2024-12-22T16:01:47.507Z"
   },
   {
    "duration": 144,
    "start_time": "2024-12-22T16:01:47.524Z"
   },
   {
    "duration": 207,
    "start_time": "2024-12-22T16:01:47.669Z"
   },
   {
    "duration": 301,
    "start_time": "2024-12-22T16:01:47.878Z"
   },
   {
    "duration": 307,
    "start_time": "2024-12-22T16:01:48.181Z"
   },
   {
    "duration": 32,
    "start_time": "2024-12-22T16:01:48.490Z"
   },
   {
    "duration": 246,
    "start_time": "2024-12-22T16:01:48.524Z"
   },
   {
    "duration": 24,
    "start_time": "2024-12-22T16:01:48.772Z"
   },
   {
    "duration": 81,
    "start_time": "2024-12-22T16:01:48.797Z"
   },
   {
    "duration": 30,
    "start_time": "2024-12-22T16:01:48.880Z"
   },
   {
    "duration": 37,
    "start_time": "2024-12-22T16:01:48.911Z"
   },
   {
    "duration": 128,
    "start_time": "2024-12-22T16:01:48.950Z"
   },
   {
    "duration": 164,
    "start_time": "2024-12-22T16:01:49.079Z"
   },
   {
    "duration": 1489,
    "start_time": "2024-12-22T16:01:49.245Z"
   },
   {
    "duration": 0,
    "start_time": "2024-12-22T16:01:50.735Z"
   },
   {
    "duration": 0,
    "start_time": "2024-12-22T16:01:50.737Z"
   },
   {
    "duration": 0,
    "start_time": "2024-12-22T16:01:50.738Z"
   },
   {
    "duration": 0,
    "start_time": "2024-12-22T16:01:50.739Z"
   },
   {
    "duration": 231,
    "start_time": "2024-12-22T16:01:50.780Z"
   },
   {
    "duration": 25,
    "start_time": "2024-12-22T16:01:51.141Z"
   },
   {
    "duration": 12,
    "start_time": "2024-12-22T16:01:51.672Z"
   },
   {
    "duration": 3,
    "start_time": "2024-12-22T16:01:52.076Z"
   },
   {
    "duration": 3229,
    "start_time": "2024-12-22T16:01:52.213Z"
   },
   {
    "duration": 149,
    "start_time": "2024-12-22T16:01:55.444Z"
   },
   {
    "duration": 4,
    "start_time": "2024-12-22T16:01:55.594Z"
   },
   {
    "duration": 374,
    "start_time": "2024-12-22T16:01:55.600Z"
   },
   {
    "duration": 4,
    "start_time": "2024-12-22T16:02:04.218Z"
   },
   {
    "duration": 13,
    "start_time": "2024-12-22T16:02:04.820Z"
   },
   {
    "duration": 66,
    "start_time": "2024-12-22T16:02:06.742Z"
   },
   {
    "duration": 111,
    "start_time": "2024-12-22T16:02:09.001Z"
   },
   {
    "duration": 199,
    "start_time": "2024-12-22T16:09:59.793Z"
   },
   {
    "duration": 3001,
    "start_time": "2024-12-22T17:46:57.630Z"
   },
   {
    "duration": 3476,
    "start_time": "2024-12-22T17:47:00.633Z"
   },
   {
    "duration": 6875,
    "start_time": "2024-12-22T17:47:04.111Z"
   },
   {
    "duration": 1365,
    "start_time": "2024-12-22T17:47:10.988Z"
   },
   {
    "duration": 1018,
    "start_time": "2024-12-22T17:47:12.355Z"
   },
   {
    "duration": 12,
    "start_time": "2024-12-22T17:47:13.374Z"
   },
   {
    "duration": 118,
    "start_time": "2024-12-22T17:47:13.388Z"
   },
   {
    "duration": 290,
    "start_time": "2024-12-22T17:47:13.508Z"
   },
   {
    "duration": 383,
    "start_time": "2024-12-22T17:47:13.800Z"
   },
   {
    "duration": 334,
    "start_time": "2024-12-22T17:47:14.184Z"
   },
   {
    "duration": 47,
    "start_time": "2024-12-22T17:47:14.519Z"
   },
   {
    "duration": 243,
    "start_time": "2024-12-22T17:47:14.568Z"
   },
   {
    "duration": 26,
    "start_time": "2024-12-22T17:47:14.813Z"
   },
   {
    "duration": 66,
    "start_time": "2024-12-22T17:47:14.852Z"
   },
   {
    "duration": 37,
    "start_time": "2024-12-22T17:47:14.920Z"
   },
   {
    "duration": 18,
    "start_time": "2024-12-22T17:47:14.959Z"
   },
   {
    "duration": 151,
    "start_time": "2024-12-22T17:47:14.979Z"
   },
   {
    "duration": 173,
    "start_time": "2024-12-22T17:47:15.132Z"
   },
   {
    "duration": 1444,
    "start_time": "2024-12-22T17:47:15.306Z"
   },
   {
    "duration": 0,
    "start_time": "2024-12-22T17:47:16.752Z"
   },
   {
    "duration": 0,
    "start_time": "2024-12-22T17:47:16.754Z"
   },
   {
    "duration": 0,
    "start_time": "2024-12-22T17:47:16.755Z"
   },
   {
    "duration": 0,
    "start_time": "2024-12-22T17:47:16.757Z"
   },
   {
    "duration": 0,
    "start_time": "2024-12-22T17:47:16.758Z"
   },
   {
    "duration": 1,
    "start_time": "2024-12-22T17:47:16.759Z"
   },
   {
    "duration": 0,
    "start_time": "2024-12-22T17:47:16.761Z"
   },
   {
    "duration": 0,
    "start_time": "2024-12-22T17:47:16.762Z"
   },
   {
    "duration": 1,
    "start_time": "2024-12-22T17:47:16.763Z"
   },
   {
    "duration": 0,
    "start_time": "2024-12-22T17:47:16.765Z"
   },
   {
    "duration": 0,
    "start_time": "2024-12-22T17:47:16.766Z"
   },
   {
    "duration": 0,
    "start_time": "2024-12-22T17:47:16.767Z"
   },
   {
    "duration": 0,
    "start_time": "2024-12-22T17:47:16.769Z"
   },
   {
    "duration": 0,
    "start_time": "2024-12-22T17:47:16.770Z"
   },
   {
    "duration": 0,
    "start_time": "2024-12-22T17:47:16.771Z"
   },
   {
    "duration": 0,
    "start_time": "2024-12-22T17:47:16.773Z"
   },
   {
    "duration": 0,
    "start_time": "2024-12-22T17:47:16.774Z"
   },
   {
    "duration": 0,
    "start_time": "2024-12-22T17:47:16.775Z"
   },
   {
    "duration": 0,
    "start_time": "2024-12-22T17:47:16.777Z"
   },
   {
    "duration": 0,
    "start_time": "2024-12-22T17:47:16.778Z"
   },
   {
    "duration": 0,
    "start_time": "2024-12-22T17:47:16.779Z"
   },
   {
    "duration": 0,
    "start_time": "2024-12-22T17:47:16.780Z"
   },
   {
    "duration": 0,
    "start_time": "2024-12-22T17:47:16.782Z"
   },
   {
    "duration": 0,
    "start_time": "2024-12-22T17:47:16.783Z"
   },
   {
    "duration": 2324,
    "start_time": "2024-12-23T10:31:46.477Z"
   },
   {
    "duration": 2277,
    "start_time": "2024-12-23T10:31:48.804Z"
   },
   {
    "duration": 2850,
    "start_time": "2024-12-23T10:31:51.083Z"
   },
   {
    "duration": 14,
    "start_time": "2024-12-23T10:31:53.935Z"
   },
   {
    "duration": 813,
    "start_time": "2024-12-23T10:31:53.950Z"
   },
   {
    "duration": 12,
    "start_time": "2024-12-23T10:31:54.765Z"
   },
   {
    "duration": 150,
    "start_time": "2024-12-23T10:31:54.778Z"
   },
   {
    "duration": 210,
    "start_time": "2024-12-23T10:31:54.930Z"
   },
   {
    "duration": 282,
    "start_time": "2024-12-23T10:31:55.141Z"
   },
   {
    "duration": 271,
    "start_time": "2024-12-23T10:31:55.426Z"
   },
   {
    "duration": 36,
    "start_time": "2024-12-23T10:31:55.699Z"
   },
   {
    "duration": 250,
    "start_time": "2024-12-23T10:31:55.737Z"
   },
   {
    "duration": 34,
    "start_time": "2024-12-23T10:31:55.989Z"
   },
   {
    "duration": 68,
    "start_time": "2024-12-23T10:31:56.025Z"
   },
   {
    "duration": 43,
    "start_time": "2024-12-23T10:31:56.094Z"
   },
   {
    "duration": 104,
    "start_time": "2024-12-23T10:31:56.139Z"
   },
   {
    "duration": 133,
    "start_time": "2024-12-23T10:31:56.245Z"
   },
   {
    "duration": 156,
    "start_time": "2024-12-23T10:31:56.380Z"
   },
   {
    "duration": 507,
    "start_time": "2024-12-23T10:31:56.538Z"
   },
   {
    "duration": 93,
    "start_time": "2024-12-23T10:32:32.677Z"
   },
   {
    "duration": 17,
    "start_time": "2024-12-23T10:33:10.925Z"
   },
   {
    "duration": 2399,
    "start_time": "2024-12-23T10:33:21.688Z"
   },
   {
    "duration": 2410,
    "start_time": "2024-12-23T10:33:24.090Z"
   },
   {
    "duration": 3054,
    "start_time": "2024-12-23T10:33:26.502Z"
   },
   {
    "duration": 9,
    "start_time": "2024-12-23T10:33:29.559Z"
   },
   {
    "duration": 799,
    "start_time": "2024-12-23T10:33:29.569Z"
   },
   {
    "duration": 15,
    "start_time": "2024-12-23T10:33:30.370Z"
   },
   {
    "duration": 226,
    "start_time": "2024-12-23T10:33:30.387Z"
   },
   {
    "duration": 234,
    "start_time": "2024-12-23T10:33:30.614Z"
   },
   {
    "duration": 284,
    "start_time": "2024-12-23T10:33:30.850Z"
   },
   {
    "duration": 287,
    "start_time": "2024-12-23T10:33:31.136Z"
   },
   {
    "duration": 26,
    "start_time": "2024-12-23T10:33:31.424Z"
   },
   {
    "duration": 275,
    "start_time": "2024-12-23T10:33:31.451Z"
   },
   {
    "duration": 25,
    "start_time": "2024-12-23T10:33:31.727Z"
   },
   {
    "duration": 99,
    "start_time": "2024-12-23T10:33:31.754Z"
   },
   {
    "duration": 33,
    "start_time": "2024-12-23T10:33:31.855Z"
   },
   {
    "duration": 46,
    "start_time": "2024-12-23T10:33:31.889Z"
   },
   {
    "duration": 145,
    "start_time": "2024-12-23T10:33:31.936Z"
   },
   {
    "duration": 160,
    "start_time": "2024-12-23T10:33:32.082Z"
   },
   {
    "duration": 318,
    "start_time": "2024-12-23T10:33:32.244Z"
   },
   {
    "duration": 3,
    "start_time": "2024-12-23T10:33:32.563Z"
   },
   {
    "duration": 4409,
    "start_time": "2024-12-23T10:33:32.568Z"
   },
   {
    "duration": 6,
    "start_time": "2024-12-23T10:33:36.978Z"
   },
   {
    "duration": 102,
    "start_time": "2024-12-23T10:33:36.986Z"
   },
   {
    "duration": 267,
    "start_time": "2024-12-23T10:33:37.091Z"
   },
   {
    "duration": 25,
    "start_time": "2024-12-23T10:33:37.360Z"
   },
   {
    "duration": 11,
    "start_time": "2024-12-23T10:33:37.386Z"
   },
   {
    "duration": 3,
    "start_time": "2024-12-23T10:33:37.399Z"
   },
   {
    "duration": 4258,
    "start_time": "2024-12-23T10:33:37.404Z"
   },
   {
    "duration": 147,
    "start_time": "2024-12-23T10:33:41.664Z"
   },
   {
    "duration": 5,
    "start_time": "2024-12-23T10:33:41.821Z"
   },
   {
    "duration": 478,
    "start_time": "2024-12-23T10:33:41.827Z"
   },
   {
    "duration": 5,
    "start_time": "2024-12-23T10:33:42.307Z"
   },
   {
    "duration": 16,
    "start_time": "2024-12-23T10:33:42.322Z"
   },
   {
    "duration": 100,
    "start_time": "2024-12-23T10:33:42.340Z"
   },
   {
    "duration": 272,
    "start_time": "2024-12-23T10:33:42.444Z"
   },
   {
    "duration": 12,
    "start_time": "2024-12-23T10:33:42.717Z"
   },
   {
    "duration": 2422,
    "start_time": "2024-12-23T10:36:41.929Z"
   },
   {
    "duration": 2369,
    "start_time": "2024-12-23T10:36:44.354Z"
   },
   {
    "duration": 2945,
    "start_time": "2024-12-23T10:36:46.725Z"
   },
   {
    "duration": 8,
    "start_time": "2024-12-23T10:36:49.673Z"
   },
   {
    "duration": 753,
    "start_time": "2024-12-23T10:36:49.682Z"
   },
   {
    "duration": 12,
    "start_time": "2024-12-23T10:36:50.436Z"
   },
   {
    "duration": 145,
    "start_time": "2024-12-23T10:36:50.450Z"
   },
   {
    "duration": 220,
    "start_time": "2024-12-23T10:36:50.596Z"
   },
   {
    "duration": 281,
    "start_time": "2024-12-23T10:36:50.818Z"
   },
   {
    "duration": 281,
    "start_time": "2024-12-23T10:36:51.102Z"
   },
   {
    "duration": 23,
    "start_time": "2024-12-23T10:36:51.385Z"
   },
   {
    "duration": 433,
    "start_time": "2024-12-23T10:36:51.421Z"
   },
   {
    "duration": 25,
    "start_time": "2024-12-23T10:36:51.855Z"
   },
   {
    "duration": 82,
    "start_time": "2024-12-23T10:36:51.882Z"
   },
   {
    "duration": 31,
    "start_time": "2024-12-23T10:36:51.966Z"
   },
   {
    "duration": 33,
    "start_time": "2024-12-23T10:36:51.998Z"
   },
   {
    "duration": 132,
    "start_time": "2024-12-23T10:36:52.032Z"
   },
   {
    "duration": 190,
    "start_time": "2024-12-23T10:36:52.166Z"
   },
   {
    "duration": 309,
    "start_time": "2024-12-23T10:36:52.357Z"
   },
   {
    "duration": 3,
    "start_time": "2024-12-23T10:36:52.667Z"
   },
   {
    "duration": 4199,
    "start_time": "2024-12-23T10:36:52.672Z"
   },
   {
    "duration": 7,
    "start_time": "2024-12-23T10:36:56.873Z"
   },
   {
    "duration": 35,
    "start_time": "2024-12-23T10:36:56.881Z"
   },
   {
    "duration": 240,
    "start_time": "2024-12-23T10:36:56.918Z"
   },
   {
    "duration": 25,
    "start_time": "2024-12-23T10:36:57.160Z"
   },
   {
    "duration": 11,
    "start_time": "2024-12-23T10:36:57.187Z"
   },
   {
    "duration": 23,
    "start_time": "2024-12-23T10:36:57.199Z"
   },
   {
    "duration": 4478,
    "start_time": "2024-12-23T10:36:57.225Z"
   },
   {
    "duration": 148,
    "start_time": "2024-12-23T10:37:01.705Z"
   },
   {
    "duration": 4,
    "start_time": "2024-12-23T10:37:01.855Z"
   },
   {
    "duration": 511,
    "start_time": "2024-12-23T10:37:01.860Z"
   },
   {
    "duration": 4,
    "start_time": "2024-12-23T10:37:02.372Z"
   },
   {
    "duration": 80,
    "start_time": "2024-12-23T10:37:02.378Z"
   },
   {
    "duration": 90,
    "start_time": "2024-12-23T10:37:02.461Z"
   },
   {
    "duration": 5203,
    "start_time": "2024-12-23T11:38:14.553Z"
   },
   {
    "duration": 4309,
    "start_time": "2024-12-23T11:38:19.758Z"
   },
   {
    "duration": 10914,
    "start_time": "2024-12-23T11:38:24.071Z"
   },
   {
    "duration": 2693,
    "start_time": "2024-12-23T11:38:34.988Z"
   },
   {
    "duration": 3510,
    "start_time": "2024-12-23T11:38:37.682Z"
   },
   {
    "duration": 61,
    "start_time": "2024-12-23T11:38:41.194Z"
   },
   {
    "duration": 238,
    "start_time": "2024-12-23T11:38:41.257Z"
   },
   {
    "duration": 557,
    "start_time": "2024-12-23T11:38:41.497Z"
   },
   {
    "duration": 809,
    "start_time": "2024-12-23T11:38:42.055Z"
   },
   {
    "duration": 730,
    "start_time": "2024-12-23T11:38:42.866Z"
   },
   {
    "duration": 82,
    "start_time": "2024-12-23T11:38:43.598Z"
   },
   {
    "duration": 601,
    "start_time": "2024-12-23T11:38:43.682Z"
   },
   {
    "duration": 78,
    "start_time": "2024-12-23T11:38:44.285Z"
   },
   {
    "duration": 132,
    "start_time": "2024-12-23T11:38:44.364Z"
   },
   {
    "duration": 84,
    "start_time": "2024-12-23T11:38:44.497Z"
   },
   {
    "duration": 78,
    "start_time": "2024-12-23T11:38:44.582Z"
   },
   {
    "duration": 302,
    "start_time": "2024-12-23T11:38:44.661Z"
   },
   {
    "duration": 392,
    "start_time": "2024-12-23T11:38:44.964Z"
   },
   {
    "duration": 638,
    "start_time": "2024-12-23T11:38:45.358Z"
   },
   {
    "duration": 3,
    "start_time": "2024-12-23T11:38:46.053Z"
   },
   {
    "duration": 8102,
    "start_time": "2024-12-23T11:38:46.057Z"
   },
   {
    "duration": 6,
    "start_time": "2024-12-23T11:38:54.160Z"
   },
   {
    "duration": 88,
    "start_time": "2024-12-23T11:38:54.168Z"
   },
   {
    "duration": 708,
    "start_time": "2024-12-23T11:38:54.258Z"
   },
   {
    "duration": 26,
    "start_time": "2024-12-23T11:38:54.968Z"
   },
   {
    "duration": 68,
    "start_time": "2024-12-23T11:38:54.996Z"
   },
   {
    "duration": 3,
    "start_time": "2024-12-23T11:38:55.066Z"
   },
   {
    "duration": 8308,
    "start_time": "2024-12-23T11:38:55.070Z"
   },
   {
    "duration": 385,
    "start_time": "2024-12-23T11:39:03.380Z"
   },
   {
    "duration": 5,
    "start_time": "2024-12-23T11:39:03.766Z"
   },
   {
    "duration": 998,
    "start_time": "2024-12-23T11:39:03.772Z"
   },
   {
    "duration": 5,
    "start_time": "2024-12-23T11:39:04.771Z"
   },
   {
    "duration": 95,
    "start_time": "2024-12-23T11:39:04.777Z"
   },
   {
    "duration": 122,
    "start_time": "2024-12-23T11:39:04.873Z"
   },
   {
    "duration": 1282,
    "start_time": "2024-12-23T11:39:04.996Z"
   },
   {
    "duration": 14,
    "start_time": "2024-12-23T11:39:06.280Z"
   },
   {
    "duration": 0,
    "start_time": "2024-12-23T11:39:06.296Z"
   },
   {
    "duration": 0,
    "start_time": "2024-12-23T11:39:06.297Z"
   },
   {
    "duration": 1,
    "start_time": "2024-12-23T11:39:06.353Z"
   },
   {
    "duration": 0,
    "start_time": "2024-12-23T11:39:06.355Z"
   },
   {
    "duration": 0,
    "start_time": "2024-12-23T11:39:06.356Z"
   },
   {
    "duration": 0,
    "start_time": "2024-12-23T11:39:06.357Z"
   },
   {
    "duration": 0,
    "start_time": "2024-12-23T11:39:06.358Z"
   },
   {
    "duration": 4026,
    "start_time": "2024-12-23T16:32:23.978Z"
   },
   {
    "duration": 3936,
    "start_time": "2024-12-23T16:32:28.007Z"
   },
   {
    "duration": 6532,
    "start_time": "2024-12-23T16:32:31.946Z"
   },
   {
    "duration": 1512,
    "start_time": "2024-12-23T16:32:38.481Z"
   },
   {
    "duration": 2889,
    "start_time": "2024-12-23T16:32:39.995Z"
   },
   {
    "duration": 13,
    "start_time": "2024-12-23T16:32:42.886Z"
   },
   {
    "duration": 149,
    "start_time": "2024-12-23T16:32:42.901Z"
   },
   {
    "duration": 289,
    "start_time": "2024-12-23T16:32:43.052Z"
   },
   {
    "duration": 396,
    "start_time": "2024-12-23T16:32:43.342Z"
   },
   {
    "duration": 380,
    "start_time": "2024-12-23T16:32:43.740Z"
   },
   {
    "duration": 42,
    "start_time": "2024-12-23T16:32:44.122Z"
   },
   {
    "duration": 280,
    "start_time": "2024-12-23T16:32:44.166Z"
   },
   {
    "duration": 5,
    "start_time": "2024-12-23T16:35:24.702Z"
   },
   {
    "duration": 22,
    "start_time": "2024-12-23T16:35:25.514Z"
   },
   {
    "duration": 99,
    "start_time": "2024-12-23T16:35:26.938Z"
   },
   {
    "duration": 904,
    "start_time": "2024-12-23T16:35:28.303Z"
   },
   {
    "duration": 17,
    "start_time": "2024-12-23T16:36:27.954Z"
   },
   {
    "duration": 5,
    "start_time": "2024-12-23T16:36:42.646Z"
   },
   {
    "duration": 6,
    "start_time": "2024-12-23T16:36:55.086Z"
   },
   {
    "duration": 6,
    "start_time": "2024-12-23T16:37:02.822Z"
   },
   {
    "duration": 6,
    "start_time": "2024-12-23T16:37:11.838Z"
   },
   {
    "duration": 6,
    "start_time": "2024-12-23T16:37:16.578Z"
   },
   {
    "duration": 6,
    "start_time": "2024-12-23T16:37:24.737Z"
   },
   {
    "duration": 6,
    "start_time": "2024-12-23T16:37:29.442Z"
   },
   {
    "duration": 5,
    "start_time": "2024-12-23T16:37:35.950Z"
   },
   {
    "duration": 22,
    "start_time": "2024-12-23T16:37:37.614Z"
   },
   {
    "duration": 3,
    "start_time": "2024-12-23T16:38:08.959Z"
   },
   {
    "duration": 21,
    "start_time": "2024-12-23T16:38:09.290Z"
   },
   {
    "duration": 87,
    "start_time": "2024-12-23T16:38:10.219Z"
   },
   {
    "duration": 772,
    "start_time": "2024-12-23T16:38:11.566Z"
   },
   {
    "duration": 5,
    "start_time": "2024-12-23T16:38:26.134Z"
   },
   {
    "duration": 20,
    "start_time": "2024-12-23T16:38:26.294Z"
   },
   {
    "duration": 86,
    "start_time": "2024-12-23T16:38:26.566Z"
   },
   {
    "duration": 755,
    "start_time": "2024-12-23T16:38:27.366Z"
   },
   {
    "duration": 5,
    "start_time": "2024-12-23T16:41:55.446Z"
   },
   {
    "duration": 5,
    "start_time": "2024-12-23T16:42:02.530Z"
   },
   {
    "duration": 5,
    "start_time": "2024-12-23T16:42:09.698Z"
   },
   {
    "duration": 6,
    "start_time": "2024-12-23T16:42:16.610Z"
   },
   {
    "duration": 6,
    "start_time": "2024-12-23T16:42:28.346Z"
   },
   {
    "duration": 20,
    "start_time": "2024-12-23T16:42:28.562Z"
   },
   {
    "duration": 83,
    "start_time": "2024-12-23T16:42:29.010Z"
   },
   {
    "duration": 698,
    "start_time": "2024-12-23T16:42:30.331Z"
   },
   {
    "duration": 99,
    "start_time": "2024-12-23T16:43:19.714Z"
   },
   {
    "duration": 44,
    "start_time": "2024-12-23T16:44:04.206Z"
   },
   {
    "duration": 4,
    "start_time": "2024-12-23T16:44:05.787Z"
   },
   {
    "duration": 21,
    "start_time": "2024-12-23T16:44:05.906Z"
   },
   {
    "duration": 90,
    "start_time": "2024-12-23T16:44:06.194Z"
   },
   {
    "duration": 701,
    "start_time": "2024-12-23T16:44:07.607Z"
   },
   {
    "duration": 13,
    "start_time": "2024-12-23T16:44:31.138Z"
   },
   {
    "duration": 14,
    "start_time": "2024-12-23T16:44:58.166Z"
   },
   {
    "duration": 13,
    "start_time": "2024-12-23T16:45:06.790Z"
   },
   {
    "duration": 16,
    "start_time": "2024-12-23T16:46:12.802Z"
   },
   {
    "duration": 4,
    "start_time": "2024-12-23T16:46:16.591Z"
   },
   {
    "duration": 21,
    "start_time": "2024-12-23T16:46:16.755Z"
   },
   {
    "duration": 89,
    "start_time": "2024-12-23T16:46:17.338Z"
   },
   {
    "duration": 79208,
    "start_time": "2024-12-23T16:46:18.479Z"
   },
   {
    "duration": 78918,
    "start_time": "2024-12-23T16:48:11.167Z"
   },
   {
    "duration": 79591,
    "start_time": "2024-12-23T16:50:09.090Z"
   },
   {
    "duration": 78432,
    "start_time": "2024-12-23T16:53:17.257Z"
   },
   {
    "duration": 9,
    "start_time": "2024-12-23T16:54:35.690Z"
   },
   {
    "duration": 79575,
    "start_time": "2024-12-23T16:57:33.319Z"
   },
   {
    "duration": 3,
    "start_time": "2024-12-23T16:58:52.896Z"
   },
   {
    "duration": 91,
    "start_time": "2024-12-23T16:59:47.038Z"
   },
   {
    "duration": 2678,
    "start_time": "2024-12-23T16:59:47.578Z"
   },
   {
    "duration": 2833,
    "start_time": "2024-12-23T17:01:05.051Z"
   },
   {
    "duration": 2,
    "start_time": "2024-12-23T17:01:07.886Z"
   },
   {
    "duration": 211,
    "start_time": "2024-12-23T17:02:02.579Z"
   },
   {
    "duration": 411350,
    "start_time": "2024-12-23T17:02:02.795Z"
   },
   {
    "duration": 4,
    "start_time": "2024-12-23T17:08:54.147Z"
   },
   {
    "duration": 11,
    "start_time": "2024-12-23T17:08:54.153Z"
   },
   {
    "duration": 91,
    "start_time": "2024-12-23T20:53:14.261Z"
   },
   {
    "duration": 2952,
    "start_time": "2024-12-23T20:53:14.929Z"
   },
   {
    "duration": 3067,
    "start_time": "2024-12-23T20:54:13.661Z"
   },
   {
    "duration": 94,
    "start_time": "2024-12-23T20:54:22.433Z"
   },
   {
    "duration": 2838,
    "start_time": "2024-12-23T20:54:22.557Z"
   },
   {
    "duration": 96,
    "start_time": "2024-12-23T20:55:15.306Z"
   },
   {
    "duration": 83,
    "start_time": "2024-12-23T20:55:32.418Z"
   },
   {
    "duration": 97,
    "start_time": "2024-12-23T20:55:34.670Z"
   },
   {
    "duration": 93,
    "start_time": "2024-12-23T20:55:34.833Z"
   },
   {
    "duration": 2489,
    "start_time": "2024-12-23T20:55:35.866Z"
   },
   {
    "duration": 1276,
    "start_time": "2024-12-23T20:57:07.438Z"
   },
   {
    "duration": 1278,
    "start_time": "2024-12-23T20:57:34.174Z"
   },
   {
    "duration": 81,
    "start_time": "2024-12-23T20:58:03.326Z"
   },
   {
    "duration": 1212,
    "start_time": "2024-12-23T20:58:21.734Z"
   },
   {
    "duration": 2456,
    "start_time": "2024-12-23T20:58:30.993Z"
   },
   {
    "duration": 2471,
    "start_time": "2024-12-23T20:58:33.452Z"
   },
   {
    "duration": 3183,
    "start_time": "2024-12-23T20:58:35.925Z"
   },
   {
    "duration": 9,
    "start_time": "2024-12-23T20:58:39.111Z"
   },
   {
    "duration": 865,
    "start_time": "2024-12-23T20:58:39.122Z"
   },
   {
    "duration": 13,
    "start_time": "2024-12-23T20:58:39.988Z"
   },
   {
    "duration": 164,
    "start_time": "2024-12-23T20:58:40.003Z"
   },
   {
    "duration": 235,
    "start_time": "2024-12-23T20:58:40.168Z"
   },
   {
    "duration": 308,
    "start_time": "2024-12-23T20:58:40.404Z"
   },
   {
    "duration": 299,
    "start_time": "2024-12-23T20:58:40.715Z"
   },
   {
    "duration": 37,
    "start_time": "2024-12-23T20:58:41.015Z"
   },
   {
    "duration": 374,
    "start_time": "2024-12-23T20:58:41.054Z"
   },
   {
    "duration": 32,
    "start_time": "2024-12-23T20:58:41.429Z"
   },
   {
    "duration": 84,
    "start_time": "2024-12-23T20:58:41.462Z"
   },
   {
    "duration": 34,
    "start_time": "2024-12-23T20:58:41.548Z"
   },
   {
    "duration": 22,
    "start_time": "2024-12-23T20:58:41.584Z"
   },
   {
    "duration": 173,
    "start_time": "2024-12-23T20:58:41.608Z"
   },
   {
    "duration": 179,
    "start_time": "2024-12-23T20:58:41.783Z"
   },
   {
    "duration": 312,
    "start_time": "2024-12-23T20:58:41.963Z"
   },
   {
    "duration": 3,
    "start_time": "2024-12-23T20:58:42.277Z"
   },
   {
    "duration": 4384,
    "start_time": "2024-12-23T20:58:42.282Z"
   },
   {
    "duration": 8,
    "start_time": "2024-12-23T20:58:46.668Z"
   },
   {
    "duration": 25,
    "start_time": "2024-12-23T20:58:46.677Z"
   },
   {
    "duration": 310,
    "start_time": "2024-12-23T20:58:46.704Z"
   },
   {
    "duration": 36,
    "start_time": "2024-12-23T20:58:47.016Z"
   },
   {
    "duration": 13,
    "start_time": "2024-12-23T20:58:47.054Z"
   },
   {
    "duration": 3,
    "start_time": "2024-12-23T20:58:47.069Z"
   },
   {
    "duration": 4356,
    "start_time": "2024-12-23T20:58:47.075Z"
   },
   {
    "duration": 172,
    "start_time": "2024-12-23T20:58:51.437Z"
   },
   {
    "duration": 4,
    "start_time": "2024-12-23T20:58:51.611Z"
   },
   {
    "duration": 522,
    "start_time": "2024-12-23T20:58:51.617Z"
   },
   {
    "duration": 16,
    "start_time": "2024-12-23T20:58:52.140Z"
   },
   {
    "duration": 4,
    "start_time": "2024-12-23T20:58:52.158Z"
   },
   {
    "duration": 31,
    "start_time": "2024-12-23T20:58:52.164Z"
   },
   {
    "duration": 83,
    "start_time": "2024-12-23T20:58:52.197Z"
   },
   {
    "duration": 54279,
    "start_time": "2024-12-23T20:58:52.282Z"
   },
   {
    "duration": 2,
    "start_time": "2024-12-23T20:59:46.563Z"
   },
   {
    "duration": 94,
    "start_time": "2024-12-23T20:59:46.567Z"
   },
   {
    "duration": 55609,
    "start_time": "2024-12-23T21:20:02.255Z"
   },
   {
    "duration": 3,
    "start_time": "2024-12-23T21:20:57.866Z"
   },
   {
    "duration": 103,
    "start_time": "2024-12-23T21:20:57.870Z"
   },
   {
    "duration": 483344,
    "start_time": "2024-12-23T21:20:57.976Z"
   },
   {
    "duration": 3,
    "start_time": "2024-12-23T21:29:01.321Z"
   },
   {
    "duration": 178,
    "start_time": "2024-12-23T21:29:01.325Z"
   },
   {
    "duration": 2504,
    "start_time": "2024-12-23T22:30:22.338Z"
   },
   {
    "duration": 2549,
    "start_time": "2024-12-23T22:30:24.845Z"
   },
   {
    "duration": 3007,
    "start_time": "2024-12-23T22:30:27.397Z"
   },
   {
    "duration": 10,
    "start_time": "2024-12-23T22:30:30.407Z"
   },
   {
    "duration": 822,
    "start_time": "2024-12-23T22:30:30.419Z"
   },
   {
    "duration": 14,
    "start_time": "2024-12-23T22:30:31.243Z"
   },
   {
    "duration": 179,
    "start_time": "2024-12-23T22:30:31.258Z"
   },
   {
    "duration": 262,
    "start_time": "2024-12-23T22:30:31.439Z"
   },
   {
    "duration": 299,
    "start_time": "2024-12-23T22:30:31.703Z"
   },
   {
    "duration": 302,
    "start_time": "2024-12-23T22:30:32.005Z"
   },
   {
    "duration": 41,
    "start_time": "2024-12-23T22:30:32.309Z"
   },
   {
    "duration": 278,
    "start_time": "2024-12-23T22:30:32.351Z"
   },
   {
    "duration": 31,
    "start_time": "2024-12-23T22:30:32.631Z"
   },
   {
    "duration": 96,
    "start_time": "2024-12-23T22:30:32.664Z"
   },
   {
    "duration": 36,
    "start_time": "2024-12-23T22:30:32.762Z"
   },
   {
    "duration": 40,
    "start_time": "2024-12-23T22:30:32.799Z"
   },
   {
    "duration": 162,
    "start_time": "2024-12-23T22:30:32.841Z"
   },
   {
    "duration": 186,
    "start_time": "2024-12-23T22:30:33.005Z"
   },
   {
    "duration": 431,
    "start_time": "2024-12-23T22:30:33.194Z"
   },
   {
    "duration": 11,
    "start_time": "2024-12-23T22:30:33.627Z"
   },
   {
    "duration": 4385,
    "start_time": "2024-12-23T22:30:33.640Z"
   },
   {
    "duration": 15,
    "start_time": "2024-12-23T22:30:38.027Z"
   },
   {
    "duration": 29,
    "start_time": "2024-12-23T22:30:38.044Z"
   },
   {
    "duration": 284,
    "start_time": "2024-12-23T22:30:38.075Z"
   },
   {
    "duration": 29,
    "start_time": "2024-12-23T22:30:38.361Z"
   },
   {
    "duration": 15,
    "start_time": "2024-12-23T22:30:38.392Z"
   },
   {
    "duration": 22,
    "start_time": "2024-12-23T22:30:38.416Z"
   },
   {
    "duration": 4405,
    "start_time": "2024-12-23T22:30:38.443Z"
   },
   {
    "duration": 168,
    "start_time": "2024-12-23T22:30:42.850Z"
   },
   {
    "duration": 4,
    "start_time": "2024-12-23T22:30:43.020Z"
   },
   {
    "duration": 514,
    "start_time": "2024-12-23T22:30:43.037Z"
   },
   {
    "duration": 15,
    "start_time": "2024-12-23T22:30:43.553Z"
   },
   {
    "duration": 4,
    "start_time": "2024-12-23T22:30:43.570Z"
   },
   {
    "duration": 22,
    "start_time": "2024-12-23T22:30:43.575Z"
   },
   {
    "duration": 99,
    "start_time": "2024-12-23T22:30:43.599Z"
   },
   {
    "duration": 55963,
    "start_time": "2024-12-23T22:30:43.700Z"
   },
   {
    "duration": 3,
    "start_time": "2024-12-23T22:31:39.665Z"
   },
   {
    "duration": 82,
    "start_time": "2024-12-23T22:31:39.670Z"
   },
   {
    "duration": 480743,
    "start_time": "2024-12-23T22:31:39.754Z"
   },
   {
    "duration": 2,
    "start_time": "2024-12-23T22:39:40.499Z"
   },
   {
    "duration": 168,
    "start_time": "2024-12-23T22:39:40.503Z"
   },
   {
    "duration": 228066,
    "start_time": "2024-12-23T22:39:40.673Z"
   },
   {
    "duration": 3,
    "start_time": "2024-12-23T22:43:28.740Z"
   },
   {
    "duration": 13,
    "start_time": "2024-12-23T22:43:28.744Z"
   },
   {
    "duration": 9,
    "start_time": "2024-12-23T22:44:02.775Z"
   },
   {
    "duration": 2921,
    "start_time": "2024-12-24T10:57:32.485Z"
   },
   {
    "duration": 2865,
    "start_time": "2024-12-24T10:57:35.409Z"
   },
   {
    "duration": 3453,
    "start_time": "2024-12-24T10:57:38.276Z"
   },
   {
    "duration": 1343,
    "start_time": "2024-12-24T10:57:41.731Z"
   },
   {
    "duration": 1133,
    "start_time": "2024-12-24T10:57:43.077Z"
   },
   {
    "duration": 12,
    "start_time": "2024-12-24T10:57:44.211Z"
   },
   {
    "duration": 147,
    "start_time": "2024-12-24T10:57:44.224Z"
   },
   {
    "duration": 316,
    "start_time": "2024-12-24T10:57:44.373Z"
   },
   {
    "duration": 395,
    "start_time": "2024-12-24T10:57:44.690Z"
   },
   {
    "duration": 359,
    "start_time": "2024-12-24T10:57:45.087Z"
   },
   {
    "duration": 41,
    "start_time": "2024-12-24T10:57:45.447Z"
   },
   {
    "duration": 243,
    "start_time": "2024-12-24T10:57:45.490Z"
   },
   {
    "duration": 40,
    "start_time": "2024-12-24T10:57:45.735Z"
   },
   {
    "duration": 67,
    "start_time": "2024-12-24T10:57:45.779Z"
   },
   {
    "duration": 32,
    "start_time": "2024-12-24T10:57:45.854Z"
   },
   {
    "duration": 35,
    "start_time": "2024-12-24T10:57:45.888Z"
   },
   {
    "duration": 174,
    "start_time": "2024-12-24T10:57:45.924Z"
   },
   {
    "duration": 189,
    "start_time": "2024-12-24T10:57:46.100Z"
   },
   {
    "duration": 301,
    "start_time": "2024-12-24T10:57:46.291Z"
   },
   {
    "duration": 3,
    "start_time": "2024-12-24T10:57:46.593Z"
   },
   {
    "duration": 4490,
    "start_time": "2024-12-24T10:57:46.598Z"
   },
   {
    "duration": 7,
    "start_time": "2024-12-24T10:57:51.090Z"
   },
   {
    "duration": 27,
    "start_time": "2024-12-24T10:57:51.098Z"
   },
   {
    "duration": 294,
    "start_time": "2024-12-24T10:57:51.127Z"
   },
   {
    "duration": 32,
    "start_time": "2024-12-24T10:57:51.422Z"
   },
   {
    "duration": 17,
    "start_time": "2024-12-24T10:57:51.457Z"
   },
   {
    "duration": 5,
    "start_time": "2024-12-24T10:57:51.476Z"
   },
   {
    "duration": 4780,
    "start_time": "2024-12-24T10:57:51.483Z"
   },
   {
    "duration": 161,
    "start_time": "2024-12-24T10:57:56.265Z"
   },
   {
    "duration": 4,
    "start_time": "2024-12-24T10:57:56.428Z"
   },
   {
    "duration": 540,
    "start_time": "2024-12-24T10:57:56.433Z"
   },
   {
    "duration": 16,
    "start_time": "2024-12-24T10:57:56.975Z"
   },
   {
    "duration": 16,
    "start_time": "2024-12-24T10:57:56.993Z"
   },
   {
    "duration": 31,
    "start_time": "2024-12-24T10:57:57.011Z"
   },
   {
    "duration": 56,
    "start_time": "2024-12-24T10:57:57.043Z"
   },
   {
    "duration": 39094,
    "start_time": "2024-12-24T10:57:57.100Z"
   },
   {
    "duration": 2,
    "start_time": "2024-12-24T10:58:36.196Z"
   },
   {
    "duration": 108,
    "start_time": "2024-12-24T10:58:36.200Z"
   },
   {
    "duration": 474202,
    "start_time": "2024-12-24T10:58:36.310Z"
   },
   {
    "duration": 2,
    "start_time": "2024-12-24T11:06:30.514Z"
   },
   {
    "duration": 5268,
    "start_time": "2024-12-24T11:06:30.520Z"
   },
   {
    "duration": 1761770,
    "start_time": "2024-12-24T11:06:35.790Z"
   },
   {
    "duration": 3,
    "start_time": "2024-12-24T11:35:57.561Z"
   },
   {
    "duration": 10,
    "start_time": "2024-12-24T11:35:57.565Z"
   }
  ],
  "kernelspec": {
   "display_name": "Python 3 (ipykernel)",
   "language": "python",
   "name": "python3"
  },
  "language_info": {
   "codemirror_mode": {
    "name": "ipython",
    "version": 3
   },
   "file_extension": ".py",
   "mimetype": "text/x-python",
   "name": "python",
   "nbconvert_exporter": "python",
   "pygments_lexer": "ipython3",
   "version": "3.9.5"
  },
  "toc": {
   "base_numbering": 1,
   "nav_menu": {},
   "number_sections": true,
   "sideBar": true,
   "skip_h1_title": true,
   "title_cell": "Table of Contents",
   "title_sidebar": "Contents",
   "toc_cell": false,
   "toc_position": {
    "height": "calc(100% - 180px)",
    "left": "10px",
    "top": "150px",
    "width": "260.391px"
   },
   "toc_section_display": true,
   "toc_window_display": true
  }
 },
 "nbformat": 4,
 "nbformat_minor": 2
}
