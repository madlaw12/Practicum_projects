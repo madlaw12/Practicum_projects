{
 "cells": [
  {
   "cell_type": "markdown",
   "id": "8c7e370e",
   "metadata": {},
   "source": [
    "Заголовок:Статистический анализ данных\n",
    "Описание проекта:Вы аналитик популярного сервиса аренды самокатов GoFast. Вам передали данные о некоторых пользователях из нескольких городов, а также об их поездках.\n",
    "Цель исследования:Проанализируйте данные и проверьте некоторые гипотезы, которые могут помочь бизнесу вырасти.\n",
    "Ход исследования:\n",
    "1)Загрузка данных\n",
    "2)Предобработка данных\n",
    "3)Исследовательский анализ данных\n",
    "4)Объединение данных\n",
    "5)Подсчёт выручки\n",
    "6)Проверка гипотез"
   ]
  },
  {
   "cell_type": "code",
   "execution_count": 1,
   "id": "72576667",
   "metadata": {},
   "outputs": [],
   "source": [
    "import pandas as pd\n",
    "import numpy as np\n",
    "from scipy import stats as st\n",
    "import matplotlib.pyplot as plt"
   ]
  },
  {
   "cell_type": "markdown",
   "id": "2253143f",
   "metadata": {},
   "source": [
    "Импорт всех нужный библиотек."
   ]
  },
  {
   "cell_type": "markdown",
   "id": "c42cbe00",
   "metadata": {},
   "source": [
    "#### Шаг 1. Загрузка данных"
   ]
  },
  {
   "cell_type": "code",
   "execution_count": 2,
   "id": "eff9f206",
   "metadata": {},
   "outputs": [
    {
     "data": {
      "text/html": [
       "<div>\n",
       "<style scoped>\n",
       "    .dataframe tbody tr th:only-of-type {\n",
       "        vertical-align: middle;\n",
       "    }\n",
       "\n",
       "    .dataframe tbody tr th {\n",
       "        vertical-align: top;\n",
       "    }\n",
       "\n",
       "    .dataframe thead th {\n",
       "        text-align: right;\n",
       "    }\n",
       "</style>\n",
       "<table border=\"1\" class=\"dataframe\">\n",
       "  <thead>\n",
       "    <tr style=\"text-align: right;\">\n",
       "      <th></th>\n",
       "      <th>user_id</th>\n",
       "      <th>name</th>\n",
       "      <th>age</th>\n",
       "      <th>city</th>\n",
       "      <th>subscription_type</th>\n",
       "    </tr>\n",
       "  </thead>\n",
       "  <tbody>\n",
       "    <tr>\n",
       "      <th>0</th>\n",
       "      <td>1</td>\n",
       "      <td>Кира</td>\n",
       "      <td>22</td>\n",
       "      <td>Тюмень</td>\n",
       "      <td>ultra</td>\n",
       "    </tr>\n",
       "    <tr>\n",
       "      <th>1</th>\n",
       "      <td>2</td>\n",
       "      <td>Станислав</td>\n",
       "      <td>31</td>\n",
       "      <td>Омск</td>\n",
       "      <td>ultra</td>\n",
       "    </tr>\n",
       "    <tr>\n",
       "      <th>2</th>\n",
       "      <td>3</td>\n",
       "      <td>Алексей</td>\n",
       "      <td>20</td>\n",
       "      <td>Москва</td>\n",
       "      <td>ultra</td>\n",
       "    </tr>\n",
       "    <tr>\n",
       "      <th>3</th>\n",
       "      <td>4</td>\n",
       "      <td>Константин</td>\n",
       "      <td>26</td>\n",
       "      <td>Ростов-на-Дону</td>\n",
       "      <td>ultra</td>\n",
       "    </tr>\n",
       "    <tr>\n",
       "      <th>4</th>\n",
       "      <td>5</td>\n",
       "      <td>Адель</td>\n",
       "      <td>28</td>\n",
       "      <td>Омск</td>\n",
       "      <td>ultra</td>\n",
       "    </tr>\n",
       "  </tbody>\n",
       "</table>\n",
       "</div>"
      ],
      "text/plain": [
       "   user_id        name  age            city subscription_type\n",
       "0        1        Кира   22          Тюмень             ultra\n",
       "1        2   Станислав   31            Омск             ultra\n",
       "2        3     Алексей   20          Москва             ultra\n",
       "3        4  Константин   26  Ростов-на-Дону             ultra\n",
       "4        5       Адель   28            Омск             ultra"
      ]
     },
     "metadata": {},
     "output_type": "display_data"
    },
    {
     "name": "stdout",
     "output_type": "stream",
     "text": [
      "<class 'pandas.core.frame.DataFrame'>\n",
      "RangeIndex: 1565 entries, 0 to 1564\n",
      "Data columns (total 5 columns):\n",
      " #   Column             Non-Null Count  Dtype \n",
      "---  ------             --------------  ----- \n",
      " 0   user_id            1565 non-null   int64 \n",
      " 1   name               1565 non-null   object\n",
      " 2   age                1565 non-null   int64 \n",
      " 3   city               1565 non-null   object\n",
      " 4   subscription_type  1565 non-null   object\n",
      "dtypes: int64(2), object(3)\n",
      "memory usage: 61.3+ KB\n",
      "\n"
     ]
    },
    {
     "data": {
      "text/html": [
       "<div>\n",
       "<style scoped>\n",
       "    .dataframe tbody tr th:only-of-type {\n",
       "        vertical-align: middle;\n",
       "    }\n",
       "\n",
       "    .dataframe tbody tr th {\n",
       "        vertical-align: top;\n",
       "    }\n",
       "\n",
       "    .dataframe thead th {\n",
       "        text-align: right;\n",
       "    }\n",
       "</style>\n",
       "<table border=\"1\" class=\"dataframe\">\n",
       "  <thead>\n",
       "    <tr style=\"text-align: right;\">\n",
       "      <th></th>\n",
       "      <th>user_id</th>\n",
       "      <th>distance</th>\n",
       "      <th>duration</th>\n",
       "      <th>date</th>\n",
       "    </tr>\n",
       "  </thead>\n",
       "  <tbody>\n",
       "    <tr>\n",
       "      <th>0</th>\n",
       "      <td>1</td>\n",
       "      <td>4409.919140</td>\n",
       "      <td>25.599769</td>\n",
       "      <td>2021-01-01</td>\n",
       "    </tr>\n",
       "    <tr>\n",
       "      <th>1</th>\n",
       "      <td>1</td>\n",
       "      <td>2617.592153</td>\n",
       "      <td>15.816871</td>\n",
       "      <td>2021-01-18</td>\n",
       "    </tr>\n",
       "    <tr>\n",
       "      <th>2</th>\n",
       "      <td>1</td>\n",
       "      <td>754.159807</td>\n",
       "      <td>6.232113</td>\n",
       "      <td>2021-04-20</td>\n",
       "    </tr>\n",
       "    <tr>\n",
       "      <th>3</th>\n",
       "      <td>1</td>\n",
       "      <td>2694.783254</td>\n",
       "      <td>18.511000</td>\n",
       "      <td>2021-08-11</td>\n",
       "    </tr>\n",
       "    <tr>\n",
       "      <th>4</th>\n",
       "      <td>1</td>\n",
       "      <td>4028.687306</td>\n",
       "      <td>26.265803</td>\n",
       "      <td>2021-08-28</td>\n",
       "    </tr>\n",
       "  </tbody>\n",
       "</table>\n",
       "</div>"
      ],
      "text/plain": [
       "   user_id     distance   duration        date\n",
       "0        1  4409.919140  25.599769  2021-01-01\n",
       "1        1  2617.592153  15.816871  2021-01-18\n",
       "2        1   754.159807   6.232113  2021-04-20\n",
       "3        1  2694.783254  18.511000  2021-08-11\n",
       "4        1  4028.687306  26.265803  2021-08-28"
      ]
     },
     "metadata": {},
     "output_type": "display_data"
    },
    {
     "name": "stdout",
     "output_type": "stream",
     "text": [
      "<class 'pandas.core.frame.DataFrame'>\n",
      "RangeIndex: 18068 entries, 0 to 18067\n",
      "Data columns (total 4 columns):\n",
      " #   Column    Non-Null Count  Dtype  \n",
      "---  ------    --------------  -----  \n",
      " 0   user_id   18068 non-null  int64  \n",
      " 1   distance  18068 non-null  float64\n",
      " 2   duration  18068 non-null  float64\n",
      " 3   date      18068 non-null  object \n",
      "dtypes: float64(2), int64(1), object(1)\n",
      "memory usage: 564.8+ KB\n",
      "\n"
     ]
    },
    {
     "data": {
      "text/html": [
       "<div>\n",
       "<style scoped>\n",
       "    .dataframe tbody tr th:only-of-type {\n",
       "        vertical-align: middle;\n",
       "    }\n",
       "\n",
       "    .dataframe tbody tr th {\n",
       "        vertical-align: top;\n",
       "    }\n",
       "\n",
       "    .dataframe thead th {\n",
       "        text-align: right;\n",
       "    }\n",
       "</style>\n",
       "<table border=\"1\" class=\"dataframe\">\n",
       "  <thead>\n",
       "    <tr style=\"text-align: right;\">\n",
       "      <th></th>\n",
       "      <th>subscription_type</th>\n",
       "      <th>minute_price</th>\n",
       "      <th>start_ride_price</th>\n",
       "      <th>subscription_fee</th>\n",
       "    </tr>\n",
       "  </thead>\n",
       "  <tbody>\n",
       "    <tr>\n",
       "      <th>0</th>\n",
       "      <td>free</td>\n",
       "      <td>8</td>\n",
       "      <td>50</td>\n",
       "      <td>0</td>\n",
       "    </tr>\n",
       "    <tr>\n",
       "      <th>1</th>\n",
       "      <td>ultra</td>\n",
       "      <td>6</td>\n",
       "      <td>0</td>\n",
       "      <td>199</td>\n",
       "    </tr>\n",
       "  </tbody>\n",
       "</table>\n",
       "</div>"
      ],
      "text/plain": [
       "  subscription_type  minute_price  start_ride_price  subscription_fee\n",
       "0              free             8                50                 0\n",
       "1             ultra             6                 0               199"
      ]
     },
     "metadata": {},
     "output_type": "display_data"
    },
    {
     "name": "stdout",
     "output_type": "stream",
     "text": [
      "<class 'pandas.core.frame.DataFrame'>\n",
      "RangeIndex: 2 entries, 0 to 1\n",
      "Data columns (total 4 columns):\n",
      " #   Column             Non-Null Count  Dtype \n",
      "---  ------             --------------  ----- \n",
      " 0   subscription_type  2 non-null      object\n",
      " 1   minute_price       2 non-null      int64 \n",
      " 2   start_ride_price   2 non-null      int64 \n",
      " 3   subscription_fee   2 non-null      int64 \n",
      "dtypes: int64(3), object(1)\n",
      "memory usage: 192.0+ bytes\n"
     ]
    }
   ],
   "source": [
    "data_users=pd.read_csv('/datasets/users_go.csv')\n",
    "data_rides=pd.read_csv('/datasets/rides_go.csv')\n",
    "data_subscription=pd.read_csv('/datasets/subscriptions_go.csv')\n",
    "display(data_users.head())\n",
    "data_users.info()\n",
    "print()\n",
    "display(data_rides.head())\n",
    "data_rides.info()\n",
    "print()\n",
    "display(data_subscription.head())\n",
    "data_subscription.info()"
   ]
  },
  {
   "cell_type": "markdown",
   "id": "d5370694",
   "metadata": {},
   "source": [
    "Сохранение csv файлов в DataFrame."
   ]
  },
  {
   "cell_type": "markdown",
   "id": "e95ebca7",
   "metadata": {},
   "source": [
    "#### Шаг 2. Предобработка данных"
   ]
  },
  {
   "cell_type": "code",
   "execution_count": 3,
   "id": "af6d202c",
   "metadata": {},
   "outputs": [],
   "source": [
    "data_rides['date']=pd.to_datetime(data_rides['date'], format='%Y-%m-%d')\n",
    "data_rides['month']=data_rides['date'].dt.month"
   ]
  },
  {
   "cell_type": "markdown",
   "id": "29a0694d",
   "metadata": {},
   "source": [
    "Изменяем тип данных у столбца date. А также создаём новый столбец month."
   ]
  },
  {
   "cell_type": "code",
   "execution_count": 4,
   "id": "c1293b49",
   "metadata": {},
   "outputs": [
    {
     "name": "stdout",
     "output_type": "stream",
     "text": [
      "user_id              0\n",
      "name                 0\n",
      "age                  0\n",
      "city                 0\n",
      "subscription_type    0\n",
      "dtype: int64\n",
      "user_id     0\n",
      "distance    0\n",
      "duration    0\n",
      "date        0\n",
      "month       0\n",
      "dtype: int64\n",
      "subscription_type    0\n",
      "minute_price         0\n",
      "start_ride_price     0\n",
      "subscription_fee     0\n",
      "dtype: int64\n",
      "31\n",
      "0\n",
      "0\n"
     ]
    }
   ],
   "source": [
    "print(data_users.isna().sum())\n",
    "print(data_rides.isna().sum())\n",
    "print(data_subscription.isna().sum())\n",
    "print(data_users.duplicated().sum())\n",
    "print(data_rides.duplicated().sum())\n",
    "print(data_subscription.duplicated().sum())"
   ]
  },
  {
   "cell_type": "markdown",
   "id": "c43e3a48",
   "metadata": {},
   "source": [
    "Проверяем DataFrame на наличие пропусков и дубликатов."
   ]
  },
  {
   "cell_type": "code",
   "execution_count": 5,
   "id": "2d06ac9b",
   "metadata": {},
   "outputs": [],
   "source": [
    "data_users=data_users.drop_duplicates().reset_index(drop=True)"
   ]
  },
  {
   "cell_type": "markdown",
   "id": "9dfdb526",
   "metadata": {},
   "source": [
    "Убираем дубликаты из первого DataFrame."
   ]
  },
  {
   "cell_type": "markdown",
   "id": "f7b6ba5a",
   "metadata": {},
   "source": [
    "Вывод:во всех трёх DataFrame нету пропущенных значений. Но в первом DataFrame было обноружено 31 строка с дубликатами. Учитывая, что процентное соотношнеие строк с дубликатами ко всем строчкам маленькое, можно без проблем просто удалить эти строчки. Также был изменен тип столбца date с object64 на datetime. Ко всему прочему, был добавлен новый столбец, показывающий номер месяца."
   ]
  },
  {
   "cell_type": "markdown",
   "id": "212593c7",
   "metadata": {},
   "source": [
    "#### Шаг 3. Исследовательский анализ данных"
   ]
  },
  {
   "cell_type": "code",
   "execution_count": 6,
   "id": "e3a4274c",
   "metadata": {
    "scrolled": false
   },
   "outputs": [
    {
     "data": {
      "text/plain": [
       "Пятигорск         219\n",
       "Екатеринбург      204\n",
       "Ростов-на-Дону    198\n",
       "Краснодар         193\n",
       "Сочи              189\n",
       "Омск              183\n",
       "Тюмень            180\n",
       "Москва            168\n",
       "Name: city, dtype: int64"
      ]
     },
     "execution_count": 6,
     "metadata": {},
     "output_type": "execute_result"
    },
    {
     "data": {
      "image/png": "[encoded data removed]",
      "text/plain": [
       "<Figure size 432x288 with 1 Axes>"
      ]
     },
     "metadata": {
      "needs_background": "light"
     },
     "output_type": "display_data"
    }
   ],
   "source": [
    "data_city=data_users['city'].value_counts()\n",
    "data_city.columns=['city', 'count']\n",
    "data_city.plot(x='city', y='count', kind='bar')\n",
    "plt.title('Количество городов');\n",
    "plt.xlabel('Названия городов');\n",
    "plt.ylabel('Частота встречаемости городов');\n",
    "data_users['city'].value_counts()"
   ]
  },
  {
   "cell_type": "markdown",
   "id": "e869b353",
   "metadata": {},
   "source": [
    "Вывод:больше всего пользователей самокатов в городе Пятигорск, далее Екатеринбург и Ростов на Дону."
   ]
  },
  {
   "cell_type": "code",
   "execution_count": 7,
   "id": "a375ab0f",
   "metadata": {},
   "outputs": [
    {
     "data": {
      "text/plain": [
       "free     0.544329\n",
       "ultra    0.455671\n",
       "Name: subscription_type, dtype: float64"
      ]
     },
     "execution_count": 7,
     "metadata": {},
     "output_type": "execute_result"
    },
    {
     "data": {
      "image/png": "[encoded data removed]",
      "text/plain": [
       "<Figure size 432x288 with 1 Axes>"
      ]
     },
     "metadata": {
      "needs_background": "light"
     },
     "output_type": "display_data"
    }
   ],
   "source": [
    "data_type=data_users['subscription_type'].value_counts()\n",
    "data_type.columns=['subscription_type', 'count']\n",
    "data_type.plot(x='subscription_type', y='count', kind='bar')\n",
    "plt.title('Соотношение пользователей с подпиской и без подписки');\n",
    "plt.xlabel('Тип подписки');\n",
    "plt.ylabel('Количество пользователей');\n",
    "data_users[\"subscription_type\"].value_counts(normalize=True)"
   ]
  },
  {
   "cell_type": "markdown",
   "id": "40096fed",
   "metadata": {},
   "source": [
    "Вывод: Как можно заметить и по графику, и по значениям, больше всего пользователей без подписки(54.43%)"
   ]
  },
  {
   "cell_type": "code",
   "execution_count": 8,
   "id": "8da11b64",
   "metadata": {},
   "outputs": [
    {
     "data": {
      "image/png": "[encoded data removed]",
      "text/plain": [
       "<Figure size 432x288 with 1 Axes>"
      ]
     },
     "metadata": {
      "needs_background": "light"
     },
     "output_type": "display_data"
    },
    {
     "data": {
      "image/png": "[encoded data removed]",
      "text/plain": [
       "<Figure size 432x288 with 1 Axes>"
      ]
     },
     "metadata": {
      "needs_background": "light"
     },
     "output_type": "display_data"
    },
    {
     "data": {
      "image/png": "[encoded data removed]",
      "text/plain": [
       "<Figure size 432x288 with 1 Axes>"
      ]
     },
     "metadata": {
      "needs_background": "light"
     },
     "output_type": "display_data"
    }
   ],
   "source": [
    "data_users.hist('age', bins=50);\n",
    "plt.title('Возраст');\n",
    "plt.ylabel('Количество пользователей');\n",
    "data_rides.hist('distance', bins=50);\n",
    "plt.title('Дистанция');\n",
    "plt.xlabel('Расстояние в метрах');\n",
    "plt.ylabel('Количество пользователей');\n",
    "data_rides.hist('duration', bins=50);\n",
    "plt.title('Продолжительность');\n",
    "plt.xlabel('Продолжительность в минутах');\n",
    "plt.ylabel('Количество пользователей');"
   ]
  },
  {
   "cell_type": "markdown",
   "id": "4377a955",
   "metadata": {},
   "source": [
    "Вывод:Чаще всего, возраст пользователей примерно равен 25 лет, они проезжают в среднем от 2500 до 3500 метров, и делают это в среднем за 15-20 минут."
   ]
  },
  {
   "cell_type": "markdown",
   "id": "4ef51331",
   "metadata": {},
   "source": [
    "#### Шаг 4. Объединение данных"
   ]
  },
  {
   "cell_type": "code",
   "execution_count": 9,
   "id": "6bf288b5",
   "metadata": {},
   "outputs": [
    {
     "name": "stdout",
     "output_type": "stream",
     "text": [
      "user_id              0\n",
      "name                 0\n",
      "age                  0\n",
      "city                 0\n",
      "subscription_type    0\n",
      "distance             0\n",
      "duration             0\n",
      "date                 0\n",
      "month                0\n",
      "minute_price         0\n",
      "start_ride_price     0\n",
      "subscription_fee     0\n",
      "dtype: int64\n"
     ]
    }
   ],
   "source": [
    "data=data_users.merge(data_rides, on='user_id')\n",
    "data=data.merge(data_subscription, on='subscription_type')\n",
    "print(data.isna().sum())"
   ]
  },
  {
   "cell_type": "markdown",
   "id": "fd64a312",
   "metadata": {},
   "source": [
    "Объединяем DataFrame и проверяем наличие пропусков."
   ]
  },
  {
   "cell_type": "code",
   "execution_count": 10,
   "id": "ea5c07c0",
   "metadata": {},
   "outputs": [],
   "source": [
    "data1=data.query('subscription_type==\"ultra\"')\n",
    "data2=data.query('subscription_type==\"free\"')"
   ]
  },
  {
   "cell_type": "markdown",
   "id": "d82131bf",
   "metadata": {},
   "source": [
    "Создаём 2 DataFrame, для пользователей с подпиской и без неё."
   ]
  },
  {
   "cell_type": "code",
   "execution_count": 11,
   "id": "71158a87",
   "metadata": {},
   "outputs": [
    {
     "name": "stdout",
     "output_type": "stream",
     "text": [
      "18068\n",
      "18068\n"
     ]
    }
   ],
   "source": [
    "print(data.shape[0])\n",
    "print(data1.shape[0]+data2.shape[0])"
   ]
  },
  {
   "cell_type": "markdown",
   "id": "fbfb04d0",
   "metadata": {},
   "source": [
    "Проверяем размерность DataFrame. Всё сходится!"
   ]
  },
  {
   "cell_type": "code",
   "execution_count": 12,
   "id": "67138d4a",
   "metadata": {},
   "outputs": [
    {
     "data": {
      "text/html": [
       "<div>\n",
       "<style scoped>\n",
       "    .dataframe tbody tr th:only-of-type {\n",
       "        vertical-align: middle;\n",
       "    }\n",
       "\n",
       "    .dataframe tbody tr th {\n",
       "        vertical-align: top;\n",
       "    }\n",
       "\n",
       "    .dataframe thead th {\n",
       "        text-align: right;\n",
       "    }\n",
       "</style>\n",
       "<table border=\"1\" class=\"dataframe\">\n",
       "  <thead>\n",
       "    <tr style=\"text-align: right;\">\n",
       "      <th></th>\n",
       "      <th>user_id</th>\n",
       "      <th>age</th>\n",
       "      <th>distance</th>\n",
       "      <th>duration</th>\n",
       "      <th>month</th>\n",
       "      <th>minute_price</th>\n",
       "      <th>start_ride_price</th>\n",
       "      <th>subscription_fee</th>\n",
       "    </tr>\n",
       "  </thead>\n",
       "  <tbody>\n",
       "    <tr>\n",
       "      <th>count</th>\n",
       "      <td>6500.000000</td>\n",
       "      <td>6500.000000</td>\n",
       "      <td>6500.000000</td>\n",
       "      <td>6500.000000</td>\n",
       "      <td>6500.000000</td>\n",
       "      <td>6500.0</td>\n",
       "      <td>6500.0</td>\n",
       "      <td>6500.0</td>\n",
       "    </tr>\n",
       "    <tr>\n",
       "      <th>mean</th>\n",
       "      <td>348.725385</td>\n",
       "      <td>24.892615</td>\n",
       "      <td>3115.445388</td>\n",
       "      <td>18.541985</td>\n",
       "      <td>6.422308</td>\n",
       "      <td>6.0</td>\n",
       "      <td>0.0</td>\n",
       "      <td>199.0</td>\n",
       "    </tr>\n",
       "    <tr>\n",
       "      <th>std</th>\n",
       "      <td>201.099339</td>\n",
       "      <td>4.757208</td>\n",
       "      <td>836.895330</td>\n",
       "      <td>5.572048</td>\n",
       "      <td>3.414616</td>\n",
       "      <td>0.0</td>\n",
       "      <td>0.0</td>\n",
       "      <td>0.0</td>\n",
       "    </tr>\n",
       "    <tr>\n",
       "      <th>min</th>\n",
       "      <td>1.000000</td>\n",
       "      <td>12.000000</td>\n",
       "      <td>244.210438</td>\n",
       "      <td>3.760353</td>\n",
       "      <td>1.000000</td>\n",
       "      <td>6.0</td>\n",
       "      <td>0.0</td>\n",
       "      <td>199.0</td>\n",
       "    </tr>\n",
       "    <tr>\n",
       "      <th>25%</th>\n",
       "      <td>175.000000</td>\n",
       "      <td>22.000000</td>\n",
       "      <td>2785.444017</td>\n",
       "      <td>14.524654</td>\n",
       "      <td>4.000000</td>\n",
       "      <td>6.0</td>\n",
       "      <td>0.0</td>\n",
       "      <td>199.0</td>\n",
       "    </tr>\n",
       "    <tr>\n",
       "      <th>50%</th>\n",
       "      <td>351.000000</td>\n",
       "      <td>25.000000</td>\n",
       "      <td>3148.637229</td>\n",
       "      <td>18.178153</td>\n",
       "      <td>6.000000</td>\n",
       "      <td>6.0</td>\n",
       "      <td>0.0</td>\n",
       "      <td>199.0</td>\n",
       "    </tr>\n",
       "    <tr>\n",
       "      <th>75%</th>\n",
       "      <td>525.000000</td>\n",
       "      <td>28.000000</td>\n",
       "      <td>3560.574425</td>\n",
       "      <td>21.884129</td>\n",
       "      <td>9.000000</td>\n",
       "      <td>6.0</td>\n",
       "      <td>0.0</td>\n",
       "      <td>199.0</td>\n",
       "    </tr>\n",
       "    <tr>\n",
       "      <th>max</th>\n",
       "      <td>699.000000</td>\n",
       "      <td>38.000000</td>\n",
       "      <td>5699.769662</td>\n",
       "      <td>40.823963</td>\n",
       "      <td>12.000000</td>\n",
       "      <td>6.0</td>\n",
       "      <td>0.0</td>\n",
       "      <td>199.0</td>\n",
       "    </tr>\n",
       "  </tbody>\n",
       "</table>\n",
       "</div>"
      ],
      "text/plain": [
       "           user_id          age     distance     duration        month  \\\n",
       "count  6500.000000  6500.000000  6500.000000  6500.000000  6500.000000   \n",
       "mean    348.725385    24.892615  3115.445388    18.541985     6.422308   \n",
       "std     201.099339     4.757208   836.895330     5.572048     3.414616   \n",
       "min       1.000000    12.000000   244.210438     3.760353     1.000000   \n",
       "25%     175.000000    22.000000  2785.444017    14.524654     4.000000   \n",
       "50%     351.000000    25.000000  3148.637229    18.178153     6.000000   \n",
       "75%     525.000000    28.000000  3560.574425    21.884129     9.000000   \n",
       "max     699.000000    38.000000  5699.769662    40.823963    12.000000   \n",
       "\n",
       "       minute_price  start_ride_price  subscription_fee  \n",
       "count        6500.0            6500.0            6500.0  \n",
       "mean            6.0               0.0             199.0  \n",
       "std             0.0               0.0               0.0  \n",
       "min             6.0               0.0             199.0  \n",
       "25%             6.0               0.0             199.0  \n",
       "50%             6.0               0.0             199.0  \n",
       "75%             6.0               0.0             199.0  \n",
       "max             6.0               0.0             199.0  "
      ]
     },
     "metadata": {},
     "output_type": "display_data"
    },
    {
     "data": {
      "text/html": [
       "<div>\n",
       "<style scoped>\n",
       "    .dataframe tbody tr th:only-of-type {\n",
       "        vertical-align: middle;\n",
       "    }\n",
       "\n",
       "    .dataframe tbody tr th {\n",
       "        vertical-align: top;\n",
       "    }\n",
       "\n",
       "    .dataframe thead th {\n",
       "        text-align: right;\n",
       "    }\n",
       "</style>\n",
       "<table border=\"1\" class=\"dataframe\">\n",
       "  <thead>\n",
       "    <tr style=\"text-align: right;\">\n",
       "      <th></th>\n",
       "      <th>user_id</th>\n",
       "      <th>age</th>\n",
       "      <th>distance</th>\n",
       "      <th>duration</th>\n",
       "      <th>month</th>\n",
       "      <th>minute_price</th>\n",
       "      <th>start_ride_price</th>\n",
       "      <th>subscription_fee</th>\n",
       "    </tr>\n",
       "  </thead>\n",
       "  <tbody>\n",
       "    <tr>\n",
       "      <th>count</th>\n",
       "      <td>11568.000000</td>\n",
       "      <td>11568.000000</td>\n",
       "      <td>11568.000000</td>\n",
       "      <td>11568.000000</td>\n",
       "      <td>11568.000000</td>\n",
       "      <td>11568.0</td>\n",
       "      <td>11568.0</td>\n",
       "      <td>11568.0</td>\n",
       "    </tr>\n",
       "    <tr>\n",
       "      <th>mean</th>\n",
       "      <td>1120.527230</td>\n",
       "      <td>24.893326</td>\n",
       "      <td>3045.495282</td>\n",
       "      <td>17.390909</td>\n",
       "      <td>6.522994</td>\n",
       "      <td>8.0</td>\n",
       "      <td>50.0</td>\n",
       "      <td>0.0</td>\n",
       "    </tr>\n",
       "    <tr>\n",
       "      <th>std</th>\n",
       "      <td>241.165628</td>\n",
       "      <td>4.481100</td>\n",
       "      <td>1246.173806</td>\n",
       "      <td>6.326803</td>\n",
       "      <td>3.449770</td>\n",
       "      <td>0.0</td>\n",
       "      <td>0.0</td>\n",
       "      <td>0.0</td>\n",
       "    </tr>\n",
       "    <tr>\n",
       "      <th>min</th>\n",
       "      <td>700.000000</td>\n",
       "      <td>12.000000</td>\n",
       "      <td>0.855683</td>\n",
       "      <td>0.500000</td>\n",
       "      <td>1.000000</td>\n",
       "      <td>8.0</td>\n",
       "      <td>50.0</td>\n",
       "      <td>0.0</td>\n",
       "    </tr>\n",
       "    <tr>\n",
       "      <th>25%</th>\n",
       "      <td>915.000000</td>\n",
       "      <td>22.000000</td>\n",
       "      <td>2366.562689</td>\n",
       "      <td>12.958437</td>\n",
       "      <td>4.000000</td>\n",
       "      <td>8.0</td>\n",
       "      <td>50.0</td>\n",
       "      <td>0.0</td>\n",
       "    </tr>\n",
       "    <tr>\n",
       "      <th>50%</th>\n",
       "      <td>1123.000000</td>\n",
       "      <td>25.000000</td>\n",
       "      <td>3114.648465</td>\n",
       "      <td>17.326890</td>\n",
       "      <td>7.000000</td>\n",
       "      <td>8.0</td>\n",
       "      <td>50.0</td>\n",
       "      <td>0.0</td>\n",
       "    </tr>\n",
       "    <tr>\n",
       "      <th>75%</th>\n",
       "      <td>1328.000000</td>\n",
       "      <td>28.000000</td>\n",
       "      <td>3905.697894</td>\n",
       "      <td>21.594071</td>\n",
       "      <td>9.000000</td>\n",
       "      <td>8.0</td>\n",
       "      <td>50.0</td>\n",
       "      <td>0.0</td>\n",
       "    </tr>\n",
       "    <tr>\n",
       "      <th>max</th>\n",
       "      <td>1534.000000</td>\n",
       "      <td>43.000000</td>\n",
       "      <td>7211.007745</td>\n",
       "      <td>34.948498</td>\n",
       "      <td>12.000000</td>\n",
       "      <td>8.0</td>\n",
       "      <td>50.0</td>\n",
       "      <td>0.0</td>\n",
       "    </tr>\n",
       "  </tbody>\n",
       "</table>\n",
       "</div>"
      ],
      "text/plain": [
       "            user_id           age      distance      duration         month  \\\n",
       "count  11568.000000  11568.000000  11568.000000  11568.000000  11568.000000   \n",
       "mean    1120.527230     24.893326   3045.495282     17.390909      6.522994   \n",
       "std      241.165628      4.481100   1246.173806      6.326803      3.449770   \n",
       "min      700.000000     12.000000      0.855683      0.500000      1.000000   \n",
       "25%      915.000000     22.000000   2366.562689     12.958437      4.000000   \n",
       "50%     1123.000000     25.000000   3114.648465     17.326890      7.000000   \n",
       "75%     1328.000000     28.000000   3905.697894     21.594071      9.000000   \n",
       "max     1534.000000     43.000000   7211.007745     34.948498     12.000000   \n",
       "\n",
       "       minute_price  start_ride_price  subscription_fee  \n",
       "count       11568.0           11568.0           11568.0  \n",
       "mean            8.0              50.0               0.0  \n",
       "std             0.0               0.0               0.0  \n",
       "min             8.0              50.0               0.0  \n",
       "25%             8.0              50.0               0.0  \n",
       "50%             8.0              50.0               0.0  \n",
       "75%             8.0              50.0               0.0  \n",
       "max             8.0              50.0               0.0  "
      ]
     },
     "execution_count": 12,
     "metadata": {},
     "output_type": "execute_result"
    },
    {
     "data": {
      "image/png": "[encoded data removed]",
      "text/plain": [
       "<Figure size 432x288 with 1 Axes>"
      ]
     },
     "metadata": {
      "needs_background": "light"
     },
     "output_type": "display_data"
    },
    {
     "data": {
      "image/png": "[encoded data removed]",
      "text/plain": [
       "<Figure size 432x288 with 1 Axes>"
      ]
     },
     "metadata": {
      "needs_background": "light"
     },
     "output_type": "display_data"
    },
    {
     "data": {
      "image/png": "[encoded data removed]",
      "text/plain": [
       "<Figure size 432x288 with 1 Axes>"
      ]
     },
     "metadata": {
      "needs_background": "light"
     },
     "output_type": "display_data"
    },
    {
     "data": {
      "image/png": "[encoded data removed]",
      "text/plain": [
       "<Figure size 432x288 with 1 Axes>"
      ]
     },
     "metadata": {
      "needs_background": "light"
     },
     "output_type": "display_data"
    }
   ],
   "source": [
    "data1.hist('distance', bins=50);\n",
    "plt.title('Дистанция');\n",
    "plt.xlabel('Дистанция в метрах');\n",
    "plt.ylabel('Количество пользователей');\n",
    "data1.hist('duration', bins=50);\n",
    "plt.title('Продолжительность');\n",
    "plt.xlabel('Продолжительность в минутах');\n",
    "plt.ylabel('Количество пользователей');\n",
    "data2.hist('distance', bins=50);\n",
    "plt.title('Дистанция');\n",
    "plt.xlabel('Дистанция в метрах');\n",
    "plt.ylabel('Количество пользователей');\n",
    "data2.hist('duration', bins=50);\n",
    "plt.title('Продолжительность');\n",
    "plt.xlabel('Продолжительность в минутах');\n",
    "plt.ylabel('Количество пользователей');\n",
    "display(data1.describe())\n",
    "data2.describe()"
   ]
  },
  {
   "cell_type": "markdown",
   "id": "cad52908",
   "metadata": {},
   "source": [
    "Вывод: как видно по графику, среднее расстояние, которое проезжают пользователи за поезду, у пользователй с подпиской составляет 3115 м., в то время как у пользователей без подписки оно состовляет 3045 м. продолжительность же равна 18 и 17 соответсвенно."
   ]
  },
  {
   "cell_type": "markdown",
   "id": "402d620f",
   "metadata": {},
   "source": [
    "#### Шаг 5. Подсчёт выручки"
   ]
  },
  {
   "cell_type": "code",
   "execution_count": 13,
   "id": "53049e0a",
   "metadata": {},
   "outputs": [
    {
     "data": {
      "text/html": [
       "<div>\n",
       "<style scoped>\n",
       "    .dataframe tbody tr th:only-of-type {\n",
       "        vertical-align: middle;\n",
       "    }\n",
       "\n",
       "    .dataframe tbody tr th {\n",
       "        vertical-align: top;\n",
       "    }\n",
       "\n",
       "    .dataframe thead th {\n",
       "        text-align: right;\n",
       "    }\n",
       "</style>\n",
       "<table border=\"1\" class=\"dataframe\">\n",
       "  <thead>\n",
       "    <tr style=\"text-align: right;\">\n",
       "      <th></th>\n",
       "      <th></th>\n",
       "      <th>total_distance</th>\n",
       "      <th>total_duration</th>\n",
       "      <th>count</th>\n",
       "      <th>subscription_type</th>\n",
       "      <th>money</th>\n",
       "    </tr>\n",
       "    <tr>\n",
       "      <th>user_id</th>\n",
       "      <th>month</th>\n",
       "      <th></th>\n",
       "      <th></th>\n",
       "      <th></th>\n",
       "      <th></th>\n",
       "      <th></th>\n",
       "    </tr>\n",
       "  </thead>\n",
       "  <tbody>\n",
       "    <tr>\n",
       "      <th rowspan=\"5\" valign=\"top\">1</th>\n",
       "      <th>1</th>\n",
       "      <td>7027.511294</td>\n",
       "      <td>42.0</td>\n",
       "      <td>2</td>\n",
       "      <td>ultra</td>\n",
       "      <td>451.0</td>\n",
       "    </tr>\n",
       "    <tr>\n",
       "      <th>4</th>\n",
       "      <td>754.159807</td>\n",
       "      <td>7.0</td>\n",
       "      <td>1</td>\n",
       "      <td>ultra</td>\n",
       "      <td>241.0</td>\n",
       "    </tr>\n",
       "    <tr>\n",
       "      <th>8</th>\n",
       "      <td>6723.470560</td>\n",
       "      <td>45.0</td>\n",
       "      <td>2</td>\n",
       "      <td>ultra</td>\n",
       "      <td>469.0</td>\n",
       "    </tr>\n",
       "    <tr>\n",
       "      <th>10</th>\n",
       "      <td>5809.911100</td>\n",
       "      <td>32.0</td>\n",
       "      <td>2</td>\n",
       "      <td>ultra</td>\n",
       "      <td>391.0</td>\n",
       "    </tr>\n",
       "    <tr>\n",
       "      <th>11</th>\n",
       "      <td>7003.499363</td>\n",
       "      <td>54.0</td>\n",
       "      <td>3</td>\n",
       "      <td>ultra</td>\n",
       "      <td>523.0</td>\n",
       "    </tr>\n",
       "  </tbody>\n",
       "</table>\n",
       "</div>"
      ],
      "text/plain": [
       "               total_distance  total_duration  count subscription_type  money\n",
       "user_id month                                                                \n",
       "1       1         7027.511294            42.0      2             ultra  451.0\n",
       "        4          754.159807             7.0      1             ultra  241.0\n",
       "        8         6723.470560            45.0      2             ultra  469.0\n",
       "        10        5809.911100            32.0      2             ultra  391.0\n",
       "        11        7003.499363            54.0      3             ultra  523.0"
      ]
     },
     "execution_count": 13,
     "metadata": {},
     "output_type": "execute_result"
    }
   ],
   "source": [
    "data_user_rides=data.pivot_table(index=['user_id', 'month'], values=['distance', 'duration', 'name', 'subscription_type'], aggfunc={'distance':'sum', 'duration':'sum', 'name':'count', 'subscription_type':'max'})\n",
    "data_user_rides.columns=['total_distance', 'total_duration', 'count', 'subscription_type']\n",
    "data_user_rides['total_duration']=np.ceil(data_user_rides['total_duration'])\n",
    "data_user_rides.loc[data_user_rides['subscription_type'] == 'ultra', 'money']=6*data_user_rides['total_duration']+199\n",
    "data_user_rides.loc[data_user_rides['subscription_type'] == 'free', 'money']=8*data_user_rides['total_duration']+50*data_user_rides['count']\n",
    "data_user_rides.head()"
   ]
  },
  {
   "cell_type": "markdown",
   "id": "16a901a5",
   "metadata": {},
   "source": [
    "Вывод: Я смог найти суммарное расстояние, количество поездок и суммарное время для каждого пользователя за каждый месяц. В этот же DataFrame добавил новый столбец с выручкой от каждого клиента кажыдый месяц."
   ]
  },
  {
   "cell_type": "markdown",
   "id": "41545ac0",
   "metadata": {},
   "source": [
    "#### Шаг 6. Проверка гипотез"
   ]
  },
  {
   "cell_type": "code",
   "execution_count": 14,
   "id": "23ea867b",
   "metadata": {},
   "outputs": [
    {
     "name": "stdout",
     "output_type": "stream",
     "text": [
      "p-значение: 1.2804098316645618e-34\n",
      "Отвергаем нулевую гипотезу.\n"
     ]
    }
   ],
   "source": [
    "alpha = 0.05\n",
    "\n",
    "results = st.ttest_ind(data1['duration'], data2['duration'], alternative = 'greater')\n",
    "print('p-значение:', results.pvalue)\n",
    "if results.pvalue < alpha:\n",
    "    print('Отвергаем нулевую гипотезу.')\n",
    "else:\n",
    "    print('Не можем отвергнуть нулевую гипотезу.')\n"
   ]
  },
  {
   "cell_type": "markdown",
   "id": "28925be2",
   "metadata": {},
   "source": [
    "Нулевая гипотеза-потраченное время у пользователей с подпиской и без неё равно.\n",
    "Альтернативная гипотеза-потраченное время у пользователей с подпиской больше чем, у пользователей без неё.\n",
    "Вывод: пользователи с подпиской арендуют самокат на большее время, чем пользователи без подписки."
   ]
  },
  {
   "cell_type": "code",
   "execution_count": 15,
   "id": "ec001bfc",
   "metadata": {},
   "outputs": [
    {
     "name": "stdout",
     "output_type": "stream",
     "text": [
      "p-значение: 0.9195368847849785\n",
      "Отвергаем нулевую гипотезу\n"
     ]
    }
   ],
   "source": [
    "results = st.ttest_1samp(data.loc[data['subscription_type']=='ultra', 'distance'], 3130, alternative='greater')\n",
    "\n",
    "print('p-значение:', results.pvalue)\n",
    "\n",
    "if (results.pvalue > alpha):\n",
    "    print('Отвергаем нулевую гипотезу')\n",
    "else:\n",
    "    print('Не отвергаем нулевую гипотезу') \n"
   ]
  },
  {
   "cell_type": "markdown",
   "id": "6506b10a",
   "metadata": {},
   "source": [
    "Нулевая гипотеза - пользователи с подпиской проезжают за одну поездку не больше 3130 метров.\n",
    "Альтернативная гипотеза - пользователи с подпиской проезжают за одну поездку больше 3130 метров.\n",
    "Вывод:пользователи с подпиской проезжают за одну поездку не больше 3130 метров"
   ]
  },
  {
   "cell_type": "code",
   "execution_count": 16,
   "id": "a646cb81",
   "metadata": {},
   "outputs": [
    {
     "name": "stdout",
     "output_type": "stream",
     "text": [
      "p-значение: 2.8130926188487286e-35\n",
      "Отвергаем нулевую гипотезу.\n"
     ]
    }
   ],
   "source": [
    "results = st.ttest_ind(data_user_rides.loc[data_user_rides[\"subscription_type\"] == 'ultra']['money'], data_user_rides.loc[data_user_rides[\"subscription_type\"] == 'free']['money'], alternative = 'greater')\n",
    "\n",
    "print('p-значение:', results.pvalue)\n",
    "\n",
    "if results.pvalue < alpha:\n",
    "    print('Отвергаем нулевую гипотезу.')\n",
    "else:\n",
    "    print('Не можем отвергнуть нулевую гипотезу.')"
   ]
  },
  {
   "cell_type": "markdown",
   "id": "89458f39",
   "metadata": {},
   "source": [
    "Нулевая гипотеза-средняя выручка пользователей с подпиской и пользователей без неё равна.\n",
    "Альтернативная гипотеза-средняя выручка пользователей с подпиской выше, чем у пользователей без неё.\n",
    "Вывод:средняя выручка пользователей с подпиской выше, чем у пользователей без неё."
   ]
  },
  {
   "cell_type": "markdown",
   "id": "cfe9f642",
   "metadata": {},
   "source": [
    "При решении подобной задачи лучше всего использовать проверку гипотезы о равенстве средних для зависимых выборок. То есть подойдёт метод st.ttest_rel()"
   ]
  },
  {
   "cell_type": "markdown",
   "id": "9bd091ab",
   "metadata": {},
   "source": [
    "### Общий вывод: "
   ]
  },
  {
   "cell_type": "markdown",
   "id": "9c0fb9b1",
   "metadata": {},
   "source": [
    "Для начала я импортировал все библиотеки и открыл все csv файлы в DataFrame. После, проверил все 3 DataFrame на пропуски и дубликаты, и обработал все данные. \n",
    "    Также, был изменен тип столбца date с object64 на datetime. Ко всему прочему, был добавлен новый столбец, показывающий номер месяца. Дальше, был проведен исследовательский анализ данных:больше всего пользователей самокатов в городе Пятигорск, далее Екатеринбург и Ростов на Дону; больше всего пользователей не импользуют подписку(54.43%).\n",
    "    Далее, я смог найти суммарное расстояние, количество поездок и суммарное время для каждого пользователя за каждый месяц(дистанцию проехали тоже примерно одинаково 3045 и 3115 метров. Продолжительность сессии 17 и 18 минут.). В этот же DataFrame добавил новый столбец с выручкой от каждого клиента кажыдый месяц. \n",
    "    Далее я проверил все гипотезы, составив для каждой нулевую и альтернативную гипотезу.\n",
    "    Исходя из данных, полученных во время анализа данных, можно сказать, что число пользователей с подпиской и без не сильно отличаются. Но пользователи с подпиской приносят больше прибыли."
   ]
  },
  {
   "cell_type": "code",
   "execution_count": null,
   "id": "717b5cbd",
   "metadata": {},
   "outputs": [],
   "source": []
  }
 ],
 "metadata": {
  "ExecuteTimeLog": [
   {
    "duration": 409,
    "start_time": "2024-04-09T10:20:54.209Z"
   },
   {
    "duration": 217,
    "start_time": "2024-04-09T10:20:56.363Z"
   },
   {
    "duration": 78,
    "start_time": "2024-04-09T10:21:21.996Z"
   },
   {
    "duration": 90,
    "start_time": "2024-04-09T10:21:43.523Z"
   },
   {
    "duration": 88,
    "start_time": "2024-04-09T10:21:56.843Z"
   },
   {
    "duration": 98,
    "start_time": "2024-04-09T10:22:12.339Z"
   },
   {
    "duration": 1126,
    "start_time": "2024-04-09T10:27:06.625Z"
   },
   {
    "duration": 17,
    "start_time": "2024-04-09T10:27:42.530Z"
   },
   {
    "duration": 53,
    "start_time": "2024-04-09T10:33:56.367Z"
   },
   {
    "duration": 18,
    "start_time": "2024-04-09T10:34:06.796Z"
   },
   {
    "duration": 16,
    "start_time": "2024-04-09T10:34:11.109Z"
   },
   {
    "duration": 2,
    "start_time": "2024-04-09T10:40:33.788Z"
   },
   {
    "duration": 87,
    "start_time": "2024-04-09T10:40:35.250Z"
   },
   {
    "duration": 44,
    "start_time": "2024-04-09T10:40:38.297Z"
   },
   {
    "duration": 416,
    "start_time": "2024-04-09T16:03:22.773Z"
   },
   {
    "duration": 340,
    "start_time": "2024-04-09T16:03:24.568Z"
   },
   {
    "duration": 33,
    "start_time": "2024-04-09T16:03:27.520Z"
   },
   {
    "duration": 2000,
    "start_time": "2024-04-09T16:03:29.993Z"
   },
   {
    "duration": 20536,
    "start_time": "2024-04-09T16:03:40.690Z"
   },
   {
    "duration": 20870,
    "start_time": "2024-04-09T16:04:39.272Z"
   },
   {
    "duration": 130,
    "start_time": "2024-04-09T16:09:33.975Z"
   },
   {
    "duration": 127,
    "start_time": "2024-04-09T16:45:09.543Z"
   },
   {
    "duration": 343,
    "start_time": "2024-04-09T16:45:21.053Z"
   },
   {
    "duration": 124,
    "start_time": "2024-04-09T16:45:27.740Z"
   },
   {
    "duration": 122,
    "start_time": "2024-04-09T16:45:33.350Z"
   },
   {
    "duration": 25,
    "start_time": "2024-04-09T16:51:35.939Z"
   },
   {
    "duration": 17,
    "start_time": "2024-04-09T16:52:07.043Z"
   },
   {
    "duration": 27,
    "start_time": "2024-04-09T16:52:19.337Z"
   },
   {
    "duration": 60,
    "start_time": "2024-04-09T17:00:40.700Z"
   },
   {
    "duration": 35,
    "start_time": "2024-04-09T17:01:02.315Z"
   },
   {
    "duration": 606,
    "start_time": "2024-04-09T17:05:06.047Z"
   },
   {
    "duration": 233,
    "start_time": "2024-04-09T17:05:29.638Z"
   },
   {
    "duration": 745,
    "start_time": "2024-04-09T17:05:45.150Z"
   },
   {
    "duration": 23,
    "start_time": "2024-04-09T17:28:27.258Z"
   },
   {
    "duration": 21,
    "start_time": "2024-04-09T17:29:12.450Z"
   },
   {
    "duration": 3,
    "start_time": "2024-04-09T17:29:57.680Z"
   },
   {
    "duration": 27,
    "start_time": "2024-04-09T19:10:04.389Z"
   },
   {
    "duration": 378,
    "start_time": "2024-04-09T19:11:01.546Z"
   },
   {
    "duration": 765,
    "start_time": "2024-04-09T19:11:30.739Z"
   },
   {
    "duration": 724,
    "start_time": "2024-04-09T19:11:38.458Z"
   },
   {
    "duration": 722,
    "start_time": "2024-04-09T19:11:42.378Z"
   },
   {
    "duration": 770,
    "start_time": "2024-04-09T19:15:33.964Z"
   },
   {
    "duration": 771,
    "start_time": "2024-04-09T19:15:46.763Z"
   },
   {
    "duration": 2165,
    "start_time": "2024-04-09T19:16:10.603Z"
   },
   {
    "duration": 2236,
    "start_time": "2024-04-09T19:16:40.220Z"
   },
   {
    "duration": 2195,
    "start_time": "2024-04-09T19:17:16.188Z"
   },
   {
    "duration": 762,
    "start_time": "2024-04-09T19:17:26.539Z"
   },
   {
    "duration": 756,
    "start_time": "2024-04-09T19:17:45.267Z"
   },
   {
    "duration": 8,
    "start_time": "2024-04-09T19:24:51.753Z"
   },
   {
    "duration": 413,
    "start_time": "2024-04-09T19:25:17.713Z"
   },
   {
    "duration": 8,
    "start_time": "2024-04-09T19:25:21.706Z"
   },
   {
    "duration": 34,
    "start_time": "2024-04-09T19:26:51.193Z"
   },
   {
    "duration": 1401,
    "start_time": "2024-04-09T19:27:57.993Z"
   },
   {
    "duration": 12,
    "start_time": "2024-04-09T19:29:39.689Z"
   },
   {
    "duration": 98,
    "start_time": "2024-04-09T19:33:52.495Z"
   },
   {
    "duration": 883,
    "start_time": "2024-04-09T19:34:22.502Z"
   },
   {
    "duration": 115,
    "start_time": "2024-04-09T19:34:48.951Z"
   },
   {
    "duration": 98,
    "start_time": "2024-04-09T19:34:50.982Z"
   },
   {
    "duration": 531,
    "start_time": "2024-04-09T19:34:53.109Z"
   },
   {
    "duration": 1505,
    "start_time": "2024-04-09T19:37:28.226Z"
   },
   {
    "duration": 104,
    "start_time": "2024-04-09T19:38:19.765Z"
   },
   {
    "duration": 830,
    "start_time": "2024-04-09T19:44:02.437Z"
   },
   {
    "duration": 6,
    "start_time": "2024-04-09T19:51:10.689Z"
   },
   {
    "duration": 5,
    "start_time": "2024-04-09T19:51:12.455Z"
   },
   {
    "duration": 8,
    "start_time": "2024-04-09T19:51:14.361Z"
   },
   {
    "duration": 14,
    "start_time": "2024-04-09T19:55:44.012Z"
   },
   {
    "duration": 20,
    "start_time": "2024-04-09T19:56:00.409Z"
   },
   {
    "duration": 4,
    "start_time": "2024-04-09T19:56:04.052Z"
   },
   {
    "duration": 7,
    "start_time": "2024-04-09T19:56:38.755Z"
   },
   {
    "duration": 859,
    "start_time": "2024-04-10T05:58:23.398Z"
   },
   {
    "duration": 93,
    "start_time": "2024-04-10T05:58:24.259Z"
   },
   {
    "duration": 24,
    "start_time": "2024-04-10T05:58:24.354Z"
   },
   {
    "duration": 387,
    "start_time": "2024-04-10T05:58:24.379Z"
   },
   {
    "duration": 126,
    "start_time": "2024-04-10T05:58:24.768Z"
   },
   {
    "duration": 547,
    "start_time": "2024-04-10T05:58:24.896Z"
   },
   {
    "duration": 703,
    "start_time": "2024-04-10T05:58:25.444Z"
   },
   {
    "duration": 865,
    "start_time": "2024-04-10T05:58:26.149Z"
   },
   {
    "duration": 6,
    "start_time": "2024-04-10T05:58:27.017Z"
   },
   {
    "duration": 5,
    "start_time": "2024-04-10T05:58:27.024Z"
   },
   {
    "duration": 10,
    "start_time": "2024-04-10T05:58:27.031Z"
   },
   {
    "duration": 14,
    "start_time": "2024-04-10T06:04:51.711Z"
   },
   {
    "duration": 868,
    "start_time": "2024-04-10T19:42:33.707Z"
   },
   {
    "duration": 262,
    "start_time": "2024-04-10T19:42:36.639Z"
   },
   {
    "duration": 10,
    "start_time": "2024-04-10T19:47:13.615Z"
   },
   {
    "duration": 16,
    "start_time": "2024-04-10T19:47:16.828Z"
   },
   {
    "duration": 6,
    "start_time": "2024-04-10T19:47:20.532Z"
   },
   {
    "duration": 694,
    "start_time": "2024-04-10T19:49:03.036Z"
   },
   {
    "duration": 3,
    "start_time": "2024-04-10T19:49:33.389Z"
   },
   {
    "duration": 140,
    "start_time": "2024-04-10T19:49:43.107Z"
   },
   {
    "duration": 150,
    "start_time": "2024-04-10T19:50:46.635Z"
   },
   {
    "duration": 1114,
    "start_time": "2024-04-10T19:50:59.099Z"
   },
   {
    "duration": 150,
    "start_time": "2024-04-10T19:51:16.860Z"
   },
   {
    "duration": 136,
    "start_time": "2024-04-10T19:51:39.708Z"
   },
   {
    "duration": 51,
    "start_time": "2024-04-10T22:14:05.074Z"
   },
   {
    "duration": 1232,
    "start_time": "2024-04-10T22:14:18.605Z"
   },
   {
    "duration": 408,
    "start_time": "2024-04-10T22:14:22.438Z"
   },
   {
    "duration": 10,
    "start_time": "2024-04-10T22:14:29.068Z"
   },
   {
    "duration": 6,
    "start_time": "2024-04-10T22:14:31.645Z"
   },
   {
    "duration": 97,
    "start_time": "2024-04-10T22:14:34.789Z"
   },
   {
    "duration": 159,
    "start_time": "2024-04-10T22:14:40.438Z"
   },
   {
    "duration": 113,
    "start_time": "2024-04-10T22:14:43.685Z"
   },
   {
    "duration": 602,
    "start_time": "2024-04-10T22:14:46.125Z"
   },
   {
    "duration": 760,
    "start_time": "2024-04-10T22:14:49.541Z"
   },
   {
    "duration": 9,
    "start_time": "2024-04-10T22:15:51.900Z"
   },
   {
    "duration": 3,
    "start_time": "2024-04-10T22:15:53.828Z"
   },
   {
    "duration": 853,
    "start_time": "2024-04-10T22:15:56.180Z"
   },
   {
    "duration": 795,
    "start_time": "2024-04-10T22:19:58.892Z"
   },
   {
    "duration": 845,
    "start_time": "2024-04-10T22:20:09.475Z"
   },
   {
    "duration": 947,
    "start_time": "2024-04-10T22:20:14.947Z"
   },
   {
    "duration": 844,
    "start_time": "2024-04-10T22:20:30.835Z"
   },
   {
    "duration": 10,
    "start_time": "2024-04-10T22:23:44.378Z"
   },
   {
    "duration": 7,
    "start_time": "2024-04-10T22:23:56.074Z"
   },
   {
    "duration": 6,
    "start_time": "2024-04-10T22:23:58.089Z"
   },
   {
    "duration": 99,
    "start_time": "2024-04-10T22:27:59.848Z"
   },
   {
    "duration": 121,
    "start_time": "2024-04-10T22:31:25.951Z"
   },
   {
    "duration": 7,
    "start_time": "2024-04-10T22:31:33.886Z"
   },
   {
    "duration": 1207,
    "start_time": "2024-04-11T05:15:02.700Z"
   },
   {
    "duration": 387,
    "start_time": "2024-04-11T05:15:03.909Z"
   },
   {
    "duration": 8,
    "start_time": "2024-04-11T05:15:04.298Z"
   },
   {
    "duration": 32,
    "start_time": "2024-04-11T05:15:04.307Z"
   },
   {
    "duration": 12,
    "start_time": "2024-04-11T05:15:04.341Z"
   },
   {
    "duration": 193,
    "start_time": "2024-04-11T05:15:04.355Z"
   },
   {
    "duration": 102,
    "start_time": "2024-04-11T05:15:04.549Z"
   },
   {
    "duration": 558,
    "start_time": "2024-04-11T05:15:04.652Z"
   },
   {
    "duration": 26,
    "start_time": "2024-04-11T05:15:05.213Z"
   },
   {
    "duration": 13,
    "start_time": "2024-04-11T05:15:05.241Z"
   },
   {
    "duration": 24,
    "start_time": "2024-04-11T05:15:05.256Z"
   },
   {
    "duration": 743,
    "start_time": "2024-04-11T05:15:05.282Z"
   },
   {
    "duration": 878,
    "start_time": "2024-04-11T05:15:06.026Z"
   },
   {
    "duration": 5,
    "start_time": "2024-04-11T05:15:06.906Z"
   },
   {
    "duration": 57,
    "start_time": "2024-04-11T05:15:06.912Z"
   },
   {
    "duration": 25,
    "start_time": "2024-04-11T05:15:06.970Z"
   },
   {
    "duration": 12,
    "start_time": "2024-04-11T05:51:54.036Z"
   },
   {
    "duration": 1179,
    "start_time": "2024-04-11T09:09:44.371Z"
   },
   {
    "duration": 306,
    "start_time": "2024-04-11T09:09:47.652Z"
   },
   {
    "duration": 10,
    "start_time": "2024-04-11T09:09:52.971Z"
   },
   {
    "duration": 16,
    "start_time": "2024-04-11T09:09:54.783Z"
   },
   {
    "duration": 7,
    "start_time": "2024-04-11T09:09:59.071Z"
   },
   {
    "duration": 144,
    "start_time": "2024-04-11T09:10:03.085Z"
   },
   {
    "duration": 127,
    "start_time": "2024-04-11T09:10:06.920Z"
   },
   {
    "duration": 550,
    "start_time": "2024-04-11T09:10:26.273Z"
   },
   {
    "duration": 20,
    "start_time": "2024-04-11T09:10:36.093Z"
   },
   {
    "duration": 11,
    "start_time": "2024-04-11T09:10:40.163Z"
   },
   {
    "duration": 4,
    "start_time": "2024-04-11T09:10:43.061Z"
   },
   {
    "duration": 755,
    "start_time": "2024-04-11T09:10:44.923Z"
   },
   {
    "duration": 905,
    "start_time": "2024-04-11T09:12:13.343Z"
   },
   {
    "duration": 45,
    "start_time": "2024-04-11T10:37:16.878Z"
   },
   {
    "duration": 1077,
    "start_time": "2024-04-11T10:40:19.478Z"
   },
   {
    "duration": 361,
    "start_time": "2024-04-11T10:40:22.827Z"
   },
   {
    "duration": 7,
    "start_time": "2024-04-11T10:40:27.122Z"
   },
   {
    "duration": 12,
    "start_time": "2024-04-11T10:40:29.682Z"
   },
   {
    "duration": 4,
    "start_time": "2024-04-11T10:40:33.699Z"
   },
   {
    "duration": 128,
    "start_time": "2024-04-11T10:40:38.821Z"
   },
   {
    "duration": 104,
    "start_time": "2024-04-11T10:40:48.007Z"
   },
   {
    "duration": 106,
    "start_time": "2024-04-11T10:41:00.667Z"
   },
   {
    "duration": 112,
    "start_time": "2024-04-11T10:41:08.261Z"
   },
   {
    "duration": 105,
    "start_time": "2024-04-11T10:41:12.723Z"
   },
   {
    "duration": 108,
    "start_time": "2024-04-11T10:41:17.590Z"
   },
   {
    "duration": 437,
    "start_time": "2024-04-11T10:41:21.103Z"
   },
   {
    "duration": 17,
    "start_time": "2024-04-11T10:41:45.523Z"
   },
   {
    "duration": 13,
    "start_time": "2024-04-11T10:41:48.480Z"
   },
   {
    "duration": 2,
    "start_time": "2024-04-11T10:41:52.060Z"
   },
   {
    "duration": 691,
    "start_time": "2024-04-11T10:59:40.923Z"
   },
   {
    "duration": 759,
    "start_time": "2024-04-11T10:59:47.286Z"
   },
   {
    "duration": 5,
    "start_time": "2024-04-11T10:59:53.541Z"
   },
   {
    "duration": 5,
    "start_time": "2024-04-11T10:59:56.422Z"
   },
   {
    "duration": 7,
    "start_time": "2024-04-11T11:00:02.303Z"
   },
   {
    "duration": 1054,
    "start_time": "2024-04-11T13:54:56.506Z"
   },
   {
    "duration": 399,
    "start_time": "2024-04-11T13:54:57.562Z"
   },
   {
    "duration": 10,
    "start_time": "2024-04-11T13:54:57.963Z"
   },
   {
    "duration": 33,
    "start_time": "2024-04-11T13:54:57.975Z"
   },
   {
    "duration": 5,
    "start_time": "2024-04-11T13:54:58.010Z"
   },
   {
    "duration": 177,
    "start_time": "2024-04-11T13:54:58.016Z"
   },
   {
    "duration": 150,
    "start_time": "2024-04-11T13:54:58.195Z"
   },
   {
    "duration": 599,
    "start_time": "2024-04-11T13:54:58.346Z"
   },
   {
    "duration": 33,
    "start_time": "2024-04-11T13:54:58.947Z"
   },
   {
    "duration": 13,
    "start_time": "2024-04-11T13:54:58.982Z"
   },
   {
    "duration": 7,
    "start_time": "2024-04-11T13:54:58.996Z"
   },
   {
    "duration": 862,
    "start_time": "2024-04-11T13:54:59.005Z"
   },
   {
    "duration": 1089,
    "start_time": "2024-04-11T13:54:59.869Z"
   },
   {
    "duration": 5,
    "start_time": "2024-04-11T13:55:00.959Z"
   },
   {
    "duration": 42,
    "start_time": "2024-04-11T13:55:00.969Z"
   },
   {
    "duration": 53,
    "start_time": "2024-04-11T13:55:01.012Z"
   }
  ],
  "kernelspec": {
   "display_name": "Python 3 (ipykernel)",
   "language": "python",
   "name": "python3"
  },
  "language_info": {
   "codemirror_mode": {
    "name": "ipython",
    "version": 3
   },
   "file_extension": ".py",
   "mimetype": "text/x-python",
   "name": "python",
   "nbconvert_exporter": "python",
   "pygments_lexer": "ipython3",
   "version": "3.9.5"
  },
  "toc": {
   "base_numbering": 1,
   "nav_menu": {},
   "number_sections": true,
   "sideBar": true,
   "skip_h1_title": true,
   "title_cell": "Table of Contents",
   "title_sidebar": "Contents",
   "toc_cell": false,
   "toc_position": {},
   "toc_section_display": true,
   "toc_window_display": false
  }
 },
 "nbformat": 4,
 "nbformat_minor": 5
}
